{
 "cells": [
  {
   "cell_type": "code",
   "id": "initial_id",
   "metadata": {
    "collapsed": true,
    "ExecuteTime": {
     "end_time": "2025-02-03T19:09:02.417512Z",
     "start_time": "2025-02-03T19:09:02.411083Z"
    }
   },
   "source": [
    "from dataclasses import dataclass\n",
    "import torch\n",
    "import inspect\n",
    "import torch.nn as nn\n",
    "import torch.nn.functional as F\n",
    "import math\n",
    "import transformers\n",
    "import matplotlib.pyplot as plt\n",
    "\n",
    "# Check if GPU is available\n",
    "print(f\"PyTorch version: {torch.__version__}\")\n",
    "print(f\"CUDA available: {torch.cuda.is_available()}\")\n",
    "print(f\"CUDA version: {torch.version.cuda}\")\n",
    "print(f\"GPU count: {torch.cuda.device_count()}\")\n",
    "device = \"cuda\" if torch.cuda.is_available() else \"cpu\"\n",
    "print(f\"Using device: {device}\")"
   ],
   "outputs": [
    {
     "name": "stdout",
     "output_type": "stream",
     "text": [
      "PyTorch version: 2.6.0+cu126\n",
      "CUDA available: True\n",
      "CUDA version: 12.6\n",
      "GPU count: 1\n",
      "Using device: cuda\n"
     ]
    }
   ],
   "execution_count": 168
  },
  {
   "metadata": {
    "ExecuteTime": {
     "end_time": "2025-02-03T19:09:09.504877Z",
     "start_time": "2025-02-03T19:09:02.442661Z"
    }
   },
   "cell_type": "code",
   "source": [
    "from datasets import load_dataset, VerificationMode\n",
    "from transformers import BartTokenizer\n",
    "\n",
    "tokenizer = BartTokenizer.from_pretrained(\"facebook/bart-large-cnn\")\n",
    "\n",
    "# Load the entire dataset\n",
    "# dataset = load_dataset(\"...\", verification_mode=VerificationMode.NO_CHECKS)\n",
    "dataset = load_dataset(\"argilla/cnn-dailymail-summaries\", split='train', streaming=True)\n",
    "print(dataset)\n",
    "\n",
    "\n",
    "i = 0\n",
    "max = 10000\n",
    "\n",
    "news = []\n",
    "summaries = []\n",
    "for d in dataset:\n",
    "  i += 1\n",
    "  news.append(d['article'])\n",
    "  summaries.append(d['highlights'])\n",
    "  if i == max:\n",
    "    break\n",
    "print(f'Number of news: {len(news)}')\n",
    "print(f'Number of summaries: {len(summaries)}')"
   ],
   "id": "63a134c06afa03ae",
   "outputs": [
    {
     "name": "stdout",
     "output_type": "stream",
     "text": [
      "IterableDataset({\n",
      "    features: ['article', 'highlights', 'id', 'summary', 'distilabel_metadata', 'model_name'],\n",
      "    num_shards: 7\n",
      "})\n",
      "Number of news: 10000\n",
      "Number of summaries: 10000\n"
     ]
    }
   ],
   "execution_count": 169
  },
  {
   "metadata": {
    "ExecuteTime": {
     "end_time": "2025-02-03T19:10:13.759430Z",
     "start_time": "2025-02-03T19:09:09.596365Z"
    }
   },
   "cell_type": "code",
   "source": [
    "\"\"\"Tokens <s> and </s> are added from default in BartTokenizer\"\"\"\n",
    "\n",
    "# Padding was requried due to different size of inputs (each article is different): https://huggingface.co/docs/transformers/en/pad_truncation\n",
    "inputs = tokenizer(news, padding='longest', truncation=True, max_length=1024)['input_ids']\n",
    "targets = tokenizer(summaries, padding='longest', truncation=True, max_length=128)['input_ids']  # --> padding to the longest text but shorter or equal max_len (128)\n",
    "print(tokenizer.decode(inputs[0]))\n",
    "print(tokenizer.decode(targets[0]))\n",
    "\n",
    "\n",
    "inputs = torch.tensor(inputs)\n",
    "targets = torch.tensor(targets)\n",
    "print(inputs.size())\n",
    "print(targets.size())\n",
    "\n",
    "max_input_seq = inputs.size(1)\n",
    "max_output_seq = targets.size(1)\n",
    "# max_input_seq = 1024\n",
    "# max_output_seq = 128\n",
    "print(f'Max input seq: {max_input_seq}')\n",
    "print(f\"Max output seq: {max_output_seq}\")\n",
    "vocab_size = tokenizer.vocab_size\n",
    "print(f'Vocab size: {vocab_size}')"
   ],
   "id": "f4d8748c88ef3880",
   "outputs": [
    {
     "name": "stdout",
     "output_type": "stream",
     "text": [
      "<s>Harry Potter star Daniel Radcliffe gains access to a reported £20 million ($41.1 million) fortune as he turns 18 on Monday, but he insists the money won't cast a spell on him. Daniel Radcliffe as Harry Potter in \"Harry Potter and the Order of the Phoenix\" To the disappointment of gossip columnists around the world, the young actor says he has no plans to fritter his cash away on fast cars, drink and celebrity parties. \"I don't plan to be one of those people who, as soon as they turn 18, suddenly buy themselves a massive sports car collection or something similar,\" he told an Australian interviewer earlier this month. \"I don't think I'll be particularly extravagant. \"The things I like buying are things that cost about 10 pounds -- books and CDs and DVDs.\" At 18, Radcliffe will be able to gamble in a casino, buy a drink in a pub or see the horror film \"Hostel: Part II,\" currently six places below his number one movie on the UK box office chart. Details of how he'll mark his landmark birthday are under wraps. His agent and publicist had no comment on his plans. \"I'll definitely have some sort of party,\" he said in an interview. \"Hopefully none of you will be reading about it.\" Radcliffe's earnings from the first five Potter films have been held in a trust fund which he has not been able to touch. Despite his growing fame and riches, the actor says he is keeping his feet firmly on the ground. \"People are always looking to say 'kid star goes off the rails,'\" he told reporters last month. \"But I try very hard not to go that way because it would be too easy for them.\" His latest outing as the boy wizard in \"Harry Potter and the Order of the Phoenix\" is breaking records on both sides of the Atlantic and he will reprise the role in the last two films.  Watch I-Reporter give her review of Potter's latest » . There is life beyond Potter, however. The Londoner has filmed a TV movie called \"My Boy Jack,\" about author Rudyard Kipling and his son, due for release later this year. He will also appear in \"December Boys,\" an Australian film about four boys who escape an orphanage. Earlier this year, he made his stage debut playing a tortured teenager in Peter Shaffer's \"Equus.\" Meanwhile, he is braced for even closer media scrutiny now that he's legally an adult: \"I just think I'm going to be more sort of fair game,\" he told Reuters.</s><pad><pad><pad><pad><pad><pad><pad><pad><pad><pad><pad><pad><pad><pad><pad><pad><pad><pad><pad><pad><pad><pad><pad><pad><pad><pad><pad><pad><pad><pad><pad><pad><pad><pad><pad><pad><pad><pad><pad><pad><pad><pad><pad><pad><pad><pad><pad><pad><pad><pad><pad><pad><pad><pad><pad><pad><pad><pad><pad><pad><pad><pad><pad><pad><pad><pad><pad><pad><pad><pad><pad><pad><pad><pad><pad><pad><pad><pad><pad><pad><pad><pad><pad><pad><pad><pad><pad><pad><pad><pad><pad><pad><pad><pad><pad><pad><pad><pad><pad><pad><pad><pad><pad><pad><pad><pad><pad><pad><pad><pad><pad><pad><pad><pad><pad><pad><pad><pad><pad><pad><pad><pad><pad><pad><pad><pad><pad><pad><pad><pad><pad><pad><pad><pad><pad><pad><pad><pad><pad><pad><pad><pad><pad><pad><pad><pad><pad><pad><pad><pad><pad><pad><pad><pad><pad><pad><pad><pad><pad><pad><pad><pad><pad><pad><pad><pad><pad><pad><pad><pad><pad><pad><pad><pad><pad><pad><pad><pad><pad><pad><pad><pad><pad><pad><pad><pad><pad><pad><pad><pad><pad><pad><pad><pad><pad><pad><pad><pad><pad><pad><pad><pad><pad><pad><pad><pad><pad><pad><pad><pad><pad><pad><pad><pad><pad><pad><pad><pad><pad><pad><pad><pad><pad><pad><pad><pad><pad><pad><pad><pad><pad><pad><pad><pad><pad><pad><pad><pad><pad><pad><pad><pad><pad><pad><pad><pad><pad><pad><pad><pad><pad><pad><pad><pad><pad><pad><pad><pad><pad><pad><pad><pad><pad><pad><pad><pad><pad><pad><pad><pad><pad><pad><pad><pad><pad><pad><pad><pad><pad><pad><pad><pad><pad><pad><pad><pad><pad><pad><pad><pad><pad><pad><pad><pad><pad><pad><pad><pad><pad><pad><pad><pad><pad><pad><pad><pad><pad><pad><pad><pad><pad><pad><pad><pad><pad><pad><pad><pad><pad><pad><pad><pad><pad><pad><pad><pad><pad><pad><pad><pad><pad><pad><pad><pad><pad><pad><pad><pad><pad><pad><pad><pad><pad><pad><pad><pad><pad><pad><pad><pad><pad><pad><pad><pad><pad><pad><pad><pad><pad><pad><pad><pad><pad><pad><pad><pad><pad><pad><pad><pad><pad><pad><pad><pad><pad><pad><pad><pad><pad><pad><pad><pad><pad><pad><pad><pad><pad><pad><pad><pad><pad><pad><pad><pad><pad><pad><pad><pad><pad><pad><pad><pad><pad><pad><pad><pad><pad><pad><pad><pad><pad><pad><pad><pad><pad><pad><pad><pad><pad><pad><pad><pad><pad><pad><pad><pad><pad><pad><pad><pad><pad><pad><pad><pad><pad><pad><pad><pad><pad><pad><pad><pad><pad><pad><pad><pad><pad><pad><pad><pad><pad><pad><pad><pad><pad><pad><pad><pad><pad><pad><pad><pad><pad><pad><pad><pad><pad><pad><pad><pad><pad><pad><pad><pad><pad><pad><pad><pad><pad><pad><pad><pad><pad><pad><pad><pad><pad><pad><pad><pad><pad><pad><pad><pad><pad><pad>\n",
      "<s>Harry Potter star Daniel Radcliffe gets £20M fortune as he turns 18 Monday .\n",
      "Young actor says he has no plans to fritter his cash away .\n",
      "Radcliffe's earnings from first five Potter films have been held in trust fund .</s><pad><pad><pad><pad><pad><pad><pad><pad><pad><pad><pad><pad><pad><pad><pad><pad><pad><pad><pad><pad><pad><pad><pad><pad><pad><pad><pad><pad><pad><pad><pad><pad><pad><pad><pad><pad><pad><pad><pad><pad><pad><pad><pad><pad><pad><pad><pad><pad><pad><pad><pad><pad><pad><pad><pad><pad><pad><pad><pad><pad><pad>\n",
      "torch.Size([10000, 1024])\n",
      "torch.Size([10000, 113])\n",
      "Max input seq: 1024\n",
      "Max output seq: 113\n",
      "Vocab size: 50265\n"
     ]
    }
   ],
   "execution_count": 170
  },
  {
   "metadata": {
    "ExecuteTime": {
     "end_time": "2025-02-03T19:10:13.960069Z",
     "start_time": "2025-02-03T19:10:13.918752Z"
    }
   },
   "cell_type": "code",
   "source": [
    "from torch.utils.data import Dataset, DataLoader\n",
    "\n",
    "torch.manual_seed(42)\n",
    "\n",
    "BATCH_SIZE = 8\n",
    "\n",
    "class CustomDataset(Dataset):\n",
    "  def __init__(self, inputs, targets):\n",
    "    self.inputs = inputs\n",
    "    self.targets = targets\n",
    "\n",
    "  def __len__(self):\n",
    "    return len(self.inputs)\n",
    "\n",
    "  def __getitem__(self, idx):\n",
    "    return self.inputs[idx], self.targets[idx]\n",
    "\n",
    "dataset = CustomDataset(inputs.to(device), targets.to(device))\n",
    "dataloader = DataLoader(dataset, batch_size=BATCH_SIZE, shuffle=True)\n",
    "# for x, y in dataloader:\n",
    "#   print(f\"Inputs: {x.size()}, Targets: {y.size()}\")\n",
    "\n",
    "num_batches = len(dataloader)\n",
    "print(f\"Num batches: {num_batches}\")"
   ],
   "id": "95edd936a3001f70",
   "outputs": [
    {
     "name": "stdout",
     "output_type": "stream",
     "text": [
      "Num batches: 1250\n"
     ]
    }
   ],
   "execution_count": 171
  },
  {
   "metadata": {
    "ExecuteTime": {
     "end_time": "2025-02-03T19:10:13.970288Z",
     "start_time": "2025-02-03T19:10:13.960069Z"
    }
   },
   "cell_type": "code",
   "source": [
    "emb_dim = 64\n",
    "n_layers = 6\n",
    "n_heads = 4\n",
    "dropout = 0.2"
   ],
   "id": "e7078e88b925e904",
   "outputs": [],
   "execution_count": 172
  },
  {
   "metadata": {
    "ExecuteTime": {
     "end_time": "2025-02-03T19:10:14.128076Z",
     "start_time": "2025-02-03T19:10:14.123023Z"
    }
   },
   "cell_type": "code",
   "source": [
    "# Generate mask for <pad> tokens\n",
    "def generate_padding_mask(idx):\n",
    "  \"\"\"unsqueeze is used to adjust size of mask to self-attention mechanism\"\"\"\n",
    "  padding_mask = (idx == tokenizer.pad_token_id).unsqueeze(1).unsqueeze(2)  # unsqueeze adds a new dimension 1 to defined position (from 0 to x)\n",
    "  return padding_mask.to(device)\n",
    "\n",
    "# Generate a causal mask for target sequences\n",
    "def generate_tgt_mask(size):\n",
    "    mask = torch.triu(torch.ones(size, size), diagonal=1).bool().unsqueeze(0).unsqueeze(1)\n",
    "    return mask.to(device)"
   ],
   "id": "80a7305ad0b75824",
   "outputs": [],
   "execution_count": 173
  },
  {
   "metadata": {
    "ExecuteTime": {
     "end_time": "2025-02-03T19:10:14.137441Z",
     "start_time": "2025-02-03T19:10:14.128076Z"
    }
   },
   "cell_type": "code",
   "source": [
    "class CasualSelfAttention(nn.Module):\n",
    "  def __init__(self):\n",
    "      super().__init__()\n",
    "      assert emb_dim % n_heads == 0\n",
    "      self.num_heads = n_heads\n",
    "      self.head_dim = emb_dim // n_heads\n",
    "      self.query = nn.Linear(emb_dim, emb_dim)\n",
    "      self.key = nn.Linear(emb_dim, emb_dim)\n",
    "      self.value = nn.Linear(emb_dim, emb_dim)\n",
    "      self.fc = nn.Linear(emb_dim, emb_dim)\n",
    "\n",
    "  def forward(self, query, key, value, mask=None):\n",
    "      batch_size = query.size(0)\n",
    "      # print(mask)\n",
    "\n",
    "      def split_heads(x):\n",
    "          return x.view(batch_size, -1, self.num_heads, self.head_dim).transpose(1, 2).contiguous()\n",
    "\n",
    "      query, key, value = map(split_heads, [self.query(query), self.key(key), self.value(value)])\n",
    "\n",
    "      scores = torch.matmul(query, key.transpose(-2, -1)) / math.sqrt(self.head_dim)\n",
    "      if mask is not None:\n",
    "          scores = scores.masked_fill(mask == 1, float('-inf'))  # if in mask appears True (e.g. because of pad token) then -inf is added\n",
    "\n",
    "      attention_weights = torch.softmax(scores, dim=-1)\n",
    "      attention_output = torch.matmul(attention_weights, value).transpose(1, 2).contiguous()\n",
    "      attention_output = attention_output.view(batch_size, -1, self.num_heads * self.head_dim)\n",
    "\n",
    "      return self.fc(attention_output)"
   ],
   "id": "70980c3433833cd",
   "outputs": [],
   "execution_count": 174
  },
  {
   "metadata": {
    "ExecuteTime": {
     "end_time": "2025-02-03T19:10:14.217382Z",
     "start_time": "2025-02-03T19:10:14.208033Z"
    }
   },
   "cell_type": "code",
   "source": [
    "torch.manual_seed(42)\n",
    "\n",
    "class EncoderLayer(nn.Module):\n",
    "  def __init__(self):\n",
    "    super().__init__()\n",
    "    self.ln_1 = nn.LayerNorm(emb_dim)  # layer norm before self attention\n",
    "    self.self_attention = CasualSelfAttention()  #multi-head attention\n",
    "    self.ln_2 = nn.LayerNorm(emb_dim)  # layer norm after self attention\n",
    "    self.feed_forward = nn.Sequential(\n",
    "        nn.Linear(emb_dim, emb_dim * 4),\n",
    "        nn.GELU(approximate='tanh'),  # TODO: why tanh ?\n",
    "        nn.Linear(emb_dim * 4, emb_dim))\n",
    "    self.dropout = nn.Dropout(dropout)\n",
    "\n",
    "  def forward(self, x, src_mask):  # src_mask is mask for inputs\n",
    "    # 1.\n",
    "    x = self.ln_1(x)\n",
    "    attn_output = self.self_attention(x, x, x, src_mask)  # Self-attention without mask\n",
    "    x = self.dropout(x)\n",
    "    x = x + attn_output\n",
    "    # 2.\n",
    "    x = self.ln_2(x)\n",
    "    ff_output = self.feed_forward(x)\n",
    "    x = x + self.dropout(ff_output)\n",
    "    return x\n",
    "\n",
    "class Encoder(nn.Module):\n",
    "  # def __init__(self, input_dim, emb_dim, hid_dim, n_layers, dropout):\n",
    "  def __init__(self):\n",
    "    super().__init__()\n",
    "    self.input_emb = nn.Embedding(vocab_size, emb_dim, device=device)  # embeddings for max 50265 tokens with emb_dim dimension\n",
    "    self.pos_emb = nn.Embedding(max_input_seq, emb_dim, device=device)  # positional encoding (max_input_seq is the biggest article in input)\n",
    "    self.encoder_layers = nn.ModuleList([EncoderLayer().to(device) for _ in range(n_layers)])\n",
    "\n",
    "  def forward(self, idx, src_mask):\n",
    "    B, T = idx.shape  # Batch size and sequence length\n",
    "\n",
    "    # Token embeddings\n",
    "    input_embeddings = self.input_emb(idx)  # Shape: [B, T, emb_dim]\n",
    "\n",
    "    # Positional embeddings\n",
    "    positions = torch.arange(0, T, device=idx.device)\n",
    "    positions = positions.unsqueeze(0)  # Shape: [1, T]\n",
    "\n",
    "    positional_embeddings = self.pos_emb(positions)  # Shape: [1, T, emb_dim]\n",
    "\n",
    "    # Combine token and positional embeddings\n",
    "    x = input_embeddings + positional_embeddings  # Shape: [B, T, emb_dim]\n",
    "\n",
    "    # Encoder layers\n",
    "    for layer in self.encoder_layers:\n",
    "      x = layer(x, src_mask)\n",
    "    return x\n",
    "\n",
    "# enc = Encoder()\n",
    "# for input, target in dataloader:\n",
    "#   print(input.shape)\n",
    "#   src_mask = generate_padding_mask(input)\n",
    "#   print(src_mask.shape)\n",
    "#   print(src_mask)\n",
    "#   x = enc(input, src_mask)\n",
    "#   print('Shape of x:', x.shape)\n",
    "#   break"
   ],
   "id": "50cff13d5ec6b80",
   "outputs": [],
   "execution_count": 175
  },
  {
   "metadata": {
    "ExecuteTime": {
     "end_time": "2025-02-03T19:10:14.298656Z",
     "start_time": "2025-02-03T19:10:14.288802Z"
    }
   },
   "cell_type": "code",
   "source": [
    "torch.manual_seed(42)\n",
    "class DecoderLayer(nn.Module):\n",
    "  def __init__(self):\n",
    "    super().__init__()\n",
    "    self.ln_1 = nn.LayerNorm(emb_dim)\n",
    "    self.self_attention = CasualSelfAttention()\n",
    "    self.ln_2 = nn.LayerNorm(emb_dim)\n",
    "    self.cross_attention = CasualSelfAttention()\n",
    "    self.ln_3 = nn.LayerNorm(emb_dim)\n",
    "    self.feed_forward = nn.Sequential(\n",
    "        nn.Linear(emb_dim, emb_dim * 4),\n",
    "        nn.GELU(approximate='tanh'),\n",
    "        nn.Linear(emb_dim * 4, emb_dim)\n",
    "    )\n",
    "    self.dropout = nn.Dropout(dropout)\n",
    "\n",
    "  def forward(self, x, encoder_output, tgt_mask, src_mask):\n",
    "    # Self att\n",
    "    x = self.ln_1(x)\n",
    "    attn_output = self.self_attention(x, x, x, tgt_mask)\n",
    "    x = x + self.dropout(attn_output)\n",
    "\n",
    "    # Cross att\n",
    "    x = self.ln_2(x)\n",
    "    attn_output = self.cross_attention(x, encoder_output, encoder_output, src_mask)\n",
    "    x = x + self.dropout(attn_output)\n",
    "\n",
    "    # Feed forward\n",
    "    x = self.ln_3(x)\n",
    "    ff_output = self.feed_forward(x)\n",
    "    x = x + self.dropout(ff_output)\n",
    "    return x\n",
    "\n",
    "class Decoder(nn.Module):\n",
    "  def __init__(self):\n",
    "    super().__init__()\n",
    "    self.output_emb = nn.Embedding(vocab_size, emb_dim, device=device)  # embeddings for max 50265 tokens with emb_dim dimension\n",
    "    self.pos_emb = nn.Embedding(max_output_seq, emb_dim, device=device)  # positional encoding (max_input_seq is the biggest article in input)\n",
    "    self.decoder_layers = nn.ModuleList([DecoderLayer().to(device) for _ in range(n_layers)])\n",
    "\n",
    "  def forward(self, decoder_input, encoder_output, tgt_mask, src_mask):\n",
    "    B, T = decoder_input.shape\n",
    "    x = self.output_emb(decoder_input.to(device))\n",
    "    # Positional embeddings\n",
    "    positions = torch.arange(0, T, device=device)\n",
    "    positions = positions.unsqueeze(0)  # Shape: [1, T]\n",
    "    positional_embeddings = self.pos_emb(positions)  # Shape: [1, T, emb_dim]\n",
    "    x = x + positional_embeddings\n",
    "\n",
    "    for layer in self.decoder_layers:\n",
    "      x = layer(x, encoder_output, tgt_mask, src_mask)\n",
    "    return x\n"
   ],
   "id": "de1742d4039bfb5d",
   "outputs": [],
   "execution_count": 176
  },
  {
   "metadata": {
    "ExecuteTime": {
     "end_time": "2025-02-03T20:21:00.040352Z",
     "start_time": "2025-02-03T20:21:00.021301Z"
    }
   },
   "cell_type": "code",
   "source": [
    "torch.manual_seed(42)\n",
    "class TransformerEncoderDecoder(nn.Module):\n",
    "  def __init__(self):\n",
    "    super().__init__()\n",
    "    self.encoder = Encoder().to(device)\n",
    "    self.decoder = Decoder().to(device)\n",
    "    self.ln_final =  nn.LayerNorm(emb_dim, device=device)\n",
    "    self.lm_head = nn.Linear(emb_dim, vocab_size, bias=False, device=device)\n",
    "\n",
    "  def forward(self, input, src_mask, tgt_mask, target=None):\n",
    "    src_mask = src_mask.to(device)\n",
    "    tgt_mask = tgt_mask.to(device)\n",
    "    # input, target = input.to(device), target.to(device)\n",
    "    encoder_output = self.encoder(input, src_mask)\n",
    "    decoder_output = self.decoder(target, encoder_output, tgt_mask, src_mask)\n",
    "    x = self.ln_final(decoder_output)\n",
    "    logits = self.lm_head(x)\n",
    "    loss = None\n",
    "\n",
    "\n",
    "    if target is not None:\n",
    "      # Compute loss --> lets say that on position 5 in targets we have token 24854. Then it searches position 24854 in logits and check probability (softmax is calculated on all logits). L = -log(probability_24854)\n",
    "      loss = F.cross_entropy(\n",
    "          logits.view(-1, logits.size(-1)),  # Shape: (B * T, vocab_size)\n",
    "          target.view(-1),  # Shape: (B * T)\n",
    "          ignore_index=tokenizer.pad_token_id,\n",
    "      )\n",
    "    return logits, loss\n",
    "\n",
    "  def generate_summary(self, input, src_mask=None, tgt_mask=None, max_length=50):\n",
    "      \"\"\"Generate a summary given input text.\"\"\"\n",
    "\n",
    "      input = input.to(device)\n",
    "      # Encode the input text\n",
    "      encoder_output = self.encoder(input, src_mask)  # Shape: [1, seq_len, emb_dim]\n",
    "\n",
    "      # Start decoding with the <bos> token\n",
    "      generated = torch.ones(1, 1, device=device).long() * tokenizer.bos_token_id\n",
    "\n",
    "      for _ in range(max_length):\n",
    "          # Decode the current sequence\n",
    "          T = generated.shape[1]\n",
    "          tgt_mask = generate_tgt_mask(T)\n",
    "\n",
    "          decoder_output = self.decoder(decoder_input=generated, encoder_output=encoder_output, src_mask=src_mask, tgt_mask=tgt_mask)  # Shape: [1, cur_len, emb_dim]\n",
    "\n",
    "          logits = self.lm_head(self.ln_final(decoder_output))  # Shape: [1, cur_len, vocab_size]\n",
    "          logits = logits[:, -1, :]  # Take logits of the last token\n",
    "          # print(logits.shape)\n",
    "\n",
    "          # Apply softmax to get probabilities and sample a token\n",
    "          probs = F.softmax(logits, dim=-1)\n",
    "\n",
    "          next_token = torch.multinomial(probs, num_samples=1)\n",
    "\n",
    "\n",
    "          # Append the token to the generated sequence\n",
    "          generated = torch.cat([generated, next_token], dim=1)  # Shape: [1, cur_len + 1]\n",
    "          # print('Generated:', generated.shape)\n",
    "\n",
    "          # Stop if <eos> token is generated\n",
    "          if next_token.item() == tokenizer.eos_token_id:\n",
    "              break\n",
    "\n",
    "      return generated\n",
    "# print(summary)"
   ],
   "id": "da8213c7d86f3c25",
   "outputs": [],
   "execution_count": 183
  },
  {
   "metadata": {
    "ExecuteTime": {
     "end_time": "2025-02-03T20:21:02.200380Z",
     "start_time": "2025-02-03T20:21:02.114442Z"
    }
   },
   "cell_type": "code",
   "source": "transformer = TransformerEncoderDecoder().to(device)",
   "id": "26286059f011c45d",
   "outputs": [],
   "execution_count": 184
  },
  {
   "metadata": {
    "jupyter": {
     "is_executing": true
    },
    "ExecuteTime": {
     "start_time": "2025-02-03T20:21:04.864303Z"
    }
   },
   "cell_type": "code",
   "source": [
    "from torch.optim import AdamW\n",
    "from transformers import get_scheduler\n",
    "# Hyperparameters\n",
    "\n",
    "learning_rate = 3e-4\n",
    "# gradient_accumulation_steps = 1  # Optional, to simulate larger batches\n",
    "# max_grad_norm = 1.0\n",
    "num_epochs = 10\n",
    "num_training_steps = num_epochs * len(dataloader)\n",
    "print('Total num training steps:', num_training_steps)\n",
    "print('Total num_epochs:', num_epochs)\n",
    "print('Dataset times revision:', num_epochs // len(dataloader))\n",
    "\n",
    "optimizer = AdamW(transformer.parameters(), lr=learning_rate, betas=(0.9, 0.95), eps=1e-8)\n",
    "# Initialize the scheduler\n",
    "lr_scheduler = get_scheduler(\n",
    "    \"linear\", optimizer=optimizer, num_warmup_steps=100, num_training_steps=num_training_steps\n",
    ")\n",
    "\n",
    "\n",
    "\n",
    "for epoch in range(num_epochs):\n",
    "  transformer.train()  # Set model to training mode\n",
    "  for step, (input, target) in enumerate(dataloader):\n",
    "    optimizer.zero_grad()  # always start with zero grad!!\n",
    "    # Move tensors to the correct device\n",
    "    input, target = input.to(device), target.to(device)\n",
    "\n",
    "    src_mask = generate_padding_mask(input).to(device)\n",
    "\n",
    "    B, T = target.shape\n",
    "    tgt_ahead_mask = generate_tgt_mask(size=T).to(device)\n",
    "    tgt_padding_mask = generate_padding_mask(target).to(device)\n",
    "    tgt_mask = tgt_ahead_mask + tgt_padding_mask\n",
    "    # print(target.shape)\n",
    "\n",
    "    # Make sure target is only moved once\n",
    "    logits, loss = transformer(input, src_mask, tgt_mask, target)\n",
    "\n",
    "    # Backward pass\n",
    "    loss.backward()\n",
    "    norm = torch.nn.utils.clip_grad_norm_(transformer.parameters(), 1.0)  # also from GPT-3 paper\n",
    "    optimizer.step()  # update parameters to decrease loss\n",
    "\n",
    "    # Scheduler step\n",
    "    lr_scheduler.step()\n",
    "\n",
    "  # Log progress\n",
    "  if epoch % 2 == 0:\n",
    "      print(f\"Epoch [{epoch}], Loss: {loss.item():.4f}\")"
   ],
   "id": "4028808ab2fb83db",
   "outputs": [
    {
     "name": "stdout",
     "output_type": "stream",
     "text": [
      "Total num training steps: 12500\n",
      "Total num_epochs: 10\n",
      "Dataset times revision: 0\n"
     ]
    }
   ],
   "execution_count": null
  },
  {
   "metadata": {
    "ExecuteTime": {
     "end_time": "2025-02-03T20:19:54.575736Z",
     "start_time": "2025-02-03T20:19:53.473915Z"
    }
   },
   "cell_type": "code",
   "source": [
    "torch.manual_seed(42)\n",
    "# Generate\n",
    "transformer.eval()\n",
    "\n",
    "article = news[0]\n",
    "print('Input: ', article[:100])\n",
    "inp = tokenizer(article, max_length=1024, return_tensors=\"pt\", padding='longest', truncation=True)['input_ids']\n",
    "src_mask = generate_padding_mask(inp)\n",
    "\n",
    "summary_ids = transformer.generate_summary(input=inp, max_length=100)\n",
    "summary = tokenizer.decode(summary_ids[0], skip_special_tokens=True)\n",
    "print('Summary: ', summary)"
   ],
   "id": "4c4f842ac3e7af1a",
   "outputs": [
    {
     "name": "stdout",
     "output_type": "stream",
     "text": [
      "Input:  Harry Potter star Daniel Radcliffe gains access to a reported £20 million ($41.1 million) fortune as\n",
      "Summary:   threats threats threats threats threats threats threats threats threats threats threats threats threats threats threats threats threats threats threats threats threats firm resolution resolution resolution aren assroeationsationsationsationsationsationsationsationsationsationsationsationsationsationsationsationsationsationsationsationsationsationsations advocates mom mom mom mom mom mom mom mom mom mom mom mom mom mom mom mom mom mom mom mom mom mom mom mom Mc McPrincePrinceWhile cameraelt craft neighborhoods ple em\n"
     ]
    }
   ],
   "execution_count": 181
  }
 ],
 "metadata": {
  "kernelspec": {
   "display_name": "Python 3",
   "language": "python",
   "name": "python3"
  },
  "language_info": {
   "codemirror_mode": {
    "name": "ipython",
    "version": 2
   },
   "file_extension": ".py",
   "mimetype": "text/x-python",
   "name": "python",
   "nbconvert_exporter": "python",
   "pygments_lexer": "ipython2",
   "version": "2.7.6"
  }
 },
 "nbformat": 4,
 "nbformat_minor": 5
}
