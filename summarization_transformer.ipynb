{
 "cells": [
  {
   "cell_type": "markdown",
   "id": "da78b301a1d33433",
   "metadata": {},
   "source": []
  },
  {
   "cell_type": "markdown",
   "id": "42235b27f740c1d2",
   "metadata": {},
   "source": [
    "# Official model"
   ]
  },
  {
   "cell_type": "code",
   "execution_count": 1,
   "id": "b25e86ebe92c96ae",
   "metadata": {
    "ExecuteTime": {
     "end_time": "2025-02-24T14:56:59.236557Z",
     "start_time": "2025-02-24T14:56:57.025781Z"
    }
   },
   "outputs": [
    {
     "name": "stdout",
     "output_type": "stream",
     "text": [
      "PyTorch version: 2.6.0+cu126\n",
      "CUDA available: True\n",
      "CUDA version: 12.6\n",
      "GPU count: 1\n",
      "Using device: cuda\n"
     ]
    }
   ],
   "source": [
    "\n",
    "import torch\n",
    "import torch.nn as nn\n",
    "import torch.nn.functional as F\n",
    "import pandas as pd\n",
    "\n",
    "# Check if GPU is available\n",
    "print(f\"PyTorch version: {torch.__version__}\")\n",
    "print(f\"CUDA available: {torch.cuda.is_available()}\")\n",
    "print(f\"CUDA version: {torch.version.cuda}\")\n",
    "print(f\"GPU count: {torch.cuda.device_count()}\")\n",
    "device = \"cuda\" if torch.cuda.is_available() else \"cpu\"\n",
    "# device = 'cpu'\n",
    "print(f\"Using device: {device}\")\n",
    "\n",
    "# import os\n"
   ]
  },
  {
   "cell_type": "markdown",
   "id": "a446025fac5ce2dc",
   "metadata": {},
   "source": [
    "# Load dataset"
   ]
  },
  {
   "cell_type": "code",
   "execution_count": 2,
   "id": "initial_id",
   "metadata": {
    "ExecuteTime": {
     "end_time": "2025-02-24T14:57:03.367496Z",
     "start_time": "2025-02-24T14:56:59.243797Z"
    },
    "collapsed": true
   },
   "outputs": [
    {
     "name": "stdout",
     "output_type": "stream",
     "text": [
      "Dataset({\n",
      "    features: ['article', 'highlights', 'id', 'summary', 'distilabel_metadata', 'model_name'],\n",
      "    num_rows: 287113\n",
      "})\n"
     ]
    }
   ],
   "source": [
    "\n",
    "from datasets import load_dataset\n",
    "\n",
    "ds = load_dataset(\"argilla/cnn-dailymail-summaries\", split='train')\n",
    "print(ds)"
   ]
  },
  {
   "cell_type": "markdown",
   "id": "87b02503926cda8a",
   "metadata": {},
   "source": [
    "# Prepare data"
   ]
  },
  {
   "cell_type": "code",
   "execution_count": 3,
   "id": "a18148b6dc1234f1",
   "metadata": {
    "ExecuteTime": {
     "end_time": "2025-02-24T14:57:07.638025Z",
     "start_time": "2025-02-24T14:57:03.532521Z"
    }
   },
   "outputs": [],
   "source": [
    "articles = []\n",
    "summaries = []\n",
    "i = 0\n",
    "for data in ds:\n",
    "    articles.append(data['article'])\n",
    "    summaries.append(data['highlights'])\n",
    "    i += 1\n",
    "    if i == 30000:\n",
    "        break"
   ]
  },
  {
   "cell_type": "markdown",
   "id": "b63c8a35c64f0a7d",
   "metadata": {},
   "source": [
    "# Get Tokenizer - BartTokenizer with 50265 vocab size"
   ]
  },
  {
   "cell_type": "code",
   "execution_count": 4,
   "id": "bd29edde37c72d6c",
   "metadata": {
    "ExecuteTime": {
     "end_time": "2025-02-24T14:57:09.988744Z",
     "start_time": "2025-02-24T14:57:07.644581Z"
    }
   },
   "outputs": [],
   "source": [
    "from transformers import BartTokenizer\n",
    "\n",
    "tokenizer = BartTokenizer.from_pretrained(\"facebook/bart-large-cnn\")\n",
    "VOCAB_SIZE = tokenizer.vocab_size\n",
    "SRC_MAX_SEQ = 768\n",
    "TGT_MAX_SEQ = 64\n"
   ]
  },
  {
   "cell_type": "markdown",
   "id": "758e78e09478c0da",
   "metadata": {},
   "source": [
    "# Clean data"
   ]
  },
  {
   "cell_type": "code",
   "execution_count": 5,
   "id": "13fddb44c3ac001c",
   "metadata": {
    "ExecuteTime": {
     "end_time": "2025-02-24T15:02:00.475969Z",
     "start_time": "2025-02-24T14:57:09.995138Z"
    }
   },
   "outputs": [],
   "source": [
    "\"\"\"To set determined len for src and tgt --> also with pad tokens\"\"\"\n",
    "\n",
    "\n",
    "# inputs = [tokenizer.encode(str(sentence)) for sentence in articles if len(tokenizer.encode(str(sentence))) <= SRC_MAX_SEQ]\n",
    "# outputs = [tokenizer.encode(str(sentence)) for sentence in summaries]\n",
    "\n",
    "def clean(sentence, max_seq_length):\n",
    "    if len(sentence) < max_seq_length:\n",
    "        sentence = sentence + [tokenizer.pad_token_id] * (max_seq_length - len(sentence))\n",
    "    return sentence\n",
    "\n",
    "\n",
    "inputs = []\n",
    "outputs = []\n",
    "for i in range(len(articles)):\n",
    "    if len(tokenizer.encode(str(articles[i]))) <= SRC_MAX_SEQ and len(\n",
    "            tokenizer.encode(str(summaries[i]))) <= TGT_MAX_SEQ:\n",
    "        article = clean(tokenizer.encode(str(articles[i])), SRC_MAX_SEQ)\n",
    "        summary = clean(tokenizer.encode(str(summaries[i])), TGT_MAX_SEQ)\n",
    "        inputs.append(article)\n",
    "        outputs.append(summary)\n",
    "\n",
    "\n",
    "# def clean_data(sentences, max_seq_length):\n",
    "#     for i, sentence in enumerate(sentences):\n",
    "#         if len(sentence) < max_seq_length:\n",
    "#             sentences[i] = sentence + [tokenizer.pad_token_id] * (max_seq_length - len(sentence))\n",
    "#         elif len(sentence) > max_seq_length:\n",
    "#             sentences[i] = sentence[:max_seq_length - 1] + [tokenizer.eos_token_id]\n",
    "\n",
    "# def clean_data(sentences, max_seq_length):\n",
    "#     for i, sentence in enumerate(sentences):\n",
    "#         if len(sentence) < max_seq_length:\n",
    "#             sentences[i] = sentence + [tokenizer.pad_token_id] * (max_seq_length - len(sentence))\n",
    "#\n",
    "#\n",
    "# clean_data(inputs, SRC_MAX_SEQ)\n",
    "# clean_data(outputs, TGT_MAX_SEQ)\n"
   ]
  },
  {
   "cell_type": "code",
   "execution_count": 6,
   "id": "b871c29a18bd72e0",
   "metadata": {
    "ExecuteTime": {
     "end_time": "2025-02-24T15:02:02.698225Z",
     "start_time": "2025-02-24T15:02:00.496973Z"
    }
   },
   "outputs": [
    {
     "name": "stdout",
     "output_type": "stream",
     "text": [
      "Max src seq len: 768\n",
      "Max tgt seq len: 64\n",
      "Number of examples: 12091\n",
      "Number of vocab size: 50265\n"
     ]
    }
   ],
   "source": [
    "articles_inputs = torch.tensor(inputs)\n",
    "summaries_outputs = torch.tensor(outputs)\n",
    "assert len(articles_inputs) == len(summaries_outputs), \"Number of articles and summaries must be the same\"\n",
    "print('Max src seq len:', SRC_MAX_SEQ)\n",
    "print('Max tgt seq len:', TGT_MAX_SEQ)\n",
    "print('Number of examples:', len(inputs))\n",
    "print(\"Number of vocab size:\", VOCAB_SIZE)\n"
   ]
  },
  {
   "cell_type": "markdown",
   "id": "d5f9a69697ca4da7",
   "metadata": {},
   "source": [
    "# Custom Dataset and DataLoader with train and val data (80%, 20%)"
   ]
  },
  {
   "cell_type": "code",
   "execution_count": 7,
   "id": "482d5e998d8ec790",
   "metadata": {
    "ExecuteTime": {
     "end_time": "2025-02-24T15:02:02.711666Z",
     "start_time": "2025-02-24T15:02:02.698225Z"
    }
   },
   "outputs": [
    {
     "name": "stdout",
     "output_type": "stream",
     "text": [
      "Number of training samples: 9673\n",
      "Number of validation samples: 2418\n"
     ]
    }
   ],
   "source": [
    "from torch.utils.data import random_split, Dataset\n",
    "\n",
    "\n",
    "class CustomDataset(Dataset):\n",
    "    def __init__(self, inputs: torch.Tensor, outputs: torch.Tensor):\n",
    "        self.inputs = inputs\n",
    "        self.outputs = outputs\n",
    "\n",
    "    def __len__(self):\n",
    "        return len(self.inputs)\n",
    "\n",
    "    def __getitem__(self, idx):\n",
    "        return self.inputs[idx], self.outputs[idx]\n",
    "\n",
    "\n",
    "dataset = CustomDataset(articles_inputs, summaries_outputs)\n",
    "train_data, val_data = random_split(dataset, [0.8, 0.2])\n",
    "print(f\"Number of training samples: {len(train_data)}\")\n",
    "print(f\"Number of validation samples: {len(val_data)}\")"
   ]
  },
  {
   "cell_type": "code",
   "execution_count": 8,
   "id": "cd381a10172d1af3",
   "metadata": {
    "ExecuteTime": {
     "end_time": "2025-02-24T15:02:02.735742Z",
     "start_time": "2025-02-24T15:02:02.728578Z"
    }
   },
   "outputs": [
    {
     "name": "stdout",
     "output_type": "stream",
     "text": [
      "Number of batches in training set: 604\n",
      "Number of batches in validation set: 151\n"
     ]
    }
   ],
   "source": [
    "from torch.utils.data import DataLoader\n",
    "\n",
    "BATCH_SIZE = 16\n",
    "\n",
    "train_loader = DataLoader(\n",
    "    train_data,\n",
    "    batch_size=BATCH_SIZE,\n",
    "    shuffle=True,\n",
    "    drop_last=True\n",
    ")\n",
    "\n",
    "val_loader = DataLoader(\n",
    "    val_data,\n",
    "    batch_size=BATCH_SIZE,\n",
    "    shuffle=True,\n",
    "    drop_last=True\n",
    ")\n",
    "\n",
    "print(f\"Number of batches in training set: {len(train_loader)}\")\n",
    "print(f\"Number of batches in validation set: {len(val_loader)}\")\n"
   ]
  },
  {
   "cell_type": "code",
   "execution_count": 9,
   "id": "ef607fe7d7712cd5",
   "metadata": {
    "ExecuteTime": {
     "end_time": "2025-02-24T15:02:02.764788Z",
     "start_time": "2025-02-24T15:02:02.744399Z"
    }
   },
   "outputs": [],
   "source": [
    "import math\n",
    "\n",
    "\n",
    "class MultiHeadAttention(nn.Module):\n",
    "    def __init__(self, d_model, num_heads):\n",
    "        super(MultiHeadAttention, self).__init__()\n",
    "        # Ensure that the model dimension (d_model) is divisible by the number of heads\n",
    "        assert d_model % num_heads == 0, \"d_model must be divisible by num_heads\"\n",
    "\n",
    "        # Initialize dimensions\n",
    "        self.d_model = d_model  # Model's dimension\n",
    "        self.num_heads = num_heads  # Number of attention heads\n",
    "        self.d_k = d_model // num_heads  # Dimension of each head's key, query, and value\n",
    "\n",
    "        # Linear layers for transforming inputs\n",
    "        self.W_q = nn.Linear(d_model, d_model)  # Query transformation\n",
    "        self.W_k = nn.Linear(d_model, d_model)  # Key transformation\n",
    "        self.W_v = nn.Linear(d_model, d_model)  # Value transformation\n",
    "        self.W_o = nn.Linear(d_model, d_model)  # Output transformation\n",
    "\n",
    "    def scaled_dot_product_attention(self, Q, K, V, mask=None):\n",
    "        # Calculate attention scores\n",
    "        attn_scores = torch.matmul(Q, K.transpose(-2, -1)) / math.sqrt(self.d_k)\n",
    "\n",
    "        # Apply mask if provided (useful for preventing attention to certain parts like padding)\n",
    "        if mask is not None:\n",
    "            attn_scores = attn_scores.masked_fill(mask == 0, -1e9)\n",
    "\n",
    "        # Softmax is applied to obtain attention probabilities\n",
    "        attn_probs = torch.softmax(attn_scores, dim=-1)\n",
    "\n",
    "        # Multiply by values to obtain the final output\n",
    "        output = torch.matmul(attn_probs, V)\n",
    "        return output\n",
    "\n",
    "    def split_heads(self, x):\n",
    "        # Reshape the input to have num_heads for multi-head attention\n",
    "        batch_size, seq_length, d_model = x.size()\n",
    "        return x.view(batch_size, seq_length, self.num_heads, self.d_k).transpose(1, 2)\n",
    "\n",
    "    def combine_heads(self, x):\n",
    "        # Combine the multiple heads back to original shape\n",
    "        batch_size, _, seq_length, d_k = x.size()\n",
    "        return x.transpose(1, 2).contiguous().view(batch_size, seq_length, self.d_model)\n",
    "\n",
    "    def forward(self, Q, K, V, mask=None):\n",
    "        # Apply linear transformations and split heads\n",
    "        Q = self.split_heads(self.W_q(Q))\n",
    "        K = self.split_heads(self.W_k(K))\n",
    "        V = self.split_heads(self.W_v(V))\n",
    "\n",
    "        # Perform scaled dot-product attention\n",
    "        attn_output = self.scaled_dot_product_attention(Q, K, V, mask)\n",
    "\n",
    "        # Combine heads and apply output transformation\n",
    "        output = self.W_o(self.combine_heads(attn_output))\n",
    "        return output"
   ]
  },
  {
   "cell_type": "code",
   "execution_count": 10,
   "id": "5785cc712765f655",
   "metadata": {
    "ExecuteTime": {
     "end_time": "2025-02-24T15:02:02.779176Z",
     "start_time": "2025-02-24T15:02:02.774229Z"
    }
   },
   "outputs": [],
   "source": [
    "class FeedForward(nn.Module):\n",
    "    def __init__(self, d_model, d_ff):\n",
    "        super(FeedForward, self).__init__()\n",
    "        self.fc1 = nn.Linear(d_model, d_ff)\n",
    "        self.fc2 = nn.Linear(d_ff, d_model)\n",
    "        # Assumption: GELU outperforms ReLU which leads to 'ReLU dead neuron problem': https://arxiv.org/pdf/1606.08415\n",
    "        self.gelu = nn.GELU(approximate='tanh')\n",
    "\n",
    "    def forward(self, x):\n",
    "        return self.fc2(self.gelu(self.fc1(x)))"
   ]
  },
  {
   "cell_type": "code",
   "execution_count": 11,
   "id": "fe4e61c154ff8b1a",
   "metadata": {
    "ExecuteTime": {
     "end_time": "2025-02-24T15:02:02.794705Z",
     "start_time": "2025-02-24T15:02:02.787540Z"
    }
   },
   "outputs": [
    {
     "data": {
      "text/plain": [
       "'NOTE: There is no evidence that positional encoding is better than simple learnable embeddings.'"
      ]
     },
     "execution_count": 11,
     "metadata": {},
     "output_type": "execute_result"
    }
   ],
   "source": [
    "\"\"\"NOTE: There is no evidence that positional encoding is better than simple learnable embeddings.\"\"\"\n",
    "\n",
    "#\n",
    "# class PositionalEncoding(nn.Module):\n",
    "#     def __init__(self, d_model, max_seq_length):\n",
    "#         super(PositionalEncoding, self).__init__()\n",
    "#\n",
    "#         pe = torch.zeros(max_seq_length, d_model)\n",
    "#         position = torch.arange(0, max_seq_length, dtype=torch.float).unsqueeze(1)\n",
    "#         div_term = torch.exp(torch.arange(0, d_model, 2).float() * -(math.log(10000.0) / d_model))\n",
    "#\n",
    "#         pe[:, 0::2] = torch.sin(position * div_term)\n",
    "#         pe[:, 1::2] = torch.cos(position * div_term)\n",
    "#\n",
    "#         self.register_buffer('pe', pe.unsqueeze(0))\n",
    "#\n",
    "#     def forward(self, x):\n",
    "#         return x + self.pe[:, :x.size(1)]"
   ]
  },
  {
   "cell_type": "code",
   "execution_count": 12,
   "id": "67a0b8abf7ef1b80",
   "metadata": {
    "ExecuteTime": {
     "end_time": "2025-02-24T15:02:02.815772Z",
     "start_time": "2025-02-24T15:02:02.802804Z"
    }
   },
   "outputs": [],
   "source": [
    "class EncoderLayer(nn.Module):\n",
    "    def __init__(self, d_model, num_heads, d_ff, dropout):\n",
    "        super(EncoderLayer, self).__init__()\n",
    "        self.self_attn = MultiHeadAttention(d_model, num_heads)\n",
    "        self.feed_forward = FeedForward(d_model, d_ff)\n",
    "        self.norm1 = nn.LayerNorm(d_model)\n",
    "        self.norm2 = nn.LayerNorm(d_model)\n",
    "        self.dropout = nn.Dropout(dropout)\n",
    "\n",
    "    def forward(self, x, mask):\n",
    "        # Normalization before sub-blocks: as described at: https://cdn.openai.com/better-language-models/language_models_are_unsupervised_multitask_learners.pdf\n",
    "        residual_x = self.norm1(x)  # residual_x described at: https://arxiv.org/pdf/1904.10509\n",
    "        attn_output = self.self_attn(residual_x, residual_x, residual_x, mask)\n",
    "        x = x + self.dropout(attn_output)\n",
    "        residual_x = self.norm2(x)  # Normalization before sub-blocks\n",
    "        ff_output = self.feed_forward(residual_x)\n",
    "        x = x + self.dropout(ff_output)\n",
    "        return x"
   ]
  },
  {
   "cell_type": "code",
   "execution_count": 13,
   "id": "13f775b689e91e6e",
   "metadata": {
    "ExecuteTime": {
     "end_time": "2025-02-24T15:02:02.831036Z",
     "start_time": "2025-02-24T15:02:02.824862Z"
    }
   },
   "outputs": [],
   "source": [
    "class DecoderLayer(nn.Module):\n",
    "    def __init__(self, d_model, num_heads, d_ff, dropout):\n",
    "        super(DecoderLayer, self).__init__()\n",
    "        self.self_attn = MultiHeadAttention(d_model, num_heads)\n",
    "        self.cross_attn = MultiHeadAttention(d_model, num_heads)\n",
    "        self.feed_forward = FeedForward(d_model, d_ff)\n",
    "        self.norm1 = nn.LayerNorm(d_model)\n",
    "        self.norm2 = nn.LayerNorm(d_model)\n",
    "        self.norm3 = nn.LayerNorm(d_model)\n",
    "        self.dropout = nn.Dropout(dropout)\n",
    "\n",
    "    def forward(self, x, enc_output, src_mask, tgt_mask):\n",
    "        # Normalization before sub-blocks: as described at: https://cdn.openai.com/better-language-models/language_models_are_unsupervised_multitask_learners.pdf\n",
    "        residual_x = self.norm1(x)\n",
    "        attn_output = self.self_attn(residual_x, residual_x, residual_x, tgt_mask)\n",
    "        x = x + self.dropout(attn_output)\n",
    "        residual_x = self.norm2(x)  # Normalization before sub-blocks\n",
    "        attn_output = self.cross_attn(residual_x, enc_output, enc_output, src_mask)\n",
    "        x = x + self.dropout(attn_output)\n",
    "        residual_x = self.norm3(x)  # Normalization before sub-blocks\n",
    "        ff_output = self.feed_forward(residual_x)\n",
    "        x = x + self.dropout(ff_output)\n",
    "        return x"
   ]
  },
  {
   "cell_type": "code",
   "execution_count": 14,
   "id": "1f6b502c5537500e",
   "metadata": {
    "ExecuteTime": {
     "end_time": "2025-02-24T15:02:02.848819Z",
     "start_time": "2025-02-24T15:02:02.839457Z"
    }
   },
   "outputs": [],
   "source": [
    "import sys\n",
    "\n",
    "\n",
    "class Transformer(nn.Module):\n",
    "    def __init__(self, src_vocab_size, tgt_vocab_size, d_model, num_heads, num_layers, d_ff, max_src_seq_len,\n",
    "                 max_tgt_seq_len, dropout):\n",
    "        super(Transformer, self).__init__()\n",
    "        self.encoder_embedding = nn.Embedding(src_vocab_size, d_model)\n",
    "        self.decoder_embedding = nn.Embedding(tgt_vocab_size, d_model)\n",
    "        # self.src_positional_encoding = PositionalEncoding(d_model, max_src_seq_len)\n",
    "        # self.tgt_positional_encoding = PositionalEncoding(d_model, max_tgt_seq_len)\n",
    "        self.src_positional_encoding = nn.Embedding(max_src_seq_len,\n",
    "                                                    d_model)  # instead of cos and sin functions (in PositionalEncoding)\n",
    "        self.tgt_positional_encoding = nn.Embedding(max_tgt_seq_len, d_model)\n",
    "\n",
    "        self.encoder_layers = nn.ModuleList(\n",
    "            [EncoderLayer(d_model, num_heads, d_ff, dropout) for _ in range(num_layers)])\n",
    "        self.decoder_layers = nn.ModuleList(\n",
    "            [DecoderLayer(d_model, num_heads, d_ff, dropout) for _ in range(num_layers)])\n",
    "\n",
    "        # One more LayerNorm as described: https://cdn.openai.com/better-language-models/language_models_are_unsupervised_multitask_learners.pdf\n",
    "        self.ln_f = nn.LayerNorm(d_model)\n",
    "        self.output_layer = nn.Linear(d_model, tgt_vocab_size,\n",
    "                                      bias=False)  # bias=False as depicted: https://github.com/karpathy/nanoGPT/blob/master/model.py\n",
    "        self.dropout = nn.Dropout(dropout)\n",
    "\n",
    "    def generate_mask(self, src, tgt):\n",
    "        src_mask = (src != tokenizer.pad_token_id).unsqueeze(1).unsqueeze(2)\n",
    "        tgt_mask = (tgt != tokenizer.pad_token_id).unsqueeze(1).unsqueeze(3)\n",
    "        src_mask, tgt_mask = src_mask.to(device), tgt_mask.to(device)\n",
    "        seq_length = tgt.size(1)\n",
    "        casual_mask = (1 - torch.triu(torch.ones(1, seq_length, seq_length), diagonal=1)).bool()\n",
    "        casual_mask = casual_mask.to(device)\n",
    "        tgt_mask = tgt_mask & casual_mask\n",
    "        return src_mask, tgt_mask\n",
    "\n",
    "    def forward(self, src, tgt):\n",
    "        src_mask, tgt_mask = self.generate_mask(src, tgt)\n",
    "        # src_embedded = self.dropout(self.src_positional_encoding(self.encoder_embedding(src)))\n",
    "        # tgt_embedded = self.dropout(self.tgt_positional_encoding(self.decoder_embedding(tgt)))\n",
    "\n",
    "        src_pos = torch.arange(0, src.size(1)).to(device)  # [0, 1, 2 ... src.size(1)]\n",
    "        src_pos = self.src_positional_encoding(src_pos)\n",
    "        src_embedded = self.encoder_embedding(src)\n",
    "        src_embedded = self.dropout(src_pos + src_embedded)\n",
    "\n",
    "        tgt_pos = torch.arange(0, tgt.size(1)).to(device)\n",
    "        tgt_pos = self.tgt_positional_encoding(tgt_pos)\n",
    "        tgt_embedded = self.decoder_embedding(tgt)\n",
    "        tgt_embedded = self.dropout(tgt_pos + tgt_embedded)\n",
    "\n",
    "        enc_output = src_embedded\n",
    "        for enc_layer in self.encoder_layers:\n",
    "            enc_output = enc_layer(enc_output, src_mask)\n",
    "\n",
    "        dec_output = tgt_embedded\n",
    "        for dec_layer in self.decoder_layers:\n",
    "            dec_output = dec_layer(dec_output, enc_output, src_mask, tgt_mask)\n",
    "\n",
    "        # One more LayerNorm as described: https://cdn.openai.com/better-language-models/language_models_are_unsupervised_multitask_learners.pdf\n",
    "        dec_output = self.ln_f(dec_output)\n",
    "        output = self.output_layer(dec_output)\n",
    "        return output"
   ]
  },
  {
   "cell_type": "code",
   "execution_count": 15,
   "id": "88b2eaebd84a3627",
   "metadata": {
    "ExecuteTime": {
     "end_time": "2025-02-24T15:02:02.861551Z",
     "start_time": "2025-02-24T15:02:02.857053Z"
    }
   },
   "outputs": [],
   "source": [
    "src_vocab_size = VOCAB_SIZE\n",
    "tgt_vocab_size = VOCAB_SIZE\n",
    "d_model = 512\n",
    "num_heads = 8\n",
    "num_layers = 6\n",
    "d_ff = 2048\n",
    "max_src_seq_len = SRC_MAX_SEQ\n",
    "max_tgt_seq_len = TGT_MAX_SEQ\n",
    "dropout = 0.1"
   ]
  },
  {
   "cell_type": "code",
   "execution_count": 16,
   "id": "930121124b5e2e91",
   "metadata": {
    "ExecuteTime": {
     "end_time": "2025-02-24T15:02:03.715342Z",
     "start_time": "2025-02-24T15:02:02.870050Z"
    }
   },
   "outputs": [
    {
     "data": {
      "text/plain": [
       "Transformer(\n",
       "  (encoder_embedding): Embedding(50265, 512)\n",
       "  (decoder_embedding): Embedding(50265, 512)\n",
       "  (src_positional_encoding): Embedding(768, 512)\n",
       "  (tgt_positional_encoding): Embedding(64, 512)\n",
       "  (encoder_layers): ModuleList(\n",
       "    (0-5): 6 x EncoderLayer(\n",
       "      (self_attn): MultiHeadAttention(\n",
       "        (W_q): Linear(in_features=512, out_features=512, bias=True)\n",
       "        (W_k): Linear(in_features=512, out_features=512, bias=True)\n",
       "        (W_v): Linear(in_features=512, out_features=512, bias=True)\n",
       "        (W_o): Linear(in_features=512, out_features=512, bias=True)\n",
       "      )\n",
       "      (feed_forward): FeedForward(\n",
       "        (fc1): Linear(in_features=512, out_features=2048, bias=True)\n",
       "        (fc2): Linear(in_features=2048, out_features=512, bias=True)\n",
       "        (gelu): GELU(approximate='tanh')\n",
       "      )\n",
       "      (norm1): LayerNorm((512,), eps=1e-05, elementwise_affine=True)\n",
       "      (norm2): LayerNorm((512,), eps=1e-05, elementwise_affine=True)\n",
       "      (dropout): Dropout(p=0.1, inplace=False)\n",
       "    )\n",
       "  )\n",
       "  (decoder_layers): ModuleList(\n",
       "    (0-5): 6 x DecoderLayer(\n",
       "      (self_attn): MultiHeadAttention(\n",
       "        (W_q): Linear(in_features=512, out_features=512, bias=True)\n",
       "        (W_k): Linear(in_features=512, out_features=512, bias=True)\n",
       "        (W_v): Linear(in_features=512, out_features=512, bias=True)\n",
       "        (W_o): Linear(in_features=512, out_features=512, bias=True)\n",
       "      )\n",
       "      (cross_attn): MultiHeadAttention(\n",
       "        (W_q): Linear(in_features=512, out_features=512, bias=True)\n",
       "        (W_k): Linear(in_features=512, out_features=512, bias=True)\n",
       "        (W_v): Linear(in_features=512, out_features=512, bias=True)\n",
       "        (W_o): Linear(in_features=512, out_features=512, bias=True)\n",
       "      )\n",
       "      (feed_forward): FeedForward(\n",
       "        (fc1): Linear(in_features=512, out_features=2048, bias=True)\n",
       "        (fc2): Linear(in_features=2048, out_features=512, bias=True)\n",
       "        (gelu): GELU(approximate='tanh')\n",
       "      )\n",
       "      (norm1): LayerNorm((512,), eps=1e-05, elementwise_affine=True)\n",
       "      (norm2): LayerNorm((512,), eps=1e-05, elementwise_affine=True)\n",
       "      (norm3): LayerNorm((512,), eps=1e-05, elementwise_affine=True)\n",
       "      (dropout): Dropout(p=0.1, inplace=False)\n",
       "    )\n",
       "  )\n",
       "  (ln_f): LayerNorm((512,), eps=1e-05, elementwise_affine=True)\n",
       "  (output_layer): Linear(in_features=512, out_features=50265, bias=False)\n",
       "  (dropout): Dropout(p=0.1, inplace=False)\n",
       ")"
      ]
     },
     "execution_count": 16,
     "metadata": {},
     "output_type": "execute_result"
    }
   ],
   "source": [
    "transformer = Transformer(src_vocab_size, tgt_vocab_size, d_model, num_heads, num_layers, d_ff, max_src_seq_len,\n",
    "                          max_tgt_seq_len,\n",
    "                          dropout)\n",
    "transformer.to(device)"
   ]
  },
  {
   "cell_type": "markdown",
   "id": "a977685c1564feae",
   "metadata": {},
   "source": [
    "# Train model"
   ]
  },
  {
   "cell_type": "code",
   "execution_count": 17,
   "id": "4c27c273e453e232",
   "metadata": {
    "ExecuteTime": {
     "start_time": "2025-02-24T15:02:03.744148Z"
    },
    "jupyter": {
     "is_executing": true
    }
   },
   "outputs": [
    {
     "name": "stderr",
     "output_type": "stream",
     "text": [
      "Epoch 1: 100%|██████████| 604/604 [03:48<00:00,  2.65it/s, Batch Loss=6.52]\n"
     ]
    },
    {
     "name": "stdout",
     "output_type": "stream",
     "text": [
      "Epoch: 1, Loss: 7.5265\n",
      "Epoch: 1, Step: 603, Validation Loss: 6.5145\n"
     ]
    },
    {
     "name": "stderr",
     "output_type": "stream",
     "text": [
      "Epoch 2: 100%|██████████| 604/604 [03:50<00:00,  2.62it/s, Batch Loss=6.35]\n"
     ]
    },
    {
     "name": "stdout",
     "output_type": "stream",
     "text": [
      "Epoch: 2, Loss: 6.1777\n",
      "Epoch: 2, Step: 603, Validation Loss: 6.0067\n"
     ]
    },
    {
     "name": "stderr",
     "output_type": "stream",
     "text": [
      "Epoch 3: 100%|██████████| 604/604 [03:48<00:00,  2.64it/s, Batch Loss=5.41]\n"
     ]
    },
    {
     "name": "stdout",
     "output_type": "stream",
     "text": [
      "Epoch: 3, Loss: 5.5861\n",
      "Epoch: 3, Step: 603, Validation Loss: 5.7132\n"
     ]
    },
    {
     "name": "stderr",
     "output_type": "stream",
     "text": [
      "Epoch 4: 100%|██████████| 604/604 [03:51<00:00,  2.61it/s, Batch Loss=5.46]\n"
     ]
    },
    {
     "name": "stdout",
     "output_type": "stream",
     "text": [
      "Epoch: 4, Loss: 5.1118\n",
      "Epoch: 4, Step: 603, Validation Loss: 5.5397\n"
     ]
    },
    {
     "name": "stderr",
     "output_type": "stream",
     "text": [
      "Epoch 5: 100%|██████████| 604/604 [03:48<00:00,  2.65it/s, Batch Loss=4.68]\n"
     ]
    },
    {
     "name": "stdout",
     "output_type": "stream",
     "text": [
      "Epoch: 5, Loss: 4.6715\n",
      "Epoch: 5, Step: 603, Validation Loss: 5.4662\n"
     ]
    },
    {
     "name": "stderr",
     "output_type": "stream",
     "text": [
      "Epoch 6: 100%|██████████| 604/604 [04:16<00:00,  2.36it/s, Batch Loss=4.45]\n"
     ]
    },
    {
     "name": "stdout",
     "output_type": "stream",
     "text": [
      "Epoch: 6, Loss: 4.2417\n",
      "Epoch: 6, Step: 603, Validation Loss: 5.4695\n"
     ]
    },
    {
     "name": "stderr",
     "output_type": "stream",
     "text": [
      "Epoch 7: 100%|██████████| 604/604 [04:31<00:00,  2.22it/s, Batch Loss=3.92]\n"
     ]
    },
    {
     "name": "stdout",
     "output_type": "stream",
     "text": [
      "Epoch: 7, Loss: 3.8323\n",
      "Epoch: 7, Step: 603, Validation Loss: 5.5267\n"
     ]
    },
    {
     "name": "stderr",
     "output_type": "stream",
     "text": [
      "Epoch 8: 100%|██████████| 604/604 [04:31<00:00,  2.22it/s, Batch Loss=3.6] \n"
     ]
    },
    {
     "name": "stdout",
     "output_type": "stream",
     "text": [
      "Epoch: 8, Loss: 3.4552\n",
      "Epoch: 8, Step: 603, Validation Loss: 5.6023\n"
     ]
    },
    {
     "name": "stderr",
     "output_type": "stream",
     "text": [
      "Epoch 9: 100%|██████████| 604/604 [04:31<00:00,  2.23it/s, Batch Loss=3.12]\n"
     ]
    },
    {
     "name": "stdout",
     "output_type": "stream",
     "text": [
      "Epoch: 9, Loss: 3.1225\n",
      "Epoch: 9, Step: 603, Validation Loss: 5.7245\n"
     ]
    },
    {
     "name": "stderr",
     "output_type": "stream",
     "text": [
      "Epoch 10: 100%|██████████| 604/604 [04:31<00:00,  2.23it/s, Batch Loss=2.57]\n"
     ]
    },
    {
     "name": "stdout",
     "output_type": "stream",
     "text": [
      "Epoch: 10, Loss: 2.8446\n",
      "Epoch: 10, Step: 603, Validation Loss: 5.8040\n"
     ]
    },
    {
     "name": "stderr",
     "output_type": "stream",
     "text": [
      "Epoch 11: 100%|██████████| 604/604 [04:31<00:00,  2.22it/s, Batch Loss=2.51]\n"
     ]
    },
    {
     "name": "stdout",
     "output_type": "stream",
     "text": [
      "Epoch: 11, Loss: 2.6206\n",
      "Epoch: 11, Step: 603, Validation Loss: 5.8807\n"
     ]
    },
    {
     "name": "stderr",
     "output_type": "stream",
     "text": [
      "Epoch 12: 100%|██████████| 604/604 [04:31<00:00,  2.22it/s, Batch Loss=2.31]\n"
     ]
    },
    {
     "name": "stdout",
     "output_type": "stream",
     "text": [
      "Epoch: 12, Loss: 2.4615\n",
      "Epoch: 12, Step: 603, Validation Loss: 5.9178\n"
     ]
    }
   ],
   "source": [
    "torch.manual_seed(42)\n",
    "from transformers import get_linear_schedule_with_warmup\n",
    "from torch import optim\n",
    "from tqdm import tqdm\n",
    "\n",
    "lr = 3e-4\n",
    "optimizer = optim.AdamW(transformer.parameters(), lr=lr, betas=(0.9, 0.95), eps=1e-8)\n",
    "\n",
    "num_epochs = 12\n",
    "num_training_steps = len(train_loader) * num_epochs\n",
    "# TODO: how many warmup steps??\n",
    "num_warmup_steps = int(0.1 * num_training_steps)\n",
    "\n",
    "scheduler = get_linear_schedule_with_warmup(\n",
    "    optimizer,\n",
    "    num_warmup_steps=num_warmup_steps,\n",
    "    num_training_steps=num_training_steps\n",
    ")\n",
    "\n",
    "lr_history = []\n",
    "loss_history = []\n",
    "val_loss_history = []\n",
    "for epoch in range(num_epochs):\n",
    "    epoch_loss = 0.0\n",
    "\n",
    "    progress_bar = tqdm(train_loader, desc=f\"Epoch {epoch + 1}\")\n",
    "\n",
    "    for step, (src_data, tgt_data) in enumerate(progress_bar):\n",
    "        transformer.train()\n",
    "        src_data = src_data.to(device)\n",
    "        tgt_data = tgt_data.to(device)\n",
    "\n",
    "        output = transformer(src_data, tgt_data[:, :-1])\n",
    "        ### src: <s>...<\\s>,\n",
    "        ### tgt: <s>... (because shifted right so without the last one): https://discuss.pytorch.org/t/meaning-of-outputs-shifted-right/63124\n",
    "        ### loss -> output comparing to tgt shifted left: ...<s\\> (because without the first one)\n",
    "        loss = F.cross_entropy(output.contiguous().view(-1, tgt_vocab_size), tgt_data[:, 1:].contiguous().view(-1),\n",
    "                               ignore_index=tokenizer.pad_token_id)\n",
    "\n",
    "        lr_history.append(optimizer.param_groups[0]['lr'])\n",
    "        loss_history.append(loss.item())\n",
    "        epoch_loss += loss.item()\n",
    "        loss.backward()\n",
    "        torch.nn.utils.clip_grad_norm_(transformer.parameters(), 1.0)  # Prevent exploding gradients\n",
    "        optimizer.step()  # Update parameters\n",
    "\n",
    "        optimizer.zero_grad()\n",
    "        scheduler.step()           \n",
    "\n",
    "        # Update progress bar with current loss\n",
    "        progress_bar.set_postfix({\"Batch Loss\": loss.item()})\n",
    "\n",
    "    print(f\"Epoch: {epoch + 1}, Loss: {epoch_loss / len(train_loader):.4f}\")\n",
    "\n",
    "    total_val_loss = 0.0\n",
    "\n",
    "    with torch.no_grad():\n",
    "        transformer.eval()\n",
    "\n",
    "        for val_src_data, val_tgt_data in val_loader:\n",
    "            # Move data to GPU\n",
    "            val_src_data, val_tgt_data = val_src_data.to(device), val_tgt_data.to(device)\n",
    "\n",
    "            # Forward pass\n",
    "            val_output = transformer(val_src_data, val_tgt_data[:, :-1])\n",
    "\n",
    "            # Calculate loss\n",
    "            val_loss = F.cross_entropy(\n",
    "                val_output.contiguous().view(-1, tgt_vocab_size),\n",
    "                val_tgt_data[:, 1:].contiguous().view(-1),\n",
    "                ignore_index=tokenizer.pad_token_id\n",
    "            )\n",
    "\n",
    "            total_val_loss += val_loss.item()\n",
    "\n",
    "    # Calculate average validation loss\n",
    "    avg_val_loss = total_val_loss / len(val_loader)\n",
    "    val_loss_history.append(avg_val_loss)\n",
    "    print(f\"Epoch: {epoch + 1}, Step: {step}, Validation Loss: {avg_val_loss:.4f}\")\n",
    "    "
   ]
  },
  {
   "cell_type": "markdown",
   "id": "83ebbec4b3c21794",
   "metadata": {},
   "source": [
    "# Show charts with lr and loss"
   ]
  },
  {
   "cell_type": "code",
   "execution_count": 28,
   "id": "d9ea000c71a19b90",
   "metadata": {
    "ExecuteTime": {
     "end_time": "2025-02-24T14:51:34.679253Z",
     "start_time": "2025-02-24T14:51:34.509688Z"
    }
   },
   "outputs": [
    {
     "data": {
      "image/png": "[encoded data removed]",
      "text/plain": [
       "<Figure size 640x480 with 2 Axes>"
      ]
     },
     "metadata": {},
     "output_type": "display_data"
    },
    {
     "data": {
      "text/plain": [
       "<Figure size 10000x500 with 0 Axes>"
      ]
     },
     "metadata": {},
     "output_type": "display_data"
    }
   ],
   "source": [
    "import matplotlib.pyplot as plt\n",
    "\n",
    "# Ensure lr_history and loss_history are lists of equal length\n",
    "assert len(lr_history) == len(loss_history), \"Length of lr_history and loss_history must be the same\"\n",
    "\n",
    "fig, ax1 = plt.subplots()\n",
    "\n",
    "# Plot Loss on primary y-axis\n",
    "ax1.set_title(\"Learning Rate vs. Loss\")\n",
    "ax1.set_xlabel(\"Training Step\")\n",
    "ax1.set_ylabel(\"Loss\", color='tab:red')\n",
    "ax1.plot(range(len(loss_history)), loss_history, color='tab:red', label='Training Loss', alpha=0.7)\n",
    "ax1.tick_params(axis='y', labelcolor='tab:red')\n",
    "\n",
    "# Plot Validation Loss (assuming it has fewer points, we distribute it accordingly)\n",
    "val_x = [i * (len(loss_history) // len(val_loss_history)) for i in range(len(val_loss_history))]\n",
    "ax1.plot(val_x, val_loss_history, color='tab:orange', label='Validation Loss', marker='o', linestyle='dashed')\n",
    "\n",
    "# Plot Learning Rate on secondary y-axis\n",
    "ax2 = ax1.twinx()\n",
    "ax2.set_ylabel(\"Learning Rate\", color='tab:blue')\n",
    "ax2.plot(range(len(lr_history)), lr_history, color='tab:blue', linestyle='--', label='Learning Rate', alpha=0.7)\n",
    "ax2.tick_params(axis='y', labelcolor='tab:blue')\n",
    "\n",
    "# Legends\n",
    "ax1.legend(loc='upper left')\n",
    "ax2.legend(loc='upper right')\n",
    "\n",
    "plt.show()\n"
   ]
  },
  {
   "cell_type": "markdown",
   "id": "c6f9c0e0e3f8a15d",
   "metadata": {},
   "source": [
    "# Calculate loss on validation data"
   ]
  },
  {
   "cell_type": "code",
   "execution_count": 19,
   "id": "66ea3fdd89fb08b0",
   "metadata": {
    "ExecuteTime": {
     "end_time": "2025-02-24T14:46:17.600182Z",
     "start_time": "2025-02-24T14:46:17.329262Z"
    }
   },
   "outputs": [
    {
     "name": "stderr",
     "output_type": "stream",
     "text": [
      "Validating: 100%|██████████| 2/2 [00:00<00:00,  7.73it/s, Batch Loss=7.8] "
     ]
    },
    {
     "name": "stdout",
     "output_type": "stream",
     "text": [
      "Average Validation Loss: 7.9405\n"
     ]
    },
    {
     "name": "stderr",
     "output_type": "stream",
     "text": [
      "\n"
     ]
    }
   ],
   "source": [
    "transformer.eval()\n",
    "\n",
    "total_val_loss = 0.0\n",
    "\n",
    "with torch.no_grad():\n",
    "    # Use tqdm for progress bar\n",
    "    progress_bar = tqdm(val_loader, desc=\"Validating\")\n",
    "\n",
    "    for val_src_data, val_tgt_data in progress_bar:\n",
    "        # Move data to GPU\n",
    "        val_src_data, val_tgt_data = val_src_data.to(device), val_tgt_data.to(device)\n",
    "\n",
    "        # Forward pass\n",
    "        val_output = transformer(val_src_data, val_tgt_data[:, :-1])\n",
    "\n",
    "        # Calculate loss\n",
    "        val_loss = F.cross_entropy(\n",
    "            val_output.contiguous().view(-1, tgt_vocab_size),\n",
    "            val_tgt_data[:, 1:].contiguous().view(-1),\n",
    "            ignore_index=tokenizer.pad_token_id\n",
    "        )\n",
    "\n",
    "        total_val_loss += val_loss.item()\n",
    "\n",
    "        # Update progress bar with current batch loss\n",
    "        progress_bar.set_postfix({\"Batch Loss\": val_loss.item()})\n",
    "\n",
    "# Calculate average validation loss\n",
    "avg_val_loss = total_val_loss / len(val_loader)\n",
    "print(f\"Average Validation Loss: {avg_val_loss:.4f}\")"
   ]
  },
  {
   "cell_type": "markdown",
   "id": "98b42d308d6a31e2",
   "metadata": {},
   "source": [
    "# Model inference"
   ]
  },
  {
   "cell_type": "code",
   "execution_count": 20,
   "id": "bcce66b6b0763edf",
   "metadata": {
    "ExecuteTime": {
     "end_time": "2025-02-24T14:46:18.437914Z",
     "start_time": "2025-02-24T14:46:17.659246Z"
    }
   },
   "outputs": [
    {
     "name": "stdout",
     "output_type": "stream",
     "text": [
      "Dataset: Validation\n",
      "Article: Carlos Alberto, who scored in FC Porto's Champions League final victory against Monaco in 2004, has joined Bundesliga club Werder Bremen for a club record fee of  7.8 million euros ($10.7 million). Carlos Alberto enjoyed success at FC Porto under Jose Mourinho. \"I'm here to win titles with Werder,\" the 22-year-old said after his first training session with his new club. \"I like Bremen and would only have wanted to come here.\" Carlos Alberto started his career with Fluminense, and helped them to lift the Campeonato Carioca in 2002. In January 2004 he moved on to FC Porto, who were coached by José Mourinho, and the club won the Portuguese title as well as the Champions League. Early in 2005, he moved to Corinthians, where he impressed as they won the Brasileirão,but in 2006 Corinthians had a poor season and Carlos Alberto found himself at odds with manager, Emerson Leão. Their poor relationship came to a climax at a Copa Sul-Americana game against Club Atlético Lanús, and Carlos Alberto declared that he would not play for Corinthians again while Leão remained as manager. Since January this year he has been on loan with his first club Fluminense. Bundesliga champions VfB Stuttgart said on Sunday that they would sign a loan agreement with Real Zaragoza on Monday for Ewerthon, the third top Brazilian player to join the German league in three days. A VfB spokesman said Ewerthon, who played in the Bundesliga for Borussia Dortmund from 2001 to 2005, was expected to join the club for their pre-season training in Austria on Monday. On Friday, Ailton returned to Germany where he was the league's top scorer in 2004, signing a one-year deal with Duisburg on a transfer from Red Star Belgrade.\n",
      "Generated translation: NEW: Congo rebels blame Rwandan Hutus for attack,000 have .\n",
      "The company's,000 have been in the man .\n",
      "The company's in the first in the area for one of the fire .\n",
      "The Brazilian was killed and a his of the year .\n",
      "Real translation: Werder Bremen pay a club record $10.7 million for Carlos Alberto .\n",
      "The Brazilian midfielder won the Champions League with FC Porto in 2004 .\n",
      "Since January he has been on loan with his first club, Fluminense .\n"
     ]
    }
   ],
   "source": [
    "def generate_summary(sentence, tokenizer, model, max_length=TGT_MAX_SEQ):\n",
    "    \"\"\"\n",
    "    Translates a single Polish sentence into Ukrainian using greedy decoding.\n",
    "    \"\"\"\n",
    "    model.eval()  # Set the model to evaluation mode\n",
    "\n",
    "    # Tokenize and convert to tensor\n",
    "    tokens = tokenizer.encode(sentence)\n",
    "    tokens = torch.tensor(tokens).unsqueeze(0).to(device)  # Shape: (1, seq_len)\n",
    "    # print(tokens)\n",
    "\n",
    "    # Start with the input sentence and an empty target sequence\n",
    "    src_data = tokens\n",
    "    tgt_data = torch.tensor([tokenizer.bos_token_id]).unsqueeze(0).to(device)\n",
    "\n",
    "    with torch.no_grad():\n",
    "        for _ in range(max_length):\n",
    "            # Generate output (prediction for next token)\n",
    "            output = model(src_data, tgt_data)\n",
    "\n",
    "            # Get the last token's logits and find the token with the highest probability\n",
    "            next_token_id = output[:, -1, :].argmax(dim=-1).item()\n",
    "\n",
    "            # Append the predicted token to the target sequence\n",
    "            tgt_data = torch.cat([tgt_data, torch.tensor([[next_token_id]]).to(device)], dim=1)\n",
    "\n",
    "            # Stop if the model outputs the [SEP] token\n",
    "            if next_token_id == tokenizer.eos_token_id:\n",
    "                break\n",
    "\n",
    "    # Decode the token ids back to the sentence\n",
    "    translated_tokens = tgt_data.squeeze().tolist()\n",
    "    translated_sentence = tokenizer.decode(translated_tokens, skip_special_tokens=True)\n",
    "\n",
    "    return translated_sentence\n",
    "\n",
    "\n",
    "def inference_from_datasets(train_dataset: bool = True, index: int = 0):\n",
    "    if train_dataset:\n",
    "        dataset = train_loader.dataset\n",
    "    else:\n",
    "        dataset = val_loader.dataset\n",
    "    article = tokenizer.decode(dataset[index][0].tolist(), skip_special_tokens=True)\n",
    "    translation = generate_summary(article, tokenizer, transformer)\n",
    "\n",
    "    print('Dataset:', 'Train' if train_dataset else 'Validation')\n",
    "    print('Article:', article)\n",
    "    print('Generated translation:', translation)\n",
    "    print('Real translation:', tokenizer.decode(dataset[index][1].tolist(), skip_special_tokens=True))\n",
    "\n",
    "\n",
    "inference_from_datasets(train_dataset=False, index=3)"
   ]
  },
  {
   "cell_type": "code",
   "execution_count": 21,
   "id": "afc825fbffc59d9d",
   "metadata": {
    "ExecuteTime": {
     "end_time": "2025-02-24T14:46:18.496260Z",
     "start_time": "2025-02-24T14:46:18.492346Z"
    }
   },
   "outputs": [],
   "source": [
    "# PATH = r\"my_summary_model.pt\"\n",
    "# torch.save(transformer.state_dict(), PATH)"
   ]
  },
  {
   "cell_type": "code",
   "execution_count": 22,
   "id": "1e2e14dd4afcbea3",
   "metadata": {
    "ExecuteTime": {
     "end_time": "2025-02-24T14:46:18.552787Z",
     "start_time": "2025-02-24T14:46:18.548564Z"
    }
   },
   "outputs": [],
   "source": [
    "# next_model = Transformer(src_vocab_size, tgt_vocab_size, d_model, num_heads, num_layers, d_ff, max_src_seq_len,\n",
    "#                          max_tgt_seq_len, dropout)\n",
    "# next_model.load_state_dict(torch.load(PATH, weights_only=True))\n",
    "# next_model = next_model.to(device)\n",
    "# # print(next_model)\n",
    "#\n",
    "# # sentence = tokenizer.decode(train_loader.dataset[0][0].tolist(), skip_special_tokens=True)\n",
    "# sentence = \"What are light beans there?\"\n",
    "# print(sentence)\n",
    "# # sentence = \"Prehistoric humans studied the relationship between the seasons and the length of days to plan their hunting and gathering activities.\"\n",
    "# translation = translate_sentence(sentence, tokenizer, next_model)\n",
    "# print(translation)"
   ]
  },
  {
   "cell_type": "code",
   "execution_count": null,
   "id": "53f1646dbcb8cdcd",
   "metadata": {
    "ExecuteTime": {
     "end_time": "2025-02-24T14:46:18.607894Z",
     "start_time": "2025-02-24T14:46:18.605237Z"
    }
   },
   "outputs": [],
   "source": []
  }
 ],
 "metadata": {
  "kernelspec": {
   "display_name": "cudaenv",
   "language": "python",
   "name": "python3"
  },
  "language_info": {
   "codemirror_mode": {
    "name": "ipython",
    "version": 3
   },
   "file_extension": ".py",
   "mimetype": "text/x-python",
   "name": "python",
   "nbconvert_exporter": "python",
   "pygments_lexer": "ipython3",
   "version": "3.12.8"
  }
 },
 "nbformat": 4,
 "nbformat_minor": 5
}
