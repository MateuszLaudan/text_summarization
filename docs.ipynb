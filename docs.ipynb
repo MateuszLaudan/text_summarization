{
 "cells": [
  {
   "metadata": {},
   "cell_type": "markdown",
   "source": [
    "### F.scaled_dot_product_attention(q, k, v, mask)\n",
    "\n",
    "![](images/scaled_dot_product_with_mask.png)\n",
    "Docs: https://pytorch.org/docs/stable/generated/torch.nn.functional.scaled_dot_product_attention.html"
   ],
   "id": "8c497003d0e866e8"
  }
 ],
 "metadata": {
  "kernelspec": {
   "display_name": "Python 3",
   "language": "python",
   "name": "python3"
  },
  "language_info": {
   "codemirror_mode": {
    "name": "ipython",
    "version": 2
   },
   "file_extension": ".py",
   "mimetype": "text/x-python",
   "name": "python",
   "nbconvert_exporter": "python",
   "pygments_lexer": "ipython2",
   "version": "2.7.6"
  }
 },
 "nbformat": 4,
 "nbformat_minor": 5
}
