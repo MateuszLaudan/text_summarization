{
 "cells": [
  {
   "metadata": {},
   "cell_type": "markdown",
   "source": "",
   "id": "da78b301a1d33433"
  },
  {
   "metadata": {},
   "cell_type": "markdown",
   "source": "# Official model",
   "id": "42235b27f740c1d2"
  },
  {
   "metadata": {
    "ExecuteTime": {
     "end_time": "2025-02-23T15:01:24.202620Z",
     "start_time": "2025-02-23T15:01:21.251553Z"
    }
   },
   "cell_type": "code",
   "source": [
    "import json\n",
    "\n",
    "import torch\n",
    "import torch.nn as nn\n",
    "import torch.nn.functional as F\n",
    "import pandas as pd\n",
    "\n",
    "# Check if GPU is available\n",
    "print(f\"PyTorch version: {torch.__version__}\")\n",
    "print(f\"CUDA available: {torch.cuda.is_available()}\")\n",
    "print(f\"CUDA version: {torch.version.cuda}\")\n",
    "print(f\"GPU count: {torch.cuda.device_count()}\")\n",
    "device = \"cuda\" if torch.cuda.is_available() else \"cpu\"\n",
    "# device = 'cpu'\n",
    "print(f\"Using device: {device}\")\n",
    "\n",
    "# import os\n"
   ],
   "id": "b25e86ebe92c96ae",
   "outputs": [
    {
     "name": "stdout",
     "output_type": "stream",
     "text": [
      "PyTorch version: 2.6.0+cpu\n",
      "CUDA available: False\n",
      "CUDA version: None\n",
      "GPU count: 0\n",
      "Using device: cpu\n"
     ]
    }
   ],
   "execution_count": 1
  },
  {
   "metadata": {},
   "cell_type": "markdown",
   "source": "# Load dataset",
   "id": "a446025fac5ce2dc"
  },
  {
   "cell_type": "code",
   "id": "initial_id",
   "metadata": {
    "collapsed": true,
    "ExecuteTime": {
     "end_time": "2025-02-23T15:01:33.597756Z",
     "start_time": "2025-02-23T15:01:32.642893Z"
    }
   },
   "source": [
    "\n",
    "with open('law_data/train.json', 'r', encoding='utf8') as f:\n",
    "    data = [json.loads(line) for line in f]\n",
    "\n",
    "articles = []\n",
    "summaries = []\n",
    "for line in data:\n",
    "    articles.append(line['reference'])\n",
    "    summaries.append(line['summary'])\n",
    "print(summaries[0])"
   ],
   "outputs": [
    {
     "name": "stdout",
     "output_type": "stream",
     "text": [
      "Prospekt, który ma być publikowany w związku z ofertą publiczną papierów wartościowych lub dopuszczeniem ich do obrotu na rynku regulowanym\n",
      "Prospekt, który ma być publikowany w związku z ofertą publiczną papierów wartościowych lub dopuszczeniem ich do obrotu na rynku regulowanym\n",
      " \n",
      "STRESZCZENIE DOKUMENTÓW:\n",
      "Rozporządzenie (UE) 2017/1129 w sprawie prospektu, który ma być publikowany w związku z ofertą publiczną papierów wartościowych lub dopuszczeniem ich do obrotu na rynku regulowanym\n",
      "Rozporządzenie delegowane (UE) 2019/979 uzupełniające rozporządzenie (UE) 2017/1129 w odniesieniu do regulacyjnych standardów technicznych dotyczących kluczowych informacji finansowych w podsumowaniu prospektu, publikacji i klasyfikacji prospektów, reklam papierów wartościowych, suplementów do prospektu i portalu zgłoszeniowego\n",
      "Rozporządzenie delegowane (UE) 2019/980 uzupełniające rozporządzenie (UE) 2017/1129 w odniesieniu do formatu, treści, weryfikacji i zatwierdzania prospektu, który ma być publikowany w związku z ofertą publiczną papierów wartościowych lub dopuszczeniem ich do obrotu na rynku regulowanym\n",
      "Rozporządzenie delegowane (UE) 2021/528 uzupełniające rozporządzenie (UE) 2017/1129 w odniesieniu do minimalnego zakresu informacji w dokumencie, który należy opublikować do celów wyłączenia dotyczącego prospektu w związku z przejęciem poprzez ofertę wymiany, połączeniem lub podziałem\n",
      "JAKIE SĄ CELE ROZPORZĄDZENIA?\n",
      "Rozporządzenie (UE) 2017/1129 (rozporządzenie w sprawie prospektu), uzupełnione rozporządzeniami delegowanymi (UE) 2019/979, 2019/980 i 2019/528, ma na celu umożliwienie przedsiębiorstwom, w tym małym i średnim przedsiębiorstwom (MŚP), dostępu do różnych form finansowania w Unii Europejskiej (UE). Cel ten jest realizowany w drodze uproszczenia i usprawnienia przepisów i procedur dotyczących sporządzania, zatwierdzania i rozpowszechniania prospektu* publikowanego w związku ofertą publiczną papierów wartościowych* lub dopuszczeniem ich do obrotu na rynku regulowanym. Ten akt prawny zmniejsza kosztowne i uciążliwe obciążenia biurokratyczne nakładane na przedsiębiorstwa i pozwala inwestorom podejmować właściwe decyzje inwestycyjne, ponieważ zawiera informacje w zrozumiałej, łatwej do przeanalizowania i zwięzłej formie.\n",
      "KLUCZOWE ZAGADNIENIA\n",
      "Rozporządzenie:eliminuje konieczność publikacji prospektu w odniesieniu do ofert papierów wartościowych, włączając projekty w dziedzinie finansowania społecznościowego (pozyskiwania pieniędzy od dużej grupy osób; często przez internet), o wartości poniżej 1 mln EUR (dotychczas próg ten był określony na poziomie 100 000 EUR); zapewnia państwom członkowskim UE możliwość zwolnienia z obowiązku publikacji prospektu w odniesieniu do ofert papierów wartościowych o wartości do 8 mln EUR, pod warunkiem, że nie wymagają one powiadomienia („zezwolenia”); ustala zasady mające na celu ograniczenie tendencji do podawania zbyt wielu informacji w prospekcie na temat ogólnych czynników ryzyka; wzmacnia konwergencję praktyk nadzorczych poprzez harmonizację weryfikacji i zatwierdzania prospektów (włączając obowiązujące terminy) w całej UE; umożliwia przedsiębiorstwom, które często emitują papiery wartościowe, skorzystanie z szybkiego (trwającego do pięciu dni) procesu zatwierdzania przez organy nadzorcze za pomocą uniwersalnego dokumentu rejestracyjnego; ustanawia europejską internetową bazę danych, która jest prowadzona bezpłatnie przez Europejski Urząd Nadzoru Giełd i Papierów Wartościowych (ESMA) i która zawiera wszystkie prospekty zatwierdzone w Europejskim Obszarze Gospodarczym.Zgodnie z rozporządzeniem prospekt ma umożliwiać inwestorowi podjęcie świadomej decyzji. Musi on zawierać:aktywa, pasywa, zyski, straty, sytuację finansową i perspektywy emitenta i każdego podmiotu zabezpieczającego; prawa związane z danymi papierami wartościowymi; przesłanki oferty papierów wartościowych oraz ich wpływ na emitenta; składające się z siedmiu stron podsumowanie, które musi być jasne i dokładne (z wyjątkiem dopuszczenia do obrotu papierów wartościowych o charakterze nieudziałowym skierowanych wyłącznie do inwestorów kwalifikowanych) oraz które zawiera:wprowadzenie wraz z ostrzeżeniami, że inwestor może stracić całość lub część inwestowanego kapitału,kluczowe informacje na temat papierów wartościowych, w tym na temat ich rodzaju i klasy oraz praw związanych z danymi papierami wartościowymi,informacje dotyczące emitenta,krótki opis charakteru i zakresu zabezpieczenia.W rozporządzeniu ustanawia się ujednolicony i uproszczony prospekt UE na rzecz rozwoju, który mogą sporządzać:MŚP, określone w dyrektywie 2014/65/UE (dyrektywie MiFID II) (zob. streszczenie) jako przedsiębiorstwa, które spełniają co najmniej dwa z trzech poniższych kryteriów:średnia liczba pracowników w ciągu roku obrotowego wynosi mniej niż 250,całkowity bilans nie przekracza 43 mln EUR,roczny obrót netto nie przekracza 50 mln EUR; emitenci niebędący MŚP, których papiery wartościowe są lub mają być przedmiotem obrotu na rynku rozwoju MŚP (rynku zapewniającym MŚP dostęp do kapitału), a których średnia kapitalizacja rynkowa (wartość rynkowa akcji przedsiębiorstwa) wynosi mniej niż 500 mln EUR; oferujący papiery wartościowe emitowane przez emitentów, o których mowa w dwóch poprzednich punktach; spółki prywatne (przedsiębiorstwa nienotowane na żadnym rynku akcji), które publicznie oferują papiery wartościowe o wartości nieprzekraczającej 20 mln EUR w ciągu dowolnego okresu wynoszącego 12 miesięcy, pod warunkiem, że zatrudniają mniej niż 500 pracowników; emitenci inni niż MŚP, którzy składają publiczną ofertę akcji, a w tym samym czasie ubiegają się o dopuszczenie tych akcji do obrotu na rynku rozwoju MŚP, pod warunkiem że:tacy emitenci nie posiadają akcji, które już dopuszczono do obrotu na rynku rozwoju MŚP,łączna wartość ostatecznej ceny ofertowej (lub, jeśli nie jest dostępna, maksymalna cena) i całkowita liczba akcji znajdujących się w obrocie bezpośrednio po publicznej ofercie akcji jest mniejsza niż 200 mln EUR.Wskazane powyżej przedsiębiorstwa mogą skorzystać z tego dostosowanego prospektu, o ile żadne ich papiery wartościowe nie zostały dopuszczone do obrotu na rynku regulowanym.\n",
      "Zgodnie z rozporządzeniem uproszczony prospekt mogą sporządzać przedsiębiorstwa oferujące papiery wartościowe dopuszczone do obrotu od co najmniej 18 miesięcy na rynku regulowanym lub na rynku rozwoju MŚP, które pragną wyemitować dodatkowe akcje lub pozyskać finansowanie dłużne (oferta wtórna).\n",
      "Rozporządzenie harmonizuje minimalny zakres informacji w dokumencie, który należy opublikować do celów wyłączenia dotyczącego prospektu w związku z przejęciem poprzez ofertę wymiany, połączeniem lub podziałem.\n",
      "Rozporządzenia zmieniająceRozporządzenie (UE) 2019/2115 ma na celu promowanie korzystania z rynków rozwoju MŚP poprzez ograniczanie formalności i obciążeń administracyjnych nakładanych na MŚP w odniesieniu do obowiązków informacyjnych i uproszczonego prospektu. Rozporządzenie (UE) 2020/1503 wprowadza wyłączenia dotyczące publikacji prospektu dla publicznych ofert papierów wartościowych przedstawianych przed dostawców usług finansowania społecznościowego, które nie przekraczają progu na poziomie 5 milionów EUR zgodnie z warunkami określonymi w rozporządzeniu. Rozporządzenie (UE) 2021/337 wprowadza nowy „prospekt UE na rzecz odbudowy”, aby pomóc przedsiębiorstwom w odbudowie po kryzysie wywołanym pandemią COVID-19. Ten krótszy prospekt, o maksymalnej długości 30 stron zakończony dwustronicowym podsumowaniem, ułatwia przedsiębiorstwom pozyskiwanie kapitału w celu zaspokojenia ich potrzeb w zakresie finansowania, przy jednoczesnym zapewnieniu inwestorom odpowiednich informacji. Prospekt na rzecz odbudowy będzie dostępny w przypadku podwyższenia kapitału o kwotę sięgającą 150 % wyemitowanego kapitału w okresie 12 miesięcy i będzie obowiązywał do końca 2022 roku.Akty delegowane\n",
      "Komisja Europejska przyjęła poniższe akty.Rozporządzenie delegowane (UE) 2019/980 określa szczegóły dotyczące treści i formatu prospektu, a także jego weryfikacji i zatwierdzania. Rozporządzenie delegowane (UE) 2019/979 określa informacje szczegółowe dotyczące kluczowych informacji finansowych w podsumowaniu prospektu, publikacji i klasyfikacji prospektu, reklamy papierów wartościowych oraz suplementu do prospektu. Rozporządzenie delegowane (UE) 2020/1273 zmienia i prostuje rozporządzenie delegowane (UE) 2019/980. Rozporządzenie delegowane (UE) 2020/1272 zmienia i prostuje rozporządzenie delegowane (UE) 2019/979. Rozporządzenie delegowane (UE) 2021/528 określające minimalny zakres informacji w dokumencie, który należy opublikować do celów wyłączenia dotyczącego prospektu w związku z przejęciem poprzez ofertę wymiany, połączeniem lub podziałem.Sprawozdanie\n",
      "Komisja ma przedstawić sprawozdanie dotyczące stosowania tego aktu prawnego do 21 lipca 2022 r.\n",
      "OD KIEDY ROZPORZĄDZENIA MAJĄ ZASTOSOWANIE?\n",
      "Rozporządzenie (UE) 2017/1129 oraz rozporządzenie delegowane (UE) 2019/979 i rozporządzenie delegowane (UE) 2019/980 mają zastosowanie od 21 lipca 2019 r. Rozporządzenie delegowane (UE) 2021/528 ma zastosowanie od 15 kwietnia 2021 r.\n",
      "KONTEKST\n",
      "Celem dyrektywy 2003/71/WE było ułatwienie przedsiębiorstwom pozyskiwania kapitału w UE na podstawie zatwierdzenia wydawanego przez jeden krajowy organ nadzoru. W ten sposób wydawano „zezwolenia” dotyczące prospektów zawierających oferty transgraniczne. Rozporządzenie (UE) 2017/1129, które uchyla i zastępuje dyrektywę 2003/71/WE, rozwiązuje kwestię obszarów niepewności prawa i powstałych na przestrzeni czasu nieuzasadnionych obciążeń administracyjnych. Ten akt prawny stanowi istotny etap budowy europejskiej unii rynków kapitałowych.Więcej informacji:Prospekt dotyczący papierów wartościowych (Komisja Europejska) Prospekt (Europejski Urząd Nadzoru Giełd i Papierów Wartościowych).\n",
      "KLUCZOWE POJĘCIA\n",
      "Prospekt. Dokument prawny, w którym opisany jest główny rodzaj działalności przedsiębiorstwa, jego finanse i struktura akcjonariatu. Potencjalni inwestorzy korzystają z niego przy podejmowaniu decyzji dotyczących zakupu papierów wartościowych oferowanych przez przedsiębiorstwo.\n",
      "Papiery wartościowe. Akcje, obligacje i instrumenty pochodne.\n",
      "GŁÓWNE DOKUMENTY\n",
      "Rozporządzenie Parlamentu Europejskiego i Rady (UE) 2017/1129 z dnia 14 czerwca 2017 r. w sprawie prospektu, który ma być publikowany w związku z ofertą publiczną papierów wartościowych lub dopuszczeniem ich do obrotu na rynku regulowanym oraz uchylenia dyrektywy 2003/71/WE (Dz.U. L 168 z 30.6.2017, s. 12–82).\n",
      "Kolejne zmiany rozporządzenia (UE) 2017/1129 zostały włączone do tekstu pierwotnego. Tekst skonsolidowany ma jedynie wartość dokumentacyjną.\n",
      "Rozporządzenie delegowane Komisji (UE) 2019/979 z dnia 14 marca 2019 r. uzupełniające rozporządzenie Parlamentu Europejskiego i Rady (UE) 2017/1129 w odniesieniu do regulacyjnych standardów technicznych dotyczących kluczowych informacji finansowych w podsumowaniu prospektu, publikacji i klasyfikacji prospektów, reklam papierów wartościowych, suplementów do prospektu i portalu zgłoszeniowego oraz uchylające rozporządzenie delegowane Komisji (UE) nr 382/2014 i rozporządzenie delegowane Komisji (UE) 2016/301 (Dz.U. L 166 z 21.6.2019, s. 1–25).\n",
      "Zobacz tekst skonsolidowany.\n",
      "Rozporządzenie delegowane Komisji (UE) 2019/980 z dnia 14 marca 2019 r. uzupełniające rozporządzenie Parlamentu Europejskiego i Rady (UE) 2017/1129 w odniesieniu do formatu, treści, weryfikacji i zatwierdzania prospektu, który ma być publikowany w związku z ofertą publiczną papierów wartościowych lub dopuszczeniem ich do obrotu na rynku regulowanym, i uchylające rozporządzenie Komisji (WE) nr 809/2004 (Dz.U. L 166 z 21.6.2019, s. 26–176).\n",
      "Zobacz tekst skonsolidowany.\n",
      "Rozporządzenie delegowane Komisji (UE) 2021/528 z dnia 16 grudnia 2020 r. uzupełniające rozporządzenie Parlamentu Europejskiego i Rady (UE) 2017/1129 w odniesieniu do minimalnego zakresu informacji w dokumencie, który należy opublikować do celów wyłączenia dotyczącego prospektu w związku z przejęciem poprzez ofertę wymiany, połączeniem lub podziałem (Dz.U. L 106 z 26.3.2021, s. 32–46).\n",
      "DOKUMENTY POWIĄZANE\n",
      "Rozporządzenie Parlamentu Europejskiego i Rady (UE) 2021/337 z dnia 16 lutego 2021 r. zmieniające rozporządzenie (UE) 2017/1129 w odniesieniu do prospektu UE na rzecz odbudowy i ukierunkowanych zmian dotyczących pośredników finansowych oraz dyrektywę 2004/109/WE w odniesieniu do jednolitego elektronicznego formatu raportowania rocznych raportów finansowych w celu wsparcia odbudowy po kryzysie związanym z COVID-19 (Dz.U. L 68 z 26.2.2021, s. 1–13).\n",
      "Rozporządzenie Parlamentu Europejskiego i Rady (UE) 2020/1503 z dnia 7 października 2020 r. w sprawie europejskich dostawców usług finansowania społecznościowego dla przedsięwzięć gospodarczych oraz zmieniające rozporządzenie (UE) 2017/1129 i dyrektywę (UE) 2019/1937 (Dz.U. L 347 z 20.10.2020, s. 1–49).\n",
      "Rozporządzenie Parlamentu Europejskiego i Rady (UE) 2019/2115 z dnia 27 listopada 2019 r. zmieniające dyrektywę 2014/65/UE oraz rozporządzenia (UE) nr 596/2014 i (UE) 2017/1129 w odniesieniu do promowania korzystania z rynków rozwoju MŚP (Dz.U. L 320 z 11.12.2019, s. 1–10).\n",
      "Ostatnia aktualizacja: 22.11.2021\n"
     ]
    }
   ],
   "execution_count": 3
  },
  {
   "metadata": {},
   "cell_type": "markdown",
   "source": "# Get Tokenizer - BartTokenizer with 50265 vocab size",
   "id": "b63c8a35c64f0a7d"
  },
  {
   "metadata": {
    "ExecuteTime": {
     "end_time": "2025-02-22T19:00:07.249613Z",
     "start_time": "2025-02-22T19:00:06.409240Z"
    }
   },
   "cell_type": "code",
   "source": [
    "from transformers import BartTokenizer\n",
    "\n",
    "tokenizer = BartTokenizer.from_pretrained(\"facebook/bart-large-cnn\")\n",
    "VOCAB_SIZE = tokenizer.vocab_size\n",
    "SRC_MAX_SEQ = 768\n",
    "TGT_MAX_SEQ = 64\n"
   ],
   "id": "bd29edde37c72d6c",
   "outputs": [],
   "execution_count": 40
  },
  {
   "metadata": {},
   "cell_type": "markdown",
   "source": "# Clean data",
   "id": "758e78e09478c0da"
  },
  {
   "metadata": {
    "ExecuteTime": {
     "end_time": "2025-02-22T19:01:45.022742Z",
     "start_time": "2025-02-22T19:01:44.210786Z"
    }
   },
   "cell_type": "code",
   "source": [
    "\"\"\"To set determined len for src and tgt --> also with pad tokens\"\"\"\n",
    "\n",
    "inputs = [tokenizer.encode(str(sentence)) for sentence in articles[:2]]\n",
    "outputs = [tokenizer.encode(str(sentence)) for sentence in summaries[:2]]\n",
    "print(len(inputs[0]))\n",
    "\n",
    "def clean_data(sentences, max_seq_length):\n",
    "    for i, sentence in enumerate(sentences):\n",
    "        if len(sentence) < max_seq_length:\n",
    "            sentences[i] = sentence + [tokenizer.pad_token_id] * (max_seq_length - len(sentence))\n",
    "        elif len(sentence) > max_seq_length:\n",
    "            sentences[i] = sentence[:max_seq_length - 1] + [tokenizer.eos_token_id]\n",
    "\n",
    "\n",
    "# clean_data(inputs, SRC_MAX_SEQ)\n",
    "# clean_data(outputs, TGT_MAX_SEQ)"
   ],
   "id": "13fddb44c3ac001c",
   "outputs": [
    {
     "name": "stdout",
     "output_type": "stream",
     "text": [
      "235357\n"
     ]
    }
   ],
   "execution_count": 44
  },
  {
   "metadata": {
    "ExecuteTime": {
     "end_time": "2025-02-22T18:34:59.426505Z",
     "start_time": "2025-02-22T18:34:59.416924Z"
    }
   },
   "cell_type": "code",
   "source": [
    "articles_inputs = torch.tensor(inputs)\n",
    "summaries_outputs = torch.tensor(outputs)\n",
    "assert len(articles_inputs) == len(summaries_outputs), \"Number of articles and summaries must be the same\"\n",
    "print('Max src seq len:', SRC_MAX_SEQ)\n",
    "print('Max tgt seq len:', TGT_MAX_SEQ)\n",
    "print('Number of examples:', len(inputs))\n",
    "print(\"Number of vocab size:\", VOCAB_SIZE)\n"
   ],
   "id": "b871c29a18bd72e0",
   "outputs": [
    {
     "name": "stdout",
     "output_type": "stream",
     "text": [
      "Max src seq len: 768\n",
      "Max tgt seq len: 64\n",
      "Number of examples: 10\n",
      "Number of vocab size: 50265\n"
     ]
    }
   ],
   "execution_count": 6
  },
  {
   "metadata": {},
   "cell_type": "markdown",
   "source": "# Custom Dataset and DataLoader with train and val data (80%, 20%)",
   "id": "d5f9a69697ca4da7"
  },
  {
   "metadata": {
    "ExecuteTime": {
     "end_time": "2025-02-22T18:35:01.396601Z",
     "start_time": "2025-02-22T18:35:01.384448Z"
    }
   },
   "cell_type": "code",
   "source": [
    "from torch.utils.data import random_split, Dataset\n",
    "\n",
    "\n",
    "class CustomDataset(Dataset):\n",
    "    def __init__(self, inputs: torch.Tensor, outputs: torch.Tensor):\n",
    "        self.inputs = inputs\n",
    "        self.outputs = outputs\n",
    "\n",
    "    def __len__(self):\n",
    "        return len(self.inputs)\n",
    "\n",
    "    def __getitem__(self, idx):\n",
    "        return self.inputs[idx], self.outputs[idx]\n",
    "\n",
    "\n",
    "dataset = CustomDataset(articles_inputs, summaries_outputs)\n",
    "train_data, val_data = random_split(dataset, [0.8, 0.2])\n",
    "print(f\"Number of training samples: {len(train_data)}\")\n",
    "print(f\"Number of validation samples: {len(val_data)}\")"
   ],
   "id": "482d5e998d8ec790",
   "outputs": [
    {
     "name": "stdout",
     "output_type": "stream",
     "text": [
      "Number of training samples: 8\n",
      "Number of validation samples: 2\n"
     ]
    }
   ],
   "execution_count": 7
  },
  {
   "metadata": {
    "ExecuteTime": {
     "end_time": "2025-02-22T18:35:02.221749Z",
     "start_time": "2025-02-22T18:35:02.214162Z"
    }
   },
   "cell_type": "code",
   "source": [
    "from torch.utils.data import DataLoader\n",
    "\n",
    "BATCH_SIZE = 16\n",
    "\n",
    "train_loader = DataLoader(\n",
    "    train_data,\n",
    "    batch_size=BATCH_SIZE,\n",
    "    shuffle=True\n",
    ")\n",
    "\n",
    "val_loader = DataLoader(\n",
    "    val_data,\n",
    "    batch_size=BATCH_SIZE,\n",
    "    shuffle=False\n",
    ")\n",
    "\n",
    "print(f\"Number of batches in training set: {len(train_loader)}\")\n",
    "print(f\"Number of batches in validation set: {len(val_loader)}\")\n"
   ],
   "id": "cd381a10172d1af3",
   "outputs": [
    {
     "name": "stdout",
     "output_type": "stream",
     "text": [
      "Number of batches in training set: 1\n",
      "Number of batches in validation set: 1\n"
     ]
    }
   ],
   "execution_count": 8
  },
  {
   "metadata": {
    "ExecuteTime": {
     "end_time": "2025-02-22T18:35:03.046779Z",
     "start_time": "2025-02-22T18:35:03.025409Z"
    }
   },
   "cell_type": "code",
   "source": [
    "import math\n",
    "\n",
    "\n",
    "class MultiHeadAttention(nn.Module):\n",
    "    def __init__(self, d_model, num_heads):\n",
    "        super(MultiHeadAttention, self).__init__()\n",
    "        # Ensure that the model dimension (d_model) is divisible by the number of heads\n",
    "        assert d_model % num_heads == 0, \"d_model must be divisible by num_heads\"\n",
    "\n",
    "        # Initialize dimensions\n",
    "        self.d_model = d_model  # Model's dimension\n",
    "        self.num_heads = num_heads  # Number of attention heads\n",
    "        self.d_k = d_model // num_heads  # Dimension of each head's key, query, and value\n",
    "\n",
    "        # Linear layers for transforming inputs\n",
    "        self.W_q = nn.Linear(d_model, d_model)  # Query transformation\n",
    "        self.W_k = nn.Linear(d_model, d_model)  # Key transformation\n",
    "        self.W_v = nn.Linear(d_model, d_model)  # Value transformation\n",
    "        self.W_o = nn.Linear(d_model, d_model)  # Output transformation\n",
    "\n",
    "    def scaled_dot_product_attention(self, Q, K, V, mask=None):\n",
    "        # Calculate attention scores\n",
    "        attn_scores = torch.matmul(Q, K.transpose(-2, -1)) / math.sqrt(self.d_k)\n",
    "\n",
    "        # Apply mask if provided (useful for preventing attention to certain parts like padding)\n",
    "        if mask is not None:\n",
    "            attn_scores = attn_scores.masked_fill(mask == 0, -1e9)\n",
    "\n",
    "        # Softmax is applied to obtain attention probabilities\n",
    "        attn_probs = torch.softmax(attn_scores, dim=-1)\n",
    "\n",
    "        # Multiply by values to obtain the final output\n",
    "        output = torch.matmul(attn_probs, V)\n",
    "        return output\n",
    "\n",
    "    def split_heads(self, x):\n",
    "        # Reshape the input to have num_heads for multi-head attention\n",
    "        batch_size, seq_length, d_model = x.size()\n",
    "        return x.view(batch_size, seq_length, self.num_heads, self.d_k).transpose(1, 2)\n",
    "\n",
    "    def combine_heads(self, x):\n",
    "        # Combine the multiple heads back to original shape\n",
    "        batch_size, _, seq_length, d_k = x.size()\n",
    "        return x.transpose(1, 2).contiguous().view(batch_size, seq_length, self.d_model)\n",
    "\n",
    "    def forward(self, Q, K, V, mask=None):\n",
    "        # Apply linear transformations and split heads\n",
    "        Q = self.split_heads(self.W_q(Q))\n",
    "        K = self.split_heads(self.W_k(K))\n",
    "        V = self.split_heads(self.W_v(V))\n",
    "\n",
    "        # Perform scaled dot-product attention\n",
    "        attn_output = self.scaled_dot_product_attention(Q, K, V, mask)\n",
    "\n",
    "        # Combine heads and apply output transformation\n",
    "        output = self.W_o(self.combine_heads(attn_output))\n",
    "        return output"
   ],
   "id": "ef607fe7d7712cd5",
   "outputs": [],
   "execution_count": 9
  },
  {
   "metadata": {
    "ExecuteTime": {
     "end_time": "2025-02-22T18:35:03.703080Z",
     "start_time": "2025-02-22T18:35:03.690974Z"
    }
   },
   "cell_type": "code",
   "source": [
    "class FeedForward(nn.Module):\n",
    "    def __init__(self, d_model, d_ff):\n",
    "        super(FeedForward, self).__init__()\n",
    "        self.fc1 = nn.Linear(d_model, d_ff)\n",
    "        self.fc2 = nn.Linear(d_ff, d_model)\n",
    "        # Assumption: GELU outperforms ReLU which leads to 'ReLU dead neuron problem': https://arxiv.org/pdf/1606.08415\n",
    "        self.gelu = nn.GELU(approximate='tanh')\n",
    "\n",
    "    def forward(self, x):\n",
    "        return self.fc2(self.gelu(self.fc1(x)))"
   ],
   "id": "5785cc712765f655",
   "outputs": [],
   "execution_count": 10
  },
  {
   "metadata": {
    "ExecuteTime": {
     "end_time": "2025-02-22T18:35:04.269962Z",
     "start_time": "2025-02-22T18:35:04.258034Z"
    }
   },
   "cell_type": "code",
   "source": [
    "\"\"\"NOTE: There is no evidence that positional encoding is better than simple learnable embeddings.\"\"\"\n",
    "\n",
    "#\n",
    "# class PositionalEncoding(nn.Module):\n",
    "#     def __init__(self, d_model, max_seq_length):\n",
    "#         super(PositionalEncoding, self).__init__()\n",
    "#\n",
    "#         pe = torch.zeros(max_seq_length, d_model)\n",
    "#         position = torch.arange(0, max_seq_length, dtype=torch.float).unsqueeze(1)\n",
    "#         div_term = torch.exp(torch.arange(0, d_model, 2).float() * -(math.log(10000.0) / d_model))\n",
    "#\n",
    "#         pe[:, 0::2] = torch.sin(position * div_term)\n",
    "#         pe[:, 1::2] = torch.cos(position * div_term)\n",
    "#\n",
    "#         self.register_buffer('pe', pe.unsqueeze(0))\n",
    "#\n",
    "#     def forward(self, x):\n",
    "#         return x + self.pe[:, :x.size(1)]"
   ],
   "id": "fe4e61c154ff8b1a",
   "outputs": [
    {
     "data": {
      "text/plain": [
       "'NOTE: There is no evidence that positional encoding is better than simple learnable embeddings.'"
      ]
     },
     "execution_count": 11,
     "metadata": {},
     "output_type": "execute_result"
    }
   ],
   "execution_count": 11
  },
  {
   "metadata": {
    "ExecuteTime": {
     "end_time": "2025-02-22T18:35:04.642408Z",
     "start_time": "2025-02-22T18:35:04.636350Z"
    }
   },
   "cell_type": "code",
   "source": [
    "class EncoderLayer(nn.Module):\n",
    "    def __init__(self, d_model, num_heads, d_ff, dropout):\n",
    "        super(EncoderLayer, self).__init__()\n",
    "        self.self_attn = MultiHeadAttention(d_model, num_heads)\n",
    "        self.feed_forward = FeedForward(d_model, d_ff)\n",
    "        self.norm1 = nn.LayerNorm(d_model)\n",
    "        self.norm2 = nn.LayerNorm(d_model)\n",
    "        self.dropout = nn.Dropout(dropout)\n",
    "\n",
    "    def forward(self, x, mask):\n",
    "        # Normalization before sub-blocks: as described at: https://cdn.openai.com/better-language-models/language_models_are_unsupervised_multitask_learners.pdf\n",
    "        residual_x = self.norm1(x)  # residual_x described at: https://arxiv.org/pdf/1904.10509\n",
    "        attn_output = self.self_attn(residual_x, residual_x, residual_x, mask)\n",
    "        x = x + self.dropout(attn_output)\n",
    "        residual_x = self.norm2(x)  # Normalization before sub-blocks\n",
    "        ff_output = self.feed_forward(residual_x)\n",
    "        x = x + self.dropout(ff_output)\n",
    "        return x"
   ],
   "id": "67a0b8abf7ef1b80",
   "outputs": [],
   "execution_count": 12
  },
  {
   "metadata": {
    "ExecuteTime": {
     "end_time": "2025-02-22T18:35:05.085455Z",
     "start_time": "2025-02-22T18:35:05.078776Z"
    }
   },
   "cell_type": "code",
   "source": [
    "class DecoderLayer(nn.Module):\n",
    "    def __init__(self, d_model, num_heads, d_ff, dropout):\n",
    "        super(DecoderLayer, self).__init__()\n",
    "        self.self_attn = MultiHeadAttention(d_model, num_heads)\n",
    "        self.cross_attn = MultiHeadAttention(d_model, num_heads)\n",
    "        self.feed_forward = FeedForward(d_model, d_ff)\n",
    "        self.norm1 = nn.LayerNorm(d_model)\n",
    "        self.norm2 = nn.LayerNorm(d_model)\n",
    "        self.norm3 = nn.LayerNorm(d_model)\n",
    "        self.dropout = nn.Dropout(dropout)\n",
    "\n",
    "    def forward(self, x, enc_output, src_mask, tgt_mask):\n",
    "        # Normalization before sub-blocks: as described at: https://cdn.openai.com/better-language-models/language_models_are_unsupervised_multitask_learners.pdf\n",
    "        residual_x = self.norm1(x)\n",
    "        attn_output = self.self_attn(residual_x, residual_x, residual_x, tgt_mask)\n",
    "        x = x + self.dropout(attn_output)\n",
    "        residual_x = self.norm2(x)  # Normalization before sub-blocks\n",
    "        attn_output = self.cross_attn(residual_x, enc_output, enc_output, src_mask)\n",
    "        x = x + self.dropout(attn_output)\n",
    "        residual_x = self.norm3(x)  # Normalization before sub-blocks\n",
    "        ff_output = self.feed_forward(residual_x)\n",
    "        x = x + self.dropout(ff_output)\n",
    "        return x"
   ],
   "id": "13f775b689e91e6e",
   "outputs": [],
   "execution_count": 13
  },
  {
   "metadata": {
    "ExecuteTime": {
     "end_time": "2025-02-22T18:35:05.404160Z",
     "start_time": "2025-02-22T18:35:05.394150Z"
    }
   },
   "cell_type": "code",
   "source": [
    "import sys\n",
    "\n",
    "\n",
    "class Transformer(nn.Module):\n",
    "    def __init__(self, src_vocab_size, tgt_vocab_size, d_model, num_heads, num_layers, d_ff, max_src_seq_len,\n",
    "                 max_tgt_seq_len, dropout):\n",
    "        super(Transformer, self).__init__()\n",
    "        self.encoder_embedding = nn.Embedding(src_vocab_size, d_model)\n",
    "        self.decoder_embedding = nn.Embedding(tgt_vocab_size, d_model)\n",
    "        # self.src_positional_encoding = PositionalEncoding(d_model, max_src_seq_len)\n",
    "        # self.tgt_positional_encoding = PositionalEncoding(d_model, max_tgt_seq_len)\n",
    "        self.src_positional_encoding = nn.Embedding(max_src_seq_len,\n",
    "                                                    d_model)  # instead of cos and sin functions (in PositionalEncoding)\n",
    "        self.tgt_positional_encoding = nn.Embedding(max_tgt_seq_len, d_model)\n",
    "\n",
    "        self.encoder_layers = nn.ModuleList(\n",
    "            [EncoderLayer(d_model, num_heads, d_ff, dropout) for _ in range(num_layers)])\n",
    "        self.decoder_layers = nn.ModuleList(\n",
    "            [DecoderLayer(d_model, num_heads, d_ff, dropout) for _ in range(num_layers)])\n",
    "\n",
    "        # One more LayerNorm as described: https://cdn.openai.com/better-language-models/language_models_are_unsupervised_multitask_learners.pdf\n",
    "        self.ln_f = nn.LayerNorm(d_model)\n",
    "        self.output_layer = nn.Linear(d_model, tgt_vocab_size,\n",
    "                                      bias=False)  # bias=False as depicted: https://github.com/karpathy/nanoGPT/blob/master/model.py\n",
    "        self.dropout = nn.Dropout(dropout)\n",
    "\n",
    "    def generate_mask(self, src, tgt):\n",
    "        src_mask = (src != tokenizer.pad_token_id).unsqueeze(1).unsqueeze(2)\n",
    "        tgt_mask = (tgt != tokenizer.pad_token_id).unsqueeze(1).unsqueeze(3)\n",
    "        src_mask, tgt_mask = src_mask.to(device), tgt_mask.to(device)\n",
    "        seq_length = tgt.size(1)\n",
    "        casual_mask = (1 - torch.triu(torch.ones(1, seq_length, seq_length), diagonal=1)).bool()\n",
    "        casual_mask = casual_mask.to(device)\n",
    "        tgt_mask = tgt_mask & casual_mask\n",
    "        return src_mask, tgt_mask\n",
    "\n",
    "    def forward(self, src, tgt):\n",
    "        src_mask, tgt_mask = self.generate_mask(src, tgt)\n",
    "        # src_embedded = self.dropout(self.src_positional_encoding(self.encoder_embedding(src)))\n",
    "        # tgt_embedded = self.dropout(self.tgt_positional_encoding(self.decoder_embedding(tgt)))\n",
    "\n",
    "        src_pos = torch.arange(0, src.size(1)).to(device)  # [0, 1, 2 ... src.size(1)]\n",
    "        src_pos = self.src_positional_encoding(src_pos)\n",
    "        src_embedded = self.encoder_embedding(src)\n",
    "        src_embedded = self.dropout(src_pos + src_embedded)\n",
    "\n",
    "        tgt_pos = torch.arange(0, tgt.size(1)).to(device)\n",
    "        tgt_pos = self.tgt_positional_encoding(tgt_pos)\n",
    "        tgt_embedded = self.decoder_embedding(tgt)\n",
    "        tgt_embedded = self.dropout(tgt_pos + tgt_embedded)\n",
    "\n",
    "        enc_output = src_embedded\n",
    "        for enc_layer in self.encoder_layers:\n",
    "            enc_output = enc_layer(enc_output, src_mask)\n",
    "\n",
    "        dec_output = tgt_embedded\n",
    "        for dec_layer in self.decoder_layers:\n",
    "            dec_output = dec_layer(dec_output, enc_output, src_mask, tgt_mask)\n",
    "\n",
    "        # One more LayerNorm as described: https://cdn.openai.com/better-language-models/language_models_are_unsupervised_multitask_learners.pdf\n",
    "        dec_output = self.ln_f(dec_output)\n",
    "        output = self.output_layer(dec_output)\n",
    "        return output"
   ],
   "id": "1f6b502c5537500e",
   "outputs": [],
   "execution_count": 14
  },
  {
   "metadata": {
    "ExecuteTime": {
     "end_time": "2025-02-22T18:35:05.764127Z",
     "start_time": "2025-02-22T18:35:05.758671Z"
    }
   },
   "cell_type": "code",
   "source": [
    "src_vocab_size = VOCAB_SIZE\n",
    "tgt_vocab_size = VOCAB_SIZE\n",
    "d_model = 512\n",
    "num_heads = 8\n",
    "num_layers = 6\n",
    "d_ff = 2048\n",
    "max_src_seq_len = SRC_MAX_SEQ\n",
    "max_tgt_seq_len = TGT_MAX_SEQ\n",
    "dropout = 0.1"
   ],
   "id": "88b2eaebd84a3627",
   "outputs": [],
   "execution_count": 15
  },
  {
   "metadata": {
    "ExecuteTime": {
     "end_time": "2025-02-22T18:35:07.320678Z",
     "start_time": "2025-02-22T18:35:06.361072Z"
    }
   },
   "cell_type": "code",
   "source": [
    "transformer = Transformer(src_vocab_size, tgt_vocab_size, d_model, num_heads, num_layers, d_ff, max_src_seq_len,\n",
    "                          max_tgt_seq_len,\n",
    "                          dropout)\n",
    "transformer.to(device)"
   ],
   "id": "930121124b5e2e91",
   "outputs": [
    {
     "data": {
      "text/plain": [
       "Transformer(\n",
       "  (encoder_embedding): Embedding(50265, 512)\n",
       "  (decoder_embedding): Embedding(50265, 512)\n",
       "  (src_positional_encoding): Embedding(768, 512)\n",
       "  (tgt_positional_encoding): Embedding(64, 512)\n",
       "  (encoder_layers): ModuleList(\n",
       "    (0-5): 6 x EncoderLayer(\n",
       "      (self_attn): MultiHeadAttention(\n",
       "        (W_q): Linear(in_features=512, out_features=512, bias=True)\n",
       "        (W_k): Linear(in_features=512, out_features=512, bias=True)\n",
       "        (W_v): Linear(in_features=512, out_features=512, bias=True)\n",
       "        (W_o): Linear(in_features=512, out_features=512, bias=True)\n",
       "      )\n",
       "      (feed_forward): FeedForward(\n",
       "        (fc1): Linear(in_features=512, out_features=2048, bias=True)\n",
       "        (fc2): Linear(in_features=2048, out_features=512, bias=True)\n",
       "        (gelu): GELU(approximate='tanh')\n",
       "      )\n",
       "      (norm1): LayerNorm((512,), eps=1e-05, elementwise_affine=True)\n",
       "      (norm2): LayerNorm((512,), eps=1e-05, elementwise_affine=True)\n",
       "      (dropout): Dropout(p=0.1, inplace=False)\n",
       "    )\n",
       "  )\n",
       "  (decoder_layers): ModuleList(\n",
       "    (0-5): 6 x DecoderLayer(\n",
       "      (self_attn): MultiHeadAttention(\n",
       "        (W_q): Linear(in_features=512, out_features=512, bias=True)\n",
       "        (W_k): Linear(in_features=512, out_features=512, bias=True)\n",
       "        (W_v): Linear(in_features=512, out_features=512, bias=True)\n",
       "        (W_o): Linear(in_features=512, out_features=512, bias=True)\n",
       "      )\n",
       "      (cross_attn): MultiHeadAttention(\n",
       "        (W_q): Linear(in_features=512, out_features=512, bias=True)\n",
       "        (W_k): Linear(in_features=512, out_features=512, bias=True)\n",
       "        (W_v): Linear(in_features=512, out_features=512, bias=True)\n",
       "        (W_o): Linear(in_features=512, out_features=512, bias=True)\n",
       "      )\n",
       "      (feed_forward): FeedForward(\n",
       "        (fc1): Linear(in_features=512, out_features=2048, bias=True)\n",
       "        (fc2): Linear(in_features=2048, out_features=512, bias=True)\n",
       "        (gelu): GELU(approximate='tanh')\n",
       "      )\n",
       "      (norm1): LayerNorm((512,), eps=1e-05, elementwise_affine=True)\n",
       "      (norm2): LayerNorm((512,), eps=1e-05, elementwise_affine=True)\n",
       "      (norm3): LayerNorm((512,), eps=1e-05, elementwise_affine=True)\n",
       "      (dropout): Dropout(p=0.1, inplace=False)\n",
       "    )\n",
       "  )\n",
       "  (ln_f): LayerNorm((512,), eps=1e-05, elementwise_affine=True)\n",
       "  (output_layer): Linear(in_features=512, out_features=50265, bias=False)\n",
       "  (dropout): Dropout(p=0.1, inplace=False)\n",
       ")"
      ]
     },
     "execution_count": 16,
     "metadata": {},
     "output_type": "execute_result"
    }
   ],
   "execution_count": 16
  },
  {
   "metadata": {},
   "cell_type": "markdown",
   "source": "# Train model",
   "id": "a977685c1564feae"
  },
  {
   "metadata": {
    "ExecuteTime": {
     "end_time": "2025-02-22T18:35:19.199728Z",
     "start_time": "2025-02-22T18:35:08.186578Z"
    }
   },
   "cell_type": "code",
   "source": [
    "torch.manual_seed(42)\n",
    "from transformers import get_linear_schedule_with_warmup\n",
    "from torch import optim\n",
    "from tqdm import tqdm\n",
    "\n",
    "lr = 3e-4\n",
    "optimizer = optim.AdamW(transformer.parameters(), lr=lr, betas=(0.9, 0.95), eps=1e-8)\n",
    "\n",
    "num_epochs = 1\n",
    "num_training_steps = len(train_loader) * num_epochs\n",
    "num_warmup_steps = int(0.1 * num_training_steps)\n",
    "\n",
    "scheduler = get_linear_schedule_with_warmup(\n",
    "    optimizer,\n",
    "    num_warmup_steps=num_warmup_steps,\n",
    "    num_training_steps=num_training_steps\n",
    ")\n",
    "\n",
    "transformer.train()\n",
    "lr_history = []\n",
    "loss_history = []\n",
    "for epoch in range(num_epochs):\n",
    "    optimizer.zero_grad()\n",
    "    epoch_loss = 0.0\n",
    "\n",
    "    progress_bar = tqdm(train_loader, desc=f\"Epoch {epoch + 1}\")\n",
    "\n",
    "    for src_data, tgt_data in progress_bar:\n",
    "        src_data = src_data.to(device)\n",
    "        tgt_data = tgt_data.to(device)\n",
    "\n",
    "        output = transformer(src_data, tgt_data[:, :-1])\n",
    "        ### src: <s>...<\\s>,\n",
    "        ### tgt: <s>... (because shifted right so without the last one): https://discuss.pytorch.org/t/meaning-of-outputs-shifted-right/63124\n",
    "        ### loss -> output comparing to tgt shifted left: ...<s\\> (because without the first one)\n",
    "        loss = F.cross_entropy(output.contiguous().view(-1, tgt_vocab_size), tgt_data[:, 1:].contiguous().view(-1),\n",
    "                               ignore_index=tokenizer.pad_token_id)\n",
    "\n",
    "        lr_history.append(optimizer.param_groups[0]['lr'])\n",
    "        loss_history.append(loss.item())\n",
    "        epoch_loss += loss.item()\n",
    "        loss.backward()\n",
    "        torch.nn.utils.clip_grad_norm_(transformer.parameters(), 1.0)  # Prevent exploding gradients\n",
    "        optimizer.step()  # Update parameters\n",
    "\n",
    "        optimizer.zero_grad()\n",
    "        scheduler.step()\n",
    "\n",
    "        # Update progress bar with current loss\n",
    "        progress_bar.set_postfix({\"Batch Loss\": loss.item()})\n",
    "    print(f\"Epoch: {epoch + 1}, Loss: {epoch_loss / len(train_loader):.4f}\")"
   ],
   "id": "4c27c273e453e232",
   "outputs": [
    {
     "name": "stderr",
     "output_type": "stream",
     "text": [
      "Epoch 1: 100%|██████████| 1/1 [00:08<00:00,  8.91s/it, Batch Loss=11]"
     ]
    },
    {
     "name": "stdout",
     "output_type": "stream",
     "text": [
      "Epoch: 1, Loss: 11.0290\n"
     ]
    },
    {
     "name": "stderr",
     "output_type": "stream",
     "text": [
      "\n"
     ]
    }
   ],
   "execution_count": 17
  },
  {
   "metadata": {},
   "cell_type": "markdown",
   "source": "# Show charts with lr and loss",
   "id": "83ebbec4b3c21794"
  },
  {
   "metadata": {
    "ExecuteTime": {
     "end_time": "2025-02-21T19:42:03.670352Z",
     "start_time": "2025-02-21T19:42:03.439490Z"
    }
   },
   "cell_type": "code",
   "source": [
    "from matplotlib import pyplot as plt\n",
    "\n",
    "# Ensure lr_history and loss_history are lists of equal length\n",
    "assert len(lr_history) == len(loss_history), \"Length of lr_history and loss_history must be the same\"\n",
    "\n",
    "fig, ax1 = plt.subplots()\n",
    "\n",
    "# Plot Loss on primary y-axis\n",
    "ax1.set_title(\"Learning Rate vs. Loss\")\n",
    "ax1.set_xlabel(\"Training Step\")\n",
    "ax1.set_ylabel(\"Loss\", color='tab:red')\n",
    "ax1.plot(range(len(loss_history)), loss_history, color='tab:red', label='Loss')\n",
    "ax1.tick_params(axis='y', labelcolor='tab:red')\n",
    "\n",
    "# Plot Learning Rate on secondary y-axis\n",
    "ax2 = ax1.twinx()\n",
    "ax2.set_ylabel(\"Learning Rate\", color='tab:blue')\n",
    "ax2.plot(range(len(lr_history)), lr_history, color='tab:blue', linestyle='--', label='Learning Rate')\n",
    "ax2.tick_params(axis='y', labelcolor='tab:blue')\n",
    "\n",
    "# Legends\n",
    "ax1.legend(loc='upper left')\n",
    "ax2.legend(loc='upper right')\n",
    "\n",
    "plt.show()\n"
   ],
   "id": "d9ea000c71a19b90",
   "outputs": [
    {
     "data": {
      "text/plain": [
       "<Figure size 640x480 with 2 Axes>"
      ],
      "image/png": "[encoded data removed]"
     },
     "metadata": {},
     "output_type": "display_data"
    }
   ],
   "execution_count": 31
  },
  {
   "metadata": {},
   "cell_type": "markdown",
   "source": "# Calculate loss on validation data",
   "id": "c6f9c0e0e3f8a15d"
  },
  {
   "metadata": {
    "ExecuteTime": {
     "end_time": "2025-02-21T19:28:36.612993Z",
     "start_time": "2025-02-21T19:28:36.416789Z"
    }
   },
   "cell_type": "code",
   "source": [
    "transformer.eval()\n",
    "\n",
    "total_val_loss = 0.0\n",
    "\n",
    "with torch.no_grad():\n",
    "    # Use tqdm for progress bar\n",
    "    progress_bar = tqdm(val_loader, desc=\"Validating\")\n",
    "\n",
    "    for val_src_data, val_tgt_data in progress_bar:\n",
    "        # Move data to GPU\n",
    "        val_src_data, val_tgt_data = val_src_data.to(device), val_tgt_data.to(device)\n",
    "\n",
    "        # Forward pass\n",
    "        val_output = transformer(val_src_data, val_tgt_data[:, :-1])\n",
    "\n",
    "        # Calculate loss\n",
    "        val_loss = F.cross_entropy(\n",
    "            val_output.contiguous().view(-1, tgt_vocab_size),\n",
    "            val_tgt_data[:, 1:].contiguous().view(-1),\n",
    "            ignore_index=tokenizer.pad_token_id\n",
    "        )\n",
    "\n",
    "        total_val_loss += val_loss.item()\n",
    "\n",
    "        # Update progress bar with current batch loss\n",
    "        progress_bar.set_postfix({\"Batch Loss\": val_loss.item()})\n",
    "\n",
    "# Calculate average validation loss\n",
    "avg_val_loss = total_val_loss / len(val_loader)\n",
    "print(f\"Average Validation Loss: {avg_val_loss:.4f}\")"
   ],
   "id": "66ea3fdd89fb08b0",
   "outputs": [
    {
     "name": "stderr",
     "output_type": "stream",
     "text": [
      "Validating: 100%|██████████| 1/1 [00:00<00:00,  5.33it/s, Batch Loss=9.12]"
     ]
    },
    {
     "name": "stdout",
     "output_type": "stream",
     "text": [
      "Average Validation Loss: 9.1185\n"
     ]
    },
    {
     "name": "stderr",
     "output_type": "stream",
     "text": [
      "\n"
     ]
    }
   ],
   "execution_count": 25
  },
  {
   "metadata": {},
   "cell_type": "markdown",
   "source": "# Model inference",
   "id": "98b42d308d6a31e2"
  },
  {
   "metadata": {
    "ExecuteTime": {
     "end_time": "2025-02-21T19:28:38.653718Z",
     "start_time": "2025-02-21T19:28:37.673898Z"
    }
   },
   "cell_type": "code",
   "source": [
    "def generate_summary(sentence, tokenizer, model, max_length=TGT_MAX_SEQ):\n",
    "    \"\"\"\n",
    "    Translates a single Polish sentence into Ukrainian using greedy decoding.\n",
    "    \"\"\"\n",
    "    model.eval()  # Set the model to evaluation mode\n",
    "\n",
    "    # Tokenize and convert to tensor\n",
    "    tokens = tokenizer.encode(sentence)\n",
    "    tokens = torch.tensor(tokens).unsqueeze(0).to(device)  # Shape: (1, seq_len)\n",
    "    # print(tokens)\n",
    "\n",
    "    # Start with the input sentence and an empty target sequence\n",
    "    src_data = tokens\n",
    "    tgt_data = torch.tensor([tokenizer.bos_token_id]).unsqueeze(0).to(device)\n",
    "\n",
    "    with torch.no_grad():\n",
    "        for _ in range(max_length):\n",
    "            # Generate output (prediction for next token)\n",
    "            output = model(src_data, tgt_data)\n",
    "\n",
    "            # Get the last token's logits and find the token with the highest probability\n",
    "            next_token_id = output[:, -1, :].argmax(dim=-1).item()\n",
    "\n",
    "            # Append the predicted token to the target sequence\n",
    "            tgt_data = torch.cat([tgt_data, torch.tensor([[next_token_id]]).to(device)], dim=1)\n",
    "\n",
    "            # Stop if the model outputs the [SEP] token\n",
    "            if next_token_id == tokenizer.eos_token_id:\n",
    "                break\n",
    "\n",
    "    # Decode the token ids back to the sentence\n",
    "    translated_tokens = tgt_data.squeeze().tolist()\n",
    "    translated_sentence = tokenizer.decode(translated_tokens, skip_special_tokens=True)\n",
    "\n",
    "    return translated_sentence\n",
    "\n",
    "\n",
    "def inference_from_datasets(train_dataset: bool = True, index: int = 0):\n",
    "    if train_dataset:\n",
    "        dataset = train_loader.dataset\n",
    "    else:\n",
    "        dataset = val_loader.dataset\n",
    "    article = tokenizer.decode(dataset[index][0].tolist(), skip_special_tokens=True)\n",
    "    translation = generate_summary(article, tokenizer, transformer)\n",
    "\n",
    "    print('Dataset:', 'Train' if train_dataset else 'Validation')\n",
    "    print('Article:', article[:200])\n",
    "    print('Generated translation:', translation)\n",
    "    print('Real translation:', tokenizer.decode(dataset[index][1].tolist(), skip_special_tokens=True))\n",
    "\n",
    "\n",
    "inference_from_datasets(train_dataset=True, index=0)"
   ],
   "id": "bcce66b6b0763edf",
   "outputs": [
    {
     "name": "stdout",
     "output_type": "stream",
     "text": [
      "Dataset: Train\n",
      "Article: The women are too afraid and ashamed to show their faces or have their real names used. They have been driven to sell their bodies to put food on the table for their children -- for as little as $8 a \n",
      "Generated translation: Aid workers: Violence, increased cost of living drive women to prostitution .\n",
      "Group is working to raise awareness of the problem with Iraq's political leaders .\n",
      "Two Iraqi mothers tell CNN they turned to prostitution to help feed their children .\n",
      "\"Everything is for the children,\" one woman says .\n",
      "Real translation: Aid workers: Violence, increased cost of living drive women to prostitution .\n",
      "Group is working to raise awareness of the problem with Iraq's political leaders .\n",
      "Two Iraqi mothers tell CNN they turned to prostitution to help feed their children .\n",
      "\"Everything is for the children,\" one woman says .\n"
     ]
    }
   ],
   "execution_count": 26
  },
  {
   "metadata": {
    "ExecuteTime": {
     "end_time": "2025-02-21T19:28:15.830404Z",
     "start_time": "2025-02-21T19:28:15.825327Z"
    }
   },
   "cell_type": "code",
   "source": [
    "# PATH = r\"my_model_translation.pt\"\n",
    "# torch.save(transformer.state_dict(), PATH)"
   ],
   "id": "afc825fbffc59d9d",
   "outputs": [],
   "execution_count": 21
  },
  {
   "metadata": {
    "ExecuteTime": {
     "end_time": "2025-02-21T19:28:15.898792Z",
     "start_time": "2025-02-21T19:28:15.894203Z"
    }
   },
   "cell_type": "code",
   "source": [
    "# next_model = Transformer(src_vocab_size, tgt_vocab_size, d_model, num_heads, num_layers, d_ff, max_src_seq_len,\n",
    "#                          max_tgt_seq_len, dropout)\n",
    "# next_model.load_state_dict(torch.load(PATH, weights_only=True))\n",
    "# next_model = next_model.to(device)\n",
    "# # print(next_model)\n",
    "#\n",
    "# # sentence = tokenizer.decode(train_loader.dataset[0][0].tolist(), skip_special_tokens=True)\n",
    "# sentence = \"What are light beans there?\"\n",
    "# print(sentence)\n",
    "# # sentence = \"Prehistoric humans studied the relationship between the seasons and the length of days to plan their hunting and gathering activities.\"\n",
    "# translation = translate_sentence(sentence, tokenizer, next_model)\n",
    "# print(translation)"
   ],
   "id": "1e2e14dd4afcbea3",
   "outputs": [],
   "execution_count": 22
  },
  {
   "metadata": {
    "ExecuteTime": {
     "end_time": "2025-02-21T19:28:15.966080Z",
     "start_time": "2025-02-21T19:28:15.962318Z"
    }
   },
   "cell_type": "code",
   "source": "",
   "id": "53f1646dbcb8cdcd",
   "outputs": [],
   "execution_count": null
  }
 ],
 "metadata": {
  "kernelspec": {
   "display_name": "Python 3",
   "language": "python",
   "name": "python3"
  },
  "language_info": {
   "codemirror_mode": {
    "name": "ipython",
    "version": 2
   },
   "file_extension": ".py",
   "mimetype": "text/x-python",
   "name": "python",
   "nbconvert_exporter": "python",
   "pygments_lexer": "ipython2",
   "version": "2.7.6"
  }
 },
 "nbformat": 4,
 "nbformat_minor": 5
}
