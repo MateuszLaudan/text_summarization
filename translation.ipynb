{
 "cells": [
  {
   "metadata": {
    "ExecuteTime": {
     "end_time": "2025-02-20T14:25:42.117187Z",
     "start_time": "2025-02-20T14:25:39.928358Z"
    }
   },
   "cell_type": "code",
   "source": [
    "\n",
    "import torch\n",
    "import torch.nn as nn\n",
    "import torch.nn.functional as F\n",
    "import pandas as pd\n",
    "\n",
    "# Check if GPU is available\n",
    "print(f\"PyTorch version: {torch.__version__}\")\n",
    "print(f\"CUDA available: {torch.cuda.is_available()}\")\n",
    "print(f\"CUDA version: {torch.version.cuda}\")\n",
    "print(f\"GPU count: {torch.cuda.device_count()}\")\n",
    "device = \"cuda\" if torch.cuda.is_available() else \"cpu\"\n",
    "# device = 'cpu'\n",
    "print(f\"Using device: {device}\")\n",
    "\n",
    "# import os\n"
   ],
   "id": "b25e86ebe92c96ae",
   "outputs": [
    {
     "name": "stdout",
     "output_type": "stream",
     "text": [
      "PyTorch version: 2.6.0+cu126\n",
      "CUDA available: True\n",
      "CUDA version: 12.6\n",
      "GPU count: 1\n",
      "Using device: cuda\n"
     ]
    }
   ],
   "execution_count": 1
  },
  {
   "cell_type": "code",
   "id": "initial_id",
   "metadata": {
    "collapsed": true,
    "ExecuteTime": {
     "end_time": "2025-02-20T14:25:45.444098Z",
     "start_time": "2025-02-20T14:25:42.117187Z"
    }
   },
   "source": [
    "import kagglehub\n",
    "\n",
    "# Download latest version\n",
    "# path = kagglehub.dataset_download(\"xhlulu/polishukrainian-translations-from-tatoebaorg\")\n",
    "#\n",
    "# print(\"Path to dataset files:\", path)\n",
    "# path = kagglehub.dataset_download(\"dhruvildave/en-fr-translation-dataset\")\n",
    "#\n",
    "# print(\"Path to dataset files:\", path)\n",
    "from datasets import load_dataset\n",
    "\n",
    "# ds = load_dataset(\"ashokpoudel/nepali-english-translation-dataset\")\n",
    "ds = load_dataset(\"FrancophonIA/french-to-english\", split=\"train\", streaming=True)\n",
    "print(ds)"
   ],
   "outputs": [
    {
     "name": "stdout",
     "output_type": "stream",
     "text": [
      "IterableDataset({\n",
      "    features: Unknown,\n",
      "    num_shards: 1\n",
      "})\n"
     ]
    }
   ],
   "execution_count": 2
  },
  {
   "metadata": {
    "ExecuteTime": {
     "end_time": "2025-02-20T14:25:46.374445Z",
     "start_time": "2025-02-20T14:25:45.618262Z"
    }
   },
   "cell_type": "code",
   "source": [
    "# path = r'D:\\Users\\mlaudan\\.cache\\kagglehub\\datasets\\dhruvildave\\en-fr-translation-dataset\\versions\\2\\en-fr.csv'\n",
    "# file = pd.read_csv(\n",
    "#     path, nrows=10000)\n",
    "\n",
    "\n",
    "en = []\n",
    "fr = []\n",
    "i = 0\n",
    "for data in ds:\n",
    "    en.append(data['en'])\n",
    "    fr.append(data['fr'])\n",
    "    i += 1\n",
    "    if i == 10:\n",
    "        break\n",
    "\n",
    "# polish = file['text_pol'].values\n",
    "# ukrainian = file['text_ukr'].values\n",
    "# en = file['en'].values\n",
    "# fr = file['fr'].values\n",
    "print(en[:10])\n",
    "print(fr[:10])"
   ],
   "id": "a18148b6dc1234f1",
   "outputs": [
    {
     "name": "stdout",
     "output_type": "stream",
     "text": [
      "['Changing Lives | Changing Society | How It Works | Technology Drives Change Home | Concepts | Teachers | Search | Overview | Credits | HHCC Web | Reference | Feedback Virtual Museum of Canada Home Page', 'Site map', 'Feedback', 'Credits', 'Français', 'What is light ?', 'The white light spectrum Codes in the light The electromagnetic spectrum Emission spectra Absorption spectra Light-years Light pollution', 'The sky of the first inhabitants A contemporary vison of the Universe Astronomy for everyone', 'Cartoon', 'Links']\n",
      "['Il a transformé notre vie | Il a transformé la société | Son fonctionnement | La technologie, moteur du changement Accueil | Concepts | Enseignants | Recherche | Aperçu | Collaborateurs | Web HHCC | Ressources | Commentaires Musée virtuel du Canada', 'Plan du site', 'Rétroaction', 'Crédits', 'English', 'Qu’est-ce que la lumière?', 'La découverte du spectre de la lumière blanche Des codes dans la lumière Le spectre électromagnétique Les spectres d’émission Les spectres d’absorption Les années-lumière La pollution lumineuse', \"Le ciel des premiers habitants La vision contemporaine de l'Univers L’astronomie pour tous\", 'Bande dessinée', 'Liens']\n"
     ]
    }
   ],
   "execution_count": 3
  },
  {
   "metadata": {
    "ExecuteTime": {
     "end_time": "2025-02-20T14:25:48.767309Z",
     "start_time": "2025-02-20T14:25:46.380559Z"
    }
   },
   "cell_type": "code",
   "source": [
    "from transformers import BartTokenizer\n",
    "from tokenizers import Tokenizer, decoders\n",
    "from tokenizers.models import BPE\n",
    "\n",
    "# tokenizer = Tokenizer(BPE())\n",
    "#\n",
    "# from tokenizers.trainers import BpeTrainer\n",
    "#\n",
    "# trainer = BpeTrainer(special_tokens=[\"[UNK]\", \"[CLS]\", \"[SEP]\", \"[PAD]\", \"[MASK]\"])\n",
    "# tokenizer.decoder = decoders.BPEDecoder()\n",
    "# tokenizer.train(files=[\n",
    "#     path],\n",
    "#     trainer=trainer)\n",
    "\n",
    "tokenizer = BartTokenizer.from_pretrained(\"facebook/bart-large-cnn\")\n",
    "VOCAB_SIZE = tokenizer.vocab_size\n",
    "MAX_SEQ = 50\n",
    "MIN_SEQ = 10\n"
   ],
   "id": "bd29edde37c72d6c",
   "outputs": [],
   "execution_count": 4
  },
  {
   "metadata": {
    "ExecuteTime": {
     "end_time": "2025-02-20T14:25:48.792471Z",
     "start_time": "2025-02-20T14:25:48.773779Z"
    }
   },
   "cell_type": "code",
   "source": [
    "# for i, sentence in enumerate(en):\n",
    "#     print(i, sentence)\n",
    "#     tokenizer.encode(str(sentence))\n",
    "inputs = [tokenizer.encode(str(sentence)) for sentence in en]\n",
    "outputs = [tokenizer.encode(str(sentence)) for sentence in fr]\n",
    "\n",
    "\n",
    "\n",
    "\n",
    "# Function to pad sequences\n",
    "def pad_sequence(sequence, max_len, pad_id):\n",
    "    return sequence + [pad_id] * (max_len - len(sequence))\n",
    "\n",
    "\n",
    "def calculate_max_seq_len(inp_sentences, out_sentences):\n",
    "    assert len(inp_sentences) == len(out_sentences), \"Number of input and output sentences must be the same\"\n",
    "    max_seq_len = 0\n",
    "    for i in range(len(inp_sentences)):\n",
    "        if len(inp_sentences[i]) > MAX_SEQ or len(out_sentences[i]) > MAX_SEQ:\n",
    "            max_seq_len += 1\n",
    "    return max_seq_len / len(inp_sentences)\n",
    "\n",
    "\n",
    "# def clean_data(inputs, outputs):\n",
    "#     indexes = []\n",
    "#     assert len(inputs) == len(outputs), \"Number of input and output sentences must be the same\"\n",
    "\n",
    "\n",
    "# print(calculate_max_seq_len(inputs, outputs))\n",
    "# clean_data(inputs, outputs)\n",
    "\n",
    "# # Pad inputs and outputs\n",
    "inputs = [pad_sequence(seq, MAX_SEQ, tokenizer.pad_token_id) for seq in inputs]\n",
    "outputs = [pad_sequence(seq, MAX_SEQ, tokenizer.pad_token_id) for seq in outputs]\n",
    "print(inputs[0])\n",
    "print(outputs[0])\n",
    "#\n",
    "indexes = []\n",
    "for i in range(len(inputs)):\n",
    "    if len(inputs[i]) > MAX_SEQ or len(outputs[i]) > MAX_SEQ:\n",
    "        indexes.append(i)\n",
    "\n",
    "for ind in indexes:\n",
    "    inputs[ind] = inputs[ind][:MAX_SEQ]\n",
    "    outputs[ind] = outputs[ind][:MAX_SEQ]\n",
    "\n",
    "\n"
   ],
   "id": "13fddb44c3ac001c",
   "outputs": [
    {
     "name": "stdout",
     "output_type": "stream",
     "text": [
      "[0, 44818, 13409, 1721, 28382, 3930, 1721, 1336, 85, 9478, 1721, 3777, 25837, 3677, 7229, 2193, 1721, 42939, 1721, 14245, 1721, 12180, 1721, 15184, 1721, 36463, 1721, 42339, 3376, 6494, 1721, 34177, 1721, 40987, 21741, 4355, 9, 896, 2193, 7086, 2, 1, 1, 1, 1, 1, 1, 1, 1, 1]\n",
      "[0, 13693, 10, 7891, 1140, 45, 241, 748, 324, 1721, 8485, 10, 7891, 1140, 897, 17380, 118, 10221, 1140, 1721, 4969, 856, 261, 14970, 282, 6285, 1721, 1587, 23839, 8982, 324, 6, 475, 6457, 710, 4279, 24622, 6285, 5438, 1780, 718, 1721, 42939, 1721, 2271, 1090, 4932, 3277, 1721, 7382, 1843, 2871, 1721, 83, 1741, 3381, 257, 1721, 24807, 30167, 1721, 6494, 42339, 3376, 1721, 248, 3361, 39412, 1721, 14642, 25082, 5950, 9703, 36704, 8129, 4279, 896, 2]\n"
     ]
    }
   ],
   "execution_count": 5
  },
  {
   "metadata": {
    "ExecuteTime": {
     "end_time": "2025-02-20T14:25:48.806073Z",
     "start_time": "2025-02-20T14:25:48.799945Z"
    }
   },
   "cell_type": "code",
   "source": [
    "# inputs = [tokenizer.encode(f\"[CLS]{sentence}[SEP]\").tokens for sentence in en]\n",
    "# outputs = [tokenizer.encode(f\"[CLS]{sentence}[SEP]\").tokens for sentence in fr]\n",
    "#\n",
    "# MAX_SEQ = 40\n",
    "#\n",
    "#\n",
    "# # Function to pad sequences\n",
    "# def pad_sequence(sequence, max_len, pad_id):\n",
    "#     return sequence + [pad_id] * (max_len - len(sequence))\n",
    "#\n",
    "#\n",
    "# # Pad inputs and outputs\n",
    "# inputs = [pad_sequence(seq, MAX_SEQ, '[PAD]') for seq in inputs]\n",
    "# outputs = [pad_sequence(seq, MAX_SEQ, '[PAD]') for seq in outputs]\n",
    "#\n",
    "# indexes = []\n",
    "# for i in range(len(inputs)):\n",
    "#     if len(inputs[i]) > MAX_SEQ or len(outputs[i]) > MAX_SEQ:\n",
    "#         indexes.append(i)\n",
    "#\n",
    "# for ind in indexes:\n",
    "#     inputs[ind] = inputs[ind][:MAX_SEQ]\n",
    "#     outputs[ind] = outputs[ind][:MAX_SEQ]\n",
    "#\n"
   ],
   "id": "7d876cbfdd25af9c",
   "outputs": [],
   "execution_count": 6
  },
  {
   "metadata": {
    "ExecuteTime": {
     "end_time": "2025-02-20T14:25:48.825515Z",
     "start_time": "2025-02-20T14:25:48.814796Z"
    }
   },
   "cell_type": "code",
   "source": [
    "# en_sentences = []\n",
    "# fr_sentences = []\n",
    "# for sequence in inputs:\n",
    "#     ids = [tokenizer.token_to_id(token) for token in sequence]\n",
    "#     en_sentences.append(ids)\n",
    "#\n",
    "# for sequence in outputs:\n",
    "#     ids = [tokenizer.token_to_id(token) for token in sequence]\n",
    "#     fr_sentences.append(ids)\n",
    "\n",
    "en_sentences = torch.tensor(inputs)\n",
    "fr_sentences = torch.tensor(outputs)\n",
    "\n",
    "\n",
    "print('Max seq len:', MAX_SEQ)\n",
    "print('Number of sentences:', len(inputs))\n",
    "print(\"Number of vocab size:\", VOCAB_SIZE)\n"
   ],
   "id": "b871c29a18bd72e0",
   "outputs": [
    {
     "name": "stdout",
     "output_type": "stream",
     "text": [
      "Max seq len: 50\n",
      "Number of sentences: 10\n",
      "Number of vocab size: 50265\n"
     ]
    }
   ],
   "execution_count": 7
  },
  {
   "metadata": {
    "ExecuteTime": {
     "end_time": "2025-02-20T14:25:48.853091Z",
     "start_time": "2025-02-20T14:25:48.846112Z"
    }
   },
   "cell_type": "code",
   "source": [
    "from torch.utils.data import random_split, Dataset\n",
    "\n",
    "\n",
    "class CustomDataset(Dataset):\n",
    "    def __init__(self, inputs: torch.Tensor, outputs: torch.Tensor):\n",
    "        self.inputs = inputs\n",
    "        self.outputs = outputs\n",
    "\n",
    "    def __len__(self):\n",
    "        return len(self.inputs)\n",
    "\n",
    "    def __getitem__(self, idx):\n",
    "        return self.inputs[idx], self.outputs[idx]\n",
    "\n",
    "\n",
    "dataset = CustomDataset(en_sentences, fr_sentences)\n",
    "train_data, val_data = random_split(dataset, [0.8, 0.2])\n",
    "print(f\"Number of training samples: {len(train_data)}\")\n",
    "print(f\"Number of validation samples: {len(val_data)}\")"
   ],
   "id": "482d5e998d8ec790",
   "outputs": [
    {
     "name": "stdout",
     "output_type": "stream",
     "text": [
      "Number of training samples: 8\n",
      "Number of validation samples: 2\n"
     ]
    }
   ],
   "execution_count": 8
  },
  {
   "metadata": {
    "ExecuteTime": {
     "end_time": "2025-02-20T14:25:48.882203Z",
     "start_time": "2025-02-20T14:25:48.877182Z"
    }
   },
   "cell_type": "code",
   "source": [
    "from torch.utils.data import DataLoader\n",
    "\n",
    "BATCH_SIZE = 16\n",
    "\n",
    "train_loader = DataLoader(\n",
    "    train_data,\n",
    "    batch_size=BATCH_SIZE,\n",
    "    shuffle=True\n",
    ")\n",
    "\n",
    "val_loader = DataLoader(\n",
    "    val_data,\n",
    "    batch_size=BATCH_SIZE,\n",
    "    shuffle=False\n",
    ")\n",
    "\n",
    "print(f\"Number of batches in training set: {len(train_loader)}\")\n",
    "print(f\"Number of batches in validation set: {len(val_loader)}\")\n"
   ],
   "id": "cd381a10172d1af3",
   "outputs": [
    {
     "name": "stdout",
     "output_type": "stream",
     "text": [
      "Number of batches in training set: 1\n",
      "Number of batches in validation set: 1\n"
     ]
    }
   ],
   "execution_count": 9
  },
  {
   "metadata": {
    "ExecuteTime": {
     "end_time": "2025-02-20T14:25:48.915285Z",
     "start_time": "2025-02-20T14:25:48.893399Z"
    }
   },
   "cell_type": "code",
   "source": [
    "import math\n",
    "\n",
    "\n",
    "class MultiHeadAttention(nn.Module):\n",
    "    def __init__(self, d_model, num_heads):\n",
    "        super(MultiHeadAttention, self).__init__()\n",
    "        # Ensure that the model dimension (d_model) is divisible by the number of heads\n",
    "        assert d_model % num_heads == 0, \"d_model must be divisible by num_heads\"\n",
    "\n",
    "        # Initialize dimensions\n",
    "        self.d_model = d_model  # Model's dimension\n",
    "        self.num_heads = num_heads  # Number of attention heads\n",
    "        self.d_k = d_model // num_heads  # Dimension of each head's key, query, and value\n",
    "\n",
    "        # Linear layers for transforming inputs\n",
    "        self.W_q = nn.Linear(d_model, d_model)  # Query transformation\n",
    "        self.W_k = nn.Linear(d_model, d_model)  # Key transformation\n",
    "        self.W_v = nn.Linear(d_model, d_model)  # Value transformation\n",
    "        self.W_o = nn.Linear(d_model, d_model)  # Output transformation\n",
    "\n",
    "    def scaled_dot_product_attention(self, Q, K, V, mask=None):\n",
    "        # Calculate attention scores\n",
    "        attn_scores = torch.matmul(Q, K.transpose(-2, -1)) / math.sqrt(self.d_k)\n",
    "\n",
    "        # Apply mask if provided (useful for preventing attention to certain parts like padding)\n",
    "        if mask is not None:\n",
    "            attn_scores = attn_scores.masked_fill(mask == 0, -1e9)\n",
    "\n",
    "        # Softmax is applied to obtain attention probabilities\n",
    "        attn_probs = torch.softmax(attn_scores, dim=-1)\n",
    "\n",
    "        # Multiply by values to obtain the final output\n",
    "        output = torch.matmul(attn_probs, V)\n",
    "        return output\n",
    "\n",
    "    def split_heads(self, x):\n",
    "        # Reshape the input to have num_heads for multi-head attention\n",
    "        batch_size, seq_length, d_model = x.size()\n",
    "        return x.view(batch_size, seq_length, self.num_heads, self.d_k).transpose(1, 2)\n",
    "\n",
    "    def combine_heads(self, x):\n",
    "        # Combine the multiple heads back to original shape\n",
    "        batch_size, _, seq_length, d_k = x.size()\n",
    "        return x.transpose(1, 2).contiguous().view(batch_size, seq_length, self.d_model)\n",
    "\n",
    "    def forward(self, Q, K, V, mask=None):\n",
    "        # Apply linear transformations and split heads\n",
    "        Q = self.split_heads(self.W_q(Q))\n",
    "        K = self.split_heads(self.W_k(K))\n",
    "        V = self.split_heads(self.W_v(V))\n",
    "\n",
    "        # Perform scaled dot-product attention\n",
    "        attn_output = self.scaled_dot_product_attention(Q, K, V, mask)\n",
    "\n",
    "        # Combine heads and apply output transformation\n",
    "        output = self.W_o(self.combine_heads(attn_output))\n",
    "        return output"
   ],
   "id": "ef607fe7d7712cd5",
   "outputs": [],
   "execution_count": 10
  },
  {
   "metadata": {
    "ExecuteTime": {
     "end_time": "2025-02-20T14:25:48.931965Z",
     "start_time": "2025-02-20T14:25:48.926615Z"
    }
   },
   "cell_type": "code",
   "source": [
    "class PositionWiseFeedForward(nn.Module):\n",
    "    def __init__(self, d_model, d_ff):\n",
    "        super(PositionWiseFeedForward, self).__init__()\n",
    "        self.fc1 = nn.Linear(d_model, d_ff)\n",
    "        self.fc2 = nn.Linear(d_ff, d_model)\n",
    "        self.relu = nn.ReLU()\n",
    "\n",
    "    def forward(self, x):\n",
    "        return self.fc2(self.relu(self.fc1(x)))"
   ],
   "id": "5785cc712765f655",
   "outputs": [],
   "execution_count": 11
  },
  {
   "metadata": {
    "ExecuteTime": {
     "end_time": "2025-02-20T14:25:48.949309Z",
     "start_time": "2025-02-20T14:25:48.943383Z"
    }
   },
   "cell_type": "code",
   "source": [
    "\"\"\"NOTE: There is no evidence that positional encoding is better than simple learnable embeddings.\"\"\"\n",
    "\n",
    "\n",
    "class PositionalEncoding(nn.Module):\n",
    "    def __init__(self, d_model, max_seq_length):\n",
    "        super(PositionalEncoding, self).__init__()\n",
    "\n",
    "        pe = torch.zeros(max_seq_length, d_model)\n",
    "        position = torch.arange(0, max_seq_length, dtype=torch.float).unsqueeze(1)\n",
    "        div_term = torch.exp(torch.arange(0, d_model, 2).float() * -(math.log(10000.0) / d_model))\n",
    "\n",
    "        pe[:, 0::2] = torch.sin(position * div_term)\n",
    "        pe[:, 1::2] = torch.cos(position * div_term)\n",
    "\n",
    "        self.register_buffer('pe', pe.unsqueeze(0))\n",
    "\n",
    "    def forward(self, x):\n",
    "        return x + self.pe[:, :x.size(1)]"
   ],
   "id": "fe4e61c154ff8b1a",
   "outputs": [],
   "execution_count": 12
  },
  {
   "metadata": {
    "ExecuteTime": {
     "end_time": "2025-02-20T14:25:48.965895Z",
     "start_time": "2025-02-20T14:25:48.960284Z"
    }
   },
   "cell_type": "code",
   "source": [
    "class EncoderLayer(nn.Module):\n",
    "    def __init__(self, d_model, num_heads, d_ff, dropout):\n",
    "        super(EncoderLayer, self).__init__()\n",
    "        self.self_attn = MultiHeadAttention(d_model, num_heads)\n",
    "        self.feed_forward = PositionWiseFeedForward(d_model, d_ff)\n",
    "        self.norm1 = nn.LayerNorm(d_model)\n",
    "        self.norm2 = nn.LayerNorm(d_model)\n",
    "        self.dropout = nn.Dropout(dropout)\n",
    "\n",
    "    def forward(self, x, mask):\n",
    "        attn_output = self.self_attn(x, x, x, mask)\n",
    "        x = self.norm1(x + self.dropout(attn_output))\n",
    "        ff_output = self.feed_forward(x)\n",
    "        x = self.norm2(x + self.dropout(ff_output))\n",
    "        return x"
   ],
   "id": "67a0b8abf7ef1b80",
   "outputs": [],
   "execution_count": 13
  },
  {
   "metadata": {
    "ExecuteTime": {
     "end_time": "2025-02-20T14:25:48.982795Z",
     "start_time": "2025-02-20T14:25:48.976456Z"
    }
   },
   "cell_type": "code",
   "source": [
    "class DecoderLayer(nn.Module):\n",
    "    def __init__(self, d_model, num_heads, d_ff, dropout):\n",
    "        super(DecoderLayer, self).__init__()\n",
    "        self.self_attn = MultiHeadAttention(d_model, num_heads)\n",
    "        self.cross_attn = MultiHeadAttention(d_model, num_heads)\n",
    "        self.feed_forward = PositionWiseFeedForward(d_model, d_ff)\n",
    "        self.norm1 = nn.LayerNorm(d_model)\n",
    "        self.norm2 = nn.LayerNorm(d_model)\n",
    "        self.norm3 = nn.LayerNorm(d_model)\n",
    "        self.dropout = nn.Dropout(dropout)\n",
    "\n",
    "    def forward(self, x, enc_output, src_mask, tgt_mask):\n",
    "        attn_output = self.self_attn(x, x, x, tgt_mask)\n",
    "        x = self.norm1(x + self.dropout(attn_output))\n",
    "        attn_output = self.cross_attn(x, enc_output, enc_output, src_mask)\n",
    "        x = self.norm2(x + self.dropout(attn_output))\n",
    "        ff_output = self.feed_forward(x)\n",
    "        x = self.norm3(x + self.dropout(ff_output))\n",
    "        return x"
   ],
   "id": "13f775b689e91e6e",
   "outputs": [],
   "execution_count": 14
  },
  {
   "metadata": {
    "ExecuteTime": {
     "end_time": "2025-02-20T14:25:49.002048Z",
     "start_time": "2025-02-20T14:25:48.993543Z"
    }
   },
   "cell_type": "code",
   "source": [
    "import sys\n",
    "\n",
    "\n",
    "class Transformer(nn.Module):\n",
    "    def __init__(self, src_vocab_size, tgt_vocab_size, d_model, num_heads, num_layers, d_ff, max_seq_length, dropout):\n",
    "        super(Transformer, self).__init__()\n",
    "        self.encoder_embedding = nn.Embedding(src_vocab_size, d_model)\n",
    "        self.decoder_embedding = nn.Embedding(tgt_vocab_size, d_model)\n",
    "        self.positional_encoding = PositionalEncoding(d_model, max_seq_length)\n",
    "\n",
    "        self.encoder_layers = nn.ModuleList(\n",
    "            [EncoderLayer(d_model, num_heads, d_ff, dropout) for _ in range(num_layers)])\n",
    "        self.decoder_layers = nn.ModuleList(\n",
    "            [DecoderLayer(d_model, num_heads, d_ff, dropout) for _ in range(num_layers)])\n",
    "\n",
    "        self.fc = nn.Linear(d_model, tgt_vocab_size)\n",
    "        self.dropout = nn.Dropout(dropout)\n",
    "\n",
    "    def generate_mask(self, src, tgt):\n",
    "        src_mask = (src != tokenizer.pad_token_id).unsqueeze(1).unsqueeze(2)\n",
    "        tgt_mask = (tgt != tokenizer.pad_token_id).unsqueeze(1).unsqueeze(3)\n",
    "        src_mask, tgt_mask = src_mask.to(device), tgt_mask.to(device)\n",
    "        seq_length = tgt.size(1)\n",
    "        nopeak_mask = (1 - torch.triu(torch.ones(1, seq_length, seq_length), diagonal=1)).bool()\n",
    "        nopeak_mask = nopeak_mask.to(device)\n",
    "        tgt_mask = tgt_mask & nopeak_mask\n",
    "        return src_mask, tgt_mask\n",
    "\n",
    "    def forward(self, src, tgt):\n",
    "        src_mask, tgt_mask = self.generate_mask(src, tgt)\n",
    "        src_embedded = self.dropout(self.positional_encoding(self.encoder_embedding(src)))\n",
    "        tgt_embedded = self.dropout(self.positional_encoding(self.decoder_embedding(tgt)))\n",
    "\n",
    "        enc_output = src_embedded\n",
    "        for enc_layer in self.encoder_layers:\n",
    "            enc_output = enc_layer(enc_output, src_mask)\n",
    "\n",
    "        dec_output = tgt_embedded\n",
    "        for dec_layer in self.decoder_layers:\n",
    "            dec_output = dec_layer(dec_output, enc_output, src_mask, tgt_mask)\n",
    "\n",
    "        output = self.fc(dec_output)\n",
    "        return output"
   ],
   "id": "1f6b502c5537500e",
   "outputs": [],
   "execution_count": 15
  },
  {
   "metadata": {
    "ExecuteTime": {
     "end_time": "2025-02-20T14:25:49.017552Z",
     "start_time": "2025-02-20T14:25:49.012883Z"
    }
   },
   "cell_type": "code",
   "source": [
    "src_vocab_size = VOCAB_SIZE\n",
    "tgt_vocab_size = VOCAB_SIZE\n",
    "d_model = 512\n",
    "num_heads = 8\n",
    "num_layers = 6\n",
    "d_ff = 2048\n",
    "max_seq_length = MAX_SEQ\n",
    "dropout = 0.2"
   ],
   "id": "88b2eaebd84a3627",
   "outputs": [],
   "execution_count": 16
  },
  {
   "metadata": {
    "ExecuteTime": {
     "end_time": "2025-02-20T14:25:50.004598Z",
     "start_time": "2025-02-20T14:25:49.028336Z"
    }
   },
   "cell_type": "code",
   "source": [
    "transformer = Transformer(src_vocab_size, tgt_vocab_size, d_model, num_heads, num_layers, d_ff, max_seq_length, dropout)\n",
    "transformer.to(device)"
   ],
   "id": "930121124b5e2e91",
   "outputs": [
    {
     "data": {
      "text/plain": [
       "Transformer(\n",
       "  (encoder_embedding): Embedding(50265, 512)\n",
       "  (decoder_embedding): Embedding(50265, 512)\n",
       "  (positional_encoding): PositionalEncoding()\n",
       "  (encoder_layers): ModuleList(\n",
       "    (0-5): 6 x EncoderLayer(\n",
       "      (self_attn): MultiHeadAttention(\n",
       "        (W_q): Linear(in_features=512, out_features=512, bias=True)\n",
       "        (W_k): Linear(in_features=512, out_features=512, bias=True)\n",
       "        (W_v): Linear(in_features=512, out_features=512, bias=True)\n",
       "        (W_o): Linear(in_features=512, out_features=512, bias=True)\n",
       "      )\n",
       "      (feed_forward): PositionWiseFeedForward(\n",
       "        (fc1): Linear(in_features=512, out_features=2048, bias=True)\n",
       "        (fc2): Linear(in_features=2048, out_features=512, bias=True)\n",
       "        (relu): ReLU()\n",
       "      )\n",
       "      (norm1): LayerNorm((512,), eps=1e-05, elementwise_affine=True)\n",
       "      (norm2): LayerNorm((512,), eps=1e-05, elementwise_affine=True)\n",
       "      (dropout): Dropout(p=0.2, inplace=False)\n",
       "    )\n",
       "  )\n",
       "  (decoder_layers): ModuleList(\n",
       "    (0-5): 6 x DecoderLayer(\n",
       "      (self_attn): MultiHeadAttention(\n",
       "        (W_q): Linear(in_features=512, out_features=512, bias=True)\n",
       "        (W_k): Linear(in_features=512, out_features=512, bias=True)\n",
       "        (W_v): Linear(in_features=512, out_features=512, bias=True)\n",
       "        (W_o): Linear(in_features=512, out_features=512, bias=True)\n",
       "      )\n",
       "      (cross_attn): MultiHeadAttention(\n",
       "        (W_q): Linear(in_features=512, out_features=512, bias=True)\n",
       "        (W_k): Linear(in_features=512, out_features=512, bias=True)\n",
       "        (W_v): Linear(in_features=512, out_features=512, bias=True)\n",
       "        (W_o): Linear(in_features=512, out_features=512, bias=True)\n",
       "      )\n",
       "      (feed_forward): PositionWiseFeedForward(\n",
       "        (fc1): Linear(in_features=512, out_features=2048, bias=True)\n",
       "        (fc2): Linear(in_features=2048, out_features=512, bias=True)\n",
       "        (relu): ReLU()\n",
       "      )\n",
       "      (norm1): LayerNorm((512,), eps=1e-05, elementwise_affine=True)\n",
       "      (norm2): LayerNorm((512,), eps=1e-05, elementwise_affine=True)\n",
       "      (norm3): LayerNorm((512,), eps=1e-05, elementwise_affine=True)\n",
       "      (dropout): Dropout(p=0.2, inplace=False)\n",
       "    )\n",
       "  )\n",
       "  (fc): Linear(in_features=512, out_features=50265, bias=True)\n",
       "  (dropout): Dropout(p=0.2, inplace=False)\n",
       ")"
      ]
     },
     "execution_count": 17,
     "metadata": {},
     "output_type": "execute_result"
    }
   ],
   "execution_count": 17
  },
  {
   "metadata": {
    "ExecuteTime": {
     "end_time": "2025-02-20T14:25:50.379289Z",
     "start_time": "2025-02-20T14:25:50.029204Z"
    }
   },
   "cell_type": "code",
   "source": [
    "torch.manual_seed(42)\n",
    "from transformers import get_linear_schedule_with_warmup\n",
    "from torch import optim\n",
    "from tqdm import tqdm\n",
    "\n",
    "lr = 3e-4\n",
    "optimizer = optim.AdamW(transformer.parameters(), lr=lr, betas=(0.9, 0.95), eps=1e-8)\n",
    "\n",
    "num_epochs = 1\n",
    "num_training_steps = len(train_loader) * num_epochs\n",
    "num_warmup_steps = int(0.1 * num_training_steps)\n",
    "\n",
    "scheduler = get_linear_schedule_with_warmup(\n",
    "    optimizer,\n",
    "    num_warmup_steps=num_warmup_steps,\n",
    "    num_training_steps=num_training_steps\n",
    ")\n",
    "\n",
    "transformer.train()\n",
    "lr_history = []\n",
    "loss_history = []\n",
    "i = 0\n",
    "for epoch in range(num_epochs):\n",
    "    optimizer.zero_grad()\n",
    "    epoch_loss = 0.0\n",
    "\n",
    "    progress_bar = tqdm(train_loader, desc=f\"Epoch {epoch + 1}\")\n",
    "\n",
    "    for src_data, tgt_data in progress_bar:\n",
    "        src_data = src_data.to(device)\n",
    "        tgt_data = tgt_data.to(device)\n",
    "        # print(tokenizer.decode_batch(src_data.tolist()))\n",
    "        output = transformer(src_data, tgt_data[:, :-1])\n",
    "        loss = F.cross_entropy(output.contiguous().view(-1, tgt_vocab_size), tgt_data[:, 1:].contiguous().view(-1),\n",
    "                               ignore_index=tokenizer.pad_token_id)\n",
    "        lr_history.append(optimizer.param_groups[0]['lr'])\n",
    "        loss_history.append(loss.item())\n",
    "        epoch_loss += loss.item()\n",
    "        loss.backward()\n",
    "        torch.nn.utils.clip_grad_norm_(transformer.parameters(), 1.0)  # Prevent exploding gradients\n",
    "        optimizer.step()\n",
    "\n",
    "        optimizer.zero_grad()\n",
    "        scheduler.step()\n",
    "        # i += 1\n",
    "        # if i == 100:\n",
    "        #     break\n",
    "\n",
    "        # Update progress bar with current loss\n",
    "        progress_bar.set_postfix({\"Batch Loss\": loss.item()})\n",
    "    print(f\"Epoch: {epoch + 1}, Loss: {epoch_loss / len(train_loader):.4f}\")"
   ],
   "id": "4c27c273e453e232",
   "outputs": [
    {
     "name": "stderr",
     "output_type": "stream",
     "text": [
      "Epoch 1: 100%|██████████| 1/1 [00:00<00:00,  3.37it/s, Batch Loss=11.1]"
     ]
    },
    {
     "name": "stdout",
     "output_type": "stream",
     "text": [
      "Epoch: 1, Loss: 11.0501\n"
     ]
    },
    {
     "name": "stderr",
     "output_type": "stream",
     "text": [
      "\n"
     ]
    }
   ],
   "execution_count": 18
  },
  {
   "metadata": {
    "ExecuteTime": {
     "end_time": "2025-02-20T14:25:50.912050Z",
     "start_time": "2025-02-20T14:25:50.394917Z"
    }
   },
   "cell_type": "code",
   "source": [
    "from matplotlib import pyplot as plt\n",
    "\n",
    "# Ensure lr_history and loss_history are lists of equal length\n",
    "assert len(lr_history) == len(loss_history), \"Length of lr_history and loss_history must be the same\"\n",
    "\n",
    "fig, ax1 = plt.subplots()\n",
    "\n",
    "# Plot Loss on primary y-axis\n",
    "ax1.set_title(\"Learning Rate vs. Loss\")\n",
    "ax1.set_xlabel(\"Training Step\")\n",
    "ax1.set_ylabel(\"Loss\", color='tab:red')\n",
    "ax1.plot(range(len(loss_history)), loss_history, color='tab:red', label='Loss')\n",
    "ax1.tick_params(axis='y', labelcolor='tab:red')\n",
    "\n",
    "# Plot Learning Rate on secondary y-axis\n",
    "ax2 = ax1.twinx()\n",
    "ax2.set_ylabel(\"Learning Rate\", color='tab:blue')\n",
    "ax2.plot(range(len(lr_history)), lr_history, color='tab:blue', linestyle='--', label='Learning Rate')\n",
    "ax2.tick_params(axis='y', labelcolor='tab:blue')\n",
    "\n",
    "# Legends\n",
    "ax1.legend(loc='upper left')\n",
    "ax2.legend(loc='upper right')\n",
    "\n",
    "plt.show()\n"
   ],
   "id": "d9ea000c71a19b90",
   "outputs": [
    {
     "data": {
      "text/plain": [
       "<Figure size 640x480 with 2 Axes>"
      ],
      "image/png": "[encoded data removed]"
     },
     "metadata": {},
     "output_type": "display_data"
    }
   ],
   "execution_count": 19
  },
  {
   "metadata": {
    "ExecuteTime": {
     "end_time": "2025-02-20T14:25:51.025484Z",
     "start_time": "2025-02-20T14:25:51.002323Z"
    }
   },
   "cell_type": "code",
   "source": [
    "transformer.eval()\n",
    "\n",
    "total_val_loss = 0.0\n",
    "\n",
    "with torch.no_grad():\n",
    "    # Use tqdm for progress bar\n",
    "    progress_bar = tqdm(val_loader, desc=\"Validating\")\n",
    "\n",
    "    for val_src_data, val_tgt_data in progress_bar:\n",
    "        # Move data to GPU\n",
    "        val_src_data, val_tgt_data = val_src_data.to(device), val_tgt_data.to(device)\n",
    "\n",
    "        # Forward pass\n",
    "        val_output = transformer(val_src_data, val_tgt_data[:, :-1])\n",
    "\n",
    "        # Calculate loss\n",
    "        val_loss = F.cross_entropy(\n",
    "            val_output.contiguous().view(-1, tgt_vocab_size),\n",
    "            val_tgt_data[:, 1:].contiguous().view(-1),\n",
    "            ignore_index=tokenizer.pad_token_id\n",
    "        )\n",
    "\n",
    "        total_val_loss += val_loss.item()\n",
    "\n",
    "        # Update progress bar with current batch loss\n",
    "        progress_bar.set_postfix({\"Batch Loss\": val_loss.item()})\n",
    "\n",
    "# Calculate average validation loss\n",
    "avg_val_loss = total_val_loss / len(val_loader)\n",
    "print(f\"Average Validation Loss: {avg_val_loss:.4f}\")"
   ],
   "id": "66ea3fdd89fb08b0",
   "outputs": [
    {
     "name": "stderr",
     "output_type": "stream",
     "text": [
      "Validating: 100%|██████████| 1/1 [00:00<00:00, 63.99it/s, Batch Loss=10.7]"
     ]
    },
    {
     "name": "stdout",
     "output_type": "stream",
     "text": [
      "Average Validation Loss: 10.6938\n"
     ]
    },
    {
     "name": "stderr",
     "output_type": "stream",
     "text": [
      "\n"
     ]
    }
   ],
   "execution_count": 20
  },
  {
   "metadata": {
    "ExecuteTime": {
     "end_time": "2025-02-20T14:25:51.138254Z",
     "start_time": "2025-02-20T14:25:51.103439Z"
    }
   },
   "cell_type": "code",
   "source": [
    "def translate_sentence(sentence, tokenizer, model, max_length=MAX_SEQ):\n",
    "    \"\"\"\n",
    "    Translates a single Polish sentence into Ukrainian using greedy decoding.\n",
    "    \"\"\"\n",
    "    model.eval()  # Set the model to evaluation mode\n",
    "\n",
    "    # Tokenize and convert to tensor\n",
    "    tokens = tokenizer.encode(sentence)\n",
    "    tokens = torch.tensor(tokens).unsqueeze(0).to(device)  # Shape: (1, seq_len)\n",
    "    print(tokens)\n",
    "\n",
    "    # Start with the input sentence and an empty target sequence\n",
    "    src_data = tokens\n",
    "    tgt_data = torch.tensor([tokenizer.bos_token_id]).unsqueeze(0).to(device)\n",
    "\n",
    "    with torch.no_grad():\n",
    "        for _ in range(max_length):\n",
    "            # Generate output (prediction for next token)\n",
    "            output = model(src_data, tgt_data)\n",
    "\n",
    "            # Get the last token's logits and find the token with the highest probability\n",
    "            next_token_id = output[:, -1, :].argmax(dim=-1).item()\n",
    "\n",
    "            # Append the predicted token to the target sequence\n",
    "            tgt_data = torch.cat([tgt_data, torch.tensor([[next_token_id]]).to(device)], dim=1)\n",
    "\n",
    "            # Stop if the model outputs the [SEP] token\n",
    "            if next_token_id == tokenizer.eos_token_id:\n",
    "                break\n",
    "\n",
    "    # Decode the token ids back to the sentence\n",
    "    translated_tokens = tgt_data.squeeze().tolist()\n",
    "    translated_sentence = tokenizer.decode(translated_tokens, skip_special_tokens=True)\n",
    "\n",
    "    return translated_sentence\n",
    "\n",
    "\n",
    "sentence = tokenizer.decode(train_loader.dataset[0][0].tolist(), skip_special_tokens=True)\n",
    "# sentence = \"It also holds a share of the world's exports of beans\"\n",
    "print(sentence)\n",
    "# sentence = \"Prehistoric humans studied the relationship between the seasons and the length of days to plan their hunting and gathering activities.\"\n",
    "translation = translate_sentence(sentence, tokenizer, transformer)\n",
    "print(translation)"
   ],
   "id": "bcce66b6b0763edf",
   "outputs": [
    {
     "name": "stdout",
     "output_type": "stream",
     "text": [
      "Site map\n",
      "tensor([[    0, 40122,  5456,     2]], device='cuda:0')\n",
      "\n"
     ]
    }
   ],
   "execution_count": 21
  },
  {
   "metadata": {
    "ExecuteTime": {
     "end_time": "2025-02-20T14:27:34.881730Z",
     "start_time": "2025-02-20T14:27:34.877128Z"
    }
   },
   "cell_type": "code",
   "source": [
    "PATH = r\"my_model_translation.pt\"\n",
    "# torch.save(transformer.state_dict(), PATH)"
   ],
   "id": "afc825fbffc59d9d",
   "outputs": [],
   "execution_count": 27
  },
  {
   "metadata": {
    "ExecuteTime": {
     "end_time": "2025-02-20T14:29:58.033119Z",
     "start_time": "2025-02-20T14:29:56.408633Z"
    }
   },
   "cell_type": "code",
   "source": [
    "next_model= Transformer(src_vocab_size, tgt_vocab_size, d_model, num_heads, num_layers, d_ff, max_seq_length, dropout)\n",
    "next_model.load_state_dict(torch.load(PATH, weights_only=True))\n",
    "next_model = next_model.to(device)\n",
    "# print(next_model)\n",
    "\n",
    "# sentence = tokenizer.decode(train_loader.dataset[0][0].tolist(), skip_special_tokens=True)\n",
    "sentence = \"They are very polite.\"\n",
    "print(sentence)\n",
    "# sentence = \"Prehistoric humans studied the relationship between the seasons and the length of days to plan their hunting and gathering activities.\"\n",
    "translation = translate_sentence(sentence, tokenizer, next_model)\n",
    "print(translation)"
   ],
   "id": "1e2e14dd4afcbea3",
   "outputs": [
    {
     "name": "stdout",
     "output_type": "stream",
     "text": [
      "They are very polite.\n",
      "tensor([[    0,  1213,    32,   182, 24908,     4,     2]], device='cuda:0')\n",
      "Ils sont très soucieux de leur séjour.\n"
     ]
    }
   ],
   "execution_count": 36
  },
  {
   "metadata": {
    "ExecuteTime": {
     "end_time": "2025-02-20T14:25:52.753536Z",
     "start_time": "2025-02-20T14:25:52.750167Z"
    }
   },
   "cell_type": "code",
   "source": "",
   "id": "53f1646dbcb8cdcd",
   "outputs": [],
   "execution_count": null
  }
 ],
 "metadata": {
  "kernelspec": {
   "display_name": "Python 3",
   "language": "python",
   "name": "python3"
  },
  "language_info": {
   "codemirror_mode": {
    "name": "ipython",
    "version": 2
   },
   "file_extension": ".py",
   "mimetype": "text/x-python",
   "name": "python",
   "nbconvert_exporter": "python",
   "pygments_lexer": "ipython2",
   "version": "2.7.6"
  }
 },
 "nbformat": 4,
 "nbformat_minor": 5
}
