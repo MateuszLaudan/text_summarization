{
 "cells": [
  {
   "cell_type": "markdown",
   "id": "42235b27f740c1d2",
   "metadata": {},
   "source": [
    "<!-- # Summarization model -->"
   ]
  },
  {
   "cell_type": "code",
   "execution_count": 1,
   "id": "b25e86ebe92c96ae",
   "metadata": {
    "ExecuteTime": {
     "end_time": "2025-03-14T14:00:53.535200Z",
     "start_time": "2025-03-14T14:00:51.569674Z"
    },
    "trusted": true
   },
   "outputs": [
    {
     "name": "stdout",
     "output_type": "stream",
     "text": [
      "PyTorch version: 2.6.0+cu126\n",
      "CUDA available: True\n",
      "CUDA version: 12.6\n",
      "GPU count: 1\n",
      "Using device: cuda\n"
     ]
    }
   ],
   "source": [
    "\n",
    "import torch\n",
    "import torch.nn as nn\n",
    "import json\n",
    "\n",
    "seed = 42\n",
    "torch.manual_seed(seed)  # PyTorch CPU\n",
    "torch.cuda.manual_seed(seed)  # PyTorch GPU\n",
    "torch.cuda.manual_seed_all(seed)  # Multi-GPU\n",
    "\n",
    "# Check if GPU is available\n",
    "print(f\"PyTorch version: {torch.__version__}\")\n",
    "print(f\"CUDA available: {torch.cuda.is_available()}\")\n",
    "print(f\"CUDA version: {torch.version.cuda}\")\n",
    "print(f\"GPU count: {torch.cuda.device_count()}\")\n",
    "device = \"cuda\" if torch.cuda.is_available() else \"cpu\"\n",
    "# device = 'cpu'\n",
    "print(f\"Using device: {device}\")\n",
    "\n",
    "# import os\n"
   ]
  },
  {
   "cell_type": "markdown",
   "id": "a446025fac5ce2dc",
   "metadata": {},
   "source": [
    "# Load dataset"
   ]
  },
  {
   "cell_type": "code",
   "execution_count": 2,
   "id": "initial_id",
   "metadata": {
    "ExecuteTime": {
     "end_time": "2025-03-14T14:00:57.360280Z",
     "start_time": "2025-03-14T14:00:53.535200Z"
    },
    "trusted": true
   },
   "outputs": [
    {
     "name": "stdout",
     "output_type": "stream",
     "text": [
      "IterableDataset({\n",
      "    features: Unknown,\n",
      "    num_shards: 1\n",
      "})\n"
     ]
    }
   ],
   "source": [
    "\n",
    "from datasets import load_dataset\n",
    "\n",
    "ds = load_dataset(\"FrancophonIA/french-to-english\", split=\"train\", streaming=True)\n",
    "print(ds)"
   ]
  },
  {
   "cell_type": "markdown",
   "id": "b63c8a35c64f0a7d",
   "metadata": {},
   "source": [
    "# Get Tokenizer - BartTokenizer with 50265 vocab size"
   ]
  },
  {
   "cell_type": "code",
   "execution_count": 3,
   "id": "bd29edde37c72d6c",
   "metadata": {
    "ExecuteTime": {
     "end_time": "2025-03-14T14:01:05.976725Z",
     "start_time": "2025-03-14T14:01:03.601837Z"
    },
    "trusted": true
   },
   "outputs": [],
   "source": [
    "from transformers import BartTokenizer\n",
    "\n",
    "tokenizer = BartTokenizer.from_pretrained(\"facebook/bart-large-cnn\")\n",
    "VOCAB_SIZE = tokenizer.vocab_size\n",
    "\n",
    "SRC_MAX_SEQ = 50\n",
    "TGT_MAX_SEQ = 50\n",
    "max_examples = 600000"
   ]
  },
  {
   "cell_type": "markdown",
   "id": "87b02503926cda8a",
   "metadata": {},
   "source": [
    "# Prepare data - save data"
   ]
  },
  {
   "cell_type": "code",
   "execution_count": 4,
   "id": "a9947aa4",
   "metadata": {},
   "outputs": [
    {
     "name": "stderr",
     "output_type": "stream",
     "text": [
      "Device set to use cuda\n"
     ]
    }
   ],
   "source": [
    "from transformers import pipeline\n",
    "\n",
    "model_ckpt = \"papluca/xlm-roberta-base-language-detection\"\n",
    "pipe = pipeline(\"text-classification\", model=model_ckpt, device=device)"
   ]
  },
  {
   "cell_type": "code",
   "execution_count": null,
   "id": "a18148b6dc1234f1",
   "metadata": {
    "ExecuteTime": {
     "end_time": "2025-03-14T14:01:03.594626Z",
     "start_time": "2025-03-14T14:00:57.522389Z"
    },
    "trusted": true
   },
   "outputs": [],
   "source": [
    "\n",
    "# inputs = []\n",
    "# outputs = []\n",
    "# i = 0\n",
    "# for data in ds:\n",
    "#     src_sentence = tokenizer.encode(str(data['en']))\n",
    "#     tgt_sentence = tokenizer.encode(str(data['fr']))\n",
    "#     if len(src_sentence) <= SRC_MAX_SEQ and len(tgt_sentence) <= TGT_MAX_SEQ:\n",
    "#         try:\n",
    "#             if not data.get('fr') or not isinstance(data['fr'], str):\n",
    "#                 continue  # Skip invalid entries\n",
    "#             else:\n",
    "#                 res = pipe(data['fr'], top_k=1, truncation=True)[0]['label']\n",
    "#                 if res == 'fr':       \n",
    "#                     inputs.append(src_sentence)\n",
    "#                     outputs.append(tgt_sentence)\n",
    "#                     i += 1\n",
    "#         except Exception as e:\n",
    "#             print(f\"Error {e}\")\n",
    "#             continue       \n",
    "#     if i == max_examples:\n",
    "#         break\n",
    "# # Save as JSON\n",
    "# with open('tokenized_data.json', 'w') as f:\n",
    "#     json.dump({'inputs': inputs, 'outputs': outputs}, f)"
   ]
  },
  {
   "cell_type": "markdown",
   "id": "7082ee82",
   "metadata": {},
   "source": [
    "# Load data"
   ]
  },
  {
   "cell_type": "code",
   "execution_count": 6,
   "id": "4a4b403a",
   "metadata": {},
   "outputs": [
    {
     "name": "stdout",
     "output_type": "stream",
     "text": [
      "600000 600000\n"
     ]
    }
   ],
   "source": [
    "inputs = []\n",
    "outputs = []\n",
    "\n",
    "with open('tokenized_data.json', 'r') as f:\n",
    "    data = json.load(f)\n",
    "    inputs = data['inputs'][:max_examples]\n",
    "    outputs = data['outputs'][:max_examples]\n",
    "print(len(inputs), len(outputs))\n",
    "# for inp, out in zip(inputs, outputs):\n",
    "#     out = tokenizer.decode(out, skip_special_tokens=True)\n",
    "#     inp = tokenizer.decode(inp, skip_special_tokens=True)\n",
    "#     # print(inp)\n",
    "#     # print(out)\n",
    "#     # print()\n",
    "#     res = pipe(out, top_k=1, truncation=True)[0]['label']\n",
    "#     if res != 'fr':\n",
    "#         print(res, out)"
   ]
  },
  {
   "cell_type": "markdown",
   "id": "758e78e09478c0da",
   "metadata": {},
   "source": [
    "# Clean data"
   ]
  },
  {
   "cell_type": "code",
   "execution_count": 7,
   "id": "13fddb44c3ac001c",
   "metadata": {
    "ExecuteTime": {
     "end_time": "2025-03-14T14:02:36.204862Z",
     "start_time": "2025-03-14T14:01:05.982943Z"
    },
    "trusted": true
   },
   "outputs": [],
   "source": [
    "\"\"\"To set determined len for src and tgt --> also with pad tokens\"\"\"\n",
    "\n",
    "\n",
    "def clean_data(sentences, max_seq_length):\n",
    "    for i, sentence in enumerate(sentences):\n",
    "        if len(sentence) < max_seq_length:\n",
    "            sentences[i] = sentence + [tokenizer.pad_token_id] * (max_seq_length - len(sentence))\n",
    "\n",
    "\n",
    "clean_data(inputs, SRC_MAX_SEQ)\n",
    "clean_data(outputs, TGT_MAX_SEQ)"
   ]
  },
  {
   "cell_type": "code",
   "execution_count": 8,
   "id": "6a144e28",
   "metadata": {},
   "outputs": [
    {
     "name": "stdout",
     "output_type": "stream",
     "text": [
      "Site map ###### Plan du site\n",
      "Feedback ###### Rétroaction\n",
      "Credits ###### Crédits\n",
      "What is light ? ###### Qu’est-ce que la lumière?\n",
      "The sky of the first inhabitants A contemporary vison of the Universe Astronomy for everyone ###### Le ciel des premiers habitants La vision contemporaine de l'Univers L’astronomie pour tous\n",
      "Cartoon ###### Bande dessinée\n",
      "Astronomers Introduction Introduction video What is Astronomy? ###### Astronomes Introduction Vidéo d'introduction Qu'est-ce que l'astronomie?\n",
      "The name is derived from the Greek root astron for star, and nomos for arrangement or law. ###### Son nom vient du grec astron, qui veut dire étoile et nomos, qui veut dire loi.\n",
      "It prompts us to ask the deepest existential questions: ###### L'astronomie évoque donc aussi les grandes questions « existentielles » :\n",
      "Who are we? ###### Où sommes-nous?\n",
      "Where did we come from? ###### D'où venons-nous?\n"
     ]
    }
   ],
   "source": [
    "for step, (inp, out) in enumerate(zip(inputs, outputs)):\n",
    "    print(tokenizer.decode(inp, skip_special_tokens=True), '######', tokenizer.decode(out, skip_special_tokens=True))\n",
    "    if step == 10:\n",
    "        break"
   ]
  },
  {
   "cell_type": "code",
   "execution_count": 9,
   "id": "b871c29a18bd72e0",
   "metadata": {
    "ExecuteTime": {
     "end_time": "2025-03-14T14:02:36.786438Z",
     "start_time": "2025-03-14T14:02:36.229746Z"
    },
    "trusted": true
   },
   "outputs": [
    {
     "name": "stdout",
     "output_type": "stream",
     "text": [
      "Max src seq len: 50\n",
      "Max tgt seq len: 50\n",
      "Number of examples: 600000\n",
      "Number of vocab size: 50265\n"
     ]
    }
   ],
   "source": [
    "inputs = torch.tensor(inputs)\n",
    "targets = torch.tensor(outputs)\n",
    "assert len(inputs) == len(targets), \"Number of articles and summaries must be the same\"\n",
    "print('Max src seq len:', SRC_MAX_SEQ)\n",
    "print('Max tgt seq len:', TGT_MAX_SEQ)\n",
    "print('Number of examples:', len(inputs))\n",
    "print(\"Number of vocab size:\", VOCAB_SIZE)"
   ]
  },
  {
   "cell_type": "markdown",
   "id": "d5f9a69697ca4da7",
   "metadata": {},
   "source": [
    "# Custom Dataset and DataLoader with train and val data (80%, 20%)"
   ]
  },
  {
   "cell_type": "code",
   "execution_count": 10,
   "id": "482d5e998d8ec790",
   "metadata": {
    "ExecuteTime": {
     "end_time": "2025-03-14T14:02:36.816089Z",
     "start_time": "2025-03-14T14:02:36.800441Z"
    },
    "trusted": true
   },
   "outputs": [
    {
     "name": "stdout",
     "output_type": "stream",
     "text": [
      "Number of training samples: 480000\n",
      "Number of validation samples: 120000\n"
     ]
    }
   ],
   "source": [
    "from torch.utils.data import random_split, Dataset\n",
    "\n",
    "\n",
    "class CustomDataset(Dataset):\n",
    "    def __init__(self, inputs: torch.Tensor, outputs: torch.Tensor):\n",
    "        self.inputs = inputs\n",
    "        self.outputs = outputs\n",
    "\n",
    "    def __len__(self):\n",
    "        return len(self.inputs)\n",
    "\n",
    "    def __getitem__(self, idx):\n",
    "        return self.inputs[idx], self.outputs[idx]\n",
    "\n",
    "\n",
    "dataset = CustomDataset(inputs, targets)\n",
    "train_data, val_data = random_split(dataset, [0.8, 0.2])\n",
    "print(f\"Number of training samples: {len(train_data)}\")\n",
    "print(f\"Number of validation samples: {len(val_data)}\")"
   ]
  },
  {
   "cell_type": "code",
   "execution_count": 11,
   "id": "cd381a10172d1af3",
   "metadata": {
    "ExecuteTime": {
     "end_time": "2025-03-14T14:02:36.832311Z",
     "start_time": "2025-03-14T14:02:36.825793Z"
    },
    "trusted": true
   },
   "outputs": [
    {
     "name": "stdout",
     "output_type": "stream",
     "text": [
      "Number of batches in training set: 3750\n",
      "Number of batches in validation set: 938\n"
     ]
    }
   ],
   "source": [
    "from torch.utils.data import DataLoader\n",
    "\n",
    "BATCH_SIZE = 128  # TODO: expand batch size for transformer architecture\n",
    "\n",
    "train_loader = DataLoader(\n",
    "    train_data,\n",
    "    batch_size=BATCH_SIZE,\n",
    "    shuffle=True,\n",
    "    # drop_last=True\n",
    ")\n",
    "\n",
    "val_loader = DataLoader(\n",
    "    val_data,\n",
    "    batch_size=BATCH_SIZE,\n",
    "    shuffle=True,\n",
    "    # drop_last=True\n",
    ")\n",
    "\n",
    "print(f\"Number of batches in training set: {len(train_loader)}\")\n",
    "print(f\"Number of batches in validation set: {len(val_loader)}\")\n"
   ]
  },
  {
   "cell_type": "code",
   "execution_count": 12,
   "id": "7a292d27",
   "metadata": {},
   "outputs": [
    {
     "name": "stdout",
     "output_type": "stream",
     "text": [
      "An Action Plan to Reduce Greenhouse Gases and Air Pollution  13.\n",
      "Services électroniques aux importateurs et aux exportateurs - Agence des services frontaliers du Canada (ASFC)  27.\n"
     ]
    }
   ],
   "source": [
    "print(tokenizer.decode(train_loader.dataset[0][0], skip_special_tokens=True) )\n",
    "print(tokenizer.decode(train_loader.dataset[0][1], skip_special_tokens=True) )"
   ]
  },
  {
   "cell_type": "code",
   "execution_count": 13,
   "id": "ef607fe7d7712cd5",
   "metadata": {
    "ExecuteTime": {
     "end_time": "2025-03-14T14:02:36.875983Z",
     "start_time": "2025-03-14T14:02:36.841289Z"
    },
    "trusted": true
   },
   "outputs": [],
   "source": [
    "import math\n",
    "\n",
    "\n",
    "class MultiHeadAttention(nn.Module):\n",
    "    def __init__(self, d_model, num_heads):\n",
    "        super(MultiHeadAttention, self).__init__()\n",
    "        assert d_model % num_heads == 0, \"d_model must be divisible by num_heads\"\n",
    "\n",
    "        self.d_model = d_model\n",
    "        self.num_heads = num_heads\n",
    "        self.d_k = d_model // num_heads \n",
    "\n",
    "        self.W_q = nn.Linear(d_model, d_model)  # Query transformation\n",
    "        self.W_k = nn.Linear(d_model, d_model)  # Key transformation\n",
    "        self.W_v = nn.Linear(d_model, d_model)  # Value transformation\n",
    "        self.W_o = nn.Linear(d_model, d_model)  # Output transformation\n",
    "\n",
    "    def scaled_dot_product_attention(self, Q, K, V, mask=None):\n",
    "        # TODO: use F..scaled_dot_product_attention\n",
    "        attn_scores = torch.matmul(Q, K.transpose(-2, -1)) / math.sqrt(self.d_k)\n",
    "\n",
    "        if mask is not None:\n",
    "            attn_scores = attn_scores.masked_fill(mask == 0, -1e9)\n",
    "\n",
    "        attn_probs = torch.softmax(attn_scores, dim=-1)\n",
    "\n",
    "        output = torch.matmul(attn_probs, V)\n",
    "        return output\n",
    "\n",
    "    def split_heads(self, x):\n",
    "        batch_size, seq_length, d_model = x.size()\n",
    "        return x.view(batch_size, seq_length, self.num_heads, self.d_k).transpose(1, 2)\n",
    "\n",
    "    def combine_heads(self, x):\n",
    "        batch_size, _, seq_length, d_k = x.size()\n",
    "        return x.transpose(1, 2).contiguous().view(batch_size, seq_length, self.d_model)\n",
    "\n",
    "    def forward(self, Q, K, V, mask=None):\n",
    "        Q = self.split_heads(self.W_q(Q))\n",
    "        K = self.split_heads(self.W_k(K))\n",
    "        V = self.split_heads(self.W_v(V))\n",
    "\n",
    "        attn_output = self.scaled_dot_product_attention(Q, K, V, mask)\n",
    "        output = self.W_o(self.combine_heads(attn_output))\n",
    "        return output"
   ]
  },
  {
   "cell_type": "code",
   "execution_count": 14,
   "id": "5785cc712765f655",
   "metadata": {
    "ExecuteTime": {
     "end_time": "2025-03-14T14:02:36.889939Z",
     "start_time": "2025-03-14T14:02:36.885027Z"
    },
    "trusted": true
   },
   "outputs": [],
   "source": [
    "class FeedForward(nn.Module):\n",
    "    def __init__(self, d_model, d_ff):\n",
    "        super(FeedForward, self).__init__()\n",
    "        self.fc1 = nn.Linear(d_model, d_ff)\n",
    "        self.fc2 = nn.Linear(d_ff, d_model)\n",
    "        # Assumption: GELU outperforms ReLU which leads to 'ReLU dead neuron problem': https://arxiv.org/pdf/1606.08415\n",
    "        self.gelu = nn.GELU(approximate='tanh')\n",
    "\n",
    "    def forward(self, x):\n",
    "        return self.fc2(self.gelu(self.fc1(x)))"
   ]
  },
  {
   "cell_type": "code",
   "execution_count": 15,
   "id": "fe4e61c154ff8b1a",
   "metadata": {
    "ExecuteTime": {
     "end_time": "2025-03-14T14:02:36.905657Z",
     "start_time": "2025-03-14T14:02:36.898280Z"
    },
    "trusted": true
   },
   "outputs": [
    {
     "data": {
      "text/plain": [
       "'NOTE: There is no evidence that positional encoding is better than simple learnable embeddings.'"
      ]
     },
     "execution_count": 15,
     "metadata": {},
     "output_type": "execute_result"
    }
   ],
   "source": [
    "\"\"\"NOTE: There is no evidence that positional encoding is better than simple learnable embeddings.\"\"\"\n",
    "\n",
    "#\n",
    "# class PositionalEncoding(nn.Module):\n",
    "#     def __init__(self, d_model, max_seq_length):\n",
    "#         super(PositionalEncoding, self).__init__()\n",
    "#\n",
    "#         pe = torch.zeros(max_seq_length, d_model)\n",
    "#         position = torch.arange(0, max_seq_length, dtype=torch.float).unsqueeze(1)\n",
    "#         div_term = torch.exp(torch.arange(0, d_model, 2).float() * -(math.log(10000.0) / d_model))\n",
    "#\n",
    "#         pe[:, 0::2] = torch.sin(position * div_term)\n",
    "#         pe[:, 1::2] = torch.cos(position * div_term)\n",
    "#\n",
    "#         self.register_buffer('pe', pe.unsqueeze(0))\n",
    "#\n",
    "#     def forward(self, x):\n",
    "#         return x + self.pe[:, :x.size(1)]"
   ]
  },
  {
   "cell_type": "code",
   "execution_count": 16,
   "id": "67a0b8abf7ef1b80",
   "metadata": {
    "ExecuteTime": {
     "end_time": "2025-03-14T14:02:36.920098Z",
     "start_time": "2025-03-14T14:02:36.914083Z"
    },
    "trusted": true
   },
   "outputs": [],
   "source": [
    "class EncoderLayer(nn.Module):\n",
    "    def __init__(self, d_model, num_heads, d_ff, dropout):\n",
    "        super(EncoderLayer, self).__init__()\n",
    "        self.self_attn = MultiHeadAttention(d_model, num_heads)\n",
    "        self.feed_forward = FeedForward(d_model, d_ff)\n",
    "        self.norm1 = nn.LayerNorm(d_model)\n",
    "        self.norm2 = nn.LayerNorm(d_model)\n",
    "        self.dropout = nn.Dropout(dropout)  # TODO: one dropout layer or two?\n",
    "\n",
    "    def forward(self, x, mask):\n",
    "        # Normalization before sub-blocks: as described at: https://cdn.openai.com/better-language-models/language_models_are_unsupervised_multitask_learners.pdf\n",
    "        residual_x = self.norm1(x)  # residual_x described at: https://arxiv.org/pdf/1904.10509\n",
    "        attn_output = self.self_attn(residual_x, residual_x, residual_x, mask)\n",
    "        x = x + self.dropout(attn_output)\n",
    "        residual_x = self.norm2(x)  # Normalization before sub-blocks\n",
    "        ff_output = self.feed_forward(residual_x)\n",
    "        x = x + self.dropout(ff_output)\n",
    "        return x"
   ]
  },
  {
   "cell_type": "code",
   "execution_count": 17,
   "id": "13f775b689e91e6e",
   "metadata": {
    "ExecuteTime": {
     "end_time": "2025-03-14T14:02:36.935223Z",
     "start_time": "2025-03-14T14:02:36.929678Z"
    },
    "trusted": true
   },
   "outputs": [],
   "source": [
    "class DecoderLayer(nn.Module):\n",
    "    def __init__(self, d_model, num_heads, d_ff, dropout):\n",
    "        super(DecoderLayer, self).__init__()\n",
    "        self.self_attn = MultiHeadAttention(d_model, num_heads)\n",
    "        self.cross_attn = MultiHeadAttention(d_model, num_heads)\n",
    "        self.feed_forward = FeedForward(d_model, d_ff)\n",
    "        self.norm1 = nn.LayerNorm(d_model)\n",
    "        self.norm2 = nn.LayerNorm(d_model)\n",
    "        self.norm3 = nn.LayerNorm(d_model)\n",
    "        self.dropout = nn.Dropout(dropout)\n",
    "\n",
    "    def forward(self, x, enc_output, src_mask, tgt_mask):\n",
    "        # Normalization before sub-blocks: as described at: https://cdn.openai.com/better-language-models/language_models_are_unsupervised_multitask_learners.pdf\n",
    "        residual_x = self.norm1(x)\n",
    "        attn_output = self.self_attn(residual_x, residual_x, residual_x, tgt_mask)\n",
    "        x = x + self.dropout(attn_output)\n",
    "        residual_x = self.norm2(x)  # Normalization before sub-blocks\n",
    "        attn_output = self.cross_attn(residual_x, enc_output, enc_output, src_mask)\n",
    "        x = x + self.dropout(attn_output)\n",
    "        residual_x = self.norm3(x)  # Normalization before sub-blocks\n",
    "        ff_output = self.feed_forward(residual_x)\n",
    "        x = x + self.dropout(ff_output)\n",
    "        return x"
   ]
  },
  {
   "cell_type": "code",
   "execution_count": 18,
   "id": "1f6b502c5537500e",
   "metadata": {
    "ExecuteTime": {
     "end_time": "2025-03-14T14:02:36.976478Z",
     "start_time": "2025-03-14T14:02:36.947631Z"
    },
    "trusted": true
   },
   "outputs": [],
   "source": [
    "\n",
    "\n",
    "\n",
    "class Transformer(nn.Module):\n",
    "    def __init__(self, src_vocab_size, tgt_vocab_size, d_model, num_heads, num_layers, d_ff, max_src_seq_len,\n",
    "                 max_tgt_seq_len, dropout):\n",
    "        super(Transformer, self).__init__()\n",
    "        self.encoder_embedding = nn.Embedding(src_vocab_size, d_model)\n",
    "        self.decoder_embedding = nn.Embedding(tgt_vocab_size, d_model)\n",
    "        # self.src_positional_encoding = PositionalEncoding(d_model, max_src_seq_len)\n",
    "        # self.tgt_positional_encoding = PositionalEncoding(d_model, max_tgt_seq_len)\n",
    "        self.src_positional_encoding = nn.Embedding(max_src_seq_len,\n",
    "                                                    d_model)  # instead of cos and sin functions (in PositionalEncoding)\n",
    "        self.tgt_positional_encoding = nn.Embedding(max_tgt_seq_len, d_model)\n",
    "\n",
    "        self.encoder_layers = nn.ModuleList(\n",
    "            [EncoderLayer(d_model, num_heads, d_ff, dropout) for _ in range(num_layers)])\n",
    "        self.decoder_layers = nn.ModuleList(\n",
    "            [DecoderLayer(d_model, num_heads, d_ff, dropout) for _ in range(num_layers)])\n",
    "\n",
    "        # One more LayerNorm as described: https://cdn.openai.com/better-language-models/language_models_are_unsupervised_multitask_learners.pdf\n",
    "        self.ln_f = nn.LayerNorm(d_model)\n",
    "        self.output_layer = nn.Linear(d_model, tgt_vocab_size,\n",
    "                                      bias=False)  # bias=False as depicted: https://github.com/karpathy/nanoGPT/blob/master/model.py\n",
    "        self.dropout = nn.Dropout(dropout)\n",
    "\n",
    "    def generate_mask(self, src, tgt):\n",
    "        src_mask = (src != tokenizer.pad_token_id).unsqueeze(1).unsqueeze(2)\n",
    "        tgt_mask = (tgt != tokenizer.pad_token_id).unsqueeze(1).unsqueeze(3)\n",
    "        src_mask, tgt_mask = src_mask.to(device), tgt_mask.to(device)\n",
    "        seq_length = tgt.size(1)\n",
    "        casual_mask = (1 - torch.triu(torch.ones(1, seq_length, seq_length), diagonal=1)).bool()\n",
    "        casual_mask = casual_mask.to(device)\n",
    "        tgt_mask = tgt_mask & casual_mask\n",
    "        return src_mask, tgt_mask\n",
    "\n",
    "    def forward(self, src, tgt):\n",
    "        src_mask, tgt_mask = self.generate_mask(src, tgt)\n",
    "        # src_embedded = self.dropout(self.src_positional_encoding(self.encoder_embedding(src)))\n",
    "        # tgt_embedded = self.dropout(self.tgt_positional_encoding(self.decoder_embedding(tgt)))\n",
    "\n",
    "        src_pos = torch.arange(0, src.size(1)).to(device)  # [0, 1, 2 ... src.size(1)]\n",
    "        src_pos = self.src_positional_encoding(src_pos)\n",
    "        src_embedded = self.encoder_embedding(src)\n",
    "        src_embedded = self.dropout(src_pos + src_embedded)\n",
    "\n",
    "        tgt_pos = torch.arange(0, tgt.size(1)).to(device)\n",
    "        tgt_pos = self.tgt_positional_encoding(tgt_pos)\n",
    "        tgt_embedded = self.decoder_embedding(tgt)\n",
    "        tgt_embedded = self.dropout(tgt_pos + tgt_embedded)\n",
    "\n",
    "        enc_output = src_embedded\n",
    "        for enc_layer in self.encoder_layers:\n",
    "            enc_output = enc_layer(enc_output, src_mask)\n",
    "\n",
    "        dec_output = tgt_embedded\n",
    "        for dec_layer in self.decoder_layers:\n",
    "            dec_output = dec_layer(dec_output, enc_output, src_mask, tgt_mask)\n",
    "\n",
    "        # One more LayerNorm as described: https://cdn.openai.com/better-language-models/language_models_are_unsupervised_multitask_learners.pdf\n",
    "        dec_output = self.ln_f(dec_output)\n",
    "        output = self.output_layer(dec_output)\n",
    "        return output"
   ]
  },
  {
   "cell_type": "code",
   "execution_count": 19,
   "id": "88b2eaebd84a3627",
   "metadata": {
    "ExecuteTime": {
     "end_time": "2025-03-14T14:02:36.990503Z",
     "start_time": "2025-03-14T14:02:36.986534Z"
    },
    "trusted": true
   },
   "outputs": [],
   "source": [
    "src_vocab_size = VOCAB_SIZE\n",
    "tgt_vocab_size = VOCAB_SIZE\n",
    "d_model = 128  # TODO: experiment with model complexity - it can lead to overfitting\n",
    "num_heads = 1  # TODO: layers + heads have impact on final results: https://medium.com/@ccibeekeoc42/unveiling-the-transformer-impact-of-layers-and-attention-heads-in-audio-classification-58747d52b794\n",
    "num_layers = 6  # TODO: how many layers? as above, model complexity; smaller BART uses 6: https://arxiv.org/pdf/1910.13461\n",
    "d_ff = d_model * 4\n",
    "max_src_seq_len = SRC_MAX_SEQ\n",
    "max_tgt_seq_len = TGT_MAX_SEQ\n",
    "dropout = 0.1"
   ]
  },
  {
   "cell_type": "code",
   "execution_count": 20,
   "id": "930121124b5e2e91",
   "metadata": {
    "ExecuteTime": {
     "end_time": "2025-03-14T14:02:37.383510Z",
     "start_time": "2025-03-14T14:02:36.999834Z"
    },
    "trusted": true
   },
   "outputs": [
    {
     "name": "stdout",
     "output_type": "stream",
     "text": [
      "Number of parameters: 22.091904 M\n"
     ]
    }
   ],
   "source": [
    "transformer = Transformer(src_vocab_size, tgt_vocab_size, d_model, num_heads, num_layers, d_ff, max_src_seq_len,\n",
    "                          max_tgt_seq_len,\n",
    "                          dropout)\n",
    "transformer.to(device)\n",
    "num_parameters = sum(p.numel() for p in transformer.parameters())\n",
    "print(f\"Number of parameters: {num_parameters/1000000} M\")\n"
   ]
  },
  {
   "cell_type": "markdown",
   "id": "a977685c1564feae",
   "metadata": {},
   "source": [
    "# Train model"
   ]
  },
  {
   "cell_type": "code",
   "execution_count": 21,
   "id": "4c27c273e453e232",
   "metadata": {
    "ExecuteTime": {
     "end_time": "2025-03-14T14:05:04.407645Z",
     "start_time": "2025-03-14T14:02:37.394025Z"
    },
    "trusted": true
   },
   "outputs": [
    {
     "name": "stderr",
     "output_type": "stream",
     "text": [
      "Epoch 1: 100%|██████████| 3750/3750 [05:14<00:00, 11.92it/s, Batch Loss=5.53]\n"
     ]
    },
    {
     "name": "stdout",
     "output_type": "stream",
     "text": [
      "Epoch: 1, Loss: 7.7274\n",
      "Average Validation Loss: 5.4194\n"
     ]
    },
    {
     "name": "stderr",
     "output_type": "stream",
     "text": [
      "Epoch 2: 100%|██████████| 3750/3750 [05:16<00:00, 11.84it/s, Batch Loss=4.1] \n"
     ]
    },
    {
     "name": "stdout",
     "output_type": "stream",
     "text": [
      "Epoch: 2, Loss: 4.6472\n",
      "Average Validation Loss: 3.8901\n"
     ]
    },
    {
     "name": "stderr",
     "output_type": "stream",
     "text": [
      "Epoch 3: 100%|██████████| 3750/3750 [05:17<00:00, 11.83it/s, Batch Loss=3.52]\n"
     ]
    },
    {
     "name": "stdout",
     "output_type": "stream",
     "text": [
      "Epoch: 3, Loss: 3.7125\n",
      "Average Validation Loss: 3.2745\n"
     ]
    },
    {
     "name": "stderr",
     "output_type": "stream",
     "text": [
      "Epoch 4: 100%|██████████| 3750/3750 [05:16<00:00, 11.84it/s, Batch Loss=3.08]\n"
     ]
    },
    {
     "name": "stdout",
     "output_type": "stream",
     "text": [
      "Epoch: 4, Loss: 3.2436\n",
      "Average Validation Loss: 2.9065\n"
     ]
    },
    {
     "name": "stderr",
     "output_type": "stream",
     "text": [
      "Epoch 5: 100%|██████████| 3750/3750 [05:17<00:00, 11.82it/s, Batch Loss=2.82]\n"
     ]
    },
    {
     "name": "stdout",
     "output_type": "stream",
     "text": [
      "Epoch: 5, Loss: 2.9309\n",
      "Average Validation Loss: 2.6398\n"
     ]
    },
    {
     "name": "stderr",
     "output_type": "stream",
     "text": [
      "Epoch 6: 100%|██████████| 3750/3750 [05:17<00:00, 11.82it/s, Batch Loss=2.52]\n"
     ]
    },
    {
     "name": "stdout",
     "output_type": "stream",
     "text": [
      "Epoch: 6, Loss: 2.7004\n",
      "Average Validation Loss: 2.4353\n"
     ]
    },
    {
     "name": "stderr",
     "output_type": "stream",
     "text": [
      "Epoch 7: 100%|██████████| 3750/3750 [05:16<00:00, 11.85it/s, Batch Loss=2.28]\n"
     ]
    },
    {
     "name": "stdout",
     "output_type": "stream",
     "text": [
      "Epoch: 7, Loss: 2.5144\n",
      "Average Validation Loss: 2.2608\n"
     ]
    },
    {
     "name": "stderr",
     "output_type": "stream",
     "text": [
      "Epoch 8: 100%|██████████| 3750/3750 [05:16<00:00, 11.84it/s, Batch Loss=2.08]\n"
     ]
    },
    {
     "name": "stdout",
     "output_type": "stream",
     "text": [
      "Epoch: 8, Loss: 2.3595\n",
      "Average Validation Loss: 2.1248\n"
     ]
    },
    {
     "name": "stderr",
     "output_type": "stream",
     "text": [
      "Epoch 9: 100%|██████████| 3750/3750 [05:13<00:00, 11.98it/s, Batch Loss=2.24]\n"
     ]
    },
    {
     "name": "stdout",
     "output_type": "stream",
     "text": [
      "Epoch: 9, Loss: 2.2368\n",
      "Average Validation Loss: 2.0234\n"
     ]
    },
    {
     "name": "stderr",
     "output_type": "stream",
     "text": [
      "Epoch 10: 100%|██████████| 3750/3750 [05:13<00:00, 11.97it/s, Batch Loss=2.05]\n"
     ]
    },
    {
     "name": "stdout",
     "output_type": "stream",
     "text": [
      "Epoch: 10, Loss: 2.1421\n",
      "Average Validation Loss: 1.9372\n"
     ]
    },
    {
     "name": "stderr",
     "output_type": "stream",
     "text": [
      "Epoch 11: 100%|██████████| 3750/3750 [05:13<00:00, 11.96it/s, Batch Loss=2.07]\n"
     ]
    },
    {
     "name": "stdout",
     "output_type": "stream",
     "text": [
      "Epoch: 11, Loss: 2.0676\n",
      "Average Validation Loss: 1.8760\n"
     ]
    },
    {
     "name": "stderr",
     "output_type": "stream",
     "text": [
      "Epoch 12: 100%|██████████| 3750/3750 [05:13<00:00, 11.98it/s, Batch Loss=2.01]\n"
     ]
    },
    {
     "name": "stdout",
     "output_type": "stream",
     "text": [
      "Epoch: 12, Loss: 2.0092\n",
      "Average Validation Loss: 1.8338\n"
     ]
    },
    {
     "name": "stderr",
     "output_type": "stream",
     "text": [
      "Epoch 13: 100%|██████████| 3750/3750 [05:13<00:00, 11.97it/s, Batch Loss=1.98]\n"
     ]
    },
    {
     "name": "stdout",
     "output_type": "stream",
     "text": [
      "Epoch: 13, Loss: 1.9610\n",
      "Average Validation Loss: 1.7910\n"
     ]
    },
    {
     "name": "stderr",
     "output_type": "stream",
     "text": [
      "Epoch 14: 100%|██████████| 3750/3750 [05:13<00:00, 11.97it/s, Batch Loss=1.87]\n"
     ]
    },
    {
     "name": "stdout",
     "output_type": "stream",
     "text": [
      "Epoch: 14, Loss: 1.9190\n",
      "Average Validation Loss: 1.7640\n"
     ]
    },
    {
     "name": "stderr",
     "output_type": "stream",
     "text": [
      "Epoch 15: 100%|██████████| 3750/3750 [05:12<00:00, 11.98it/s, Batch Loss=1.93]\n"
     ]
    },
    {
     "name": "stdout",
     "output_type": "stream",
     "text": [
      "Epoch: 15, Loss: 1.8830\n",
      "Average Validation Loss: 1.7266\n"
     ]
    },
    {
     "name": "stderr",
     "output_type": "stream",
     "text": [
      "Epoch 16: 100%|██████████| 3750/3750 [05:13<00:00, 11.97it/s, Batch Loss=1.92]\n"
     ]
    },
    {
     "name": "stdout",
     "output_type": "stream",
     "text": [
      "Epoch: 16, Loss: 1.8464\n",
      "Average Validation Loss: 1.6971\n"
     ]
    },
    {
     "name": "stderr",
     "output_type": "stream",
     "text": [
      "Epoch 17: 100%|██████████| 3750/3750 [05:12<00:00, 11.98it/s, Batch Loss=1.87]\n"
     ]
    },
    {
     "name": "stdout",
     "output_type": "stream",
     "text": [
      "Epoch: 17, Loss: 1.8082\n",
      "Average Validation Loss: 1.6627\n"
     ]
    },
    {
     "name": "stderr",
     "output_type": "stream",
     "text": [
      "Epoch 18: 100%|██████████| 3750/3750 [05:12<00:00, 12.00it/s, Batch Loss=1.78]\n"
     ]
    },
    {
     "name": "stdout",
     "output_type": "stream",
     "text": [
      "Epoch: 18, Loss: 1.7751\n",
      "Average Validation Loss: 1.6371\n"
     ]
    },
    {
     "name": "stderr",
     "output_type": "stream",
     "text": [
      "Epoch 19: 100%|██████████| 3750/3750 [05:12<00:00, 12.00it/s, Batch Loss=1.82]\n"
     ]
    },
    {
     "name": "stdout",
     "output_type": "stream",
     "text": [
      "Epoch: 19, Loss: 1.7465\n",
      "Average Validation Loss: 1.6153\n"
     ]
    },
    {
     "name": "stderr",
     "output_type": "stream",
     "text": [
      "Epoch 20: 100%|██████████| 3750/3750 [05:12<00:00, 12.01it/s, Batch Loss=1.65]\n"
     ]
    },
    {
     "name": "stdout",
     "output_type": "stream",
     "text": [
      "Epoch: 20, Loss: 1.7224\n",
      "Average Validation Loss: 1.6015\n"
     ]
    },
    {
     "name": "stderr",
     "output_type": "stream",
     "text": [
      "Epoch 21: 100%|██████████| 3750/3750 [05:12<00:00, 12.00it/s, Batch Loss=1.7] \n"
     ]
    },
    {
     "name": "stdout",
     "output_type": "stream",
     "text": [
      "Epoch: 21, Loss: 1.7012\n",
      "Average Validation Loss: 1.5868\n"
     ]
    },
    {
     "name": "stderr",
     "output_type": "stream",
     "text": [
      "Epoch 22: 100%|██████████| 3750/3750 [05:12<00:00, 12.01it/s, Batch Loss=1.76]\n"
     ]
    },
    {
     "name": "stdout",
     "output_type": "stream",
     "text": [
      "Epoch: 22, Loss: 1.6824\n",
      "Average Validation Loss: 1.5673\n"
     ]
    },
    {
     "name": "stderr",
     "output_type": "stream",
     "text": [
      "Epoch 23: 100%|██████████| 3750/3750 [05:12<00:00, 12.00it/s, Batch Loss=1.65]\n"
     ]
    },
    {
     "name": "stdout",
     "output_type": "stream",
     "text": [
      "Epoch: 23, Loss: 1.6658\n",
      "Average Validation Loss: 1.5555\n"
     ]
    },
    {
     "name": "stderr",
     "output_type": "stream",
     "text": [
      "Epoch 24: 100%|██████████| 3750/3750 [05:12<00:00, 12.01it/s, Batch Loss=1.7] \n"
     ]
    },
    {
     "name": "stdout",
     "output_type": "stream",
     "text": [
      "Epoch: 24, Loss: 1.6496\n",
      "Average Validation Loss: 1.5428\n"
     ]
    },
    {
     "name": "stderr",
     "output_type": "stream",
     "text": [
      "Epoch 25: 100%|██████████| 3750/3750 [05:12<00:00, 12.00it/s, Batch Loss=1.68]\n"
     ]
    },
    {
     "name": "stdout",
     "output_type": "stream",
     "text": [
      "Epoch: 25, Loss: 1.6352\n",
      "Average Validation Loss: 1.5340\n"
     ]
    },
    {
     "name": "stderr",
     "output_type": "stream",
     "text": [
      "Epoch 26: 100%|██████████| 3750/3750 [05:12<00:00, 12.00it/s, Batch Loss=1.57]\n"
     ]
    },
    {
     "name": "stdout",
     "output_type": "stream",
     "text": [
      "Epoch: 26, Loss: 1.6206\n",
      "Average Validation Loss: 1.5218\n"
     ]
    },
    {
     "name": "stderr",
     "output_type": "stream",
     "text": [
      "Epoch 27: 100%|██████████| 3750/3750 [05:12<00:00, 11.99it/s, Batch Loss=1.52]\n"
     ]
    },
    {
     "name": "stdout",
     "output_type": "stream",
     "text": [
      "Epoch: 27, Loss: 1.6071\n",
      "Average Validation Loss: 1.5134\n"
     ]
    },
    {
     "name": "stderr",
     "output_type": "stream",
     "text": [
      "Epoch 28: 100%|██████████| 3750/3750 [05:12<00:00, 12.00it/s, Batch Loss=1.65]\n"
     ]
    },
    {
     "name": "stdout",
     "output_type": "stream",
     "text": [
      "Epoch: 28, Loss: 1.5946\n",
      "Average Validation Loss: 1.5029\n"
     ]
    },
    {
     "name": "stderr",
     "output_type": "stream",
     "text": [
      "Epoch 29: 100%|██████████| 3750/3750 [05:12<00:00, 11.99it/s, Batch Loss=1.67]\n"
     ]
    },
    {
     "name": "stdout",
     "output_type": "stream",
     "text": [
      "Epoch: 29, Loss: 1.5836\n",
      "Average Validation Loss: 1.4883\n"
     ]
    },
    {
     "name": "stderr",
     "output_type": "stream",
     "text": [
      "Epoch 30: 100%|██████████| 3750/3750 [05:12<00:00, 11.99it/s, Batch Loss=1.56]\n"
     ]
    },
    {
     "name": "stdout",
     "output_type": "stream",
     "text": [
      "Epoch: 30, Loss: 1.5727\n",
      "Average Validation Loss: 1.4917\n"
     ]
    },
    {
     "name": "stderr",
     "output_type": "stream",
     "text": [
      "Epoch 31: 100%|██████████| 3750/3750 [05:12<00:00, 12.00it/s, Batch Loss=1.57]\n"
     ]
    },
    {
     "name": "stdout",
     "output_type": "stream",
     "text": [
      "Epoch: 31, Loss: 1.5624\n",
      "Average Validation Loss: 1.4786\n"
     ]
    },
    {
     "name": "stderr",
     "output_type": "stream",
     "text": [
      "Epoch 32: 100%|██████████| 3750/3750 [05:12<00:00, 12.01it/s, Batch Loss=1.63]\n"
     ]
    },
    {
     "name": "stdout",
     "output_type": "stream",
     "text": [
      "Epoch: 32, Loss: 1.5528\n",
      "Average Validation Loss: 1.4700\n"
     ]
    },
    {
     "name": "stderr",
     "output_type": "stream",
     "text": [
      "Epoch 33: 100%|██████████| 3750/3750 [05:12<00:00, 12.00it/s, Batch Loss=1.52]\n"
     ]
    },
    {
     "name": "stdout",
     "output_type": "stream",
     "text": [
      "Epoch: 33, Loss: 1.5446\n",
      "Average Validation Loss: 1.4655\n"
     ]
    },
    {
     "name": "stderr",
     "output_type": "stream",
     "text": [
      "Epoch 34: 100%|██████████| 3750/3750 [05:12<00:00, 12.00it/s, Batch Loss=1.57]\n"
     ]
    },
    {
     "name": "stdout",
     "output_type": "stream",
     "text": [
      "Epoch: 34, Loss: 1.5361\n",
      "Average Validation Loss: 1.4601\n"
     ]
    },
    {
     "name": "stderr",
     "output_type": "stream",
     "text": [
      "Epoch 35: 100%|██████████| 3750/3750 [05:12<00:00, 12.01it/s, Batch Loss=1.48]\n"
     ]
    },
    {
     "name": "stdout",
     "output_type": "stream",
     "text": [
      "Epoch: 35, Loss: 1.5278\n",
      "Average Validation Loss: 1.4532\n"
     ]
    },
    {
     "name": "stderr",
     "output_type": "stream",
     "text": [
      "Epoch 36: 100%|██████████| 3750/3750 [05:12<00:00, 11.99it/s, Batch Loss=1.55]\n"
     ]
    },
    {
     "name": "stdout",
     "output_type": "stream",
     "text": [
      "Epoch: 36, Loss: 1.5185\n",
      "Average Validation Loss: 1.4475\n"
     ]
    },
    {
     "name": "stderr",
     "output_type": "stream",
     "text": [
      "Epoch 37: 100%|██████████| 3750/3750 [05:12<00:00, 12.00it/s, Batch Loss=1.46]\n"
     ]
    },
    {
     "name": "stdout",
     "output_type": "stream",
     "text": [
      "Epoch: 37, Loss: 1.5100\n",
      "Average Validation Loss: 1.4411\n"
     ]
    },
    {
     "name": "stderr",
     "output_type": "stream",
     "text": [
      "Epoch 38: 100%|██████████| 3750/3750 [05:12<00:00, 12.00it/s, Batch Loss=1.41]\n"
     ]
    },
    {
     "name": "stdout",
     "output_type": "stream",
     "text": [
      "Epoch: 38, Loss: 1.5032\n",
      "Average Validation Loss: 1.4339\n"
     ]
    },
    {
     "name": "stderr",
     "output_type": "stream",
     "text": [
      "Epoch 39: 100%|██████████| 3750/3750 [05:12<00:00, 12.00it/s, Batch Loss=1.58]\n"
     ]
    },
    {
     "name": "stdout",
     "output_type": "stream",
     "text": [
      "Epoch: 39, Loss: 1.4977\n",
      "Average Validation Loss: 1.4350\n"
     ]
    },
    {
     "name": "stderr",
     "output_type": "stream",
     "text": [
      "Epoch 40: 100%|██████████| 3750/3750 [05:13<00:00, 11.97it/s, Batch Loss=1.37]\n"
     ]
    },
    {
     "name": "stdout",
     "output_type": "stream",
     "text": [
      "Epoch: 40, Loss: 1.4925\n",
      "Average Validation Loss: 1.4356\n"
     ]
    },
    {
     "name": "stderr",
     "output_type": "stream",
     "text": [
      "Epoch 41: 100%|██████████| 3750/3750 [05:12<00:00, 12.00it/s, Batch Loss=1.59]\n"
     ]
    },
    {
     "name": "stdout",
     "output_type": "stream",
     "text": [
      "Epoch: 41, Loss: 1.4861\n",
      "Average Validation Loss: 1.4260\n"
     ]
    },
    {
     "name": "stderr",
     "output_type": "stream",
     "text": [
      "Epoch 42: 100%|██████████| 3750/3750 [05:12<00:00, 11.99it/s, Batch Loss=1.42]\n"
     ]
    },
    {
     "name": "stdout",
     "output_type": "stream",
     "text": [
      "Epoch: 42, Loss: 1.4797\n",
      "Average Validation Loss: 1.4241\n"
     ]
    },
    {
     "name": "stderr",
     "output_type": "stream",
     "text": [
      "Epoch 43: 100%|██████████| 3750/3750 [05:12<00:00, 12.01it/s, Batch Loss=1.48]\n"
     ]
    },
    {
     "name": "stdout",
     "output_type": "stream",
     "text": [
      "Epoch: 43, Loss: 1.4741\n",
      "Average Validation Loss: 1.4216\n"
     ]
    },
    {
     "name": "stderr",
     "output_type": "stream",
     "text": [
      "Epoch 44: 100%|██████████| 3750/3750 [05:12<00:00, 12.00it/s, Batch Loss=1.46]\n"
     ]
    },
    {
     "name": "stdout",
     "output_type": "stream",
     "text": [
      "Epoch: 44, Loss: 1.4684\n",
      "Average Validation Loss: 1.4133\n"
     ]
    },
    {
     "name": "stderr",
     "output_type": "stream",
     "text": [
      "Epoch 45: 100%|██████████| 3750/3750 [05:12<00:00, 12.01it/s, Batch Loss=1.49]\n"
     ]
    },
    {
     "name": "stdout",
     "output_type": "stream",
     "text": [
      "Epoch: 45, Loss: 1.4639\n",
      "Average Validation Loss: 1.4126\n"
     ]
    },
    {
     "name": "stderr",
     "output_type": "stream",
     "text": [
      "Epoch 46: 100%|██████████| 3750/3750 [05:12<00:00, 12.00it/s, Batch Loss=1.61]\n"
     ]
    },
    {
     "name": "stdout",
     "output_type": "stream",
     "text": [
      "Epoch: 46, Loss: 1.4591\n",
      "Average Validation Loss: 1.4066\n"
     ]
    },
    {
     "name": "stderr",
     "output_type": "stream",
     "text": [
      "Epoch 47: 100%|██████████| 3750/3750 [05:12<00:00, 12.01it/s, Batch Loss=1.56]\n"
     ]
    },
    {
     "name": "stdout",
     "output_type": "stream",
     "text": [
      "Epoch: 47, Loss: 1.4544\n",
      "Average Validation Loss: 1.4018\n"
     ]
    },
    {
     "name": "stderr",
     "output_type": "stream",
     "text": [
      "Epoch 48: 100%|██████████| 3750/3750 [05:12<00:00, 12.00it/s, Batch Loss=1.64]\n"
     ]
    },
    {
     "name": "stdout",
     "output_type": "stream",
     "text": [
      "Epoch: 48, Loss: 1.4498\n",
      "Average Validation Loss: 1.4024\n"
     ]
    },
    {
     "name": "stderr",
     "output_type": "stream",
     "text": [
      "Epoch 49: 100%|██████████| 3750/3750 [05:12<00:00, 12.01it/s, Batch Loss=1.46]\n"
     ]
    },
    {
     "name": "stdout",
     "output_type": "stream",
     "text": [
      "Epoch: 49, Loss: 1.4448\n",
      "Average Validation Loss: 1.3985\n"
     ]
    },
    {
     "name": "stderr",
     "output_type": "stream",
     "text": [
      "Epoch 50: 100%|██████████| 3750/3750 [05:12<00:00, 12.01it/s, Batch Loss=1.5] \n"
     ]
    },
    {
     "name": "stdout",
     "output_type": "stream",
     "text": [
      "Epoch: 50, Loss: 1.4401\n",
      "Average Validation Loss: 1.3944\n"
     ]
    },
    {
     "name": "stderr",
     "output_type": "stream",
     "text": [
      "Epoch 51: 100%|██████████| 3750/3750 [05:12<00:00, 12.01it/s, Batch Loss=1.46]\n"
     ]
    },
    {
     "name": "stdout",
     "output_type": "stream",
     "text": [
      "Epoch: 51, Loss: 1.4359\n",
      "Average Validation Loss: 1.3910\n"
     ]
    },
    {
     "name": "stderr",
     "output_type": "stream",
     "text": [
      "Epoch 52: 100%|██████████| 3750/3750 [05:12<00:00, 12.01it/s, Batch Loss=1.36]\n"
     ]
    },
    {
     "name": "stdout",
     "output_type": "stream",
     "text": [
      "Epoch: 52, Loss: 1.4315\n",
      "Average Validation Loss: 1.3879\n"
     ]
    },
    {
     "name": "stderr",
     "output_type": "stream",
     "text": [
      "Epoch 53: 100%|██████████| 3750/3750 [05:12<00:00, 11.99it/s, Batch Loss=1.46]\n"
     ]
    },
    {
     "name": "stdout",
     "output_type": "stream",
     "text": [
      "Epoch: 53, Loss: 1.4283\n",
      "Average Validation Loss: 1.3862\n"
     ]
    },
    {
     "name": "stderr",
     "output_type": "stream",
     "text": [
      "Epoch 54: 100%|██████████| 3750/3750 [05:12<00:00, 12.00it/s, Batch Loss=1.59]\n"
     ]
    },
    {
     "name": "stdout",
     "output_type": "stream",
     "text": [
      "Epoch: 54, Loss: 1.4243\n",
      "Average Validation Loss: 1.3823\n"
     ]
    },
    {
     "name": "stderr",
     "output_type": "stream",
     "text": [
      "Epoch 55: 100%|██████████| 3750/3750 [05:12<00:00, 12.00it/s, Batch Loss=1.61]\n"
     ]
    },
    {
     "name": "stdout",
     "output_type": "stream",
     "text": [
      "Epoch: 55, Loss: 1.4203\n",
      "Average Validation Loss: 1.3805\n"
     ]
    },
    {
     "name": "stderr",
     "output_type": "stream",
     "text": [
      "Epoch 56: 100%|██████████| 3750/3750 [05:12<00:00, 12.00it/s, Batch Loss=1.4] \n"
     ]
    },
    {
     "name": "stdout",
     "output_type": "stream",
     "text": [
      "Epoch: 56, Loss: 1.4172\n",
      "Average Validation Loss: 1.3745\n"
     ]
    },
    {
     "name": "stderr",
     "output_type": "stream",
     "text": [
      "Epoch 57: 100%|██████████| 3750/3750 [05:12<00:00, 12.01it/s, Batch Loss=1.44]\n"
     ]
    },
    {
     "name": "stdout",
     "output_type": "stream",
     "text": [
      "Epoch: 57, Loss: 1.4135\n",
      "Average Validation Loss: 1.3776\n"
     ]
    },
    {
     "name": "stderr",
     "output_type": "stream",
     "text": [
      "Epoch 58: 100%|██████████| 3750/3750 [05:12<00:00, 12.00it/s, Batch Loss=1.47]\n"
     ]
    },
    {
     "name": "stdout",
     "output_type": "stream",
     "text": [
      "Epoch: 58, Loss: 1.4101\n",
      "Average Validation Loss: 1.3722\n"
     ]
    },
    {
     "name": "stderr",
     "output_type": "stream",
     "text": [
      "Epoch 59: 100%|██████████| 3750/3750 [05:12<00:00, 12.00it/s, Batch Loss=1.46]\n"
     ]
    },
    {
     "name": "stdout",
     "output_type": "stream",
     "text": [
      "Epoch: 59, Loss: 1.4066\n",
      "Average Validation Loss: 1.3740\n"
     ]
    },
    {
     "name": "stderr",
     "output_type": "stream",
     "text": [
      "Epoch 60: 100%|██████████| 3750/3750 [05:12<00:00, 12.01it/s, Batch Loss=1.56]\n"
     ]
    },
    {
     "name": "stdout",
     "output_type": "stream",
     "text": [
      "Epoch: 60, Loss: 1.4035\n",
      "Average Validation Loss: 1.3704\n"
     ]
    },
    {
     "name": "stderr",
     "output_type": "stream",
     "text": [
      "Epoch 61: 100%|██████████| 3750/3750 [05:12<00:00, 12.00it/s, Batch Loss=1.35]\n"
     ]
    },
    {
     "name": "stdout",
     "output_type": "stream",
     "text": [
      "Epoch: 61, Loss: 1.4004\n",
      "Average Validation Loss: 1.3697\n"
     ]
    },
    {
     "name": "stderr",
     "output_type": "stream",
     "text": [
      "Epoch 62: 100%|██████████| 3750/3750 [05:12<00:00, 12.01it/s, Batch Loss=1.36]\n"
     ]
    },
    {
     "name": "stdout",
     "output_type": "stream",
     "text": [
      "Epoch: 62, Loss: 1.3981\n",
      "Average Validation Loss: 1.3651\n"
     ]
    },
    {
     "name": "stderr",
     "output_type": "stream",
     "text": [
      "Epoch 63: 100%|██████████| 3750/3750 [05:12<00:00, 12.00it/s, Batch Loss=1.3] \n"
     ]
    },
    {
     "name": "stdout",
     "output_type": "stream",
     "text": [
      "Epoch: 63, Loss: 1.3949\n",
      "Average Validation Loss: 1.3616\n"
     ]
    },
    {
     "name": "stderr",
     "output_type": "stream",
     "text": [
      "Epoch 64: 100%|██████████| 3750/3750 [05:12<00:00, 12.00it/s, Batch Loss=1.44]\n"
     ]
    },
    {
     "name": "stdout",
     "output_type": "stream",
     "text": [
      "Epoch: 64, Loss: 1.3916\n",
      "Average Validation Loss: 1.3612\n"
     ]
    },
    {
     "name": "stderr",
     "output_type": "stream",
     "text": [
      "Epoch 65: 100%|██████████| 3750/3750 [05:12<00:00, 12.00it/s, Batch Loss=1.41]\n"
     ]
    },
    {
     "name": "stdout",
     "output_type": "stream",
     "text": [
      "Epoch: 65, Loss: 1.3888\n",
      "Average Validation Loss: 1.3599\n"
     ]
    },
    {
     "name": "stderr",
     "output_type": "stream",
     "text": [
      "Epoch 66: 100%|██████████| 3750/3750 [05:12<00:00, 12.00it/s, Batch Loss=1.42]\n"
     ]
    },
    {
     "name": "stdout",
     "output_type": "stream",
     "text": [
      "Epoch: 66, Loss: 1.3857\n",
      "Average Validation Loss: 1.3610\n"
     ]
    },
    {
     "name": "stderr",
     "output_type": "stream",
     "text": [
      "Epoch 67: 100%|██████████| 3750/3750 [05:12<00:00, 12.00it/s, Batch Loss=1.55]\n"
     ]
    },
    {
     "name": "stdout",
     "output_type": "stream",
     "text": [
      "Epoch: 67, Loss: 1.3835\n",
      "Average Validation Loss: 1.3562\n"
     ]
    },
    {
     "name": "stderr",
     "output_type": "stream",
     "text": [
      "Epoch 68: 100%|██████████| 3750/3750 [05:12<00:00, 12.01it/s, Batch Loss=1.44]\n"
     ]
    },
    {
     "name": "stdout",
     "output_type": "stream",
     "text": [
      "Epoch: 68, Loss: 1.3812\n",
      "Average Validation Loss: 1.3590\n"
     ]
    },
    {
     "name": "stderr",
     "output_type": "stream",
     "text": [
      "Epoch 69: 100%|██████████| 3750/3750 [05:12<00:00, 12.00it/s, Batch Loss=1.39]\n"
     ]
    },
    {
     "name": "stdout",
     "output_type": "stream",
     "text": [
      "Epoch: 69, Loss: 1.3793\n",
      "Average Validation Loss: 1.3597\n"
     ]
    },
    {
     "name": "stderr",
     "output_type": "stream",
     "text": [
      "Epoch 70: 100%|██████████| 3750/3750 [05:12<00:00, 11.99it/s, Batch Loss=1.33]\n"
     ]
    },
    {
     "name": "stdout",
     "output_type": "stream",
     "text": [
      "Epoch: 70, Loss: 1.3777\n",
      "Average Validation Loss: 1.3544\n"
     ]
    },
    {
     "name": "stderr",
     "output_type": "stream",
     "text": [
      "Epoch 71: 100%|██████████| 3750/3750 [05:12<00:00, 12.00it/s, Batch Loss=1.34]\n"
     ]
    },
    {
     "name": "stdout",
     "output_type": "stream",
     "text": [
      "Epoch: 71, Loss: 1.3755\n",
      "Average Validation Loss: 1.3537\n"
     ]
    },
    {
     "name": "stderr",
     "output_type": "stream",
     "text": [
      "Epoch 72: 100%|██████████| 3750/3750 [05:12<00:00, 12.00it/s, Batch Loss=1.37]\n"
     ]
    },
    {
     "name": "stdout",
     "output_type": "stream",
     "text": [
      "Epoch: 72, Loss: 1.3742\n",
      "Average Validation Loss: 1.3501\n"
     ]
    },
    {
     "name": "stderr",
     "output_type": "stream",
     "text": [
      "Epoch 73: 100%|██████████| 3750/3750 [05:12<00:00, 11.99it/s, Batch Loss=1.41]\n"
     ]
    },
    {
     "name": "stdout",
     "output_type": "stream",
     "text": [
      "Epoch: 73, Loss: 1.3722\n",
      "Average Validation Loss: 1.3526\n"
     ]
    },
    {
     "name": "stderr",
     "output_type": "stream",
     "text": [
      "Epoch 74: 100%|██████████| 3750/3750 [05:12<00:00, 12.00it/s, Batch Loss=1.33]\n"
     ]
    },
    {
     "name": "stdout",
     "output_type": "stream",
     "text": [
      "Epoch: 74, Loss: 1.3707\n",
      "Average Validation Loss: 1.3506\n"
     ]
    },
    {
     "name": "stderr",
     "output_type": "stream",
     "text": [
      "Epoch 75: 100%|██████████| 3750/3750 [05:12<00:00, 12.00it/s, Batch Loss=1.29]\n"
     ]
    },
    {
     "name": "stdout",
     "output_type": "stream",
     "text": [
      "Epoch: 75, Loss: 1.3686\n",
      "Average Validation Loss: 1.3479\n"
     ]
    },
    {
     "name": "stderr",
     "output_type": "stream",
     "text": [
      "Epoch 76: 100%|██████████| 3750/3750 [05:12<00:00, 12.00it/s, Batch Loss=1.47]\n"
     ]
    },
    {
     "name": "stdout",
     "output_type": "stream",
     "text": [
      "Epoch: 76, Loss: 1.3662\n",
      "Average Validation Loss: 1.3500\n"
     ]
    },
    {
     "name": "stderr",
     "output_type": "stream",
     "text": [
      "Epoch 77: 100%|██████████| 3750/3750 [05:12<00:00, 12.00it/s, Batch Loss=1.41]\n"
     ]
    },
    {
     "name": "stdout",
     "output_type": "stream",
     "text": [
      "Epoch: 77, Loss: 1.3643\n",
      "Average Validation Loss: 1.3473\n"
     ]
    },
    {
     "name": "stderr",
     "output_type": "stream",
     "text": [
      "Epoch 78: 100%|██████████| 3750/3750 [05:12<00:00, 11.99it/s, Batch Loss=1.33]\n"
     ]
    },
    {
     "name": "stdout",
     "output_type": "stream",
     "text": [
      "Epoch: 78, Loss: 1.3624\n",
      "Average Validation Loss: 1.3438\n"
     ]
    },
    {
     "name": "stderr",
     "output_type": "stream",
     "text": [
      "Epoch 79: 100%|██████████| 3750/3750 [05:12<00:00, 12.00it/s, Batch Loss=1.29]\n"
     ]
    },
    {
     "name": "stdout",
     "output_type": "stream",
     "text": [
      "Epoch: 79, Loss: 1.3597\n",
      "Average Validation Loss: 1.3435\n"
     ]
    },
    {
     "name": "stderr",
     "output_type": "stream",
     "text": [
      "Epoch 80: 100%|██████████| 3750/3750 [05:12<00:00, 11.99it/s, Batch Loss=1.4] \n"
     ]
    },
    {
     "name": "stdout",
     "output_type": "stream",
     "text": [
      "Epoch: 80, Loss: 1.3575\n",
      "Average Validation Loss: 1.3427\n"
     ]
    },
    {
     "name": "stderr",
     "output_type": "stream",
     "text": [
      "Epoch 81: 100%|██████████| 3750/3750 [05:13<00:00, 11.95it/s, Batch Loss=1.28]\n"
     ]
    },
    {
     "name": "stdout",
     "output_type": "stream",
     "text": [
      "Epoch: 81, Loss: 1.3553\n",
      "Average Validation Loss: 1.3389\n"
     ]
    },
    {
     "name": "stderr",
     "output_type": "stream",
     "text": [
      "Epoch 82: 100%|██████████| 3750/3750 [05:12<00:00, 12.00it/s, Batch Loss=1.36]\n"
     ]
    },
    {
     "name": "stdout",
     "output_type": "stream",
     "text": [
      "Epoch: 82, Loss: 1.3528\n",
      "Average Validation Loss: 1.3371\n"
     ]
    },
    {
     "name": "stderr",
     "output_type": "stream",
     "text": [
      "Epoch 83: 100%|██████████| 3750/3750 [05:12<00:00, 11.99it/s, Batch Loss=1.45]\n"
     ]
    },
    {
     "name": "stdout",
     "output_type": "stream",
     "text": [
      "Epoch: 83, Loss: 1.3505\n",
      "Average Validation Loss: 1.3387\n"
     ]
    },
    {
     "name": "stderr",
     "output_type": "stream",
     "text": [
      "Epoch 84: 100%|██████████| 3750/3750 [05:12<00:00, 11.99it/s, Batch Loss=1.35]\n"
     ]
    },
    {
     "name": "stdout",
     "output_type": "stream",
     "text": [
      "Epoch: 84, Loss: 1.3478\n",
      "Average Validation Loss: 1.3369\n"
     ]
    },
    {
     "name": "stderr",
     "output_type": "stream",
     "text": [
      "Epoch 85: 100%|██████████| 3750/3750 [05:12<00:00, 12.00it/s, Batch Loss=1.2] \n"
     ]
    },
    {
     "name": "stdout",
     "output_type": "stream",
     "text": [
      "Epoch: 85, Loss: 1.3454\n",
      "Average Validation Loss: 1.3317\n"
     ]
    },
    {
     "name": "stderr",
     "output_type": "stream",
     "text": [
      "Epoch 86: 100%|██████████| 3750/3750 [05:12<00:00, 11.99it/s, Batch Loss=1.45]\n"
     ]
    },
    {
     "name": "stdout",
     "output_type": "stream",
     "text": [
      "Epoch: 86, Loss: 1.3423\n",
      "Average Validation Loss: 1.3338\n"
     ]
    },
    {
     "name": "stderr",
     "output_type": "stream",
     "text": [
      "Epoch 87: 100%|██████████| 3750/3750 [05:12<00:00, 11.99it/s, Batch Loss=1.31]\n"
     ]
    },
    {
     "name": "stdout",
     "output_type": "stream",
     "text": [
      "Epoch: 87, Loss: 1.3394\n",
      "Average Validation Loss: 1.3319\n"
     ]
    },
    {
     "name": "stderr",
     "output_type": "stream",
     "text": [
      "Epoch 88: 100%|██████████| 3750/3750 [05:12<00:00, 12.00it/s, Batch Loss=1.28]\n"
     ]
    },
    {
     "name": "stdout",
     "output_type": "stream",
     "text": [
      "Epoch: 88, Loss: 1.3370\n",
      "Average Validation Loss: 1.3289\n"
     ]
    },
    {
     "name": "stderr",
     "output_type": "stream",
     "text": [
      "Epoch 89: 100%|██████████| 3750/3750 [05:12<00:00, 11.99it/s, Batch Loss=1.4] \n"
     ]
    },
    {
     "name": "stdout",
     "output_type": "stream",
     "text": [
      "Epoch: 89, Loss: 1.3345\n",
      "Average Validation Loss: 1.3296\n"
     ]
    },
    {
     "name": "stderr",
     "output_type": "stream",
     "text": [
      "Epoch 90: 100%|██████████| 3750/3750 [05:12<00:00, 11.99it/s, Batch Loss=1.51]\n"
     ]
    },
    {
     "name": "stdout",
     "output_type": "stream",
     "text": [
      "Epoch: 90, Loss: 1.3335\n",
      "Average Validation Loss: 1.3251\n"
     ]
    },
    {
     "name": "stderr",
     "output_type": "stream",
     "text": [
      "Epoch 91: 100%|██████████| 3750/3750 [05:12<00:00, 12.00it/s, Batch Loss=1.16]\n"
     ]
    },
    {
     "name": "stdout",
     "output_type": "stream",
     "text": [
      "Epoch: 91, Loss: 1.3311\n",
      "Average Validation Loss: 1.3251\n"
     ]
    },
    {
     "name": "stderr",
     "output_type": "stream",
     "text": [
      "Epoch 92: 100%|██████████| 3750/3750 [05:12<00:00, 12.00it/s, Batch Loss=1.32]\n"
     ]
    },
    {
     "name": "stdout",
     "output_type": "stream",
     "text": [
      "Epoch: 92, Loss: 1.3284\n",
      "Average Validation Loss: 1.3235\n"
     ]
    },
    {
     "name": "stderr",
     "output_type": "stream",
     "text": [
      "Epoch 93: 100%|██████████| 3750/3750 [05:12<00:00, 12.00it/s, Batch Loss=1.29]\n"
     ]
    },
    {
     "name": "stdout",
     "output_type": "stream",
     "text": [
      "Epoch: 93, Loss: 1.3267\n",
      "Average Validation Loss: 1.3221\n"
     ]
    },
    {
     "name": "stderr",
     "output_type": "stream",
     "text": [
      "Epoch 94: 100%|██████████| 3750/3750 [05:12<00:00, 12.00it/s, Batch Loss=1.4] \n"
     ]
    },
    {
     "name": "stdout",
     "output_type": "stream",
     "text": [
      "Epoch: 94, Loss: 1.3250\n",
      "Average Validation Loss: 1.3251\n"
     ]
    },
    {
     "name": "stderr",
     "output_type": "stream",
     "text": [
      "Epoch 95: 100%|██████████| 3750/3750 [05:12<00:00, 12.00it/s, Batch Loss=1.26]\n"
     ]
    },
    {
     "name": "stdout",
     "output_type": "stream",
     "text": [
      "Epoch: 95, Loss: 1.3235\n",
      "Average Validation Loss: 1.3213\n"
     ]
    },
    {
     "name": "stderr",
     "output_type": "stream",
     "text": [
      "Epoch 96: 100%|██████████| 3750/3750 [05:12<00:00, 12.00it/s, Batch Loss=1.27]\n"
     ]
    },
    {
     "name": "stdout",
     "output_type": "stream",
     "text": [
      "Epoch: 96, Loss: 1.3219\n",
      "Average Validation Loss: 1.3195\n"
     ]
    },
    {
     "name": "stderr",
     "output_type": "stream",
     "text": [
      "Epoch 97: 100%|██████████| 3750/3750 [05:12<00:00, 12.00it/s, Batch Loss=1.44]\n"
     ]
    },
    {
     "name": "stdout",
     "output_type": "stream",
     "text": [
      "Epoch: 97, Loss: 1.3207\n",
      "Average Validation Loss: 1.3196\n"
     ]
    },
    {
     "name": "stderr",
     "output_type": "stream",
     "text": [
      "Epoch 98: 100%|██████████| 3750/3750 [05:12<00:00, 11.99it/s, Batch Loss=1.25]\n"
     ]
    },
    {
     "name": "stdout",
     "output_type": "stream",
     "text": [
      "Epoch: 98, Loss: 1.3188\n",
      "Average Validation Loss: 1.3179\n"
     ]
    },
    {
     "name": "stderr",
     "output_type": "stream",
     "text": [
      "Epoch 99: 100%|██████████| 3750/3750 [05:12<00:00, 12.00it/s, Batch Loss=1.3] \n"
     ]
    },
    {
     "name": "stdout",
     "output_type": "stream",
     "text": [
      "Epoch: 99, Loss: 1.3170\n",
      "Average Validation Loss: 1.3176\n"
     ]
    },
    {
     "name": "stderr",
     "output_type": "stream",
     "text": [
      "Epoch 100: 100%|██████████| 3750/3750 [05:12<00:00, 12.00it/s, Batch Loss=1.21]\n"
     ]
    },
    {
     "name": "stdout",
     "output_type": "stream",
     "text": [
      "Epoch: 100, Loss: 1.3155\n",
      "Average Validation Loss: 1.3131\n"
     ]
    },
    {
     "name": "stderr",
     "output_type": "stream",
     "text": [
      "Epoch 101: 100%|██████████| 3750/3750 [05:12<00:00, 12.00it/s, Batch Loss=1.38]\n"
     ]
    },
    {
     "name": "stdout",
     "output_type": "stream",
     "text": [
      "Epoch: 101, Loss: 1.3138\n",
      "Average Validation Loss: 1.3148\n"
     ]
    },
    {
     "name": "stderr",
     "output_type": "stream",
     "text": [
      "Epoch 102: 100%|██████████| 3750/3750 [05:12<00:00, 12.00it/s, Batch Loss=1.35]\n"
     ]
    },
    {
     "name": "stdout",
     "output_type": "stream",
     "text": [
      "Epoch: 102, Loss: 1.3127\n",
      "Average Validation Loss: 1.3182\n"
     ]
    },
    {
     "name": "stderr",
     "output_type": "stream",
     "text": [
      "Epoch 103: 100%|██████████| 3750/3750 [05:12<00:00, 12.00it/s, Batch Loss=1.34]\n"
     ]
    },
    {
     "name": "stdout",
     "output_type": "stream",
     "text": [
      "Epoch: 103, Loss: 1.3112\n",
      "Average Validation Loss: 1.3135\n"
     ]
    },
    {
     "name": "stderr",
     "output_type": "stream",
     "text": [
      "Epoch 104: 100%|██████████| 3750/3750 [05:12<00:00, 11.99it/s, Batch Loss=1.28]\n"
     ]
    },
    {
     "name": "stdout",
     "output_type": "stream",
     "text": [
      "Epoch: 104, Loss: 1.3103\n",
      "Average Validation Loss: 1.3162\n"
     ]
    },
    {
     "name": "stderr",
     "output_type": "stream",
     "text": [
      "Epoch 105: 100%|██████████| 3750/3750 [05:12<00:00, 12.00it/s, Batch Loss=1.21]\n"
     ]
    },
    {
     "name": "stdout",
     "output_type": "stream",
     "text": [
      "Epoch: 105, Loss: 1.3092\n",
      "Average Validation Loss: 1.3110\n"
     ]
    },
    {
     "name": "stderr",
     "output_type": "stream",
     "text": [
      "Epoch 106: 100%|██████████| 3750/3750 [05:12<00:00, 11.99it/s, Batch Loss=1.28]\n"
     ]
    },
    {
     "name": "stdout",
     "output_type": "stream",
     "text": [
      "Epoch: 106, Loss: 1.3080\n",
      "Average Validation Loss: 1.3099\n"
     ]
    },
    {
     "name": "stderr",
     "output_type": "stream",
     "text": [
      "Epoch 107: 100%|██████████| 3750/3750 [05:12<00:00, 12.00it/s, Batch Loss=1.29]\n"
     ]
    },
    {
     "name": "stdout",
     "output_type": "stream",
     "text": [
      "Epoch: 107, Loss: 1.3065\n",
      "Average Validation Loss: 1.3129\n"
     ]
    },
    {
     "name": "stderr",
     "output_type": "stream",
     "text": [
      "Epoch 108: 100%|██████████| 3750/3750 [05:13<00:00, 11.95it/s, Batch Loss=1.3] \n"
     ]
    },
    {
     "name": "stdout",
     "output_type": "stream",
     "text": [
      "Epoch: 108, Loss: 1.3046\n",
      "Average Validation Loss: 1.3104\n"
     ]
    },
    {
     "name": "stderr",
     "output_type": "stream",
     "text": [
      "Epoch 109: 100%|██████████| 3750/3750 [05:13<00:00, 11.96it/s, Batch Loss=1.3] \n"
     ]
    },
    {
     "name": "stdout",
     "output_type": "stream",
     "text": [
      "Epoch: 109, Loss: 1.3032\n",
      "Average Validation Loss: 1.3115\n"
     ]
    },
    {
     "name": "stderr",
     "output_type": "stream",
     "text": [
      "Epoch 110: 100%|██████████| 3750/3750 [05:13<00:00, 11.97it/s, Batch Loss=1.41]\n"
     ]
    },
    {
     "name": "stdout",
     "output_type": "stream",
     "text": [
      "Epoch: 110, Loss: 1.3016\n",
      "Average Validation Loss: 1.3078\n"
     ]
    },
    {
     "name": "stderr",
     "output_type": "stream",
     "text": [
      "Epoch 111: 100%|██████████| 3750/3750 [05:13<00:00, 11.96it/s, Batch Loss=1.31]\n"
     ]
    },
    {
     "name": "stdout",
     "output_type": "stream",
     "text": [
      "Epoch: 111, Loss: 1.3004\n",
      "Average Validation Loss: 1.3083\n"
     ]
    },
    {
     "name": "stderr",
     "output_type": "stream",
     "text": [
      "Epoch 112: 100%|██████████| 3750/3750 [05:13<00:00, 11.96it/s, Batch Loss=1.25]\n"
     ]
    },
    {
     "name": "stdout",
     "output_type": "stream",
     "text": [
      "Epoch: 112, Loss: 1.2989\n",
      "Average Validation Loss: 1.3055\n"
     ]
    },
    {
     "name": "stderr",
     "output_type": "stream",
     "text": [
      "Epoch 113: 100%|██████████| 3750/3750 [05:13<00:00, 11.97it/s, Batch Loss=1.23]\n"
     ]
    },
    {
     "name": "stdout",
     "output_type": "stream",
     "text": [
      "Epoch: 113, Loss: 1.2975\n",
      "Average Validation Loss: 1.3057\n"
     ]
    },
    {
     "name": "stderr",
     "output_type": "stream",
     "text": [
      "Epoch 114: 100%|██████████| 3750/3750 [05:13<00:00, 11.96it/s, Batch Loss=1.42]\n"
     ]
    },
    {
     "name": "stdout",
     "output_type": "stream",
     "text": [
      "Epoch: 114, Loss: 1.2958\n",
      "Average Validation Loss: 1.3037\n"
     ]
    },
    {
     "name": "stderr",
     "output_type": "stream",
     "text": [
      "Epoch 115: 100%|██████████| 3750/3750 [05:13<00:00, 11.98it/s, Batch Loss=1.24]\n"
     ]
    },
    {
     "name": "stdout",
     "output_type": "stream",
     "text": [
      "Epoch: 115, Loss: 1.2943\n",
      "Average Validation Loss: 1.3038\n"
     ]
    },
    {
     "name": "stderr",
     "output_type": "stream",
     "text": [
      "Epoch 116: 100%|██████████| 3750/3750 [05:12<00:00, 11.99it/s, Batch Loss=1.37]\n"
     ]
    },
    {
     "name": "stdout",
     "output_type": "stream",
     "text": [
      "Epoch: 116, Loss: 1.2928\n",
      "Average Validation Loss: 1.3015\n"
     ]
    },
    {
     "name": "stderr",
     "output_type": "stream",
     "text": [
      "Epoch 117: 100%|██████████| 3750/3750 [05:12<00:00, 11.99it/s, Batch Loss=1.21] \n"
     ]
    },
    {
     "name": "stdout",
     "output_type": "stream",
     "text": [
      "Epoch: 117, Loss: 1.2913\n",
      "Average Validation Loss: 1.3029\n"
     ]
    },
    {
     "name": "stderr",
     "output_type": "stream",
     "text": [
      "Epoch 118: 100%|██████████| 3750/3750 [05:12<00:00, 11.99it/s, Batch Loss=1.32]\n"
     ]
    },
    {
     "name": "stdout",
     "output_type": "stream",
     "text": [
      "Epoch: 118, Loss: 1.2904\n",
      "Average Validation Loss: 1.3027\n"
     ]
    },
    {
     "name": "stderr",
     "output_type": "stream",
     "text": [
      "Epoch 119: 100%|██████████| 3750/3750 [05:12<00:00, 11.98it/s, Batch Loss=1.17]\n"
     ]
    },
    {
     "name": "stdout",
     "output_type": "stream",
     "text": [
      "Epoch: 119, Loss: 1.2887\n",
      "Average Validation Loss: 1.3016\n"
     ]
    },
    {
     "name": "stderr",
     "output_type": "stream",
     "text": [
      "Epoch 120: 100%|██████████| 3750/3750 [05:12<00:00, 11.99it/s, Batch Loss=1.25]\n"
     ]
    },
    {
     "name": "stdout",
     "output_type": "stream",
     "text": [
      "Epoch: 120, Loss: 1.2873\n",
      "Average Validation Loss: 1.2998\n"
     ]
    },
    {
     "name": "stderr",
     "output_type": "stream",
     "text": [
      "Epoch 121: 100%|██████████| 3750/3750 [05:12<00:00, 11.99it/s, Batch Loss=1.35]\n"
     ]
    },
    {
     "name": "stdout",
     "output_type": "stream",
     "text": [
      "Epoch: 121, Loss: 1.2865\n",
      "Average Validation Loss: 1.2984\n"
     ]
    },
    {
     "name": "stderr",
     "output_type": "stream",
     "text": [
      "Epoch 122: 100%|██████████| 3750/3750 [05:12<00:00, 11.99it/s, Batch Loss=1.36]\n"
     ]
    },
    {
     "name": "stdout",
     "output_type": "stream",
     "text": [
      "Epoch: 122, Loss: 1.2848\n",
      "Average Validation Loss: 1.2982\n"
     ]
    },
    {
     "name": "stderr",
     "output_type": "stream",
     "text": [
      "Epoch 123: 100%|██████████| 3750/3750 [05:12<00:00, 11.99it/s, Batch Loss=1.3] \n"
     ]
    },
    {
     "name": "stdout",
     "output_type": "stream",
     "text": [
      "Epoch: 123, Loss: 1.2835\n",
      "Average Validation Loss: 1.2988\n"
     ]
    },
    {
     "name": "stderr",
     "output_type": "stream",
     "text": [
      "Epoch 124: 100%|██████████| 3750/3750 [05:12<00:00, 11.99it/s, Batch Loss=1.29]\n"
     ]
    },
    {
     "name": "stdout",
     "output_type": "stream",
     "text": [
      "Epoch: 124, Loss: 1.2820\n",
      "Average Validation Loss: 1.2960\n"
     ]
    },
    {
     "name": "stderr",
     "output_type": "stream",
     "text": [
      "Epoch 125: 100%|██████████| 3750/3750 [05:12<00:00, 11.99it/s, Batch Loss=1.27]\n"
     ]
    },
    {
     "name": "stdout",
     "output_type": "stream",
     "text": [
      "Epoch: 125, Loss: 1.2808\n",
      "Average Validation Loss: 1.2983\n"
     ]
    },
    {
     "name": "stderr",
     "output_type": "stream",
     "text": [
      "Epoch 126: 100%|██████████| 3750/3750 [05:12<00:00, 11.98it/s, Batch Loss=1.28]\n"
     ]
    },
    {
     "name": "stdout",
     "output_type": "stream",
     "text": [
      "Epoch: 126, Loss: 1.2795\n",
      "Average Validation Loss: 1.2954\n"
     ]
    },
    {
     "name": "stderr",
     "output_type": "stream",
     "text": [
      "Epoch 127: 100%|██████████| 3750/3750 [05:12<00:00, 11.99it/s, Batch Loss=1.22]\n"
     ]
    },
    {
     "name": "stdout",
     "output_type": "stream",
     "text": [
      "Epoch: 127, Loss: 1.2787\n",
      "Average Validation Loss: 1.2941\n"
     ]
    },
    {
     "name": "stderr",
     "output_type": "stream",
     "text": [
      "Epoch 128: 100%|██████████| 3750/3750 [05:13<00:00, 11.98it/s, Batch Loss=1.26] \n"
     ]
    },
    {
     "name": "stdout",
     "output_type": "stream",
     "text": [
      "Epoch: 128, Loss: 1.2773\n",
      "Average Validation Loss: 1.2939\n"
     ]
    },
    {
     "name": "stderr",
     "output_type": "stream",
     "text": [
      "Epoch 129: 100%|██████████| 3750/3750 [05:13<00:00, 11.98it/s, Batch Loss=1.25]\n"
     ]
    },
    {
     "name": "stdout",
     "output_type": "stream",
     "text": [
      "Epoch: 129, Loss: 1.2762\n",
      "Average Validation Loss: 1.2940\n"
     ]
    },
    {
     "name": "stderr",
     "output_type": "stream",
     "text": [
      "Epoch 130: 100%|██████████| 3750/3750 [05:12<00:00, 11.99it/s, Batch Loss=1.09]\n"
     ]
    },
    {
     "name": "stdout",
     "output_type": "stream",
     "text": [
      "Epoch: 130, Loss: 1.2749\n",
      "Average Validation Loss: 1.2918\n"
     ]
    },
    {
     "name": "stderr",
     "output_type": "stream",
     "text": [
      "Epoch 131: 100%|██████████| 3750/3750 [05:12<00:00, 11.99it/s, Batch Loss=1.28]\n"
     ]
    },
    {
     "name": "stdout",
     "output_type": "stream",
     "text": [
      "Epoch: 131, Loss: 1.2740\n",
      "Average Validation Loss: 1.2915\n"
     ]
    },
    {
     "name": "stderr",
     "output_type": "stream",
     "text": [
      "Epoch 132: 100%|██████████| 3750/3750 [05:12<00:00, 11.99it/s, Batch Loss=1.19] \n"
     ]
    },
    {
     "name": "stdout",
     "output_type": "stream",
     "text": [
      "Epoch: 132, Loss: 1.2728\n",
      "Average Validation Loss: 1.2917\n"
     ]
    },
    {
     "name": "stderr",
     "output_type": "stream",
     "text": [
      "Epoch 133: 100%|██████████| 3750/3750 [05:12<00:00, 11.99it/s, Batch Loss=1.25]\n"
     ]
    },
    {
     "name": "stdout",
     "output_type": "stream",
     "text": [
      "Epoch: 133, Loss: 1.2716\n",
      "Average Validation Loss: 1.2934\n"
     ]
    },
    {
     "name": "stderr",
     "output_type": "stream",
     "text": [
      "Epoch 134: 100%|██████████| 3750/3750 [05:12<00:00, 11.98it/s, Batch Loss=1.36]\n"
     ]
    },
    {
     "name": "stdout",
     "output_type": "stream",
     "text": [
      "Epoch: 134, Loss: 1.2704\n",
      "Average Validation Loss: 1.2917\n"
     ]
    },
    {
     "name": "stderr",
     "output_type": "stream",
     "text": [
      "Epoch 135: 100%|██████████| 3750/3750 [05:12<00:00, 11.99it/s, Batch Loss=1.17]\n"
     ]
    },
    {
     "name": "stdout",
     "output_type": "stream",
     "text": [
      "Epoch: 135, Loss: 1.2695\n",
      "Average Validation Loss: 1.2916\n"
     ]
    },
    {
     "name": "stderr",
     "output_type": "stream",
     "text": [
      "Epoch 136: 100%|██████████| 3750/3750 [05:12<00:00, 11.98it/s, Batch Loss=1.16]\n"
     ]
    },
    {
     "name": "stdout",
     "output_type": "stream",
     "text": [
      "Epoch: 136, Loss: 1.2687\n",
      "Average Validation Loss: 1.2903\n"
     ]
    },
    {
     "name": "stderr",
     "output_type": "stream",
     "text": [
      "Epoch 137: 100%|██████████| 3750/3750 [05:12<00:00, 12.00it/s, Batch Loss=1.35]\n"
     ]
    },
    {
     "name": "stdout",
     "output_type": "stream",
     "text": [
      "Epoch: 137, Loss: 1.2675\n",
      "Average Validation Loss: 1.2896\n"
     ]
    },
    {
     "name": "stderr",
     "output_type": "stream",
     "text": [
      "Epoch 138: 100%|██████████| 3750/3750 [05:12<00:00, 11.99it/s, Batch Loss=1.15]\n"
     ]
    },
    {
     "name": "stdout",
     "output_type": "stream",
     "text": [
      "Epoch: 138, Loss: 1.2664\n",
      "Average Validation Loss: 1.2890\n"
     ]
    },
    {
     "name": "stderr",
     "output_type": "stream",
     "text": [
      "Epoch 139: 100%|██████████| 3750/3750 [05:12<00:00, 11.99it/s, Batch Loss=1.28]\n"
     ]
    },
    {
     "name": "stdout",
     "output_type": "stream",
     "text": [
      "Epoch: 139, Loss: 1.2650\n",
      "Average Validation Loss: 1.2888\n"
     ]
    },
    {
     "name": "stderr",
     "output_type": "stream",
     "text": [
      "Epoch 140: 100%|██████████| 3750/3750 [05:12<00:00, 11.99it/s, Batch Loss=1.13]\n"
     ]
    },
    {
     "name": "stdout",
     "output_type": "stream",
     "text": [
      "Epoch: 140, Loss: 1.2642\n",
      "Average Validation Loss: 1.2888\n"
     ]
    },
    {
     "name": "stderr",
     "output_type": "stream",
     "text": [
      "Epoch 141: 100%|██████████| 3750/3750 [05:13<00:00, 11.98it/s, Batch Loss=1.33]\n"
     ]
    },
    {
     "name": "stdout",
     "output_type": "stream",
     "text": [
      "Epoch: 141, Loss: 1.2628\n",
      "Average Validation Loss: 1.2885\n"
     ]
    },
    {
     "name": "stderr",
     "output_type": "stream",
     "text": [
      "Epoch 142: 100%|██████████| 3750/3750 [05:12<00:00, 11.99it/s, Batch Loss=1.32]\n"
     ]
    },
    {
     "name": "stdout",
     "output_type": "stream",
     "text": [
      "Epoch: 142, Loss: 1.2619\n",
      "Average Validation Loss: 1.2899\n"
     ]
    },
    {
     "name": "stderr",
     "output_type": "stream",
     "text": [
      "Epoch 143: 100%|██████████| 3750/3750 [05:13<00:00, 11.97it/s, Batch Loss=1.27] \n"
     ]
    },
    {
     "name": "stdout",
     "output_type": "stream",
     "text": [
      "Epoch: 143, Loss: 1.2609\n",
      "Average Validation Loss: 1.2879\n"
     ]
    },
    {
     "name": "stderr",
     "output_type": "stream",
     "text": [
      "Epoch 144: 100%|██████████| 3750/3750 [05:13<00:00, 11.97it/s, Batch Loss=1.37]\n"
     ]
    },
    {
     "name": "stdout",
     "output_type": "stream",
     "text": [
      "Epoch: 144, Loss: 1.2599\n",
      "Average Validation Loss: 1.2869\n"
     ]
    },
    {
     "name": "stderr",
     "output_type": "stream",
     "text": [
      "Epoch 145: 100%|██████████| 3750/3750 [05:12<00:00, 11.99it/s, Batch Loss=1.12]\n"
     ]
    },
    {
     "name": "stdout",
     "output_type": "stream",
     "text": [
      "Epoch: 145, Loss: 1.2586\n",
      "Average Validation Loss: 1.2873\n"
     ]
    },
    {
     "name": "stderr",
     "output_type": "stream",
     "text": [
      "Epoch 146: 100%|██████████| 3750/3750 [05:12<00:00, 11.99it/s, Batch Loss=1.18]\n"
     ]
    },
    {
     "name": "stdout",
     "output_type": "stream",
     "text": [
      "Epoch: 146, Loss: 1.2569\n",
      "Average Validation Loss: 1.2866\n"
     ]
    },
    {
     "name": "stderr",
     "output_type": "stream",
     "text": [
      "Epoch 147: 100%|██████████| 3750/3750 [05:13<00:00, 11.98it/s, Batch Loss=1.32]\n"
     ]
    },
    {
     "name": "stdout",
     "output_type": "stream",
     "text": [
      "Epoch: 147, Loss: 1.2557\n",
      "Average Validation Loss: 1.2858\n"
     ]
    },
    {
     "name": "stderr",
     "output_type": "stream",
     "text": [
      "Epoch 148: 100%|██████████| 3750/3750 [05:12<00:00, 11.99it/s, Batch Loss=1.26]\n"
     ]
    },
    {
     "name": "stdout",
     "output_type": "stream",
     "text": [
      "Epoch: 148, Loss: 1.2546\n",
      "Average Validation Loss: 1.2859\n"
     ]
    },
    {
     "name": "stderr",
     "output_type": "stream",
     "text": [
      "Epoch 149: 100%|██████████| 3750/3750 [05:12<00:00, 11.99it/s, Batch Loss=1.22]\n"
     ]
    },
    {
     "name": "stdout",
     "output_type": "stream",
     "text": [
      "Epoch: 149, Loss: 1.2533\n",
      "Average Validation Loss: 1.2858\n"
     ]
    },
    {
     "name": "stderr",
     "output_type": "stream",
     "text": [
      "Epoch 150: 100%|██████████| 3750/3750 [05:13<00:00, 11.98it/s, Batch Loss=1.22]\n"
     ]
    },
    {
     "name": "stdout",
     "output_type": "stream",
     "text": [
      "Epoch: 150, Loss: 1.2515\n",
      "Average Validation Loss: 1.2858\n"
     ]
    }
   ],
   "source": [
    "import torch\n",
    "import torch.nn.functional as F\n",
    "from transformers import get_linear_schedule_with_warmup\n",
    "from torch import optim\n",
    "from tqdm import tqdm\n",
    "\n",
    "torch.manual_seed(seed) \n",
    "torch.cuda.manual_seed(seed)\n",
    "torch.cuda.manual_seed_all(seed)\n",
    "\n",
    "lr = 0.0007\n",
    "optimizer = optim.Adam(\n",
    "    transformer.parameters(), lr=lr, betas=(0.9, 0.98), eps=1e-9, weight_decay=0.00\n",
    ")\n",
    "\n",
    "# TODO: experiment with gradient accumulation\n",
    "num_epochs = 150\n",
    "# TODO: add warmup steps\n",
    "num_training_steps = len(train_loader) * num_epochs\n",
    "num_warmup_steps = int(0.1 * num_training_steps) # TODO: experiment with that\n",
    " \n",
    "scheduler = get_linear_schedule_with_warmup(\n",
    "    optimizer, num_warmup_steps=num_warmup_steps, num_training_steps=num_training_steps\n",
    ")\n",
    "\n",
    "# Tracking history\n",
    "lr_history = []\n",
    "loss_history = []\n",
    "val_loss_history = []\n",
    "\n",
    "for epoch in range(num_epochs):\n",
    "    epoch_loss = 0.0\n",
    "    transformer.train()\n",
    "\n",
    "    # Progress bar for training\n",
    "    progress_bar = tqdm(train_loader, desc=f\"Epoch {epoch + 1}\")\n",
    "\n",
    "    for step, (src_data, tgt_data) in enumerate(progress_bar):\n",
    "        src_data, tgt_data = src_data.to(device), tgt_data.to(device)\n",
    "\n",
    "        # Forward pass\n",
    "        output = transformer(src_data, tgt_data[:, :-1])\n",
    "\n",
    "        # Compute loss\n",
    "        loss = F.cross_entropy(\n",
    "            output.contiguous().view(-1, tgt_vocab_size),\n",
    "            tgt_data[:, 1:].contiguous().view(-1),\n",
    "            ignore_index=tokenizer.pad_token_id\n",
    "        )\n",
    "\n",
    "        # Track loss\n",
    "        loss_history.append(loss.item())\n",
    "        epoch_loss += loss.item()\n",
    "        lr_history.append(optimizer.param_groups[0][\"lr\"])\n",
    "\n",
    "        # Backpropagation\n",
    "        optimizer.zero_grad()\n",
    "        loss.backward()\n",
    "        torch.nn.utils.clip_grad_norm_(transformer.parameters(), 1.0)\n",
    "        optimizer.step()\n",
    "        scheduler.step()\n",
    "\n",
    "        progress_bar.set_postfix({\"Batch Loss\": loss.item()})\n",
    "\n",
    "    avg_epoch_loss = epoch_loss / len(train_loader)\n",
    "    print(f\"Epoch: {epoch + 1}, Loss: {avg_epoch_loss:.4f}\")\n",
    "\n",
    "    transformer.eval()\n",
    "    total_val_loss = 0.0\n",
    "\n",
    "    with torch.no_grad():\n",
    "        for val_src_data, val_tgt_data in val_loader:\n",
    "            val_src_data, val_tgt_data = val_src_data.to(device), val_tgt_data.to(device)\n",
    "\n",
    "            # Forward pass\n",
    "            val_output = transformer(val_src_data, val_tgt_data[:, :-1])\n",
    "\n",
    "            val_loss = F.cross_entropy(\n",
    "                val_output.contiguous().view(-1, tgt_vocab_size),\n",
    "                val_tgt_data[:, 1:].contiguous().view(-1),\n",
    "                ignore_index=tokenizer.pad_token_id\n",
    "            )\n",
    "\n",
    "            total_val_loss += val_loss.item()\n",
    "\n",
    "    # Calculate average validation loss\n",
    "    avg_val_loss = total_val_loss / len(val_loader)\n",
    "    val_loss_history.append(avg_val_loss)\n",
    "    print(f\"Average Validation Loss: {avg_val_loss:.4f}\")\n"
   ]
  },
  {
   "cell_type": "code",
   "execution_count": 22,
   "id": "e736c0d0",
   "metadata": {},
   "outputs": [],
   "source": [
    "# import gc\n",
    "# del transformer\n",
    "# gc.collect()"
   ]
  },
  {
   "cell_type": "markdown",
   "id": "83ebbec4b3c21794",
   "metadata": {},
   "source": [
    "# Show charts with lr and loss"
   ]
  },
  {
   "cell_type": "code",
   "execution_count": 23,
   "id": "d9ea000c71a19b90",
   "metadata": {
    "ExecuteTime": {
     "end_time": "2025-03-14T14:05:08.610197Z",
     "start_time": "2025-03-14T14:05:08.441158Z"
    },
    "trusted": true
   },
   "outputs": [
    {
     "data": {
      "image/png": "[encoded data removed]",
      "text/plain": [
       "<Figure size 640x480 with 2 Axes>"
      ]
     },
     "metadata": {},
     "output_type": "display_data"
    }
   ],
   "source": [
    "from matplotlib import pyplot as plt\n",
    "\n",
    "# Ensure all histories are properly formatted\n",
    "assert len(lr_history) == len(\n",
    "    loss_history\n",
    "), \"Length of lr_history and loss_history must be the same\"\n",
    "\n",
    "# Create figure and primary y-axis for Loss\n",
    "fig, ax1 = plt.subplots()\n",
    "\n",
    "ax1.set_title(\"Learning Rate vs. Loss\")\n",
    "ax1.set_xlabel(\"Training Step\")\n",
    "ax1.set_ylabel(\"Loss\", color=\"tab:red\")\n",
    "ax1.plot(range(len(loss_history)), loss_history, color=\"tab:red\", label=\"Training Loss\")\n",
    "ax1.tick_params(axis=\"y\", labelcolor=\"tab:red\")\n",
    "\n",
    "# Plot validation loss (assuming it occurs every 'epoch_interval' steps)\n",
    "epoch_interval = len(loss_history) // len(val_loss_history)\n",
    "val_x = [\n",
    "    i * epoch_interval for i in range(len(val_loss_history))\n",
    "]  # X values for validation loss\n",
    "ax1.plot(\n",
    "    val_x,\n",
    "    val_loss_history,\n",
    "    color=\"tab:orange\",\n",
    "    marker=\"o\",\n",
    "    linestyle=\"dashed\",\n",
    "    label=\"Validation Loss\",\n",
    ")\n",
    "\n",
    "# Create secondary y-axis for Learning Rate\n",
    "ax2 = ax1.twinx()\n",
    "ax2.set_ylabel(\"Learning Rate\", color=\"tab:blue\")\n",
    "ax2.plot(\n",
    "    range(len(lr_history)),\n",
    "    lr_history,\n",
    "    color=\"tab:blue\",\n",
    "    linestyle=\"--\",\n",
    "    label=\"Learning Rate\",\n",
    ")\n",
    "ax2.tick_params(axis=\"y\", labelcolor=\"tab:blue\")\n",
    "\n",
    "# Legends\n",
    "ax1.legend(loc=\"upper left\")\n",
    "ax2.legend(loc=\"upper right\")\n",
    "\n",
    "plt.show()"
   ]
  },
  {
   "cell_type": "markdown",
   "id": "98b42d308d6a31e2",
   "metadata": {},
   "source": [
    "# Model inference"
   ]
  },
  {
   "cell_type": "code",
   "execution_count": 91,
   "id": "bcce66b6b0763edf",
   "metadata": {
    "ExecuteTime": {
     "end_time": "2025-03-14T14:05:18.725518Z",
     "start_time": "2025-03-14T14:05:17.948403Z"
    },
    "trusted": true
   },
   "outputs": [],
   "source": [
    "def inference(input, tokenizer, model, max_length=TGT_MAX_SEQ):\n",
    "    \"\"\"\n",
    "    Translates a single Polish sentence into Ukrainian using greedy decoding.\n",
    "    \"\"\"\n",
    "    model.eval()  # Set the model to evaluation mode\n",
    "\n",
    "    tokens = tokenizer.encode(input)\n",
    "    tokens = torch.tensor(tokens).unsqueeze(0).to(device)  # Shape: (1, seq_len)\n",
    "    # print(tokens)\n",
    "\n",
    "    # Start with the input sentence and an empty target sequence\n",
    "    src_data = tokens\n",
    "    tgt_data = torch.tensor([tokenizer.bos_token_id]).unsqueeze(0).to(device)\n",
    "\n",
    "    with torch.no_grad():\n",
    "        for _ in range(max_length):\n",
    "            output = model(src_data, tgt_data)\n",
    "\n",
    "            next_token_id = output[:, -1, :].argmax(dim=-1).item()\n",
    "\n",
    "            tgt_data = torch.cat([tgt_data, torch.tensor([[next_token_id]]).to(device)], dim=1)\n",
    "\n",
    "            if next_token_id == tokenizer.eos_token_id:\n",
    "                break\n",
    "\n",
    "    # Decode the token ids back to the sentence\n",
    "    translated_tokens = tgt_data.squeeze().tolist()\n",
    "    translated_sentence = tokenizer.decode(translated_tokens, skip_special_tokens=True)\n",
    "\n",
    "    return translated_sentence\n",
    "\n",
    "\n",
    "def inference_from_datasets(train_dataset: bool = True, index: int = 0) -> (str, str):\n",
    "    if train_dataset:\n",
    "        dataset = train_loader.dataset\n",
    "    else:\n",
    "        dataset = val_loader.dataset\n",
    "    src_input = tokenizer.decode(dataset[index][0].tolist(), skip_special_tokens=True)\n",
    "    translation = inference(src_input, tokenizer, transformer)\n",
    "\n",
    "    print('Dataset:', 'Train' if train_dataset else 'Validation')\n",
    "    print('Src:', src_input)\n",
    "    print('Generated translation:', translation)\n",
    "    real_translation = tokenizer.decode(dataset[index][1].tolist(), skip_special_tokens=True)\n",
    "    print('Real translation:      ', real_translation)\n",
    "    return src_input, translation, real_translation"
   ]
  },
  {
   "cell_type": "markdown",
   "id": "9c365308",
   "metadata": {},
   "source": [
    "<!-- # SacreBLEU metrics -->"
   ]
  },
  {
   "cell_type": "code",
   "execution_count": 92,
   "id": "530f3496",
   "metadata": {},
   "outputs": [
    {
     "name": "stderr",
     "output_type": "stream",
     "text": [
      "[nltk_data] Downloading package wordnet to\n",
      "[nltk_data]     D:\\Users\\mlaudan\\AppData\\Roaming\\nltk_data...\n",
      "[nltk_data]   Package wordnet is already up-to-date!\n",
      "[nltk_data] Downloading package punkt_tab to\n",
      "[nltk_data]     D:\\Users\\mlaudan\\AppData\\Roaming\\nltk_data...\n",
      "[nltk_data]   Package punkt_tab is already up-to-date!\n",
      "[nltk_data] Downloading package omw-1.4 to\n",
      "[nltk_data]     D:\\Users\\mlaudan\\AppData\\Roaming\\nltk_data...\n",
      "[nltk_data]   Package omw-1.4 is already up-to-date!\n"
     ]
    }
   ],
   "source": [
    "import evaluate\n",
    "import httpx\n",
    "# Load metrics\n",
    "rouge = evaluate.load(\"rouge\")\n",
    "sacrebleu = evaluate.load(\"sacrebleu\")\n",
    "meteor = evaluate.load(\"meteor\")\n",
    "chrf = evaluate.load(\"chrf\")\n",
    "bleu = evaluate.load(\"bleu\")"
   ]
  },
  {
   "cell_type": "code",
   "execution_count": 94,
   "id": "d8feb000",
   "metadata": {},
   "outputs": [
    {
     "name": "stdout",
     "output_type": "stream",
     "text": [
      "Dataset: Validation\n",
      "Src: zone de service; carré service attempt\n",
      "Generated translation: somme de service; tâche de service\n",
      "Real translation:       short serve service de côté; service latéral\n",
      "Translation from DeepL: zone de service; carré service attempt\n",
      "DEEEPL\n",
      "\n",
      "Dataset: Validation\n",
      "Src: New product and growers are not familiar with it.\n",
      "Generated translation: Les nouveaux produits et les producteurs ne connaissent pas.\n",
      "Real translation:       complexe II de la respiration fongique (succinate déshydrogénase); 7\n",
      "Translation from DeepL: Il s'agit d'un nouveau produit que les producteurs ne connaissent pas.\n",
      "DEEEPL\n",
      "\n",
      "Dataset: Validation\n",
      "Src: Would the answer be different if Canada were to enter into an agreement under Article 11 of the Directive?\n",
      "Generated translation: La réponse est-elle différente si le Canada devait entrer dans une entente en vertu de l'article 11 de la Directive?\n",
      "Real translation:       La réponse serait-elle différente si le Canada concluait un accord aux termes de l'article 11 de la Directive ?\n",
      "Translation from DeepL: La réponse serait-elle différente si le Canada concluait un accord au titre de l'article 11 de la directive ?\n",
      "DEEEPL\n",
      "\n",
      "Dataset: Validation\n",
      "Src: Each year this number grows by approximately 1000.\n",
      "Generated translation: Chaque année, ce nombre croît d’environ 1 000.\n",
      "Real translation:       Quelques 1 000 appareils s’ajoutent chaque année.\n",
      "Translation from DeepL: Chaque année, ce nombre augmente d'environ 1000 personnes.\n",
      "DEEEPL\n",
      "\n",
      "Dataset: Validation\n",
      "Src: Program Audit of the Aboriginal Languages Initiative October 20, 2004\n",
      "Generated translation: Vérification du Programme de l'Initiative des langues autochtones du 20 octobre 2004\n",
      "Real translation:       Programme de vérification de l'Initiative des langues autochtones Le 20 octobre 2004\n",
      "Translation from DeepL: Audit de programme de l'initiative en faveur des langues autochtones 20 octobre 2004\n",
      "DEEEPL\n",
      "\n",
      "Dataset: Validation\n",
      "Src: These formats, in some instances, cannot legally be changed.\n",
      "Generated translation: Ces formats, dans certains cas, ne peuvent pas être modifiés légalement.\n",
      "Real translation:       Dans certains cas, ces formats ne peuvent être changés légalement.\n",
      "Translation from DeepL: Dans certains cas, ces formats ne peuvent pas être modifiés légalement.\n",
      "DEEEPL\n",
      "\n",
      "Dataset: Validation\n",
      "Src: Any persons lobbying on behalf of the Applicant must be registered pursuant to the Lobbyist Reg istration Act.\n",
      "Generated translation: Toute personne qui réglemente le demandeur doit être enregistrée conformément à la Loi sur les contrôles de conduite des shampooitures.\n",
      "Real translation:       Toute personne faisant du lobbying au nom du demandeur doit être dûment enregistrée conformément à la Loi sur l’enregistremen t des lobbyistes.\n",
      "Translation from DeepL: Toute personne exerçant des activités de lobbying au nom du demandeur doit être enregistrée conformément à la loi sur la réglementation des activités de lobbying.\n",
      "DEEEPL\n",
      "\n",
      "Dataset: Validation\n",
      "Src: CONSTRUCTION CLAUDE CHARBONNEAU INC - Detailed Report Contract Detail Vendor Name:\n",
      "Generated translation: CONSTRUCTION CLAUDE1995 AUivesBONNEAU INC - Rapport détaillé Détail du contrat Nom du vendeur :\n",
      "Real translation:       CONSTRUCTION CLAUDE CHARBONNEAU INC - Rapport détaillé Détail du contrat Nom du vendeur :\n",
      "Translation from DeepL: CONSTRUCTION CLAUDE CHARBONNEAU INC - Rapport détaillé Détail du contrat Nom du fournisseur :\n",
      "DEEEPL\n",
      "\n",
      "Dataset: Validation\n",
      "Src: • Profile of Canadian Private Galleries and their Exporting Practices HTML -- PDF \n",
      "Generated translation: • Profil des galeries privées canadiennes et de leurs pratiques d'exportation HTML -- PDF \n",
      "Real translation:       • Profil des galeries d'art privées canadiennes et de leurs pratiques en matière d'exportation HTML -- PDF \n",
      "Translation from DeepL: - Profil des galeries privées canadiennes et de leurs pratiques d'exportation HTML -- PDF\n",
      "DEEEPL\n",
      "\n",
      "Dataset: Validation\n",
      "Src: Imposition of additional duties\n",
      "Generated translation: Imposition de droits supplémentaires\n",
      "Real translation:       Tarif des douanes 7\n",
      "Translation from DeepL: Imposition de droits supplémentaires\n",
      "DEEEPL\n",
      "\n",
      "Dataset: Validation\n",
      "Src: • elaborate, with the intern, a skills development plan tailored to his(her) needs; and,\n",
      "Generated translation: • d’évaluer, avec le stagiaire, un plan de développement des compétences adapté à ses besoins;\n",
      "Real translation:       • élaborer avec le (la) stagiaire un plan de développement professionnel adapté à ses besoins; et,\n",
      "Translation from DeepL: - élaborer, avec le stagiaire, un plan de développement des compétences adapté à ses besoins ; et,\n",
      "DEEEPL\n",
      "\n",
      "Dataset: Validation\n",
      "Src: Program authority for MAP rests with the Citizenship and Heritage Sector of the Department of Canadian Heritage (National Headquarters).\n",
      "Generated translation: L’autorité du PAM incombe au secteur de la citoyenneté et du patrimoine du ministère du Patrimoine canadien (Administration centrale).\n",
      "Real translation:       C'est le secteur du patrimoine et de la citoyenneté du ministère du Patrimoine canadien qui gère le programme (Administration centrale).\n",
      "Translation from DeepL: La responsabilité du programme MAP incombe au secteur Citoyenneté et Patrimoine du ministère du Patrimoine canadien (administration centrale).\n",
      "DEEEPL\n",
      "\n",
      "Dataset: Validation\n",
      "Src: Contribution of Diverse Canadians Raising Awareness Research on Diversity Family Violence Prevention Initiative\n",
      "Generated translation: Contribution des Canadiens et Canadiennes diversifiés Recherche sur la diversité sur la prévention de la violence familiale Initiative\n",
      "Real translation:       Contribution des Canadiens de diverses origines Sensibilisation Recherche sur la diversité Initiative de prévention de la violence familiale\n",
      "Translation from DeepL: Contribution des divers Canadiens Sensibilisation à la recherche sur la diversité Initiative de prévention de la violence familiale\n",
      "DEEEPL\n",
      "\n",
      "Dataset: Validation\n",
      "Src: Students who participated in a local or regional fair held the previous May.\n",
      "Generated translation: Les étudiants qui ont participé à une foire locale ou régionale ont tenu le mai précédent.\n",
      "Real translation:       Pour de plus amples renseignements Karen Branscombe Coordonnatrice nationale 1077, boul.\n",
      "Translation from DeepL: Les étudiants qui ont participé à une foire locale ou régionale au cours du mois de mai précédent.\n",
      "DEEEPL\n",
      "\n",
      "Dataset: Validation\n",
      "Src: RMD/PAR AQ\n",
      "Generated translation: DÉCLARATION DU MESSAGE/PRÉSENTATION\n",
      "Real translation:       Format =cccnnnnnnn c =code régional, n =numéro s/o\n",
      "Translation from DeepL: RMD/PAR AQ\n",
      "DEEEPL\n",
      "\n",
      "Dataset: Validation\n",
      "Src: The Copyright Board is an independent, quasi-judicial tribunal.\n",
      "Generated translation: La Commission du droit d'auteur est un tribunal quasi-judiciaire indépendant.\n",
      "Real translation:       La Commission du droit d'auteur est un tribunal quasi judiciaire indépendant.\n",
      "Translation from DeepL: La Commission du droit d'auteur est un tribunal indépendant et quasi-judiciaire.\n",
      "DEEEPL\n",
      "\n",
      "Dataset: Validation\n",
      "Src: This report captures what was a preliminary discussion among key players on this important issue.\n",
      "Generated translation: Ce rapport sait ce que nous avons discuté préliminaire entre les principaux intervenants sur cette question importante.\n",
      "Real translation:       Des spécialistes venant du Pérou, du Kenya, du Royaume-Uni et de la Norvège ont enrichi la discussion de leur point de vue.\n",
      "Translation from DeepL: Le présent rapport rend compte de ce qui a été une discussion préliminaire entre les principaux acteurs sur cette question importante.\n",
      "DEEEPL\n",
      "\n",
      "Dataset: Validation\n",
      "Src: In 2002 it was restructured.\n",
      "Generated translation: En 2002, il a été restructuré.\n",
      "Real translation:       En 2002, il a fait l’objet d’une restructuration.\n",
      "Translation from DeepL: En 2002, elle a été restructurée.\n",
      "DEEEPL\n",
      "\n",
      "Dataset: Validation\n",
      "Src: Legislation concerning building codes 1485.\n",
      "Generated translation: Législation concernant les codes de construction 1485.\n",
      "Real translation:       Codes du bâtiment 1485.\n",
      "Translation from DeepL: Législation concernant les codes de construction 1485.\n",
      "DEEEPL\n",
      "\n",
      "Dataset: Validation\n",
      "Src: To his great surprise, Grimaldi found that the beam of light illuminating the screen was larger than expected.\n",
      "Generated translation: À sa grande épreuve, les pêches ont constaté que le fait de la dépistage léger l’écran était plus important que prévu.\n",
      "Real translation:       À sa grande surprise, Grimaldi constate que le rayon lumineux qui s'étale sur l'écran est plus large que prévu.\n",
      "Translation from DeepL: À sa grande surprise, Grimaldi constate que le faisceau lumineux qui éclaire l'écran est plus large que prévu.\n",
      "DEEEPL\n",
      "\n",
      "Dataset: Validation\n",
      "Src: Welcome to the Canadian Embassy in Dublin\n",
      "Generated translation: Bienvenue à l'Ambassade du Canada à shampoo\n",
      "Real translation:       Bienvenue à l'ambassade du Canada à Dublin\n",
      "Translation from DeepL: Bienvenue à l'ambassade du Canada à Dublin\n",
      "DEEEPL\n",
      "\n",
      "Dataset: Validation\n",
      "Src: During the period of investigation, 100 per cent of the subject goods exported from the U.S. were found to be dumped.\n",
      "Generated translation: Durant la période d'enquête, 100 pour cent des marchandises en cause exportées des États-Unis ont été sous-évaluées.\n",
      "Real translation:       100 selon une prescription ministérielle conformément au paragraphe 29(1) de la LMSI.\n",
      "Translation from DeepL: Au cours de la période d'enquête, il a été constaté que 100 % des marchandises en cause exportées des États-Unis faisaient l'objet d'un dumping.\n",
      "DEEEPL\n",
      "\n",
      "Dataset: Validation\n",
      "Src: The government is driving towards better management of how it buys goods and services to support delivery of programs and services.\n",
      "Generated translation: Le gouvernement mérite de meilleurs services de gestion de la façon dont il achète des biens et services pour appuyer la prestation de programmes et de services.\n",
      "Real translation:       Le gouvernement cherche à améliorer la façon dont il achète les biens et les services en vue d'appuyer la prestation des programmes et des services.\n",
      "Translation from DeepL: Le gouvernement s'efforce d'améliorer la gestion de ses achats de biens et de services afin de soutenir la mise en œuvre de ses programmes et de ses services.\n",
      "DEEEPL\n",
      "\n",
      "Dataset: Validation\n",
      "Src: CPC’s 2004 study found a link between display and impulse purchases.\n",
      "Generated translation: L’étude de 2004 du CPC a révélé un lien entre l’affichage et les achats impératifs.\n",
      "Real translation:       L’étude du CPC a constaté que 86 p.\n",
      "Translation from DeepL: L'étude réalisée par le CPC en 2004 a établi un lien entre l'affichage et les achats impulsifs.\n",
      "DEEEPL\n",
      "\n",
      "Dataset: Validation\n",
      "Src: More needs to be done to reduce and eliminate the over-representation of Aboriginal men, women and children in detention.\n",
      "Generated translation: Il faut faire plus de temps pour réduire et éliminer les surreprésentations des hommes autochtones, des femmes et des enfants en détention.\n",
      "Real translation:       Il faut faire davantage pour réduire, puis éliminer la surreprésentation des Autochtones, hommes, femmes et enfants, en prison.\n",
      "Translation from DeepL: Il faut faire davantage pour réduire et éliminer la surreprésentation des hommes, des femmes et des enfants autochtones en détention.\n",
      "DEEEPL\n",
      "\n",
      "Dataset: Validation\n",
      "Src: Canada.gc.ca. A message from the Government of Canada.  The last image is the Canada Wordmark.\n",
      "Generated translation: Canada.gc.ca. Un message du gouvernement du Canada.  L'image dernière est le Canada Word marque.\n",
      "Real translation:       Un message du gouvernement du Canada.  La dernière image est celle du mot-symbole « Canada ».\n",
      "Translation from DeepL: Canada.gc.ca. Un message du gouvernement du Canada.La dernière image est le mot-symbole Canada.\n",
      "DEEEPL\n",
      "\n",
      "Dataset: Validation\n",
      "Src: Civil rights and freedoms Freedom of thought, conscience and religion (Article 14) 1.\n",
      "Generated translation: Droits et libertés civils La liberté de pensée, de conscience et de religion (Article 14) 1.\n",
      "Real translation:       Droits et libertés civils Liberté de pensée, de conscience et de religion (Article 14) 1.\n",
      "Translation from DeepL: Droits et libertés civils Liberté de pensée, de conscience et de religion (article 14) 1.\n",
      "DEEEPL\n",
      "\n",
      "Dataset: Validation\n",
      "Src: Visitors Over 5 million Theme Canada in Motion - A Canada in Touch Commissioner General(s) Bruce Howe, (Canada Pavilion) Patrick Reid (Expo '86)\n",
      "Generated translation: Visiteurs Plus de 5 millions Thème Canada en formatoppique - Un Canada au commissaire général(s) Bruce shampoo, (Pavillon du Canada) Patrick Reid (Expo 86)\n",
      "Real translation:       Thème Un Canada en mouvement - un Canada en contact Visiteurs plus de 5 millions Commissaire général Bruce Howe, (Pavillon du Canada) Patrick Reid (Expo '86)\n",
      "Translation from DeepL: Visiteurs Plus de 5 millions Thème Canada in Motion - A Canada in Touch Commissaire(s) général(aux) Bruce Howe, (Pavillon du Canada) Patrick Reid (Expo '86)\n",
      "DEEEPL\n",
      "\n",
      "Dataset: Validation\n",
      "Src: 472 - Information technology consultants $92,220.00 2007-05-11 INTERIS CONSULTING INC.\n",
      "Generated translation: 472 - Conseillers en technologie d'information 92 220,00 $ 2007-05-11 INTERIS CONSULTING INC.\n",
      "Real translation:       472 - Conseillers en technologie d'information 92 220,00 $ 2007-05-11 INTERIS CONSULTING INC.\n",
      "Translation from DeepL: 472 - Conseillers en technologie de l'information 92 220,00 $ 2007-05-11 INTERIS CONSULTING INC.\n",
      "DEEEPL\n",
      "\n",
      "Dataset: Validation\n",
      "Src: • The UN Committee reviewing the report made numerous positive remarks in its concluding observations.\n",
      "Generated translation: • Le Comité des Nations Unies examine le rapport de nombreuses observations positives dans ses conclusions.\n",
      "Real translation:       • Le Comité des Nations Unies qui a pris connaissance des rapports a fait plusieurs remarques positives à cet égard.\n",
      "Translation from DeepL: - Le comité des Nations unies chargé d'examiner le rapport a formulé de nombreuses remarques positives dans ses observations finales.\n",
      "DEEEPL\n",
      "\n",
      "Dataset: Validation\n",
      "Src: Report to PCH on Equipment Requirements, June 2000.\n",
      "Generated translation: Rapport à PCH Exigences en matière d'équipement, juin 2000.\n",
      "Real translation:       Section précédente | Table des matières | Prochaine section\n",
      "Translation from DeepL: Rapport à PCH sur les besoins en équipement, juin 2000.\n",
      "DEEEPL\n",
      "\n",
      "Dataset: Validation\n",
      "Src: Reports will be run on a monthly basis and sent to partners for their review.\n",
      "Generated translation: Les rapports seront effectués sur une base mensuelle et envoyés aux partenaires pour leur révision.\n",
      "Real translation:       Des rapports seront produits mensuellement et transmis aux partenaires aux fins d’examen.\n",
      "Translation from DeepL: Les rapports seront établis sur une base mensuelle et envoyés aux partenaires pour examen.\n",
      "DEEEPL\n",
      "\n",
      "Dataset: Validation\n",
      "Src: Agriculture Sector & Policies Kenya’s agriculture sector is a major driving force for the country’s economic stability.\n",
      "Generated translation: Le secteur agricole et les politiques agricoles du Kenya est un principal facteur de stabilité économique du pays.\n",
      "Real translation:       Secteur et politiques agricoles Le secteur agricole du Kenya est un élément moteur d’importance pour la stabilité économique du pays.\n",
      "Translation from DeepL: Secteur et politiques agricoles Le secteur agricole kenyan est l'un des principaux moteurs de la stabilité économique du pays.\n",
      "DEEEPL\n",
      "\n",
      "Dataset: Validation\n",
      "Src: There are currently 35 entities on this list, and the process is continuing.\n",
      "Generated translation: Il y a actuellement 35 entités sur cette liste et le processus se poursuit.\n",
      "Real translation:       À l’heure actuelle, trente-cinq entités sont inscrites et le processus se poursuit.\n",
      "Translation from DeepL: Trente-cinq entités figurent actuellement sur cette liste et le processus se poursuit.\n",
      "DEEEPL\n",
      "\n",
      "Dataset: Validation\n",
      "Src: • An important element distinguishing foresight studies from conventional expert advisory panels is participation of stakeholders of various kinds.\n",
      "Generated translation: • Un élément important distinctif est un élément distinctif de recherches de défense des comités consultatifs conventionnels qui participe aux intervenants de divers types.\n",
      "Real translation:       • Un élément important qui permet de distinguer les études de prospective des travaux de groupes consultatifs classiques est la participation de diverses parties prenantes.\n",
      "Translation from DeepL: - Un élément important qui distingue les études prospectives des groupes consultatifs d'experts conventionnels est la participation de différents types de parties prenantes.\n",
      "DEEEPL\n",
      "\n",
      "Dataset: Validation\n",
      "Src: Weight Over 450 Under 450\n",
      "Generated translation: Poids de plus de 450 moins de 450\n",
      "Real translation:       Marge de Prix Veau de boucherie (basé sur tout les marchés informatisés de l'Ontario)\n",
      "Translation from DeepL: Poids Supérieur à 450 Inférieur à 450\n",
      "DEEEPL\n",
      "\n",
      "Dataset: Validation\n",
      "Src: Child welfare — particularly child poverty — is a priority for the government.\n",
      "Generated translation: Bien-être de l'enfant — particulièrement la pauvreté des enfants — est une priorité pour le gouvernement.\n",
      "Real translation:       Or, le bien-être des enfants, et particulièrement la pauvreté des enfants, figure parmi les questions prioritaires du gouvernement.\n",
      "Translation from DeepL: La protection de l'enfance - en particulier la pauvreté des enfants - est une priorité pour le gouvernement.\n",
      "DEEEPL\n",
      "\n",
      "Dataset: Validation\n",
      "Src: However, Banff was mentioned in several groups as being particularly expensive and commercial.\n",
      "Generated translation: Cependant, Banff a été mentionné dans plusieurs groupes comme étant particulièrement coûteux et commercialisés.\n",
      "Real translation:       Cependant, des participants de plusieurs groupes ont mentionné que Banff était particulièrement chère et commerciale.\n",
      "Translation from DeepL: Cependant, Banff a été mentionné dans plusieurs groupes comme étant particulièrement cher et commercial.\n",
      "DEEEPL\n",
      "\n",
      "Dataset: Validation\n",
      "Src: • Whoever comes is the right person\n",
      "Generated translation: • Le passé est la bonne personne\n",
      "Real translation:       • Celui ou celle qui vient est la bonne personne.\n",
      "Translation from DeepL: - Celui qui vient est la bonne personne\n",
      "DEEEPL\n",
      "\n",
      "Dataset: Validation\n",
      "Src: Australia has more than 700 magazine titles and one of the world‘s highest per capita rates of magazine sales.\n",
      "Generated translation: L’Australie compte plus de 700 titres de magazines et l’un des plus grands taux de vente par habitant.\n",
      "Real translation:       Il se publie plus de 700 magazines en Australie, et c’est l’un des pays où il se vend le plus de magazines par habitant au monde.\n",
      "Translation from DeepL: L'Australie compte plus de 700 titres de magazines et l'un des taux de vente de magazines par habitant les plus élevés au monde.\n",
      "DEEEPL\n",
      "\n",
      "Dataset: Validation\n",
      "Src: For similar technologies >\n",
      "Generated translation: Pour les technologies similaires >\n",
      "Real translation:       Pour répertorier des technologies similaires >\n",
      "Translation from DeepL: Pour des technologies similaires >\n",
      "DEEEPL\n",
      "\n",
      "Dataset: Validation\n",
      "Src: Hog Statistics at a Glance CANADA For the Week Ending December 1, 2007\n",
      "Generated translation: APERÇU STATISTIQUE SUR LES PORCS CANADA jusqu'au 1 décembre 2007\n",
      "Real translation:       APERÇU STATISTIQUE SUR LES PORCS CANADA jusqu'au 1 décembre 2007\n",
      "Translation from DeepL: Statistiques du porc en bref CANADA Pour la semaine se terminant le 1er décembre 2007\n",
      "DEEEPL\n",
      "\n",
      "Dataset: Validation\n",
      "Src: Information regarding the CBSA administration of these regulations may be obtained by contacting:\n",
      "Generated translation: Les renseignements concernant l'administration de ces règlements peuvent être obtenus en communiquant avec :\n",
      "Real translation:       Pour obtenir de l'information sur l'administration du Règlement par l'ASFC, veuillez communiquer avec la division suivante :\n",
      "Translation from DeepL: Des informations concernant l'application de ces règlements par l'ASFC peuvent être obtenues en contactant :\n",
      "DEEEPL\n",
      "\n",
      "Dataset: Validation\n",
      "Src: 12121000 Locust beans, including seeds, fresh, chilled, frozen or dried, whether or not ground 5 A\n",
      "Generated translation: 12121000 haricots repoussés, y compris les semences, fraîches, réfrigérées, congelés ou séchés A\n",
      "Real translation:       12121000 Caroubes, y compris les graines, fraîches, réfrigérés, congelés ou sécs, même pulvérisés A\n",
      "Translation from DeepL: 12121000 Caroubes, y compris les graines, fraîches, réfrigérées, congelées ou séchées, même broyées 5 A\n",
      "DEEEPL\n",
      "\n",
      "Dataset: Validation\n",
      "Src: These actions are indicated by \"TF\".\n",
      "Generated translation: Ces mesures sont indiquées par « FCT ».\n",
      "Real translation:       Elles sont identifiées par les initiales « GT » (groupe de travail).\n",
      "Translation from DeepL: Ces actions sont indiquées par \"TF\".\n",
      "DEEEPL\n",
      "\n",
      "Dataset: Validation\n",
      "Src: How do Crown agencies such as EDC, BDC and CCC assess files for audio-visual industry companies?\n",
      "Generated translation: Comment les organismes de la Couronne comme EDC, EDC et CCC évaluent-ils les dossiers pour les entreprises audiovisuelles audiovisuelles?\n",
      "Real translation:       Comment les organismes d'État tels qu'EDC, la BDC et la CCC évaluent les dossiers pour les entreprises de l'industrie audiovisuelle?\n",
      "Translation from DeepL: Comment les organismes d'État comme EDC, la BDC et la CCC évaluent-ils les dossiers des entreprises de l'industrie audiovisuelle ?\n",
      "DEEEPL\n",
      "\n",
      "Dataset: Validation\n",
      "Src: However, evaluators considered it to the extent that it seemed directly related to the overall cost-effectiveness of the Program.\n",
      "Generated translation: Cependant, les évaluateurs ont jugé qu'il semblait directement lié au rapport général du Programme.\n",
      "Real translation:       Toutefois, les évaluateurs en ont tenu compte dans la mesure où cette question semblait directement liée à la rentabilité globale du Programme.\n",
      "Translation from DeepL: Toutefois, les évaluateurs l'ont pris en compte dans la mesure où il semblait directement lié au rapport coût-efficacité global du programme.\n",
      "DEEEPL\n",
      "\n",
      "Dataset: Validation\n",
      "Src: Definitions are often inconsistent; and the lines between outcomes and impacts are often blurry.\n",
      "Generated translation: Les définitions sont souvent contraires; et les lignes entre les résultats et les répercussions sont souvent similaires.\n",
      "Real translation:       Les définitions manquent à l’occasion de cohérence, et la différence entre retombées et impact est parfois floue.\n",
      "Translation from DeepL: Les définitions sont souvent incohérentes et la frontière entre les résultats et les impacts est souvent floue.\n",
      "DEEEPL\n",
      "\n",
      "Dataset: Validation\n",
      "Src: • projects makes sense for the applicant to carry out and for the program to fund;\n",
      "Generated translation: • les projets sont sensibles au demandeur à l'exécution du programme et au financement;\n",
      "Real translation:       • le demandeur présente des projets qu’il peut mener à bien et que le programme peut financer;\n",
      "Translation from DeepL: - Il est logique que le demandeur réalise le projet et que le programme le finance ;\n",
      "DEEEPL\n",
      "\n",
      "Dataset: Validation\n",
      "Src: AntiDumping and Countervailing Program 13.\n",
      "Generated translation: Programme antidumping et compensateurs 13.\n",
      "Real translation:       Direction des droits antidumping et compensateurs 11.\n",
      "Translation from DeepL: Programme antidumping et compensatoire 13.\n",
      "DEEEPL\n",
      "\n",
      "Dataset: Validation\n",
      "Src: MassŽ and F. Croteau, AAFC)\n",
      "Generated translation: Médaille et F. Cécidau, AAC)\n",
      "Real translation:       ajoutant des quantitŽs moindres de NH4+ ou en ralentissant la nitriÞcation.\n",
      "Translation from DeepL: MassŽ et F. Croteau, AAC)\n",
      "DEEEPL\n",
      "\n",
      "Dataset: Validation\n",
      "Src: Correct! a) When The Queen is in Canada, her personal flag is flown, day and night, at any building in which she is in residence.\n",
      "Generated translation: Oui! a) Lorsque la Reine est au Canada, son drapeau personnel est arbre, journée et nuit, à un bâtiment dans lequel elle est en résidence\n",
      "Real translation:       Oui! a) Lorsque la Reine est au Canada, son drapeau personnel flotte jour et nuit au mât de tous les édifices dans lesquels elle réside.\n",
      "Translation from DeepL: Correct ! a) Lorsque la Reine est au Canada, son drapeau personnel flotte, jour et nuit, sur tous les bâtiments où elle réside.\n",
      "DEEEPL\n",
      "\n",
      "Dataset: Validation\n",
      "Src: Where there is a surplus credit, a refund cheque will be issued.\n",
      "Generated translation: Lorsqu'il y a excédent, un chèque de remboursement sera émis.\n",
      "Real translation:       S'il y a un excédent de crédit, un chèque de remboursement est émis.\n",
      "Translation from DeepL: En cas de crédit excédentaire, un chèque de remboursement sera émis.\n",
      "DEEEPL\n",
      "\n",
      "Dataset: Validation\n",
      "Src: My explanation is a shifting sense of what constitutes farm life.\n",
      "Generated translation: Mon explication est un virage de ce qui constitue une vie agricole.\n",
      "Real translation:       À mon sens, par le nouveau sentiment de ce qui constitue la vie à la ferme.\n",
      "Translation from DeepL: Je l'explique par l'évolution de la notion de vie agricole.\n",
      "DEEEPL\n",
      "\n",
      "Dataset: Validation\n",
      "Src: There may also be circumstances where software problems might be replicated on both sites.\n",
      "Generated translation: Il peut également y avoir des circonstances où les problèmes logiciels pourraient être reproduits sur les deux sites.\n",
      "Real translation:       Il pourrait également arriver qu’un problème de logiciels se reproduise sur les deux sites.\n",
      "Translation from DeepL: Il peut également arriver que des problèmes logiciels soient reproduits sur les deux sites.\n",
      "DEEEPL\n",
      "\n",
      "Dataset: Validation\n",
      "Src: That is the great history of our shared border, and that is the key to our success in the future.\n",
      "Generated translation: C'est là la grande histoire de notre frontière partagée et c'est la clé de notre succès à l'avenir.\n",
      "Real translation:       C'est la grande histoire de notre frontière partagée et c'est la clé de notre réussite dans le futur.\n",
      "Translation from DeepL: C'est la grande histoire de notre frontière commune, et c'est la clé de notre succès à l'avenir.\n",
      "DEEEPL\n",
      "\n",
      "Dataset: Validation\n",
      "Src: 1.5 Results from Phase 1 The results of the audit from Phase 1 were reported in February 2007.\n",
      "Generated translation: 1.5 Résultats de la phase 1 Les résultats de la vérification de la phase 1 ont été déclarés en février 2007.\n",
      "Real translation:       1.5 Résultats de la Phase 1 Les résultats de la vérification de la phase 1 ont fait l'objet d'un rapport en février 2007.\n",
      "Translation from DeepL: 1.5 Résultats de la phase 1 Les résultats de l'audit de la phase 1 ont été communiqués en février 2007.\n",
      "DEEEPL\n",
      "\n",
      "Dataset: Validation\n",
      "Src: Deficit with Other Countries 31.8%\n",
      "Generated translation: Défaut avec d’autres pays 31,8 %\n",
      "Real translation:       Déficit avec les autres pays 31,8 %\n",
      "Translation from DeepL: Déficit avec les autres pays 31,8\n",
      "DEEEPL\n",
      "\n",
      "Dataset: Validation\n",
      "Src: • Target audience well identified;\n",
      "Generated translation: • les bien-être des auditoires cibles;\n",
      "Real translation:       • Le public cible est bien identifié;\n",
      "Translation from DeepL: - Le public cible est bien identifié ;\n",
      "DEEEPL\n",
      "\n",
      "Dataset: Validation\n",
      "Src: Warrant for possession 38.\n",
      "Generated translation: Warrant pour possession 38.\n",
      "Real translation:       Mandat de prise de possession 38.\n",
      "Translation from DeepL: Mandat de détention 38.\n",
      "DEEEPL\n",
      "\n",
      "Dataset: Validation\n",
      "Src: • X-ray films and plates, sensitized\n",
      "Generated translation: • film et plaques de radiographie, sensibilisation\n",
      "Real translation:       • Traitement de l'eau, préparations chimiques pour\n",
      "Translation from DeepL: - Films et plaques radiographiques, sensibilisés\n",
      "DEEEPL\n",
      "\n",
      "Dataset: Validation\n",
      "Src: What types of publication should receive funding under the proposed new program?\n",
      "Generated translation: Quels types de publications devraient recevoir des fonds dans le cadre du nouveau programme proposé?\n",
      "Real translation:       Quels types de publications devraient recevoir du financement dans le cadre du nouveau programme proposé?\n",
      "Translation from DeepL: Quels types de publications devraient bénéficier d'un financement dans le cadre du nouveau programme proposé ?\n",
      "DEEEPL\n",
      "\n",
      "Dataset: Validation\n",
      "Src: • Japanese Law and Regulation Information Guide JGuide\n",
      "Generated translation: • Guide d'information sur le droit et sur le droit des japonais\n",
      "Real translation:       • Alimentation et santé au Japon - Direction de l'évaluation et de l'analyse des marchés AAC 2006\n",
      "Translation from DeepL: - Guide d'information sur la législation et la réglementation japonaises JGuide\n",
      "DEEEPL\n",
      "\n",
      "Dataset: Validation\n",
      "Src: • The salaries of an ADR secretariat and/or fees to a third party administrative service provider \n",
      "Generated translation: • Les salaires d'un secrétariat du RED et/ou des honoraires à un fournisseur de services administratif tiers. \n",
      "Real translation:       • les salaires du personnel d'un secrétariat du RED ou la rémunération d'un tiers qui assurerait les services administratifs; \n",
      "Translation from DeepL: - Les salaires d'un secrétariat ADR et/ou les honoraires d'un prestataire de services administratifs tiers\n",
      "DEEEPL\n",
      "\n",
      "Dataset: Validation\n",
      "Src: • Profile of the Canadian Dairy Industry AAFC 2005\n",
      "Generated translation: • Profil de l'industrie laitière canadienne AAC 2005\n",
      "Real translation:       • Les oeufs de poules : un secteur méconnu - Philippines University of Asia and the Pacific 2003\n",
      "Translation from DeepL: - Profil de l'industrie laitière canadienne AAC 2005\n",
      "DEEEPL\n",
      "\n",
      "Dataset: Validation\n",
      "Src: This increase should help facilitate the growth in visits from Hong Kong expected during this period.\n",
      "Generated translation: Cette augmentation devrait faciliter la croissance des visites de Hong Kong durant cette période.\n",
      "Real translation:       Cette augmentation devrait favoriser l’augmentation des visites en provenance de Hong Kong prévues durant cette période.\n",
      "Translation from DeepL: Cette augmentation devrait faciliter la croissance des visites en provenance de Hong Kong attendue au cours de cette période.\n",
      "DEEEPL\n",
      "\n",
      "Dataset: Validation\n",
      "Src: UK Spa Definitions Basic Definition\n",
      "Generated translation: Définitions des spas du Royaume-Uni Définition de base\n",
      "Real translation:       Royaume-Uni Définitions des spas au Royaume-Uni Définition de base\n",
      "Translation from DeepL: UK Spa Definitions Définition de base\n",
      "DEEEPL\n",
      "\n",
      "Dataset: Validation\n",
      "Src: Innovation and Technology Directorate Robert, Louis.\n",
      "Generated translation: Direction de l'innovation et de la technologie Robert, Louis.\n",
      "Real translation:       Direction de l’innovation et des technologies.\n",
      "Translation from DeepL: Direction de l'innovation et de la technologie Robert, Louis.\n",
      "DEEEPL\n",
      "\n",
      "Dataset: Validation\n",
      "Src: Limit one company per half booth and two companies per full booth.\n",
      "Generated translation: Neuf compagnies par compagnie par moitié de kiosque et deux entreprises par stand plein.\n",
      "Real translation:       Limite d'une compagnie par demi-kiosque et deux compagnies par kiosque.\n",
      "Translation from DeepL: Limite d'une entreprise par demi-kiosque et de deux entreprises par kiosque complet.\n",
      "DEEEPL\n",
      "\n",
      "Dataset: Validation\n",
      "Src: Actual Performance Monitoring:\n",
      "Generated translation: Surveillance du rendement réel :\n",
      "Real translation:       Surveillance du rendement :\n",
      "Translation from DeepL: Suivi des performances réelles :\n",
      "DEEEPL\n",
      "\n",
      "Dataset: Validation\n",
      "Src: Assessment by teachers.\n",
      "Generated translation: Évaluation par les enseignants.\n",
      "Real translation:       Évaluation par les enseignants.\n",
      "Translation from DeepL: Évaluation par les enseignants.\n",
      "DEEEPL\n",
      "\n",
      "Dataset: Validation\n",
      "Src: The issue identification phase will occur between April and August 2007.\n",
      "Generated translation: La phase d’identification des questions se produira entre avril et août 2007.\n",
      "Real translation:       La phase d’identification des enjeux aura lieu entre avril et août 2007.\n",
      "Translation from DeepL: La phase d'identification des problèmes se déroulera entre avril et août 2007.\n",
      "DEEEPL\n",
      "\n",
      "Dataset: Validation\n",
      "Src: New Zealand Tasman Sea\n",
      "Generated translation: Nouvelle-Zélande\n",
      "Real translation:       NouvelleZélande Mer de Tasman\n",
      "Translation from DeepL: Nouvelle-Zélande Mer de Tasman\n",
      "DEEEPL\n",
      "\n",
      "Dataset: Validation\n",
      "Src: Strategic Growth and Public Goods and Services.\n",
      "Generated translation: Croissance stratégique et services publics.\n",
      "Real translation:       Tout autre CSA devrait faire du secteur de l’agriculture du Canada la base d’une société saine et durable.\n",
      "Translation from DeepL: Croissance stratégique et biens et services publics.\n",
      "DEEEPL\n",
      "\n",
      "Dataset: Validation\n",
      "Src: For specialized equipment purchase: answers to Question 14; estimate of expected costs.\n",
      "Generated translation: Pour les achats de matériel spécialisé : réponses à la question 14; estimation des coûts prévus.\n",
      "Real translation:       Pour l’achat d’équipement spécialisé : les réponses à la question 14; une estimation des coûts à envisager.\n",
      "Translation from DeepL: Pour l'achat de matériel spécialisé : réponses à la question 14 ; estimation des coûts prévus.\n",
      "DEEEPL\n",
      "\n",
      "Dataset: Validation\n",
      "Src: Canadian Heritage has also participated with the CCCF in raising public awareness of children's rights in early childhood care.\n",
      "Generated translation: Patrimoine canadien a également participé au CCCF pour sensibiliser le public aux droits de la petite enfance aux soins de la petite enfance.\n",
      "Real translation:       Patrimoine canadien s'est associé à la Fédération pour sensibiliser la population aux droits des enfants en matière de soins à la petite enfance.\n",
      "Translation from DeepL: Patrimoine canadien a également participé, avec la FCSGE, à la sensibilisation du public aux droits des enfants dans les structures d'accueil de la petite enfance.\n",
      "DEEEPL\n",
      "\n",
      "Dataset: Validation\n",
      "Src: There is more to e-business and e-commerce than the technology.\n",
      "Generated translation: Il y a plus de commerce électronique et de commerce électronique que la technologie.\n",
      "Real translation:       Le commerce électronique c'est plus que la technologie.\n",
      "Translation from DeepL: Les affaires électroniques et le commerce électronique ne se limitent pas à la technologie.\n",
      "DEEEPL\n",
      "\n",
      "Dataset: Validation\n",
      "Src: 19.03.01 Voluntary amendments before the Request for Examination\n",
      "Generated translation: 19.03.01 Modifications volontaires avant la demande d'examen\n",
      "Real translation:       19.03.01 Modifications volontaires avant la requête d’examen\n",
      "Translation from DeepL: 19.03.01 Modifications volontaires avant la demande d'examen\n",
      "DEEEPL\n",
      "\n",
      "Dataset: Validation\n",
      "Src: Some reports have been delayed, while some have not fully addressed the Terms of Reference.\n",
      "Generated translation: Certains rapports ont été retardés, alors que certains n'ont pas été abordés entièrement.\n",
      "Real translation:       Certains rapports ont été remis à plus tard, alors que d’autres n’ont pas réellement rempli leur mandat.\n",
      "Translation from DeepL: Certains rapports ont été retardés, tandis que d'autres n'ont pas entièrement répondu aux termes de référence.\n",
      "DEEEPL\n",
      "\n",
      "Dataset: Validation\n",
      "Src: Sun-cured pellet production has dropped the most substantially.\n",
      "Generated translation: La production de peaux de fourrage général a diminué considérablement.\n",
      "Real translation:       Par ailleurs, la production de granulés de luzerne séchée naturellement a marqué la plus forte baisse.\n",
      "Translation from DeepL: C'est la production de granulés de bois séchés au soleil qui a connu la baisse la plus importante.\n",
      "DEEEPL\n",
      "\n",
      "Dataset: Validation\n",
      "Src: The government of Moldova did not provide a response to the CCRA's Request for Information.\n",
      "Generated translation: Le gouvernement de shampooova a n'a pas répondu à la demande de renseignements de l'ADRC.\n",
      "Real translation:       Le gouvernement de Moldova n'a pas répondu à la demande de renseignements envoyée par l'ADRC.\n",
      "Translation from DeepL: Le gouvernement de la Moldavie n'a pas répondu à la demande d'information de l'ADRC.\n",
      "DEEEPL\n",
      "\n",
      "Dataset: Validation\n",
      "Src: Gravity Tolerance 10.\n",
      "Generated translation: Développement de l’énergie 10.\n",
      "Real translation:       Tolérance de la gravité 10.\n",
      "Translation from DeepL: Tolérance de gravité 10.\n",
      "DEEEPL\n",
      "\n",
      "Dataset: Validation\n",
      "Src: For example, award announcements were reported to often be made much later than the annual deadlines suggested in program materials.\n",
      "Generated translation: Par exemple, on a signalé que les annonces de prix ont été faites plus souvent plus tard que les dates limites annuelles proposées dans le matériel.\n",
      "Real translation:       Par exemple, les annonces ont été faites beaucoup plus tard que les délais mentionnés dans les documents du programme.\n",
      "Translation from DeepL: Par exemple, il a été signalé que les annonces de bourses étaient souvent faites bien plus tard que les dates limites annuelles suggérées dans les documents du programme.\n",
      "DEEEPL\n",
      "\n",
      "Dataset: Validation\n",
      "Src: There is a grave concern by many of the societies, as well as program administration, that the equipment crisis may interrupt production.\n",
      "Generated translation: Il y a une grave inquiétude de nombreuses sociétés, ainsi que l'administration du programme, que la crise de production peut valoir.\n",
      "Real translation:       Bien des sociétés craignent que la crise du matériel interrompe la production, et les responsables de l'administration des programmes éprouvent la même inquiétude.\n",
      "Translation from DeepL: De nombreuses sociétés, ainsi que l'administration du programme, craignent que la crise de l'équipement n'interrompe la production.\n",
      "DEEEPL\n",
      "\n",
      "Dataset: Validation\n",
      "Src: \"The seizure of illegal drugs at our borders ensures that those drugs are kept off our streets.\n",
      "Generated translation: « La saisie de drogues illégales à nos frontières permet de s'assurer que ces drogues sont conservées dans nos rues.\n",
      "Real translation:       Cette saisie à la frontière fait en sorte que cette drogue illégale ne se retrouvera pas dans nos rues.\n",
      "Translation from DeepL: \"La saisie de drogues illégales à nos frontières garantit que ces drogues ne se retrouvent pas dans nos rues.\n",
      "DEEEPL\n",
      "\n",
      "Dataset: Validation\n",
      "Src: Different programmes should be co-ordinated, so as to ensure that they do not duplicate or offset each other.\n",
      "Generated translation: Différents programmes devraient être coordonnés, afin de s'assurer qu'ils ne se fassent pas de double emploi ou compensant chacun.\n",
      "Real translation:       On devrait coordonner les différents programmes de façon à éviter les recoupements ou que les programmes se contrebalancent.\n",
      "Translation from DeepL: Les différents programmes doivent être coordonnés afin d'éviter qu'ils ne fassent double emploi ou qu'ils ne se neutralisent.\n",
      "DEEEPL\n",
      "\n",
      "Dataset: Validation\n",
      "Src: Since the commencement of the program, 46 Black and 32 Aboriginal law students have enrolled in the Program.\n",
      "Generated translation: Depuis le début du programme, 46 étudiants des droits des Autochtones ont été inscrits au Programme.\n",
      "Real translation:       Depuis le début du programme, 46 Noirs et 32 Autochtones étudiants en droit se sont inscrits au programme.\n",
      "Translation from DeepL: Depuis le début du programme, 46 étudiants en droit noirs et 32 étudiants en droit autochtones se sont inscrits au programme.\n",
      "DEEEPL\n",
      "\n",
      "Dataset: Validation\n",
      "Src: Turkey Condemnations February, 1997 - CONDEMNED PER 10,000 SLAUGHTERED TURKEY\n",
      "Generated translation: Condamnations des dindons février, 1997 - CONDAMNÉS PAR 10,000 ABATTUS DINDON\n",
      "Real translation:       Condamnations des dindons Février, 1997 - CONDAMNÉS PAR 10,000 ABATTUS DINDON\n",
      "Translation from DeepL: Condamnations Turquie février 1997 - CONDAMNÉS POUR 10.000 ABATTUS TURQUIE\n",
      "DEEEPL\n",
      "\n",
      "Dataset: Validation\n",
      "Src: The Alberta government recognizes the inherent right to life of all its citizens.\n",
      "Generated translation: Le gouvernement de l'Alberta reconnaît le droit inhérent à la vie de tous ses citoyens.\n",
      "Real translation:       Droit à la vie, à la survie et au développement (Article 6) 452.\n",
      "Translation from DeepL: Le gouvernement de l'Alberta reconnaît le droit inhérent à la vie de tous ses citoyens.\n",
      "DEEEPL\n",
      "\n",
      "Dataset: Validation\n",
      "Src: The project was received enthusiastically and a working team created.\n",
      "Generated translation: Le projet a été reçu à l'équipe de travail, et il a été créé.\n",
      "Real translation:       Le projet a été accueilli avec enthousiasme et une équipe de travail a été formée.\n",
      "Translation from DeepL: Le projet a été accueilli avec enthousiasme et une équipe de travail a été créée.\n",
      "DEEEPL\n",
      "\n",
      "Dataset: Validation\n",
      "Src: • forecasting developments in the U.S. Economy\n",
      "Generated translation: • Évolution des prévisions dans l’économie américaine\n",
      "Real translation:       • Prévisions de l'évolution de l'économie américaine\n",
      "Translation from DeepL: - prévoir l'évolution de l'économie américaine\n",
      "DEEEPL\n",
      "\n",
      "Dataset: Validation\n",
      "Src: Yes. You have to complete Form E668 as follows:\n",
      "Generated translation: Oui. Vous devez remplir le formulaire E68 comme suit :\n",
      "Real translation:       Oui. Vous devez compléter le formulaire E668 comme suit :\n",
      "Translation from DeepL: Oui, vous devez remplir le formulaire E668 comme suit :\n",
      "DEEEPL\n",
      "\n",
      "Dataset: Validation\n",
      "Src: Circulation (paid)  A magazine's total copies sold over a 12-month publishing cycle through paid subscriptions, single copy sales and newsstand sales.\n",
      "Generated translation: Veuillez consulter le numéro de la section « numéro de la liste de marchandises enregistrées par un numéro de référence.\n",
      "Real translation:       Un exemple d’un état des résultats est disponible dans la trousse de demande ainsi que sur le site Web du FCM.\n",
      "Translation from DeepL: Diffusion (payée) Nombre total d'exemplaires d'un magazine vendus au cours d'un cycle de publication de 12 mois par le biais d'abonnements payants, de ventes à l'unité et de ventes en kiosque.\n",
      "DEEEPL\n",
      "\n",
      "Dataset: Validation\n",
      "Src: Since the finding in 1995, only one exporter from the Netherlands has requested a specific normal value for one product.\n",
      "Generated translation: Depuis 1995, seul un exportateur des Pays-Bas a demandé une valeur normale spécifique pour un seul produit.\n",
      "Real translation:       Depuis la conclusion de 1995, seul un exportateur des Pays-Bas a demandé une valeur normale spécifique pour un produit.\n",
      "Translation from DeepL: Depuis la constatation de 1995, un seul exportateur néerlandais a demandé une valeur normale spécifique pour un produit.\n",
      "DEEEPL\n",
      "\n",
      "Dataset: Validation\n",
      "Src: The point system supports industrial development by encouraging the employment of Canadians in key creative and professional capacities.\n",
      "Generated translation: Le système de points appuie le développement industriel en encourageant l'emploi des Canadiens et des Canadiennes dans les capacités de création et de professionnels.\n",
      "Real translation:       Le système de points appuie le développement industriel en favorisant l'emploi de Canadiens et de Canadiennes à titre de professionnels et de créateurs clés.\n",
      "Translation from DeepL: Le système de points soutient le développement industriel en encourageant l'emploi de Canadiens dans des capacités créatives et professionnelles clés.\n",
      "DEEEPL\n",
      "\n",
      "Dataset: Validation\n",
      "Src: ◦ Proactive disclosure Memorandum D3-6-7 Rail Cargo - in Transit Movements Full Document:\n",
      "Generated translation: ◦ Divulgation proactive Mémorandum D3-6-7 Transport du fret ferroviaire - en transit Document complet :\n",
      "Real translation:       ◦ Divulgation proactive Mémorandum D3-6-7 Transport du fret ferroviare - en transit Document complet :\n",
      "Translation from DeepL: ◦ Proactive disclosure Memorandum D3-6-7 Rail Cargo - in Transit Movements Document complet :\n",
      "DEEEPL\n",
      "\n",
      "Dataset: Validation\n",
      "Src: • Appointments to the IRB should be a transparent, open and neutral process rather than a political one.\n",
      "Generated translation: • Les nominations à la CISR devraient être un processus transparent, ouvert et neutre plutôt que d'une politique.\n",
      "Real translation:       • Le processus de nominations à la Commission de l'immigration et du statut de réfugié devrait être transparent, ouvert et neutre plutôt que politique.\n",
      "Translation from DeepL: - Les nominations à la CISR doivent être un processus transparent, ouvert et neutre plutôt que politique.\n",
      "DEEEPL\n",
      "\n",
      "Dataset: Validation\n",
      "Src: We have a good reputation of developing new and innovative private label products.\n",
      "Generated translation: Nous avons une bonne réputation de développer de nouveaux produits de marque maison et innovatrice.\n",
      "Real translation:       Nous jouissons d'une bonne réputation en ce qui concerne la conception de nouveaux produits novateurs pour les marques maison.\n",
      "Translation from DeepL: Nous avons la réputation de développer des produits de marque privée nouveaux et innovants.\n",
      "DEEEPL\n",
      "\n",
      "Dataset: Validation\n",
      "Src: Spitzer is the \"Rolls-Royce\" of infrared telescopes and is used to study specific astronomical targets.\n",
      "Generated translation: Le long-ci est le « laminé laminé » des télescopes infrarouges et est utilisé pour étudier des cibles astronomiques spécifiques.\n",
      "Real translation:       Véritable « Rolls-Royce » des télescopes infrarouges, on l’utilise pour observer des objets spécifiques.\n",
      "Translation from DeepL: Spitzer est la \"Rolls-Royce\" des télescopes infrarouges et est utilisé pour étudier des cibles astronomiques spécifiques.\n",
      "DEEEPL\n",
      "\n",
      "Dataset: Validation\n",
      "Src: In fact, the number of male students on campuses is rising again after falling in the mid-1990s.\n",
      "Generated translation: En fait, le nombre d’étudiants hommes sur les campus augmente encore après la baisse au milieu des années 1990.\n",
      "Real translation:       En fait, le nombre d’étudiants y est à la hausse, après avoir connu une baisse au milieu des années 90.\n",
      "Translation from DeepL: En fait, le nombre d'étudiants masculins sur les campus augmente à nouveau après avoir chuté au milieu des années 1990.\n",
      "DEEEPL\n",
      "\n",
      "Local accuracy: 0.5354616880094292\n",
      "DeepL accuracy: 0.6715577098994475\n"
     ]
    }
   ],
   "source": [
    "\n",
    "# Docs: https://huggingface.co/spaces/evaluate-metric/sacrebleu\n",
    "# score from 0 to 100\n",
    "local_accuracy = 0.0\n",
    "deepl_accuracy = 0.0\n",
    "\n",
    "def compute(predictions, references):\n",
    "    # Predictions and references\n",
    "    predictions = [predictions]\n",
    "    references = [[references]]\n",
    "\n",
    "    # Compute all metrics\n",
    "    results_rouge = rouge.compute(predictions=predictions, references=references)  # ROUGE expects list of strings\n",
    "    results_sacrebleu = sacrebleu.compute(predictions=predictions, references=references)\n",
    "    results_meteor = meteor.compute(predictions=predictions, references=references)\n",
    "    results_chrf = chrf.compute(predictions=predictions, references=references)\n",
    "    results_bleu = bleu.compute(predictions=predictions, references=references)\n",
    "    return results_rouge['rouge1']\n",
    "\n",
    "    # Print results\n",
    "    # print(\"\\n📊 Translation Metrics:\")\n",
    "    # print(f\"ROUGE-1 (0–1):        {results_rouge['rouge1']:.4f}\")  # Overlap of unigrams (single words) between the generated and reference texts.\n",
    "    # print(f\"ROUGE-2 (0–1):        {results_rouge['rouge2']:.4f}\")  # Overlap of bigrams (word pairs).\n",
    "    # print(f\"ROUGE-L (0–1):        {results_rouge['rougeL']:.4f}\")  # Measures longest common subsequence (sequence similarity).\n",
    "    # print(f\"SacreBLEU (0–100):    {results_sacrebleu['score']:.2f}\")  # Precision-based score for how many matching words/phrases, adjusted for brevity.\n",
    "    # print(f\"METEOR (0–1):         {results_meteor['meteor']:.4f}\")  #  Considers word matches, stemming, and synonyms with penalties for word order.\n",
    "    # print(f\"chrF (0–100):         {results_chrf['score']:.2f}\")  # Measures character-level n-gram overlap (more sensitive to small variations).\n",
    "    # print(f\"BLEU (0–100):         {results_bleu['bleu']:.2f}\")  # Measures n-gram overlap between generated and reference texts.\n",
    "\n",
    "n = 100\n",
    "for i in range(n):\n",
    "    src_input, predictions, references = inference_from_datasets(train_dataset=False, index=i)  # translation, real_translation\n",
    "\n",
    "\n",
    "    json_data = {\n",
    "        \"text\": [src_input], \n",
    "        \"target_lang\": \"FR\"\n",
    "    }\n",
    "    headers = {\"Authorization\": \"DeepL-Auth-Key 8a886374-aa90-488e-8209-a000d7ac9e93:fx\"}\n",
    "    response = httpx.post(\"https://api-free.deepl.com/v2/translate\", json=json_data, headers=headers)\n",
    "    response = response.json()[\"translations\"][0][\"text\"]\n",
    "    print('Translation from DeepL:', response)\n",
    "\n",
    "    local_accuracy += compute(predictions, references)\n",
    "    print('DEEEPL')\n",
    "    print()\n",
    "    deepl_accuracy += compute(predictions, response)\n",
    "\n",
    "print('Local accuracy:', local_accuracy/n)\n",
    "print('DeepL accuracy:', deepl_accuracy/n)"
   ]
  },
  {
   "cell_type": "code",
   "execution_count": null,
   "id": "ebf81597",
   "metadata": {},
   "outputs": [],
   "source": []
  },
  {
   "cell_type": "code",
   "execution_count": 26,
   "id": "afc825fbffc59d9d",
   "metadata": {
    "ExecuteTime": {
     "end_time": "2025-03-14T14:05:05.855584Z",
     "start_time": "2025-03-14T14:05:05.850821Z"
    },
    "trusted": true
   },
   "outputs": [],
   "source": [
    "# PATH = r\"new_translation_model.pt\"\n",
    "# torch.save(transformer.state_dict(), PATH)"
   ]
  },
  {
   "cell_type": "code",
   "execution_count": 27,
   "id": "1e2e14dd4afcbea3",
   "metadata": {
    "ExecuteTime": {
     "end_time": "2025-03-14T14:05:05.944091Z",
     "start_time": "2025-03-14T14:05:05.940396Z"
    },
    "trusted": true
   },
   "outputs": [],
   "source": [
    "# next_model = Transformer(src_vocab_size, tgt_vocab_size, d_model, num_heads, num_layers, d_ff, max_src_seq_len,\n",
    "#                          max_tgt_seq_len, dropout)\n",
    "# next_model.load_state_dict(torch.load(PATH, weights_only=True))\n",
    "# next_model = next_model.to(device)\n",
    "# # print(next_model)\n",
    "\n",
    "# # sentence = tokenizer.decode(train_loader.dataset[0][0].tolist(), skip_special_tokens=True)\n",
    "# sentence = \"What are light beans there?\"\n",
    "# print(sentence)\n",
    "# # sentence = \"Prehistoric humans studied the relationship between the seasons and the length of days to plan their hunting and gathering activities.\"\n",
    "# translation = translate_sentence(sentence, tokenizer, next_model)\n",
    "# print(translation)"
   ]
  }
 ],
 "metadata": {
  "kaggle": {
   "accelerator": "none",
   "dataSources": [],
   "dockerImageVersionId": 30919,
   "isGpuEnabled": false,
   "isInternetEnabled": true,
   "language": "python",
   "sourceType": "notebook"
  },
  "kernelspec": {
   "display_name": "cudaenv",
   "language": "python",
   "name": "python3"
  },
  "language_info": {
   "codemirror_mode": {
    "name": "ipython",
    "version": 3
   },
   "file_extension": ".py",
   "mimetype": "text/x-python",
   "name": "python",
   "nbconvert_exporter": "python",
   "pygments_lexer": "ipython3",
   "version": "3.12.8"
  }
 },
 "nbformat": 4,
 "nbformat_minor": 5
}
