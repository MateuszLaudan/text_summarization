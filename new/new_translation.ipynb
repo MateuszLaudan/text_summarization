{
 "cells": [
  {
   "cell_type": "markdown",
   "id": "42235b27f740c1d2",
   "metadata": {},
   "source": [
    "<!-- # Summarization model -->"
   ]
  },
  {
   "cell_type": "code",
   "execution_count": 4,
   "id": "b25e86ebe92c96ae",
   "metadata": {
    "ExecuteTime": {
     "end_time": "2025-03-14T14:00:53.535200Z",
     "start_time": "2025-03-14T14:00:51.569674Z"
    },
    "trusted": true
   },
   "outputs": [
    {
     "name": "stdout",
     "output_type": "stream",
     "text": [
      "PyTorch version: 2.4.1+cu118\n",
      "CUDA available: True\n",
      "CUDA version: 11.8\n",
      "GPU count: 1\n",
      "Using device: cuda\n"
     ]
    }
   ],
   "source": [
    "import torch\n",
    "import torch.nn as nn\n",
    "import json\n",
    "\n",
    "seed = 42\n",
    "torch.manual_seed(seed)  # PyTorch CPU\n",
    "torch.cuda.manual_seed(seed)  # PyTorch GPU\n",
    "torch.cuda.manual_seed_all(seed)  # Multi-GPU\n",
    "\n",
    "# Check if GPU is available\n",
    "print(f\"PyTorch version: {torch.__version__}\")\n",
    "print(f\"CUDA available: {torch.cuda.is_available()}\")\n",
    "print(f\"CUDA version: {torch.version.cuda}\")\n",
    "print(f\"GPU count: {torch.cuda.device_count()}\")\n",
    "device = \"cuda\" if torch.cuda.is_available() else \"cpu\"\n",
    "# device = 'cpu'\n",
    "print(f\"Using device: {device}\")\n",
    "\n",
    "# import os\n"
   ]
  },
  {
   "cell_type": "markdown",
   "id": "a446025fac5ce2dc",
   "metadata": {},
   "source": [
    "# Load dataset"
   ]
  },
  {
   "cell_type": "code",
   "execution_count": 10,
   "id": "initial_id",
   "metadata": {
    "ExecuteTime": {
     "end_time": "2025-03-14T14:00:57.360280Z",
     "start_time": "2025-03-14T14:00:53.535200Z"
    },
    "trusted": true
   },
   "outputs": [
    {
     "name": "stdout",
     "output_type": "stream",
     "text": [
      "IterableDataset({\n",
      "    features: Unknown,\n",
      "    num_shards: 1\n",
      "})\n"
     ]
    }
   ],
   "source": [
    "\n",
    "from datasets import load_dataset\n",
    "\n",
    "ds = load_dataset(\"FrancophonIA/french-to-english\", split=\"train\", streaming=True)\n",
    "print(ds)"
   ]
  },
  {
   "cell_type": "markdown",
   "id": "b63c8a35c64f0a7d",
   "metadata": {},
   "source": [
    "# Get Tokenizer - BartTokenizer with 50265 vocab size"
   ]
  },
  {
   "cell_type": "code",
   "execution_count": 11,
   "id": "bd29edde37c72d6c",
   "metadata": {
    "ExecuteTime": {
     "end_time": "2025-03-14T14:01:05.976725Z",
     "start_time": "2025-03-14T14:01:03.601837Z"
    },
    "trusted": true
   },
   "outputs": [],
   "source": [
    "from transformers import BartTokenizer\n",
    "\n",
    "tokenizer = BartTokenizer.from_pretrained(\"facebook/bart-large-cnn\")\n",
    "VOCAB_SIZE = tokenizer.vocab_size\n",
    "\n",
    "SRC_MAX_SEQ = 50\n",
    "TGT_MAX_SEQ = 50\n",
    "max_examples = 600"
   ]
  },
  {
   "cell_type": "markdown",
   "id": "87b02503926cda8a",
   "metadata": {},
   "source": [
    "# Prepare data - save data"
   ]
  },
  {
   "cell_type": "code",
   "execution_count": 12,
   "id": "a9947aa4",
   "metadata": {},
   "outputs": [],
   "source": [
    "from transformers import pipeline\n",
    "\n",
    "model_ckpt = \"papluca/xlm-roberta-base-language-detection\"\n",
    "pipe = pipeline(\"text-classification\", model=model_ckpt, device=device)"
   ]
  },
  {
   "cell_type": "code",
   "execution_count": 13,
   "id": "a18148b6dc1234f1",
   "metadata": {
    "ExecuteTime": {
     "end_time": "2025-03-14T14:01:03.594626Z",
     "start_time": "2025-03-14T14:00:57.522389Z"
    },
    "trusted": true
   },
   "outputs": [
    {
     "name": "stderr",
     "output_type": "stream",
     "text": [
      "d:\\Users\\mlaudan\\Documents\\mag\\text_summarization\\.venv\\lib\\site-packages\\transformers\\models\\xlm_roberta\\modeling_xlm_roberta.py:371: UserWarning: 1Torch was not compiled with flash attention. (Triggered internally at C:\\actions-runner\\_work\\pytorch\\pytorch\\builder\\windows\\pytorch\\aten\\src\\ATen\\native\\transformers\\cuda\\sdp_utils.cpp:555.)\n",
      "  attn_output = torch.nn.functional.scaled_dot_product_attention(\n",
      "You seem to be using the pipelines sequentially on GPU. In order to maximize efficiency please use a dataset\n"
     ]
    }
   ],
   "source": [
    "\n",
    "inputs = []\n",
    "outputs = []\n",
    "i = 0\n",
    "for data in ds:\n",
    "    src_sentence = tokenizer.encode(str(data['en']))\n",
    "    tgt_sentence = tokenizer.encode(str(data['fr']))\n",
    "    if len(src_sentence) <= SRC_MAX_SEQ and len(tgt_sentence) <= TGT_MAX_SEQ:\n",
    "        try:\n",
    "            if not data.get('fr') or not isinstance(data['fr'], str):\n",
    "                continue  # Skip invalid entries\n",
    "            else:\n",
    "                res = pipe(data['fr'], top_k=1, truncation=True)[0]['label']\n",
    "                if res == 'fr':       \n",
    "                    inputs.append(src_sentence)\n",
    "                    outputs.append(tgt_sentence)\n",
    "                    i += 1\n",
    "        except Exception as e:\n",
    "            print(f\"Error {e}\")\n",
    "            continue       \n",
    "    if i == max_examples:\n",
    "        break\n",
    "# Save as JSON\n",
    "with open('tokenized_data.json', 'w') as f:\n",
    "    json.dump({'inputs': inputs, 'outputs': outputs}, f)"
   ]
  },
  {
   "cell_type": "markdown",
   "id": "7082ee82",
   "metadata": {},
   "source": [
    "# Load data"
   ]
  },
  {
   "cell_type": "code",
   "execution_count": null,
   "id": "4a4b403a",
   "metadata": {},
   "outputs": [
    {
     "name": "stdout",
     "output_type": "stream",
     "text": [
      "600 600\n",
      "Site map\n",
      "Plan du site\n",
      "\n",
      "Feedback\n",
      "Rétroaction\n",
      "\n",
      "Credits\n",
      "Crédits\n",
      "\n",
      "What is light ?\n",
      "Qu’est-ce que la lumière?\n",
      "\n",
      "The sky of the first inhabitants A contemporary vison of the Universe Astronomy for everyone\n",
      "Le ciel des premiers habitants La vision contemporaine de l'Univers L’astronomie pour tous\n",
      "\n",
      "Cartoon\n",
      "Bande dessinée\n",
      "\n",
      "Astronomers Introduction Introduction video What is Astronomy?\n",
      "Astronomes Introduction Vidéo d'introduction Qu'est-ce que l'astronomie?\n",
      "\n",
      "The name is derived from the Greek root astron for star, and nomos for arrangement or law.\n",
      "Son nom vient du grec astron, qui veut dire étoile et nomos, qui veut dire loi.\n",
      "\n",
      "It prompts us to ask the deepest existential questions:\n",
      "L'astronomie évoque donc aussi les grandes questions « existentielles » :\n",
      "\n",
      "Who are we?\n",
      "Où sommes-nous?\n",
      "\n",
      "Where did we come from?\n",
      "D'où venons-nous?\n",
      "\n",
      "Are we alone?\n",
      "Sommes-nous seuls?\n",
      "\n",
      "The lure of these universal enigmas was the spark that ignited the passion of many of today’s famous astronomers.\n",
      "L'attrait exercé par ces énigmes universelles a représenté l'étincelle initiale du parcours de nombreux grands astronomes.\n",
      "\n",
      "Astronomy also plays a much more practical role that is not nearly as important today as it was in the past.\n",
      "L'astronomie possède également une dimension beaucoup plus pratique et « terre à terre », laquelle est moins apparente aujourd'hui.\n",
      "\n",
      "Since the time of our earliest ancestors, humans have used the motions of celestial objects to position themselves in space and time.\n",
      "Depuis toujours, nous observons les mouvements du ciel pour nous repérer dans l'espace et le temps.\n",
      "\n",
      "In the Age of Antiquity, astrometry – the measurement of the positions of stars and planets – was the main occupation of astronomers.\n",
      "Durant l'Antiquité, l'astrométrie, qui est la mesure de la position des étoiles et des planètes, est la principale occupation des astronomes.\n",
      "\n",
      "Today, astronomy covers several disciplines:\n",
      "Aujourd'hui, l'astronomie comprend plusieurs disciplines dont :\n",
      "\n",
      "◦ Stellar astronomy, which is the study of the origins and evolution of stars\n",
      "◦ L'astronomie stellaire, qui étudie l'origine, la formation et l'évolution des étoiles\n",
      "\n",
      "◦ Galactic astronomy, which studies the structure and components of galaxies\n",
      "◦ L'astronomie galactique, qui étudie la structure et les composants des galaxies\n",
      "\n",
      "◦ Astrophysics, which studies the Universe and the physics of its constituents (luminosity, temperature, chemical composition)\n",
      "◦ L'astrophysique, qui étudie la physique de l'Univers et les propriétés physiques de ses constituants (luminosité, température, composition chimique)\n",
      "\n",
      "Nowadays, professional astronomers have a strong background in astrophysics and their observations are almost always examined in an astrophysical context.\n",
      "Actuellement, les astronomes professionnels ont tous une formation poussée en astrophysique et leurs observations sont presque toujours étudiées dans un contexte astrophysique.\n",
      "\n",
      "Video Sequence  John Richard Bond explains what the purpose of astronomy is .\n",
      "Séquence vidéo  John Richard Bond explique le rôle de l'astronomie.\n",
      "\n",
      "© 2006 An original idea and a realization of the ASTROLab of Mont-Mégantic National Park\n",
      "© 2006 Une idée originale et une réalisation de L'ASTROLab du Parc national du Mont-Mégantic\n",
      "\n",
      "Astronomers © 2006 An original idea and a realization of the ASTROLab of Mont-Mégantic National Park\n",
      "Astronomes © 2006 Une idée originale et une réalisation de L'ASTROLab du Parc national du Mont-Mégantic\n",
      "\n",
      "Astronomers Timeline\n",
      "Astronomes Ligne de temps\n",
      "\n",
      "Verbatim A journey into Canadian astronomy\n",
      "Verbatim L'aventure astronomique canadienne\n",
      "\n",
      "Instruments The ancient Egyptians use the transit for the first time about 4,000 years ago.\n",
      "Instruments Les Égyptiens utilisent le transit pour la première fois, environ 2000 ans avant Jésus-Christ.\n",
      "\n",
      "Instruments The astrolab and octant are the predecessors of the sextant.\n",
      "Instruments L'astrolabe et l'octant sont les ancêtres du sextant.\n",
      "\n",
      "Observatories For thousands of years, native people use the stars to navigate and to monitor the passage of time.\n",
      "Observatoires Depuis des milliers d'années, les autochtones observent les étoiles pour se repérer dans l'espace et le temps.\n",
      "\n",
      "Stars are also the inspiration for native legends, which are passed down from generation to generation.\n",
      "Ils s'en inspirent aussi pour créer des légendes fabuleuses transmisent de génération en génération.\n",
      "\n",
      "Instruments The Assyrians are likely the first to use lenses to magnify objects, probably around 1,500 BC.\n",
      "Instruments Les Assyriens sont vraisemblablement les premiers à utliser la lentille pour grossir les objets aux environs de 1500 ans avant Jésus-Christ.\n",
      "\n",
      "Evolution of images Flemish painter Jan van Eyck makes the first known drawing of the Moon in his painting entitled \"The crucifixion\".\n",
      "ÉvolutionImages Le peintre flamand Jan van Eyck réalise le dessin le plus ancien connu de la Lune dans son tableau intitulé \"La crucifixion\".\n",
      "\n",
      "Observatories By exploring Newfoundland, John Cabot becomes the first known European to set foot on Canadian soil.\n",
      "Observatoires En explorant Terre-Neuve, John Cabot est le premier Européen reconnu à fouler le sol canadien.\n",
      "\n",
      "Like all explorers of his time, he navigates using the stars.\n",
      "Comme tous les navigateurs de l'époque, il se dirige grâce aux étoiles.\n",
      "\n",
      "Evolution of images Leonardo da Vinci draws this sketch of the Moon.\n",
      "ÉvolutionImages Leonard de Vinci effectue ce croquis de la Lune.\n",
      "\n",
      "Observatories Jacques Cartier explores the continental interior.\n",
      "Observatoires Jacques Cartier explore l’intérieur du continent.\n",
      "\n",
      "He finds the mouth of the Saint-Lawrence during the Perseid meteor shower.\n",
      "Il trouve l'entrée du fleuve Saint-Laurent au moment de la pluie d'étoiles filantes des Perséides.\n",
      "\n",
      "Instruments Leonard Digges constructs the first telescope using lenses.\n",
      "Instruments Léonard Digges réalise en Angleterre le premier assemblage de lentilles en une lunette d'approche.\n",
      "\n",
      "Observatories The roots of astronomy take hold in Canada with the arrival of Samuel de Champlain, the first governor of New France.\n",
      "Observatoires L’astronomie fait ses débuts au Canada avec l'arrivée du premier gouverneur de la Nouvelle-France, Samuel de Champlain.\n",
      "\n",
      "Evolution of images British astronomer Thomas Harriot uses a refracting telescope to make the first sketch of the Moon many months before Galileo performs the same feat.\n",
      "ÉvolutionImages Le Britannique Thomas Harriot réalise (plusieurs mois avant Galilée) le premier croquis de la Lune à partir d'une lunette astronomique.\n",
      "\n",
      "Observatories Jesuits record the first astronomical observations made in Canada.\n",
      "Observatoires Les Jésuites rapportent les premières observations astronomiques faites à partir du Canada.\n",
      "\n",
      "Observatories Jean Bourdon is the first Canadian to own a telescope.\n",
      "Observatoires Jean Bourdon est le premier Canadien à posséder une lunette astronomique.\n",
      "\n",
      "Evolution of images The first known drawing of the Orion nebula, drawn by Giovanni Batista Hodierna.\n",
      "ÉvolutionImages Premier dessin connu de la nébuleuse d’Orion par Giovanni Batista Hodierna.\n",
      "\n",
      "1667 : pollution Louis XIV commands all roads in the capital of Paris to be lit at night in order to combat thefts and other crimes.\n",
      "1667 : pollution Louis XIV impose l’éclairage de toutes les rues de la capitale (Paris) pour lutter contre les vols et les crimes.\n",
      "\n",
      "Instruments Isaac Newton builds his telescope.\n",
      "Instruments Isaac Newton fabrique son télescope.\n",
      "\n",
      "Instruments Rasmus Bartholin publishes the first article on the splitting of light rays by Icelandic spar.\n",
      "Instruments Rasmus Bartholin publie le premier article sur la double réfraction de la calcite d'Islande.\n",
      "\n",
      "Instruments In France, Laurent Cassegrain invents a new type of reflecting telescope.\n",
      "Instruments En France, Laurent Cassegrain invente un nouveau type de télescope.\n",
      "\n",
      "Instruments The modern version of the sextant is independently invented by John Hadley in England and Thomas Godfrey in the United States.\n",
      "Instruments La version moderne du sextant est inventée indépendamment par le Britannique John Hadley et l'Américain Thomas Godfrey.\n",
      "\n",
      "Observatories Evidence suggests that an astronomical observatory is installed at the College of Quebec.\n",
      "Observatoires Indices d'installation d'un observatoire astronomique au Collège de Québec.\n",
      "\n",
      "Observatories An engraving showing the image of sky observers outdoors with an astronomical instrument at the Fortress of Louisbourg in Nova Scotia.\n",
      "Observatoires Une gravure montre des observateurs utilisant un instrument astronomique à la forteresse de Louisbourg en Nouvelle-Écosse.\n",
      "\n",
      "It is likely that a temporary observatory existed for a short time in the fortress.\n",
      "Il est probable qu'un observatoire temporaire y ait existé.\n",
      "\n",
      "Evolution of images Charles Messier makes this drawing of the Orion nebula.\n",
      "ÉvolutionImages Charles Messier réalise ce dessin de la nébuleuse d’Orion.\n",
      "\n",
      "Evolution of images The first map of the Moon with longitudes and latitudes.\n",
      "ÉvolutionImages La première carte lunaire où sont indiquées les longitudes et les latitudes.\n",
      "\n",
      "1792 : pollution William Murdoch invents the natural gas lamp and cities in Britain begin to light their streets using natural gas.\n",
      "1792 : pollution William Murdoch invente la lampe à gaz et les villes de Grande-Bretagne commencent à éclairer leurs rues au gaz.\n",
      "\n",
      "Instruments French astronomer Dominique François Jean Arago invents the polariscope.\n",
      "Instruments L’astronome français Dominique François Jean Arago invente le polariscope.\n",
      "\n",
      "Instruments Joseph Nicéphore Niépce succeeds in making the first photograph on paper.\n",
      "Instruments La première photo sur papier par Joseph Nicéphore Niépce.\n",
      "\n",
      "Instruments French inventor Joseph Nicéphore Niépce makes the first permanent photograph using a sheet of polished tin coated with bitumen.\n",
      "Instruments Le Français Joseph Nicéphore Niépce réussit la première photographie permanente au moyen d'une feuille d'étain enduite de bitume.\n",
      "\n",
      "Instruments British astronomer John Frederick William Herschel invents the photometer.\n",
      "Instruments L’astronome britannique John Frederick William Herschel invente le photomètre.\n",
      "\n",
      "Instruments French optician Noël Marie Paymal Lerebours photographs the Sun for the first time.\n",
      "Instruments Le Soleil est photographié pour la première fois par l’opticien français Noël Marie Paymal Lerebours.\n",
      "\n",
      "Evolution of images American physician and chemist John William Draper takes this daguerreotype of the Moon.\n",
      "ÉvolutionImages Le médecin et chimiste américain John William Draper prend ce daguerréotype de la Lune.\n",
      "\n",
      "Observatories Dr. Charles Smallwood establishes an observatory at Saint-Martin on Quebec’s Île Jésus (now \"Laval\").\n",
      "Observatoires L'observatoire de l'Île Jésus du Dr. Charles Smallwood à Saint-Martin (aujourd’hui Laval), au Québec.\n",
      "\n",
      "Observatories Dr. James Toldervy of Fredericton, New Brunswick, creates an observatory in his garden near the Saint John River.\n",
      "Observatoires L'observatoire du Dr. James Toldervy à Fredericton au Nouveau-Brunswick.\n",
      "\n",
      "Evolution of images Lord Rosse makes this drawing of the Orion nebula.\n",
      "ÉvolutionImages Lord Rosse effectue ce croquis de la nébuleuse d’Orion.\n",
      "\n",
      "Observatories The Quebec City Observatory is established on the Plains of Abraham.\n",
      "Observatoires Création de l'observatoire de Québec, sur les Plaines d'Abraham.\n",
      "\n",
      "Evolution of images American photographer John Adams Whipple takes this daguerreotype of the Moon.\n",
      "ÉvolutionImages Le photographe américain John Adams Whipple prend ce daguerréotype de la Lune.\n",
      "\n",
      "Observatories The Kingston Observatory is established in London, Ontario.\n",
      "Observatoires Création de l'observatoire de Kingston en Ontario.\n",
      "\n",
      "Instruments German chemist Robert Wilhelm Bunsen and German physicist Gustav Robert Kirchhoff invent the first spectroscope.\n",
      "Instruments Invention du spectroscope par le chimiste allemand Robert Wilhelm Bunsen et le physicien allemand Gustav Robert Kirchhoff.\n",
      "\n",
      "Instruments Scottish physicist James Clerk Maxwell creates the first colour photograph using filters made of coloured glass plates.\n",
      "Instruments Le physicien écossais James Clerk Maxwell réalise la première photographie en couleurs au moyen de filtres de verre colorés.\n",
      "\n",
      "Observatories The King College Observatory is established in Windsor, Nova Scotia.\n",
      "Observatoires Création de l'observatoire du Collège King, à Windsor en Nouvelle-Écosse.\n",
      "\n",
      "Observatories The McGill University Observatory is established in Montreal, Quebec.\n",
      "Observatoires Création de l'observatoire de l'Université McGill, à Montréal au Québec.\n",
      "\n",
      "Evolution of images British astronomer and chemist Warren De La Rue takes this photograph of the Moon.\n",
      "ÉvolutionImages L'astronome et chimiste britannique Warren De La Rue prend cette photographie de la Lune.\n",
      "\n",
      "De La Rue becomes the first person to print photos.\n",
      "De La Rue est le premier à parvenir à imprimer des photographies.\n",
      "\n",
      "Observatories The Charles Blackman Observatory is established in Montreal, Quebec.\n",
      "Observatoires Création de l'observatoire de Charles Blackman, à Montréal au Québec.\n",
      "\n",
      "Observatories The Woodstock College Observatory is established in Hamilton, Ontario.\n",
      "Observatoires Création de l'observatoire de Woodstock, à Hamilton en Ontario.\n",
      "\n",
      "1879 : pollution Edison makes a major improvement on the electric light bulb.\n",
      "1879 : pollution Amélioration majeure de l’ampoule électrique par Edison.\n",
      "\n",
      "Instruments British chemist William de Wiveleslie Abney is the first to take an infrared photograph.\n",
      "Instruments Le chimiste britannique William de Wiveleslie Abney est le premier à prendre une photographie infrarouge.\n",
      "\n",
      "Observatories The Victoria College Observatory is established in Cobourg, Ontario.\n",
      "Observatoires Création de l'observatoire du collège Victoria de Cobourg en Ontario.\n",
      "\n",
      "Observatories The Cliff Street Observatory is established in Ottawa, Ontario.\n",
      "Observatoires Création de l'observatoire de la rue Cliff à Ottawa en Ontario.\n",
      "\n",
      "Instruments American physicist Albert Abraham Michelson constructs the first interferometer.\n",
      "Instruments Invention de l'interféromètre par le physicien américain Albert Abraham Michelson.\n",
      "\n",
      "Evolution of images American optician George Willis Ritchey takes exceptional photos of the Moon.\n",
      "ÉvolutionImages L'opticien américain George Willis Ritchey réalise des photographies de la Lune d'une qualité exceptionnelle.\n",
      "\n",
      "Observatories The Dominion Observatory is established in Ottawa, Ontario.\n",
      "Observatoires Création de l’Observatoire Fédéral à Ottawa en Ontario.\n",
      "\n",
      "Observatories The Dominion Astrophysical Observatory is established at Saanich near Victoria, British Columbia.\n",
      "Observatoires Création de l’Observatoire Fédéral d’Astrophysique à Saanich, près de Victoria en Colombie-Britannique.\n",
      "\n",
      "Observatories Establishment of the David Dunlap Observatory at Richmond Hill near Toronto, Ontario.\n",
      "Observatoires Création de l’Observatoire David Dunlap à Richmond Hill, près de Toronto en Ontario.\n",
      "\n",
      "Instruments Study of atmospheric turbulence using adaptive optics.\n",
      "Instruments Étude des turbulences grâce à l'optique adaptative.\n",
      "\n",
      "Evolution of images Gerard Peter Kuiper publishes the last great photographic lunar atlas using images recorded from Earth.\n",
      "ÉvolutionImages Gerard Peter Kuiper publie le dernier grand atlas de la Lune réalisé à partir de clichés pris depuis la Terre.\n",
      "\n",
      "Evolution of images The Orion nebula seen through the 1.2-metre Oschin Telescope at Mount Palomar.\n",
      "ÉvolutionImages La nébuleuse d’Orion telle que vue par le télescope Oschin de 1,2m du Mont Palomar.\n",
      "\n",
      "Observatories The Algonquin Radio Observatory is established at Traverse Lake in Ontario.\n",
      "Observatoires Création de l’Observatoire Algonquin de Radioastronomie au Lac Traverse en Ontario.\n",
      "\n",
      "Observatories The Dominion Radio Astrophysical Observatory is established at White Lake near Penticton, British Columbia.\n",
      "Observatoires Création de l’Observatoire Fédéral de Radioastrophysique à White Lake, près de Penticton en Colombie-Britannique.\n",
      "\n",
      "Evolution of images The first photograph of the Moon is taken by the American space probe Ranger VII.\n",
      "ÉvolutionImages La première photographie de la Lune prise par une sonde spatiale américaine, Ranger VII.\n",
      "\n",
      "Evolution of images Astronauts of the Apollo 11 mission take the first photos from the Moon.\n",
      "ÉvolutionImages Les astronautes de la mission américaine Apollo 11 réalisent les premières photographies prises depuis la Lune.\n",
      "\n",
      "Instruments Americans Willard Boyle and George Smith design the basic structure of a CCD.\n",
      "Instruments Les Américains Willard Boyle et George Smith dessinent la structure de base d’un CCD.\n",
      "\n",
      "Observatories The Rothney Astrophysical Observatory is established at Priddis, southwest of Calgary, Alberta.\n",
      "Observatoires Création de l’Observatoire d’Astrophysique Rothney à Priddis, au sud de Calgary en Alberta.\n",
      "\n",
      "Evolution of images Orion, as seen through the telescope at the Kitt Peak National Observatory.\n",
      "ÉvolutionImages Orion telle que vue par le télescope du Kitt Peak National Observatory.\n",
      "\n",
      "Evolution of images The first astronomical image taken by a CCD camera is this photo of the Moon.\n",
      "ÉvolutionImages La première image astronomique prise par une caméra CCD est cette photographie de la Lune.\n",
      "\n",
      "Observatories The Mont-Mégantic Observatory is established at Notre-Dame-des-Bois, Quebec.\n",
      "Observatoires Création de l’Observatoire du Mont-Mégantic, à Notre-Dame-des-Bois au Québec.\n",
      "\n",
      "Pollution The natural brightness of the sky has doubled at Mont-Mégantic.\n",
      "Pollution La luminosité naturelle du ciel a doublé au Mont-Mégantic.\n",
      "\n",
      "Observatories The Canada-France-Hawaii Observatory is established atop Mauna Kea volcano in Hawaii.\n",
      "Observatoires Création de l’Observatoire Canada-France-Hawaï, au sommet du Mauna Kea sur la Grande Île d'Hawaï.\n",
      "\n",
      "Observatories The James-Clerk-Maxwell Observatory is established near the summit of Mauna Kea volcano in Hawaii.\n",
      "Observatoires Création de l’Observatoire James-Clerk-Maxwell, au sommet du Mauna Kea sur la Grande Île d'Hawaï.\n",
      "\n",
      "Observatories The University of British-Columbia Liquid-Mirror Observatory is built at Maple Ridge near Vancouver, British Columbia.\n",
      "Observatoires Création de l’Observatoire à Miroir Liquide de l’Université de la Colombie-Britannique à Maple Ridge, près de Vancouver.\n",
      "\n",
      "Observatories The Gemini North and South observatories are established in Hawaii and Chile.\n",
      "Observatoires Création des Observatoires Gemini Nord et Sud, à Hawaï et au Chili.\n",
      "\n",
      "Observatories Launch of the FUSE Space Telescope by Canada, the United States, and France.\n",
      "Observatoires Lancement du Télescope Spatial FUSE par le Canada, les États-Unis et la France.\n",
      "\n",
      "Observatories Ontario's Sudbury Neutrino Observatory is established.\n",
      "Observatoires Création de l’Observatoire de Neutrinos de Sudbury, en Ontario.\n",
      "\n",
      "Observatories Establishment of the Cosmic Background Imager by Canada, the United-States and Chile.\n",
      "Observatoires Création de l’Observatoire de l’Imageur du Bruit de Fond Cosmologique par le Canada, les États-Unis et le Chili.\n",
      "\n",
      "Observatories The Odin Space Observatory is launched by Sweden, Canada, Finland and France.\n",
      "Observatoires Lancement de l’Observatoire Spatial Odin par la Suède, le Canada, la Finlande et la France.\n",
      "\n",
      "Evolution of images The Orion nebula as seen through the Canada-France-Hawaii Telescope.\n",
      "ÉvolutionImages Nébuleuse d’Orion vie du téléscope Canada-France-Hawaii\n",
      "\n",
      "Pollution More than 95% of stars are no longer visible from large Canadian cities.\n",
      "Pollution Dans les grandes villes canadiennes, plus de 95% des étoiles ne sont plus visibles.\n",
      "\n",
      "About two thirds of Canadians can no longer see the Milky Way.\n",
      "Environ 2/3 des Canadiens ne voient plus la Voie lactée.\n",
      "\n",
      "Observatories Launch of MOST, the first space telescope to be entirely designed and built in Canada.\n",
      "Observatoires Lancement de MOST, le premier télescope spatial entièrement canadien.\n",
      "\n",
      "Evolution of images Image of lunar crater Clavius taken at the Mont-Mégantic Observatory.\n",
      "ÉvolutionImages Image du cratère lunaire Clavius prise à l'Observatoire du Mont-Mégantic.\n",
      "\n",
      "Evolution of images The Orion nebula as seen by the Hubble Space Telescope.\n",
      "ÉvolutionImages La nébuleuse d’Orion par le télescope spatial Hubble.\n",
      "\n",
      "Astronomes The next generation of Canadian astronomers.\n",
      "Astronomes La relève canadienne.\n",
      "\n",
      "In the future :\n",
      "Dans le futur :\n",
      "\n",
      "Observatories Planed launch of the James Webb Space Telescope by Canada, the United States and Europe.\n",
      "Observatoires Lancement prévu du Télescope Spatial James Webb, par les États-Unis, le Canada et l'Europe.\n",
      "\n",
      "Astronomers Observatories The first astronomical observations in Canada The era of explorers and Jesuits\n",
      "Astronomes Observatoires Les premières observations astronomiques au Canada L'époque des explorateurs et des Jésuites\n",
      "\n",
      "The first observatories The first astronomical observatory in North America was Canadian\n",
      "Les premiers observatoires Le premier observatoire astronomique d'Amérique du Nord est canadien\n",
      "\n",
      "The Dominion Observatory The first government observatory and provider of official time in Canada\n",
      "L’Observatoire Fédéral Le premier observatoire gouvernemental et fournisseur de l'heure officielle du Canada\n",
      "\n",
      "The David Dunlap Observatory Home to the largest optical telescope in Canada\n",
      "L’Observatoire David Dunlap L'observatoire abritant le plus grand télescope optique du Canada\n",
      "\n",
      "The Algonquin Radio Observatory Home to the largest parabolic antenna in Canada\n",
      "L’Observatoire Algonquin de Radioastronomie L'observatoire où l'on trouve la plus grande antenne parabolique du Canada\n",
      "\n",
      "The Dominion Radio Astrophysical Observatory The largest radio astronomy observatory in Canada\n",
      "L’Observatoire Fédéral de Radioastrophysique Le plus important observatoire de radioastronomie du Canada\n",
      "\n",
      "The Rothney Astrophysical Observatory An example of a successful partnership\n",
      "L’Observatoire d’Astrophysique Rothney Un bel exemple de partenariat\n",
      "\n",
      "The Mont-Mégantic Observatory Mont-Mégantic ObservatoryThe largest astronomical observatory in eastern North America\n",
      "L’Observatoire du Mont-Mégantic Le plus grand observatoire astronomique de l'est de l'Amérique du Nord\n",
      "\n",
      "The Canada-France-Hawaii Observatory One of the most powerful and productive observatories in the world\n",
      "L’Observatoire Canada-France-Hawaï Un des observatoires les plus performants et productifs au monde\n",
      "\n",
      "The James-Clerk-Maxwell Observatory The largest submillimetre radio telescope in the world\n",
      "L’Observatoire James-Clerk-Maxwell Le plus grand radiotélescope submillimétrique au monde\n",
      "\n",
      "The Gemini North and South Observatory A pair of giant observatories – one in each hemisphere – to provide full sky coverage\n",
      "Les Observatoires Gemini Nord et Sud Deux observatoires géants pour observer dans chaque hémisphère terrestre\n",
      "\n",
      "The FUSE Space Telescope The first example of Canadian participation in an international astronomy satellite program\n",
      "Le Télescope Spatial FUSE La première participation canadienne à un satellite astronomique international\n",
      "\n",
      "The Sudbury Neutrino Observatory The only underground Canadian observatory\n",
      "L’Observatoire de Neutrinos de Sudbury Le seul observatoire canadien situé sous terre\n",
      "\n",
      "The Cosmic Background Imager An observatory for studying the oldest light ever emitted\n",
      "L’Observatoire de l'Imageur du Rayonnement de Fond Cosmologique Un observatoire pour observer la plus ancienne lumière jamais émise\n",
      "\n",
      "The Odin Space Observatory An observatory that specializes in research about water and oxygen\n",
      "L’Observatoire Spatial Odin Un observatoire spécialisé dans la recherche d'eau et d'oxygène\n",
      "\n",
      "The MOST Space Telescope The first space telescope entirely of Canadian designed and construction\n",
      "Le Télescope Spatial MOST Le premier télescope spatial entièrement conçu et construit au Canada\n",
      "\n",
      "The Atacama Large Millimeter Array What will be the largest submillimetre radio telescope in the world\n",
      "Le Vaste Réseau d'Antennes Millimétriques d'Atacama Le futur plus grand radiotélescope submillimétrique au monde\n",
      "\n",
      "The James Webb Space Telescope The successor to the Hubble Space Telescope\n",
      "Le Télescope Spatial James Webb Le successeur du télescope spatial Hubble\n",
      "\n",
      "It was also during the Champlain era that French missionaries, the Jesuits, first set foot on Canadian soil in 1604.\n",
      "C'est également à l'époque de Champlain que les Jésuites, des missionnaires français, entrent en scène au Canada.\n",
      "\n",
      "During the time of the early settlers, the function of astronomy was primarily practical.\n",
      "À cette époque, l'astronomie a une fonction essentiellement pratique.\n",
      "\n",
      "It was the science of colonization par excellence, used to draw up accurate geographic maps and to tell time precisely.\n",
      "Elle sert à déterminer l'heure avec exactitude et à dresser précisément les cartes géographiques.\n",
      "\n",
      "« Return to the observatories Next © 2006 An original idea and a realization of the ASTROLab of Mont-Mégantic National Park\n",
      "« Retour aux observatoires Suivant © 2006 Une idée originale et une réalisation de L'ASTROLab du Parc national du Mont-Mégantic\n",
      "\n",
      "Bonnécamps left Canada in 1759 not long before the fall of Quebec at the hands of the British, and he never returned.\n",
      "Bonnécamps quitta le Canada en 1759, peu de temps avant la chute de Québec, et ne revint jamais au Canada.\n",
      "\n",
      "The British closed the College of Quebec and the teaching tasks were transferred to the Seminary of Quebec across the street.\n",
      "Le Collège de Québec fut fermé par les Britanniques et l'enseignement transféré au Séminaire de Québec (situé juste en face).\n",
      "\n",
      "Chabert owned several such instruments and it is likely that a temporary observatory existed for a short time in the fortress.\n",
      "Chabert en possédait plusieurs et il est probable qu'un observatoire temporaire ait existé pendant une courte période dans la forteresse.\n",
      "\n",
      "Later records describe an observatory on Quebec’s Île Jésus (now \"Laval\") that was established by Dr. Charles Smallwood de Saint-Martin.\n",
      "Un autre observatoire est celui de l'Île Jésus établi par le Dr. Charles Smallwood de Saint-Martin (aujourd'hui Laval), au Québec.\n",
      "\n",
      "Historical evidence suggests that it was already in existence by 1846.\n",
      "Des indices tendent à démontrer qu'il existait déjà en 1846.\n",
      "\n",
      "A year later, in 1850, the Quebec City Observatory was established on the Plains of Abraham.\n",
      "L'Observatoire de Québec situé sur les Plaines d'Abraham vit quant à lui le jour en 1850.\n",
      "\n",
      "Historical records report the establishment of seven other major observatories from 1850 to the end of the century.\n",
      "À partir de 1850, l'existence de sept autres observatoires importants est connue.\n",
      "\n",
      "They are: 1.\n",
      "Il s'agit des observatoires : 1.\n",
      "\n",
      "Kingston Observatory in London, Ontario: est.\n",
      "De Kingston, à London, en Ontario, en 1856 2.\n",
      "\n",
      "In those days, only observatories were capable of providing such a service.\n",
      "À l'époque, seul un observatoire astronomique peut fournir ce genre de service.\n",
      "\n",
      "He became its first Director and equipped it with a 35-centimetre telescope, the largest ever installed in Canada.\n",
      "Il en devient le premier directeur et l'équipe d'une lunette astronomique de 35 centimètres, la plus grande jamais installée au Canada.\n",
      "\n",
      "The first mandate of the observatory was to determine and distribute the exact time to the rest of the country.\n",
      "La première partie du mandat de l'observatoire est de fournir des coordonnées temporelles au pays, c'est-à-dire l'heure exacte.\n",
      "\n",
      "King confided this task to Robert Meldrum Stewart, the astronomer who went on to become Director from 1923 to 1946.\n",
      "King confie cette tâche à l'astronome Robert Meldrum Stewart, qui deviendra lui-même directeur de l'observatoire de 1923 à 1946.\n",
      "\n",
      "This was accomplished by recording 28,000 astronomical observations from 1911 to 1923.\n",
      "Le tout nécessite quelque 28 000 observations astronomiques qui s'échelonnent de 1911 à 1923.\n",
      "\n",
      "A new project was launched in 1923, and the positions of another 1,368 stars were measured until 1950.\n",
      "De 1923 à 1950, un nouveau programme d'observation est lancé et les positions de 1368 autres étoiles sont mesurées.\n",
      "\n",
      "The observatory ceased its activities and the building became the headquarters for the NRC.\n",
      "L'observatoire cesse alors d'être actif et devient le siège des bureaux du Conseil National de Recherches.\n",
      "\n",
      "« Return to the observatories Next Previous © 2006 An original idea and a realization of the ASTROLab of Mont-Mégantic National Park\n",
      "« Retour aux observatoires Suivant Précédent © 2006 Une idée originale et une réalisation de L'ASTROLab du Parc national du Mont-Mégantic\n",
      "\n",
      "Its creation was motivated by the growing need of Canadian astronomers to have access to a large world-class telescope.\n",
      "Sa création est motivée par les besoins croissants des astronomes canadiens d'avoir accès à un grand télescope d'envergure internationale.\n",
      "\n",
      "It measured 15 metres long and its mobile parts weighed 42 tonnes.\n",
      "Il fait 15 mètres de long et ses parties mobiles pèsent 42 tonnes.\n",
      "\n",
      "Plaskett became the first Director of the Dominion Astrophysical Observatory and helped it establish an international research reputation very early on.\n",
      "Plaskett devient le premier directeur de l'observatoire et contribue dès les débuts à donner une réputation internationale à l'établissement.\n",
      "\n",
      "In 1922, for example, he discovered a binary star and the larger of the two still holds the record as the most massive known binary star.\n",
      "En 1922, il découvre en effet une étoile binaire dont l'étoile principale est la plus massive connue jusqu'alors.\n",
      "\n",
      "This celestial body bears the name of \"Plaskett’s Star\" in his honour.\n",
      "Aujourd'hui, cette étoile est encore connue sous le nom « d'étoile de Plaskett ».\n",
      "\n",
      "He was also the first to measure the size, mass and rotational speed of the Milky Way.\n",
      "Il est également le premier à mesurer la taille, la masse et la vitesse de rotation de la Voie lactée.\n",
      "\n",
      "He also established that the Sun is located at 2/3 the distance from the centre of our galaxy to its edge, and that our solar system takes approximately 22 million years to complete one galaxial rotation.\n",
      "Il établit aussi que le Soleil se trouve au 2/3 du centre de la galaxie et que l'astre prend environ 220 millions d'années à en faire le tour.\n",
      "\n",
      "In 1940, the Dominion Astrophysical Observatory was the site of two other major discoveries.\n",
      "En 1940, l'Observatoire Fédéral d'Astrophysique est témoin de deux autres découvertes majeures.\n",
      "\n",
      "It was the first direct measurement of the temperature of the Universe.\n",
      "C'est la première mesure directe de la température de l'Univers.\n",
      "\n",
      "In 1962, the observatory acquired a second telescope measuring 1.22 metres in diameter.\n",
      "En 1962, l'observatoire fait l'acquisition d'un second télescope de 1,22 mètre de diamètre.\n",
      "\n",
      "Equipped with only a spectroscope, it was mainly used to study binary stars.\n",
      "Équipé uniquement d'un spectroscope, il sert surtout à l'étude d'étoiles binaires.\n",
      "\n",
      "In 1970, the responsibility of the observatory was conferred to the National Research Council of Canada.\n",
      "En 1970, la responsabilité de l'observatoire est confiée au Conseil National de Recherches du Canada.\n",
      "\n",
      "In 1981, the observatory received a third telescope measuring 40 centimetres across.\n",
      "En 1981, l'observatoire se dote d'un troisième télescope de 40 centimètres.\n",
      "\n",
      "Today it is used to show the sky to the general public.\n",
      "On l'utilise aujourd'hui pour montrer le ciel au grand public.\n",
      "\n",
      "In 2001, the observatory inaugurated an interpretation centre open to the general public all year long and affectionately named \"The Centre of the Universe\".\n",
      "En 2001, l'observatoire inaugure son propre centre d'interprétation pour le grand public, « le Centre de l'Univers ».\n",
      "\n",
      "Over the years, new instruments were added and many technical improvements were made to the Plaskett Telescope, the observatory’s main telescope.\n",
      "Celui-ci est désormais 10 000 fois plus sensible qu'en 1918, année de sa mise en service.\n",
      "\n",
      "Today, the Dominion Astrophysical Observatory is the responsibility of the National Research Council of Canada’s Herzberg Institute of Astrophysics.\n",
      "L'observatoire est aujourd'hui sous la responsabilité de l'Institut Herzberg d'Astrophysique du Conseil National de Recherches du Canada.\n",
      "\n",
      "The facility was the property of the University of Toronto and was operated by the astronomy department.\n",
      "L'établissement est la propriété de l'Université de Toronto et est opéré par son département d'astronomie.\n",
      "\n",
      "The observatory was mainly the work of Clarence Augustus Chant, a Canadian astronomer and astronomy professor at the University of Toronto.\n",
      "L'observatoire est principalement l'œuvre de l'astronome canadien Clarence Augustus Chant, professeur d'astronomie à l'Université de Toronto.\n",
      "\n",
      "The building that houses the administrative offices of the observatory was also inaugurated in 1935.\n",
      "Le Canada possède alors deux des quatre plus grands télescopes au monde.\n",
      "\n",
      "The observatory responded in 1971 by erecting a 60-centimetre telescope at Las Campanas in Chile.\n",
      "Pour contrer en partie le problème, un télescope de 60 centimètres est érigé en 1971 à Las Campanas, au Chili.\n",
      "\n",
      "The David Dunlap Observatory thus acquired international status and the skies of the south were available to Canadian astronomers for the first time.\n",
      "L'Observatoire David Dunlap devient ainsi international et l'hémisphère Sud s'ouvre pour la première fois à des astronomes canadiens.\n",
      "\n",
      "A spectacular discovery was made at the David Dunlap Observatory in 1972.\n",
      "En 1972, l'Observatoire David Dunlap est l'hôte d'une découverte spectaculaire.\n",
      "\n",
      "Charles Thomas Bolton, one of the observatory’s astronomers, discovered Cygnus X-1, the first black hole ever identified.\n",
      "Charles Thomas Bolton, qui est astronome à l'observatoire, découvre le premier trou noir jamais identifié, Cygnus X-1.\n",
      "\n",
      "In 1987, the observatory was responsible for another amazing discovery thanks to its telescope in Las Campanas.\n",
      "En 1987, l'observatoire est responsable d'une autre découverte spectaculaire grâce à son télescope de Las Campanas.\n",
      "\n",
      "The discovery made headlines around the world, as it was the first supernova visible to the unaided eye in almost 400 years.\n",
      "La découverte fait les manchettes des journaux du monde entier.\n",
      "\n",
      "The National Observatory of Argentina took charge of the telescope and moved it from Chile to Parque El Leoncito in Argentina.\n",
      "Le télescope est alors pris en charge par l'Observatoire National de l'Argentine et déménagé au site de Parque El Leoncito, en Argentine.\n",
      "\n",
      "The David Dunlap Observatory nonetheless retains one quarter of the observation time at the telescope.\n",
      "L'Observatoire David Dunlap conserve toutefois le quart du temps d'observation du télescope.\n",
      "\n",
      "The first director was Arthur Edwin Covington, Canada’s first radio astronomer.\n",
      "Le premier directeur à prendre en charge le site est Arthur Edwin Covington, le premier radioastronome canadien.\n",
      "\n",
      "In 1966, an array consisting of 32 parabolic antennas, each 3 metres in diameter, was added to the observatory.\n",
      "En 1966, un réseau de 32 antennes paraboliques de 3 mètres de diamètre est ajouté à l'observatoire.\n",
      "\n",
      "It was the first successful long distance interferometry experiment ever conducted.\n",
      "Il s'agit de la première expérience réussie d'interférométrie à très grande séparation jamais réalisée.\n",
      "\n",
      "The goal of the experiment was to discern a source of radio waves with great precision.\n",
      "Le but d'une telle expérience est de discerner avec précision un objet qui émet des ondes radio.\n",
      "\n",
      "Many new complex chemical compounds were identified for the first time in interstellar gas clouds thanks to the collaborative effort.\n",
      "Plusieurs nouveaux composés chimiques complexes sont alors identifiés pour la première fois dans les nuages de gaz interstellaires.\n",
      "\n",
      "The first parabolic antenna, measuring 25.6 metres, began operating in 1960.\n",
      "Une première antenne parabolique de 25,6 mètres commence à opérer en 1960.\n",
      "\n",
      "It was mainly designed to operate at a wavelength of 21 centimetres, which corresponds to one of the spectral lines of hydrogen.\n",
      "Elle est principalement conçue pour fonctionner à une longueur d'onde de 21 centimètres, ce qui correspond à une raie spectrale de l'hydrogène.\n",
      "\n",
      "Radio astronomers at Penticton have been striving towards this goal since the first days of the observatory.\n",
      "Les radioastronomes de Penticton s'attèleront d'ailleurs à cette tâche dès les débuts de l'observatoire.\n",
      "\n",
      "In 1962, a second radio telescope was put in place.\n",
      "En 1962, un second radiotélescope est mis en chantier.\n",
      "\n",
      "This radio telescope was primarily used between 1965 and 1969 during a period when solar spots were at a minimum.\n",
      "Ce radiotélescope est utilisé principalement entre 1965 et 1969, lors d'une période où les taches solaires sont à leur minimum.\n",
      "\n",
      "The main goal of the T-shaped radio telescope at Penticton was to produce a map of radio sources in our galaxy.\n",
      "Le but principal du radiotélescope en « T » est de produire une carte des sources radio de notre galaxie qui sont visibles depuis le site de Penticton.\n",
      "\n",
      "It was also used to observe several hundred specific radio sources, such as quasars and distant galaxies.\n",
      "On l'utilise également pour observer plusieurs centaines de sources radio comme des quasars et des galaxies lointaines.\n",
      "\n",
      "In 1965, a 1.8-metre parabolic antenna was installed to collect data on solar radiation.\n",
      "Il n'est plus employé depuis le milieu des années 1970.\n",
      "\n",
      "The antennas would operate at a wavelength of 21 centimetres, which corresponds to one of the spectral lines of hydrogen.\n",
      "Les antennes opèrent à une longueur d'onde de 21 centimètres, ce qui correspond à une raie du spectre de l'hydrogène.\n",
      "\n",
      "The observatory is now under the responsibility of the National Research Council of Canada’s Herzberg Institute of Astrophysics.\n",
      "L'observatoire est maintenant sous la responsabilité de l'Institut Herzberg d'Astrophysique du Conseil National de Recherches du Canada.\n",
      "\n",
      "Belonging to the University of Calgary, the facility was operated by the astronomy and physics departments.\n",
      "Propriété de l'Université de Calgary, l'établissement est opéré par son département de physique et d'astronomie.\n",
      "\n",
      "The objectives the observatory were the advanced education of university students and the pursuit of astronomical research.\n",
      "Sa création a pour but la formation avancée d'étudiants et la recherche astronomique.\n",
      "\n",
      "Work commenced in 1971 and the university took the opportunity to simultaneously start an undergraduate degree in astronomy.\n",
      "Les travaux débutent en 1971 et l'université décide du même coup de démarrer un programme de baccalauréat en astronomie.\n",
      "\n",
      "The first research activities were mostly on photometry.\n",
      "Les premiers travaux de recherche sont, quant à eux, surtout concentrés en photométrie.\n",
      "\n",
      "The year of 1981 was particularly fruitful for the observatory.\n",
      "L'année 1981 est particulièrement riche en évènements.\n",
      "\n",
      "Alexander Rothney Cross signed on to the project by making another donation.\n",
      "Alexander Rothney Cross se joint alors au projet et fait un nouveau don.\n",
      "\n",
      "The new facility was constructed by the physics department of the University of Calgary.\n",
      "La construction de l'édifice est entièrement réalisée par l'atelier du département de physique de l'Université de Calgary.\n",
      "\n",
      "Construction continued for several years and by 1987 the 1.5-metre telescope was operational.\n",
      "Elle s'échelonne sur plusieurs années et, en 1987, le télescope de 1,5 mètre devient opérationnel.\n",
      "\n",
      "The physics department changed its name to the Department of Physics and Astronomy.\n",
      "Le département de physique change alors de nom et devient le département de physique et d'astronomie.\n",
      "\n",
      "The telescope was still equipped with a metal mirror (not glass), and its optical qualities were considered less than optimal by that time.\n",
      "Le télescope est toutefois doté d'un miroir de métal (et non de verre) n'ayant pas de grandes qualités optiques.\n",
      "\n",
      "The decision was made at the end of the 1980’s to replace it with a new 1.8-metre mirror.\n",
      "On décide donc à la fin des années 1980 de le remplacer par un nouveau miroir de 1,8 mètre.\n",
      "\n",
      "The new mirror was delivered to the observatory in 1993, and once again, Alexander Rothney Cross contributed to the project.\n",
      "Ce nouveau miroir est livré à l'observatoire en 1993.\n",
      "\n",
      "The following year, it was baptized as the Alexander Rothney Cross Telescope in honour of the generous benefactor.\n",
      "Le télescope devient opérationnel en 1996 et on le baptise Alexander Rothney Cross en 1997.\n",
      "\n",
      "Recent developments include a new Visitor’s Centre that was inaugurated in 2003.\n",
      "En 2003, on inaugure un nouveau centre pour les visiteurs.\n",
      "\n",
      "The telescope is equipped with a 1.6-metre mirror that weights one metric ton; the entire structure weighs 24 tonnes.\n",
      "Le télescope est doté d'un miroir de 1,6 mètre de diamètre pesant une tonne ; le poids total de la structure est de 24 tonnes.\n",
      "\n",
      "Although not the biggest, the state of the art instruments attached to the Mont-Mégantic telescope make it the most powerful telescope in Canada.\n",
      "Ses instruments de pointe en font le télescope le plus puissant au Canada.\n",
      "\n",
      "The project to construct a large observatory in Quebec was launched in 1971 by professors Gilles Beaudet and George Michaud of the University of Montreal.\n",
      "Le projet d'un grand observatoire québécois est lancé en 1971 par les professeurs Gilles Beaudet et George Michaud de l'Université de Montréal.\n",
      "\n",
      "Laval University in Quebec City joined the venture in 1974 and a partnership agreement was signed in 1975.\n",
      "L'Université Laval se joint à l'entreprise en 1974 et une entente est signée entre les deux partenaires en 1975.\n",
      "\n",
      "The federal and provincial governments approved the project in 1976, and construction started the same year.\n",
      "Le projet est approuvé par les gouvernements fédéral et provincial en 1976 et la construction débute la même année.\n",
      "\n",
      "The service building was completed in 1977, and the observatory several months later in 1978.\n",
      "Le bâtiment de service est complété en 1977 et l'observatoire est finalisé quelques mois plus tard, en 1978.\n",
      "\n",
      "A dynamic instrument program also accounts for a large part of Mégantic’s productivity.\n",
      "Le programme d'instrumentation occupe également une large part de la productivité de Mégantic.\n",
      "\n",
      "In 1991, for example, the observatory became the first in Canada to use an infrared camera.\n",
      "En 1991, par exemple, l'observatoire est le premier au Canada à disposer d'une caméra infrarouge.\n",
      "\n",
      "Named MONICA (for MONtreal Infrared Camera), it was designed by Daniel Nadeau and René Doyon of the University of Montreal.\n",
      "Il s'agit de MONICA (pour MONtréal Infrared Camera), une caméra conçue par Daniel Nadeau et René Doyon de l'Université de Montréal.\n",
      "\n",
      "In 1996, the Mont-Mégantic ASTROLab, an astronomy activity centre, opened its doors to the general public.\n",
      "En 1996, un centre d'activité en astronomie pour le grand public ouvre ses portes : c'est l'ASTROLab du parc national du Mont-Mégantic.\n",
      "\n",
      "Visitors can also tour the observatory and its 1.6-metre telescope during the day.\n",
      "De jour, les visiteurs peuvent aussi visiter l'observatoire et son télescope de 1,6 mètre.\n",
      "\n",
      "In 1999, a major 3-year renovation program was started.\n",
      "En 1999, un important programme de rénovation de trois ans débute.\n",
      "\n",
      "First, the dome of the 1.6-metre telescope was repaired and equipped with a ventilation system.\n",
      "La coupole du télescope de 1,6 mètre est d'abord réparée et équipée d'un système de ventilation.\n",
      "\n",
      "Then, in 2000, the observatory was linked to universities by fibre optics.\n",
      "En 2000, l'observatoire est relié par fibres optiques au réseau des universités.\n",
      "\n",
      "Following this, a number of new state of the art instruments were also added to the telescope.\n",
      "À partir de la même période, toute une série de nouveaux instruments de pointe sont installés sur le télescope.\n",
      "\n",
      "Asteroid 4843 is named in honour of the observatory.\n",
      "L'astéroïde no 4843 porte le nom de Mégantic en l'honneur de l'observatoire.\n",
      "\n",
      "France launched the project in 1970 with the purchase of a 14-tonne glass disk.\n",
      "La France amorce le projet en 1970 avec l'achat d'un disque de verre de 14 tonnes.\n",
      "\n",
      "The state of Hawaii joined the project in 1971, followed by Canada in 1973.\n",
      "L'état d'Hawaï se joint au projet en 1971 et le Canada, en 1973.\n",
      "\n",
      "The three partners signed an agreement in 1974 and the Canada-France-Hawaii Telescope Corporation was born.\n",
      "Une entente est ensuite signée en 1974 entre les trois partenaires et la Corporation du télescope Canada-France-Hawaï est crée.\n",
      "\n",
      "The telescope’s mobile component weighed 250 tonnes and the total structure weighed 325 tonnes.\n",
      "La partie mobile du télescope fait 250 tonnes et la structure totale pèse 325 tonnes.\n",
      "\n",
      "In 1977, the headquarters and a library were set up at Waimea near the observatory.\n",
      "En 1977, le quartier général du télescope et une bibliothèque sont aménagés à Waimea, près de l'observatoire.\n",
      "\n",
      "Canada was granted access to 42.5% of the available observation time, France 42.5%, and the United States 15%.\n",
      "Le Canada dispose de 42,5 % du temps d'observation, la France de 42,5 %, et les Etats-Unis, de 15 %.\n",
      "\n",
      "The discoveries of other moons around Uranus and Neptune were announced in 2001 and 2002, but have not yet been confirmed.\n",
      "D'autres lunes sont découvertes pour Uranus et Neptune, en 2001 et 2002, mais elles ne sont pas encore confirmées.\n",
      "\n",
      "In 2003, a new imaging system known as MegaPrime was installed.\n",
      "En 2003, on installe un nouveau système d'imagerie appelé MegaPrime qui fait usage d'une caméra de conception française nommée MegaCam.\n",
      "\n",
      "MegaPrime uses the French-designed MegaCam camera that is able to take 340-million pixel images (about 18,400 x 18,400 pixels), making it the most powerful camera of its type in the world.\n",
      "Capable de prendre des clichés de 340 millions de pixels (soit environ 18 400 x 18 400 pixels), il s'agit de la meilleure caméra du genre au monde.\n",
      "\n",
      "The Canadian participation in the observatory is managed by the National Research Council of Canada’s Herzberg Institute of Astrophysics.\n",
      "La participation canadienne dans l'observatoire est gérée par l'Institut Herzberg d'Astrophysique du Conseil National de Recherches du Canada.\n",
      "\n",
      "The observatory is named after James Clerk Maxwell, a Scottish physicist who was famous for his groundbreaking work in electricity and magnetism.\n",
      "L'observatoire doit son nom au physicien écossais James Clerk Maxwell, célèbre pour ses travaux fondamentaux en électricité et magnétisme.\n",
      "\n",
      "The goal of the resurfacing program was to increase the resolution of the telescope so that it could observe wavelengths as small as three millimetres.\n",
      "L'objectif d'une nouvelle surface est de pouvoir observer à des longueurs d'onde aussi petites que 3 millimètres.\n",
      "\n",
      "Gore-Tex allows 97% of submillimetre waves to pass through and does not interfere with the operation of the radio telescope.\n",
      "Le Gore-Tex laisse passer 97 % des ondes submillimétriques et ne gène donc pas le fonctionnement du radiotélescope.\n",
      "\n",
      "The goal of the observatory is to develop and test new liquid mirror telescopes.\n",
      "L'objectif de l'observatoire est de développer et tester de nouveaux télescopes à miroir liquide.\n",
      "\n",
      "Liquid mirror telescopes are part of the next generation of super telescopes.\n",
      "Les télescopes à miroir liquide font partie de la prochaine génération de super télescopes.\n",
      "\n",
      "This type of mirror has a major advantage over conventional mirrors in that it is much cheaper to build (up to 100 times less expensive).\n",
      "Un tel miroir a un avantage majeur sur un miroir conventionnel : il est beaucoup moins cher (jusqu'à 100 fois moins).\n",
      "\n",
      "Several liquid mirrors were subsequently developed at Laval University in the 1980’s.\n",
      "Plusieurs miroirs liquides verront ainsi le jour à partir des années 1980 à l'Université Laval.\n",
      "\n",
      "In 1994, Paul Hickson of the University of British-Columbia completed the construction of the first liquid mirror telescope in collaboration with Borra.\n",
      "En 1994, Paul Hickson, de l'Université de la Colombie-Britannique, termine la construction d'un premier télescope à miroir liquide.\n",
      "\n",
      "The mirror measured 2.64 metres in diameter.\n",
      "Fabriqué en collaboration avec Borra, il a 2,65 mètres de diamètre.\n",
      "\n",
      "The Large Zenith Telescope is the third largest optical telescope in North America and the largest liquid mirror telescope in the world.\n",
      "Le Grand Télescope Zénith est le troisième plus grand télescope optique en Amérique du Nord et le plus grand du genre au monde.\n",
      "\n",
      "Despite its enormous size, the mirror components weigh only 3 tonnes.\n",
      "Fait étonnant : son miroir ne pèse qu'environ 3 tonnes, ce qui est peu compte tenu de ses dimensions.\n",
      "\n",
      "At the present time, the observatory is involved in two large-scale projects.\n",
      "À l'heure actuelle, l'observatoire est impliqué dans deux projets d'envergure.\n",
      "\n",
      "The locations of these two observatories provide complete access to the sky from both hemispheres.\n",
      "Une telle disposition des observatoires permet de couvrir le ciel au complet à partir des deux hémisphères.\n",
      "\n",
      "The idea to construct the two observatories arose in the mid-1980’s.\n",
      "Le projet de construire les observatoires naît dans le milieu des années 1980.\n",
      "\n",
      "The venture really got going in 1990 when an agreement was signed between the United States, the United Kingdom and Canada.\n",
      "L'entreprise démarre pour de bon en 1990 avec la signature d'un accord liant les États-Unis, le Royaume-Uni et le Canada.\n",
      "\n",
      "Observation time is distributed in these same proportions.\n",
      "Les télescopes des deux observatoires sont identiques.\n",
      "\n",
      "Gemini North saw first light in 1999, whereas Gemini South opened a year later in 2000.\n",
      "Chacun possède un miroir de 8,1 mètres de diamètre faisant à peine 20 centimètres d'épaisseur et pesant 22 tonnes.\n",
      "\n",
      "The system consists of 120 hydraulic jacks under the mirror that provide constant adjustments to restore it to a perfect shape.\n",
      "Le système se compose de 120 vérins hydrauliques situés sous le miroir qui bougent constamment de façon à lui redonner sa forme parfaite.\n",
      "\n",
      "The adjustments are typically on the order of one thousandth the width of a human hair.\n",
      "Les ajustements sont typiquement de l'ordre du millième de l'épaisseur d'un cheveu humain.\n",
      "\n",
      "The observatories were specifically designed to observe visible light, but also infrared light.\n",
      "Les observatoires sont spécifiquement conçus pour observer la lumière visible mais aussi la lumière infrarouge.\n",
      "\n",
      "Moving hatches allow the observing slits to open across the entire dome.\n",
      "Des trappes permettent également d'ouvrir les dômes sur leur pourtour.\n",
      "\n",
      "All these finishing touches make the Gemini telescopes expensive instruments to operate.\n",
      "Tous ces perfectionnements font des télescopes Gemini des instruments coûteux à opérer.\n",
      "\n",
      "It currently costs about $50,000 for a single night of observation at one of the telescopes.\n",
      "On estime présentement à 50 000 $ le coût d'une seule nuit d'observation au télescope.\n",
      "\n",
      "Canadian participation in the Gemini telescopes is currently the responsibility of the National Research Council of Canada’s Herzberg Institute of Astrophysics   Video sequence   Jean-René Roy talks about the Gemini telescopes.\n",
      "L'Institut Herzberg d'Astrophysique du Conseil National de Recherches du Canada est présentement responsable de la participation canadienne dans les télescopes.\n",
      "\n",
      "The satellite, which weighs 1,360 kilograms, was designed to last three years.\n",
      "Le satellite, qui fait 1360 kilogrammes, a été conçu pour durer 3 ans.\n",
      "\n",
      "It was the result of a collaborative effort between the United States, Canada and France.\n",
      "Il est le fruit d'une collaboration entre les États-Unis, le Canada et la France.\n",
      "\n",
      "John Hutchings, an astronomer from the Herzberg Institute of Astrophysics, is Canada’s project scientist.\n",
      "L'astronome John Hutchings, de l'Institut Herzberg d'Astrophysique, est le scientifique de projet pour le Canada.\n",
      "\n",
      "Ultraviolet light is also particularly difficult to collect.\n",
      "La lumière ultraviolette est également particulièrement difficile à collecter.\n",
      "\n",
      "The FUSE Space Telescope consists of four mirrors specially designed for reflecting ultraviolet light.\n",
      "Le télescope spatial FUSE est constitué de quatre miroirs spécialement conçus pour réfléchir la lumière ultraviolette.\n",
      "\n",
      "Two mirrors are coated with silicon carbide, whereas the other two are coated with lithium fluoride over aluminum.\n",
      "Deux miroirs sont recouverts de carbure de silicium tandis que les deux autres le sont avec du fluorure de lithium sur de l'aluminium.\n",
      "\n",
      "The Canadian contribution consists of two fine guidance sensors that allow the space observatory to be aimed at its targets with a very high degree of precision.\n",
      "La contribution canadienne consiste en deux capteurs de pointage fin qui permettent d'assurer le guidage précis de l'observatoire spatial.\n",
      "\n",
      "This contribution guarantees Canada at least 5% of the available observation time.\n",
      "Cette contribution garantit au Canada au moins 5% du temps d'observation disponible.\n",
      "\n",
      "The observatory is also used for other research projects.\n",
      "L'observatoire sert également à d'autres projets de recherche.\n",
      "\n",
      "The observatory is still functioning today, despite numerous setbacks that can be expected given its advanced age.\n",
      "À l'heure actuelle, et malgré de nombreuses pannes étant donné son âge, l'observatoire fonctionne toujours.\n",
      "\n",
      "Video sequence   John Barrie Hutchings explains what FUSE is.\n",
      "Séquence vidéo  John Barrie Hutchins explique ce qu'est FUSE.\n",
      "\n",
      "The goal of the observatory is to detect and study neutrinos emitted by the Sun and other celestial objects.\n",
      "L'objectif de l'observatoire est de détecter et d'étudier les neutrinos émis par le Soleil et d'autres objets célestes.\n",
      "\n",
      "It is the product of a collaborative effort between Canada, the United States, and the United Kingdom.\n",
      "Sa création est le fruit d'une collaboration entre le Canada, les États-Unis et le Royaume-Uni.\n",
      "\n",
      "Stars produce large amounts of neutrinos.\n",
      "Les étoiles en produisent de grandes quantités.\n",
      "\n",
      "The Sun, for example, emits 200 trillion trillion trillion neutrinos each second.\n",
      "Le Soleil, par exemple, émet 200 trillions de trillions de trillions de neutrinos à chaque seconde.\n",
      "\n",
      "Billions of neutrinos pass through the Sun, the Earth and your body every instant without being hindered.\n",
      "Ainsi, à chaque instant, des milliards de neutrinos traversent le Soleil, la Terre et votre corps sans être gênés.\n",
      "\n",
      "In fact, during your entire lifetime, only one or two neutrinos will ever come into contact with one of the atoms in your body.\n",
      "Lors de votre vie, un ou deux neutrinos seulement parviendront à entrer en contact avec un des atomes de votre corps.\n",
      "\n",
      "One of the major unresolved problems about our Sun is related to its production of neutrinos.\n",
      "Un problème important concernant notre Soleil est précisément relié à sa production de neutrinos.\n",
      "\n",
      "In 1983, Canadian researchers proposed the construction of an underground neutrino detector in an Ontario nickel mine belonging to the company Inco.\n",
      "En 1983, des chercheurs canadiens proposent de construire un détecteur de neutrinos souterrain dans une mine de nickel de la compagnie Inco, en Ontario.\n",
      "\n",
      "Since Canada has an abundant reserve of heavy water, it was decided that the facility would operate as a heavy water detector.\n",
      "Comme le Canada dispose d'une réserve d'eau lourde abondante, on décide alors de construire un détecteur fonctionnant sur ce principe.\n",
      "\n",
      "The United States joined the project, follow by the United Kingdom in 1989.\n",
      "Les États-Unis se joignent alors au projet, suivis du Royaume-Uni en 1989.\n",
      "\n",
      "Work began in 1990 and was completed in 1999.\n",
      "Les travaux débutent en 1990 et se terminent 1999.\n",
      "\n",
      "The detector consists of 1,000 tonnes of ultra pure heavy water enclosed in a transparent plastic vessel measuring 12 metres across.\n",
      "Le détecteur est composé de 1000 tonnes d'eau lourde ultra-pure enfermée dans un récipient de plastique transparent de 12 mètres de diamètre.\n",
      "\n",
      "It is the largest underground opening ever excavated at two kilometres depth.\n",
      "Il s'agit de la plus grande cavité réalisée à deux kilomètres de profondeur au monde.\n",
      "\n",
      "The frequency of neutrino detection is one per hour.\n",
      "La fréquence de détection est de un neutrino à l'heure.\n",
      "\n",
      "It was the result of collaboration between the United States, Canada and Chile.\n",
      "Il est le résultat d'une collaboration entre les États-Unis, le Canada et le Chili.\n",
      "\n",
      "The Canadian Institute for Theoretical Astrophysics is responsible for Canada’s participation in the observatory.\n",
      "L'Institut Canadien d'Astrophysique Théorique est responsable de la participation canadienne dans l'observatoire.\n",
      "\n",
      "The Imager is thus studying the oldest light energy ever emitted.\n",
      "Il s'agit donc de la lumière la plus ancienne jamais émise.\n",
      "\n",
      "Mapping the distribution of this ancient light – this ancient radiation – effectively allows researchers to \"see\" what the Universe looked like very shortly after its birth.\n",
      "Connaître sa distribution revient en quelque sorte à « voir » à quoi ressemblait l'Univers très peu de temps après sa naissance.\n",
      "\n",
      "It is a Swedish satellite that was developed in collaboration with Canada, Finland and France; Canada’s contribution is 20%.\n",
      "Il s'agit d'un satellite suédois mis au point en collaboration avec le Canada, la Finlande et la France.\n",
      "\n",
      "It is the first international satellite in which Canada played a major role in design, construction and operation.\n",
      "C'est le premier satellite international dans lequel le Canada joue un rôle majeur dans la conception, la fabrication et l'opération.\n",
      "\n",
      "The observatory is named after the Norwegian and Germanic god Odin.\n",
      "L'observatoire doit son nom au dieu norvégien et germanique Odin.\n",
      "\n",
      "Its mission is twofold: the first objective focuses on aeronomy (the study of the atmosphere), and the second on astronomy.\n",
      "Sa mission a deux objectifs : le premier est aéronomique (l'aéronomie concerne l'étude de l'atmosphère), le second est astronomique.\n",
      "\n",
      "The goal in terms of astronomy is to detect specific molecules in comets, planets, stars, interstellar clouds and galaxies.\n",
      "L'objectif astronomique est de détecter certaines molécules dans les comètes, les planètes, les étoiles, les nuages interstellaires et les galaxies.\n",
      "\n",
      "All together the satellite weighs 250 kilograms.\n",
      "En tout, le satellite pèse 250 kilogrammes.\n",
      "\n",
      "Canada’s role in the project began in 1991 when informal discussions began with Sweden about a possible collaboration between the two countries.\n",
      "Le projet démarre pour le Canada en 1991, alors que des discussions informelles sont entamées avec la Suède sur une collaboration possible entre les deux pays.\n",
      "\n",
      "An agreement was signed in 1994 that defined Canada’s role and the venture was launched.\n",
      "En 1994, un accord fixant la participation canadienne est signé et l'entreprise prend son envol.\n",
      "\n",
      "The launch was initially planned for 1997, but after several delays and postponements, it finally took place in 2001.\n",
      "Le lancement est initialement prévu pour 1997, mais après plusieurs délais et reports, il n'a finalement lieu qu'en 2001.\n",
      "\n",
      "In 1997, the Canadian Space Agency agreed to finance the project and Jaymie Matthews was named Principal Investigator and Mission Scientist.\n",
      "En 1997, l'Agence Spatiale Canadienne accepte de financer le projet et Jaymie Matthews est nommé chercheur principal et scientifique de mission.\n",
      "\n",
      "The telescope will complete one orbit around the Earth every 101 minutes by passing over each of Earth’s poles.\n",
      "Le télescope effectue une orbite complète autour de la Terre à toutes les 101 minutes en passant par les deux pôles de la Terre.\n",
      "\n",
      "It will spend 60 days on each star studied.\n",
      "Il peut ainsi passer 60 jours à observer en continu la même étoile.\n",
      "\n",
      "Its predicted life expectancy is 5 to 10 years.\n",
      "Sa durée de vie devrait être de 5 à 10 ans.\n",
      "\n",
      "The first major discovery made by the telescope occurred as soon as it became operational.\n",
      "La première découverte majeure réalisée avec le télescope est faite au moment de sa mise en service en 2004.\n",
      "\n",
      "Normally, it is the other way around: a planet synchronizes its orbit with that of its host star.\n",
      "D'ordinaire, ce sont les planètes qui synchronisent leur rotation avec leur étoile.\n",
      "\n",
      "Video sequence  Jaymie Mark Matthews explains what MOST is.\n",
      "Séquence vidéo  Jaymie Mark Matthews explique ce qu'est MOST.\n",
      "\n",
      "The array should be usable for scientific purposes before its completion, starting in 2007.\n",
      "Le réseau partiel pourra cependant être utilisé à partir de 2007 à des fins scientifiques.\n",
      "\n",
      "The creation of the array is the result of collaboration between Canada, the United States, Europe, Japan and Chile.\n",
      "La création du réseau est née d'une collaboration entre le Canada, les États-Unis, l'Europe, le Japon et le Chili.\n",
      "\n",
      "The National Research Council of Canada’s Herzberg Institute of Astrophysics is responsible for Canada’s participation in the radio telescope.\n",
      "L'Institut Herzberg d'Astrophysique du Conseil National de Recherches du Canada est en charge de la participation canadienne dans le radiotélescope.\n",
      "\n",
      "The array consists of 62 parabolic antennas measuring 12 metres across and spread out over 14 kilometres in the desert.\n",
      "Le réseau comprendra 64 antennes paraboliques de 12 mètres de diamètre éparpillées sur 14 kilomètres dans le désert.\n",
      "\n",
      "They will operate together to simulate a single radio telescope with a diameter of 14 kilometres.\n",
      "Elles fonctionneront ensemble de façon à simuler un radiotélescope de 14 kilomètres de diamètre.\n",
      "\n",
      "Canada will provide 64 ultra-sensitive receptors for the 3-millimetre wavelength range, as well as the image processing software for the radio telescope.\n",
      "Le Canada fournira 64 récepteurs ultra sensibles pour la longueur d'onde de 3 millimètres et le logiciel de traitement de l'image du radiotélescope.\n",
      "\n",
      "The observatory bears the name of James Edwin Webb, director of NASA from 1961 to 1968.\n",
      "L'observatoire tire son nom de James Edwin Webb, qui fut directeur de la NASA de 1961 à 1968.\n",
      "\n",
      "It is the product of a collaborative effort between the United States, Canada and Europe.\n",
      "Il est le fruit d'une collaboration entre les États-Unis, le Canada et l'Europe.\n",
      "\n",
      "John Hutchings, an astronomer with the Herzberg Institute of Astrophysics, is Canada’s Project Scientist.\n",
      "L'astronome John Hutchings, de l'Institut Herzberg d'Astrophysique, est le scientifique de projet pour le Canada.\n",
      "\n",
      "The entire observatory will weigh 6,600 kilograms.\n",
      "L'observatoire entier pèsera 6600 kilogrammes.\n",
      "\n",
      "Canadian researchers are also part of the American and European teams in charge of designing other instruments for the space telescope.\n",
      "Des chercheurs canadiens font également partie d'équipes américaines et européennes chargées de concevoir d'autres instruments du télescope spatial.\n",
      "\n",
      "Video sequence   René Doyon explains what the James Webb Space Telescope is.\n",
      "Séquence vidéo  René Doyon explique ce qu'est le Télescope Spatial James Webb.\n",
      "\n",
      "« Return to the observatories Previous © 2006 An original idea and a realization of the ASTROLab of Mont-Mégantic National Park\n",
      "« Retour aux observatoires Précédent © 2006 Une idée originale et une réalisation de L'ASTROLab du Parc national du Mont-Mégantic\n",
      "\n",
      "Astronomers Astronomers William Frederick King He raised Canadian astronomy to international stature\n",
      "Astronomes Astronomes William Frederick King Il a hissé l'astronomie canadienne au niveau national et international\n",
      "\n",
      "John Stanley Plaskett He laid the basic foundation for astrophysical research in Canada\n",
      "John Stanley Plaskett Il a posé les bases de la recherche en astrophysique au Canada\n",
      "\n",
      "Clarence Augustus Chant The Father  of Canadian astronomy\n",
      "Clarence Augustus Chant Il est considéré comme le père de l'astronomie au Canada\n",
      "\n",
      "Carlyle Smith Beals He expanded and developed astrophysics and geophysics in Canada\n",
      "Carlyle Smith Beals Il a élargi et développé l'astrophysique et la géophysique au Canada\n",
      "\n",
      "Gerhard Herzberg He helped make the National Research Council of Canada a world-renowned centre of excellence\n",
      "Gerhard Herzberg Il a contribué à faire du Conseil National de Recherches du Canada un centre d'excellence de réputation mondiale\n",
      "\n",
      "Andrew McKellar Known around the world as one of Canada’s best astronomers, he was the first to measure the temperature of the Universe\n",
      "Andrew McKellar Reconnu mondialement comme l'un des plus grands astronomes canadiens, il a été le premier à mesurer la température de l'Univers\n",
      "\n",
      "Sidney van den Bergh A world expert in galaxy classification and the measurement of cosmic distances, he made several estimates of the size and age of the Universe\n",
      "Sidney van den Bergh Expert mondial en classification des galaxies et en mesure des distances cosmiques, il a estimé à plusieurs reprises la taille et l'âge de l'Univers\n",
      "\n",
      "Hubert Reeves A specialist in the origin of light elements and a highly talented popularizer of astronomy, he is often called \"the poet of the stars\"\n",
      "Hubert Reeves Spécialiste de l'origine des éléments légers et vulgarisateur émérite, il est souvent appelé le « poète des étoiles »\n",
      "\n",
      "John Barrie Hutchings He was the first to discover a black hole outside our galaxy\n",
      "John Barrie Hutchings Il est le premier à découvrir un trou noir situé hors de notre galaxie\n",
      "\n",
      "Charles Thomas Bolton He was the first to discover a black hole\n",
      "Charles Thomas Bolton Il est le premier à avoir découvert un trou noir\n",
      "\n",
      "Jean-René Roy Astrophysicist and current Director of the Gemini Astronomical Observatory, which owns two of the biggest telescopes in the world\n",
      "Jean-René Roy Astrophysicien, il est présentement directeur de l'Observatoire Astronomique Gemini qui possède deux des plus grands télescopes au monde\n",
      "\n",
      "Peter Gordon Martin A specialist in the study of interstellar matter, he was involved in numerous international research projects\n",
      "Peter Gordon Martin Spécialiste de l'étude de la matière interstellaire, il est impliqué dans de nombreux projets de recherche internationaux\n",
      "\n",
      "Gilles Fontaine An asteroseismologist and world specialist in white dwarf stars\n",
      "Gilles Fontaine Astéroséismologue, il est le spécialiste mondial des étoiles naines blanches\n",
      "\n",
      "John Richard Bond World expert in theoretical astrophysics and cosmology, he made Canada a leader in cosmology\n",
      "John Richard Bond Leader mondial en astrophysique théorique et cosmologie, il a fait du Canada un chef de file en cosmologie\n",
      "\n",
      "Scott Duncan Tremaine As a world expert in cosmic dynamics, he made several predictions that were subsequently confirmed by observation\n",
      "Scott Duncan Tremaine Expert mondial en dynamique cosmique, il a fait plusieurs prédictions qui ont ensuite été confirmées par l'observation\n",
      "\n",
      "Jaymie Mark Matthews Asteroseismologist, outstanding popularizer of astronomy, and mission scientist for MOST: the first Canadian space telescope\n",
      "Jaymie Mark Matthews Astéroséismologue et vulgarisateur hors pair, il est le scientifique en chef du premier télescope spatial canadien, le satellite MOST\n",
      "\n",
      "Jack Newton Known for his world famous photographs\n",
      "Jack Newton Ses photographies sont réputées dans le monde entier\n",
      "\n",
      "Damien Lemay An extraordinary amateur observer, he works at all levels to popularize amateur astronomy in Canada\n",
      "Damien Lemay Observateur hors pair, il s'est impliqué à tous les niveaux pour faire connaître l'astronomie amateur au Canada\n",
      "\n",
      "Paul Boltwood Renowned for his attention to detail, he took the best image of the deep sky ever obtained using amateur equipment\n",
      "Paul Boltwood Reconnu pour son souci du détail, il est parvenu à réaliser la meilleure image du ciel profond jamais obtenue avec un équipement amateur\n",
      "\n",
      "David Howard Levy Of Canadian origin, he is the most well known amateur astronomer in the world\n",
      "David Howard Levy Canadien d'origine, il est actuellement l'astronome amateur le plus connu au monde\n",
      "\n",
      "The next generation\n",
      "La relève\n",
      "\n",
      "His family immigrated to Canada in 1862 and settled down at Port Hope, Ontario.\n",
      "Peu de temps après, en 1862, sa famille immigre au Canada et s'installe à Port Hope, en Ontario.\n",
      "\n",
      "He spent his free time at the university performing complex mathematical calculations for personal amusement.\n",
      "Toute sa vie durant, il occupera d'ailleurs ses temps libres à effectuer des calculs mathématiques complexes pour le plaisir.\n",
      "\n",
      "Later during his career, the University of Toronto awarded him an honorary doctoral degree for his work in astronomy in 1904.\n",
      "En 1904, l'Université de Toronto lui décerne un doctorat honorifique pour ses travaux en astronomie.\n",
      "\n",
      "King published many scientific articles on astronomy.\n",
      "King publie plusieurs articles scientifiques en astronomie.\n",
      "\n",
      "It was under his guidance that astronomy really took off in Canada, developing first at the national scale and then rising to international stature.\n",
      "C'est en effet sous sa gouverne que l'astronomie canadienne prend son véritable envol et se développe au niveau national et international.\n",
      "\n",
      "King entered the Canadian Government as a land surveyor and topographer in 1872 at the age of 18.\n",
      "King entre au service du gouvernement canadien en tant qu'arpenteur-géomètre et topographe en 1872, à l'âge de 18 ans.\n",
      "\n",
      "In 1887, King began to pressure the government into creating a federal astronomical observatory.\n",
      "En 1887, King commence à faire pression au sein du gouvernement pour la création d'un observatoire astronomique fédéral.\n",
      "\n",
      "He became its first director that same year and built a small wooden observatory on Cliff Street.\n",
      "Toujours en 1890, à Ottawa, il construit un petit observatoire astronomique en bois sur la rue Cliff.\n",
      "\n",
      "King was nominated seven times as Commissioner of the International Boundary Commission between 1892 and 1908, and he thus helped establish the Canadian-American border.\n",
      "Entre 1892 et 1908, King est nommé à sept reprises commissaire à la frontière internationale où il aide à fixer la frontière canado-américaine.\n",
      "\n",
      "The world longitude network across the Pacific Ocean was also completed under his direction.\n",
      "Le réseau mondial de longitudes de l'océan Pacifique est également complété sous sa direction.\n",
      "\n",
      "In 1908, he was named Companion of the Order of St. Michael and St. George for his work.\n",
      "Il sera d'ailleurs fait Compagnon de l'Ordre de Saint-Michel et Saint-Georges pour ses travaux en 1908.\n",
      "\n",
      "In 1900, he became founding president of the Ottawa Centre for the Royal Astronomical Society of Canada, a position he maintained until his death in 1916.\n",
      "En 1900, il devient président fondateur du Centre d'Ottawa de la Société Royale d'Astronomie du Canada, position qu'il conserve jusqu'à sa mort en 1916.\n",
      "\n",
      "His efforts to create a large and permanent astronomical observatory bore fruit in 1905 with the inauguration of the Dominion Observatory in Ottawa.\n",
      "Ses efforts pour créer un véritable observatoire astronomique aboutissent en 1905 avec l'inauguration de l'Observatoire Fédéral à Ottawa.\n",
      "\n",
      "The observatory was equipped with 38-centimetre astronomical telescope and King became its first director.\n",
      "L'observatoire est équipé d'une lunette astronomique de 38 centimètres et King en devient le premier directeur.\n",
      "\n",
      "In 1909, he succeeded where many before him had tried and failed: he founded the Geodetic Survey Division of Canada and became its first director.\n",
      "En 1909, il réussit là où plusieurs avaient échoué et fonde la Division des Levés géodésiques du Canada, dont il sera le premier directeur.\n",
      "\n",
      "In 1911, King was elected President of the Royal Society of Canada, the highest scientific distinction in Canada at the time.\n",
      "En 1911, King est élu président de la Société Royale du Canada, la plus haute distinction scientifique du Canada à l'époque.\n",
      "\n",
      "He passed away in Ottawa in 1916 at 62 years old.\n",
      "Il meurt à Ottawa en 1916, à l'âge de 62 ans.\n",
      "\n",
      "« Return to the astronomers Next © 2006 An original idea and a realization of the ASTROLab of Mont-Mégantic National Park\n",
      "« Retour aux astronomes Suivant © 2006 Une idée originale et une réalisation de L'ASTROLab du Parc national du Mont-Mégantic\n",
      "\n",
      "Plaskett received four honorary doctoral degrees from Canadian and American universities during his career.\n",
      "Au cours de sa carrière, Plaskett recevra quatre doctorats honorifiques d'universités canadiennes et américaines.\n",
      "\n",
      "After obtaining his bachelor’s degree, Plaskett taught as a lecturer in the physics department at the University of Toronto.\n",
      "Après l'obtention de son baccalauréat, Plaskett enseigne comme chargé de cours au département de physique de l'Université de Toronto.\n",
      "\n",
      "Plaskett became an invaluable addition to the team thanks to his experience in electricity, mechanics and photography.\n",
      "Il fournit une aide inestimable grâce à son expérience en électricité, en mécanique et en photographie.\n",
      "\n",
      "Plaskett made his first real foray into astronomy in 1905 at the age of 39.\n",
      "Plaskett fait ses véritables débuts en astronomie en 1905, à l'âge de 39 ans.\n",
      "\n",
      "William Frederick King assigned him the responsibility of astrophysical work at the Dominion Observatory.\n",
      "William Frederick King lui confie alors la recherche en astrophysique à l'Observatoire Fédéral.\n",
      "\n",
      "During his first research project, he was responsible for studying a total eclipse of the Sun that would be visible from Labrador.\n",
      "Lors de son premier projet de recherche, il est responsable des observations d'une éclipse totale du Soleil qui est visible au Labrador.\n",
      "\n",
      "In 1910, Plaskett proposed to William Frederick King that a new giant telescope be constructed.\n",
      "En 1910, il en parle à William Frederick King et lui propose de construire un nouveau télescope géant.\n",
      "\n",
      "King was enthusiastic about the idea and the two astronomers began pressuring the Canadian Government to make it a reality.\n",
      "L'idée enthousiasme King et les deux astronomes commencent à faire pression sur le gouvernement canadien pour mener à bien le projet.\n",
      "\n",
      "The new observatory was inaugurated in 1918.\n",
      "Le nouvel observatoire est inauguré en 1918 et Plaskett en devient le directeur.\n",
      "\n",
      "Plaskett continued his work on the radial velocities of stars.\n",
      "Le télescope est, pendant quelques mois, le plus grand du monde.\n",
      "\n",
      "In fact, he was the first to measure the size, mass and rotational speed of the Milky Way.\n",
      "En fait, il est le premier à mesurer la taille, la masse et la vitesse de rotation de notre galaxie.\n",
      "\n",
      "He also established that the Sun is located at 2/3 of the distance from the centre of our galaxy, and that our solar system takes approximately 220 million years to complete one galaxial rotation.\n",
      "Il démontre également que le Soleil se trouve au 2/3 du centre de la galaxie et que l'astre prend environ 220 millions d'années à en faire le tour.\n",
      "\n",
      "He took his retirement in 1935 and died in 1941 in Esquimalt, British Columbia at the age of 75.\n",
      "Il prend sa retraite en 1935 et meurt en 1941 à Esquimalt, en Colombie-Britannique, à l'âge de 75 ans.\n",
      "\n",
      "« Return to the astronomers Next Previous © 2006 An original idea and a realization of the ASTROLab of Mont-Mégantic National Park\n",
      "« Retour aux astronomes Suivant Précédent © 2006 Une idée originale et une réalisation de L'ASTROLab du Parc national du Mont-Mégantic\n",
      "\n",
      "He finished high school in 1884 and taught for three years at a school.\n",
      "Il termine son cours secondaire en 1884 puis enseigne pendant trois ans dans une école.\n",
      "\n",
      "He enrolled at the University of Toronto in 1887 and received his bachelor’s degree in 1890.\n",
      "En 1887, il s'inscrit à l'Université de Toronto et obtient son baccalauréat en 1890.\n",
      "\n",
      "He secured a job with the Department of Finance in Ottawa, but only stayed for two years.\n",
      "Il décroche la même année un emploi au Département des Finances à Ottawa mais n'y reste que deux ans.\n",
      "\n",
      "He left Toronto for Harvard University in the United States and returned the following year, doctoral degree in hand.\n",
      "Il quitte alors Toronto pour l'Université Harvard aux États-Unis et y revient l'année suivante, en 1901, avec un diplôme de doctorat.\n",
      "\n",
      "Chant acted as President from 1904 to 1907.\n",
      "Chant en sera le président entre 1904 et 1907.\n",
      "\n",
      "In 1904, Chant suggested that the University of Toronto increase the number of astronomy courses offered by the physics department.\n",
      "En 1904, Chant propose à l'Université de Toronto d'augmenter le nombre de cours d'astronomie offerts par le département de physique.\n",
      "\n",
      "His proposal was well received and six courses were added to the program in 1905.\n",
      "Sa proposition est bien reçue et, en 1905, six cours sont ajoutés au programme.\n",
      "\n",
      "Until a second professor was hired in 1926, Chant was the sole Canadian professor to train professional astronomers.\n",
      "Jusqu'en 1926, année où l'on engage un second professeur d'astronomie, Chant est le seul professeur au Canada à former des astronomes professionnels.\n",
      "\n",
      "It was his role of having taught virtually all the original Canadian astronomers that earned Chant his reputation as the \"Father  of Canadian astronomy\".\n",
      "Puisqu'il a formé presque tous les astronomes canadiens des débuts, on le considère comme le « père de l'astronomie au Canada ».\n",
      "\n",
      "No less than five of his former students went on to become directors of astronomical observatories.\n",
      "Cinq de ses anciens étudiants deviendront d'ailleurs directeurs d'observatoires astronomiques.\n",
      "\n",
      "Meanwhile, in the absence of a suitable telescope, he focused his research on total solar eclipses.\n",
      "Privé des services d'un bon télescope, il concentre ses recherches sur les éclipses totales de Soleil.\n",
      "\n",
      "The astronomy department of the University of Toronto was officially established in 1920 and Chant became its first chairman.\n",
      "En 1920, le département d'astronomie de l'Université de Toronto est officiellement créé et Chant en devient le premier directeur.\n",
      "\n",
      "The physics department consequently ceased to offer astronomy courses.\n",
      "L'astronomie cesse alors d'être enseignée au département de physique de l'université.\n",
      "\n",
      "Unfortunately, Dunlap died in 1924 and seemingly with him any chance of realizing Chant’s goal.\n",
      "Malheureusement, Dunlap meurt en 1924 et le rêve de Chant n'a pas le temps de se concrétiser.\n",
      "\n",
      "It proved to be one of the first verifications of Einstein’s theory.\n",
      "Il s'agit de l'une des toutes premières vérifications de la théorie d'Einstein.\n",
      "\n",
      "In 1928, Chant published Our Wonderful Universe with enormous success, and the book was translated into five languages.\n",
      "En 1928, Chant publie Our Wonderful Universe qui connaît un succès fracassant et est traduit en cinq langues.\n",
      "\n",
      "Chant died in 1956 in Richmond Hill, Ontario, at the age of 91.\n",
      "Chant meurt en 1956 à Richmond Hill, en Ontario, à l'âge de 91 ans.\n",
      "\n",
      "He published many scientific books and articles, and received numerous awards.\n",
      "Il aura publié de nombreux livres et articles scientifiques et reçu de nombreux prix.\n",
      "\n",
      "He enrolled instead at the University of Toronto and obtained his Master’s degree in 1923.\n",
      "Il s'inscrit en 1922 à l'Université de Toronto et y décroche son diplôme de maîtrise en 1923.\n",
      "\n",
      "Beals then returned to the University of Acadia where he was hired as assistant professor in physics.\n",
      "Il retourne alors à l'Université Acadia où il est engagé comme professeur assistant en physique.\n",
      "\n",
      "Shortly after his arrival, he began to perfect or invent new instruments for the observatory’s telescope.\n",
      "Peu après son arrivée, il commence à perfectionner et inventer de nouveaux instruments pour le télescope de l'observatoire.\n",
      "\n",
      "He wrote a thesis on the subject and received a second doctoral degree from the University of London in 1934.\n",
      "Il rédige une thèse sur le sujet et reçoit, en 1934, un second doctorat de l'Université de Londres.\n",
      "\n",
      "In 1940, he became Adjoint Director of the Dominion Astrophysical Observatory of Victoria.\n",
      "En 1940, il devient directeur adjoint à l'Observatoire de Victoria.\n",
      "\n",
      "Beals retired in 1964 and died in 1979 in Ottawa at the age of 80.\n",
      "Il prend sa retraite en 1964 et meurt en 1979 à Ottawa, à l'âge de 80 ans.\n",
      "\n",
      "He received many awards for his work in astronomy, geophysics and administration, including the Order of Canada.\n",
      "Il a reçu plusieurs prix pour son travail en astronomie, géophysique et administration dont l'Ordre du Canada.\n",
      "\n",
      "Asteroid 3314 and a lunar crater were named in his honour.\n",
      "L'astéroïde no 3314 de même qu'un cratère lunaire portent son nom en son honneur.\n",
      "\n",
      "In 1930, he was hired as a lecturer and assistant to the head of the physics department at the Darmstadt Institute of Technology.\n",
      "En 1930, on l'engage comme chargé de cours et assistant en chef au département de physique de l'Institut Technique de Darmstadt.\n",
      "\n",
      "He built a large spectroscopic laboratory and supervised the research of several students and guest researchers.\n",
      "Il y établit également un important laboratoire de spectroscopie et supervise la recherche de plusieurs étudiants et chercheurs invités.\n",
      "\n",
      "Three months later, he became professor in the physics department, a position he occupied for the next six years.\n",
      "Trois mois plus tard, il devient professeur au département de physique ; il y restera dix ans.\n",
      "\n",
      "His work focused mainly on molecular spectroscopy; that is, on the analysis of molecular structure.\n",
      "Ses travaux portent essentiellement sur la spectroscopie moléculaire, c'est-à-dire sur l'analyse de la structure des molécules.\n",
      "\n",
      "More specifically, Herzberg concentrated on the detection and the nature of free radicals.\n",
      "Herzberg se concentre plus spécifiquement sur la détection et la compréhension des radicaux libres.\n",
      "\n",
      "At the time, only two other molecules had been identified in such an environment.\n",
      "Seules deux autres molécules avaient alors été identifiées dans de tels nuages.\n",
      "\n",
      "In 1945, the Yerkes Observatory of the University of Chicago offered Herzberg a position as professor of spectroscopy at their extensive state-of-the-art facilities.\n",
      "En 1945, l'Observatoire Yerkes de l'Université de Chicago lui offre un poste de professeur de spectroscopie dans ses vastes installations de pointe.\n",
      "\n",
      "He studied comets and planetary atmospheres by perfecting methods that would go on to become standard techniques used around the world.\n",
      "Il y étudie les comètes et les atmosphères planétaires en mettant au point des méthodes qui deviendront la norme dans le monde entier.\n",
      "\n",
      "He also established the National Research Council of Canada as a world leader in molecular spectroscopy.\n",
      "Il fait ainsi du Conseil National de Recherches du Canada un leader mondial en spectroscopie moléculaire.\n",
      "\n",
      "In 1966, 1971 and 1979, he published three other books that each became a classic in molecular spectroscopy.\n",
      "En 1966, 1971 et 1979, il publie trois autres livres qui deviennent à leur tour des classiques en spectroscopie moléculaire.\n",
      "\n",
      "Herzberg died in Ottawa in 1999 at 94 years old.\n",
      "Herzberg meut à Ottawa en 1999, à l'âge de 94 ans.\n",
      "\n",
      "He had received numerous distinctions, including the 1971 Nobel Prize in Chemistry.\n",
      "Il a reçu de nombreuses distinctions dont le prix Nobel de chimie en 1971.\n",
      "\n",
      "Asteroid 3316 was named in his honour.\n",
      "L'astéroïde no 3316 porte son nom en son honneur.\n",
      "\n",
      "In 1922, she enrolled at Mount Holyoke College in South Hadley, Massachusetts, and obtained her bachelor’s degree in 1926.\n",
      "En 1922, elle s'inscrit au Collège du Mount Holyoke, à South Hadley, au Massachusetts, et obtient son baccalauréat en 1926.\n",
      "\n",
      "She then received her master’s degree in 1928 and her doctoral degree in 1931, both from Radcliffe College in Cambridge, Massachusetts.\n",
      "Elle décroche ensuite une maîtrise en 1928 et un doctorat en 1931 du Collège Radcliffe, à Cambridge, toujours au Massachusetts.\n",
      "\n",
      "In 1930, she married Frank Hogg, a young Canadian and fellow astronomy student.\n",
      "En 1930, elle se marie à Frank Hogg, un jeune canadien qui est aussi étudiant en astronomie.\n",
      "\n",
      "Unfortunately, the depression had hit and Helen was unable to find work.\n",
      "Malheureusement, la récession fait rage et Helen est incapable de se trouver un emploi.\n",
      "\n",
      "In 1935, Helen and Frank relocated to Ontario where Frank took a professorship with the astronomy department at the University of Toronto.\n",
      "En 1935, Helen et Frank se retrouvent en Ontario où Frank décroche un poste de professeur au département d'astronomie de l'Université de Toronto.\n",
      "\n",
      "Two years later, in 1941, she started teaching at the astronomy department of the University of Toronto.\n",
      "Deux ans plus tard, en 1941, elle commence à enseigner au département d'astronomie de l'Université de Toronto.\n",
      "\n",
      "In 1946, Helen’s husband Frank became Director of the David Dunlap Observatory, a position he would occupy until his death in 1951.\n",
      "En 1946, son mari Frank devient le directeur de l'Observatoire David Dunlap ; un poste qu'il garde jusqu'à sa mort, en 1951.\n",
      "\n",
      "In 1957, Hogg became adjunct full professor in the astronomy department of the University of Toronto.\n",
      "En 1957, Helen devient professeur titulaire au département d'astronomie de l'Université de Toronto.\n",
      "\n",
      "She continued her work on variable stars, which numbered more than 2,000 by the end of her career.\n",
      "Elle poursuit ses travaux sur les étoiles variables ; elle en dénombrera plus de 2000 au cours de sa carrière.\n",
      "\n",
      "The parameters she measured during her research provided a basis for estimating the age of our galaxy and for improving our understanding of its evolution.\n",
      "Les paramètres qu'elle mesure lui permettent d'estimer l'âge de notre galaxie et de mieux comprendre son évolution.\n",
      "\n",
      "In 1970, Hogg hosted her own television show on astronomy.\n",
      "En 1970, Helen anime sa propre émission de télévision sur l'astronomie.\n",
      "\n",
      "In 1971, she founded the Astronomical Society of Canada and became its first president.\n",
      "En 1971, elle fonde la Société Canadienne d'Astronomie et en devient la présidente.\n",
      "\n",
      "She retired in 1976, was named Professor Emeritus, and wrote a popular guide to astronomy titled The Stars Belong to Everyone.\n",
      "En 1976, elle prend sa retraite, est nommée professeure émérite et publie un livre de vulgarisation intitulé The Stars Belong to Everyone.\n",
      "\n",
      "Helen Sawyer Hogg died in Toronto at the age of 92.\n",
      "Elle meurt en 1993, à Toronto, à l'âge de 92 ans.\n",
      "\n",
      "She had received numerous distinctions for her work in astronomy and for her efforts to popularize the science, including the Order of Canada.\n",
      "Elle a reçu de nombreuses distinctions pour son travail en astronomie et vulgarisation dont l'Ordre du Canada.\n",
      "\n",
      "Asteroid 2917 was named in her honour.\n",
      "L'astéroïde no 2917 porte son nom en son honneur.\n",
      "\n",
      "The lecture, given each year by an invited speaker during the annual meeting of the two societies, commemorates her contributions to public appreciation of the universe.\n",
      "À chaque année, une conférence publique en astronomie est donnée lors du congrès annuel de l'une des deux sociétés.\n",
      "\n",
      "The Canadian National Museum of Science and Technology's observatory in Ottawa is named for her.\n",
      "L'observatoire astronomique du Musée canadien de la science et de la technologie à Ottawa porte également son nom.\n",
      "\n",
      "He specialized in molecular spectroscopy; that is, in the detection and analysis of molecular structure.\n",
      "Il se spécialise en spectroscopie moléculaire, c'est-à-dire dans la détection et l'analyse de la structure des molécules.\n",
      "\n",
      "In 1933, he became a postdoctoral researcher at the Massachusetts Institute of Technology in Cambridge.\n",
      "En 1933, il devient chercheur postdoctoral à l'Institut de Technologie du Massachusetts, à Cambridge.\n",
      "\n",
      "It was there that he made his first forays into astronomy by studying the Sun.\n",
      "C'est là qu'il fait ses débuts en astronomie en étudiant le Soleil.\n",
      "\n",
      "In 1935, he accepted a position at the Dominion Astrophysical Observatory in Victoria, British Columbia.\n",
      "En 1935, il accepte un poste à l'Observatoire Fédéral d'Astrophysique de Victoria, en Colombie-Britannique.\n",
      "\n",
      "He began measuring the orbits of binary stars and pursued his own research into molecular spectroscopy.\n",
      "Il s'implique d'abord dans la mesure des orbites d'étoiles binaires puis poursuit sa propre recherche en spectroscopie moléculaire.\n",
      "\n",
      "World War II erupted in 1939 and McKellar became a research officer for the Royal Canadian Navy.\n",
      "En 1939, la seconde guerre mondiale est déclenchée et McKellar devient agent de recherche pour la Marine Royale Canadienne.\n",
      "\n",
      "He attained the rank of lieutenant commander, all the while pursuing his astronomy work and publishing several significant scientific articles.\n",
      "Il y atteint le rang de lieutenant commandeur tout en poursuivant ses travaux en astronomie et en publiant plusieurs articles scientifiques importants.\n",
      "\n",
      "In 1940, he began using spectroscopy to determine the composition of comets and demonstrated that solar rays modify their spectra.\n",
      "Ainsi, dès 1940, il utilise la spectroscopie pour déterminer la composition des comètes et démontre que les rayons solaires ont un impact sur leurs spectres.\n",
      "\n",
      "In 1948, he was the first to provide proof of the existence of the carbon-nitrogen cycle (\"CN cycle\") within cold carbon stars.\n",
      "En 1948, il est le premier à fournir la preuve de l'existence du « cycle carbone-azote » (ou cycle CN) au sein des étoiles carbonées froides.\n",
      "\n",
      "According to the theory, it is this energy that sustains cold carbon stars.\n",
      "Selon la théorie, c'est cette énergie qui anime les étoiles carbonées froides.\n",
      "\n",
      "Among other contributions, he demonstrated that large turbulent movements could agitate their atmospheres.\n",
      "Il montre entre autres que de grands mouvements turbulents peuvent agiter leurs atmosphères.\n",
      "\n",
      "Succumbing to an incurable disease, he died in 1960 in Victoria, British Columbia, at the young age of 50.\n",
      "Atteint d'une maladie incurable, il meurt prématurément en 1960 à Victoria, en Colombie-Britannique, à l'âge de 50 ans.\n",
      "\n",
      "He had completed a full day of work at the observatory just four days before he passed away.\n",
      "Il a complété un jour complet de travail à l'Observatoire, quatre jours seulement avant de mourir.\n",
      "\n",
      "McKellar received many awards for his work in astronomy, including being elected as a member of the Royal Society of Canada.\n",
      "McKellar a reçu plusieurs prix pour son travail en astronomie dont celui d'être nommé membre de la Société Royale du Canada.\n",
      "\n",
      "In 1962, the Dominion Astrophysical Observatory in Victoria named their 1.2-metre telescope in his honour.\n",
      "En 1962, l'Observatoire Fédéral d'Astrophysique de Victoria nomme son télescope de 1,2 mètre en son honneur.\n",
      "\n",
      "The telescope is used to measure the speed of stars and to determine their chemical compositions.\n",
      "Il est utilisé pour mesurer le déplacement des étoiles et déterminer leur composition chimique.\n",
      "\n",
      "That same year, he enrolled at the University of California in Berkeley where, two years later in 1942, he received his doctoral degree in nuclear physics.\n",
      "Toujours en 1940, il s'inscrit à l'Université de la Californie à Berkeley, où il obtient son doctorat en physique nucléaire en 1942.\n",
      "\n",
      "After the war, Covington proposed a research project that would convert surplus radar equipment into instruments that could study cosmic radiation.\n",
      "Après la guerre, Covington propose comme projet de recherche de convertir des surplus d'équipements radars pour étudier les ondes radio cosmiques.\n",
      "\n",
      "His proposal was accepted in 1946 and he began constructing the first Canadian radio telescope.\n",
      "Son projet est accepté en 1946 et il entreprend de construire le premier radiotélescope canadien.\n",
      "\n",
      "Once the equipment had been calibrated, he decided to measure the radiation emanating from the Sun, or more specifically, it’s \"radio flux\": the variations in its energy output at radio wavelengths.\n",
      "Afin de calibrer son appareil, il décide de mesurer le flux de radiations en provenance du Soleil.\n",
      "\n",
      "He began collecting data in July of 1946 and quickly realized that the flux changed from day to day.\n",
      "Il commence à collecter des mesures en juillet 1946 et constate rapidement que le flux varie de jour en jour.\n",
      "\n",
      "He thus provided the first direct evidence that sunspots are associated with radiation \"hot spots\".\n",
      "Il fournit alors la première preuve directe que les taches solaires sont associées à des sources chaudes de radiations.\n",
      "\n",
      "He collected data on a continuous basis from that point forward and his measurements were used around the world.\n",
      "Son programme de collecte de données se poursuit d'ailleurs sans interruption depuis cette période et ses mesures sont utilisées dans le monde entier.\n",
      "\n",
      "In 1951, he constructed a device that would detect the radiation emitted by specific regions on the Sun’s surface.\n",
      "En 1951, il construit un appareil qui permet de détecter les radiations émises à partir de régions spécifiques à la surface du Soleil.\n",
      "\n",
      "His work would greatly contribute to our understanding of the underlying mechanisms that create sunspots.\n",
      "Ses travaux contribueront à notre compréhension des mécanismes responsables de la formation des taches solaires.\n",
      "\n",
      "In 1959, the Algonquin Radio Observatory was established in Ontario and Covington became its director.\n",
      "En 1959, l'Observatoire Algonquin de Radioastronomie est créé en Ontario et Covington en devient le directeur.\n",
      "\n",
      "He took his retirement in 1978 and died in 2001 in Kingston, Ontario, at 88 years old.\n",
      "Il prend sa retraite en 1978 et meurt en 2001 à Kingston, en Ontario, à l'âge de 88 ans.\n",
      "\n",
      "One of the buildings at the Herzberg Institute of Astrophysics in Penticton was named in his honour in 2003.\n",
      "En 2003, on donne son nom à un édifice de l'Institut Herzberg d'Astrophysique, à Penticton.\n",
      "\n",
      "She obtained her bachelor’s degree in 1942 and her master’s degree in 1944 from the University of British Columbia in Vancouver.\n",
      "Elle obtient de l'Université de la Colombie-Britannique, à Vancouver, son baccalauréat en 1942 et sa maîtrise en 1944.\n",
      "\n",
      "Newly discovered and poorly understood at the time, these stars were surrounded by very thick atmospheres.\n",
      "Ces étoiles, nouvellement découvertes et mal comprises, ont la caractéristique de posséder des atmosphères très épaisses.\n",
      "\n",
      "In 1966, she wrote The Early Type Stars, a book that quickly became a standard reference for OB stars.\n",
      "En 1966, elle publie The Early Type Stars, un livre qui devient vite une référence sur les étoiles OB.\n",
      "\n",
      "In 1970, Underhill became the director of the new optical astronomy laboratory at the NASA Goddard Space Flight Center at Greenbelt, Maryland.\n",
      "En 1970, Underhill est chef du nouveau laboratoire d'astronomie optique au Centre de vol spatial Goddard de la NASA à Greenbelt, au Maryland.\n",
      "\n",
      "Wolf-Rayet stars release colossal quantities of matter into space.\n",
      "Les étoiles Wolf-Rayet sont des astres qui libèrent des quantités colossales de matière dans l'espace.\n",
      "\n",
      "She retired in 1985 and returned to Canada as Professor Emeritus at the University of British Columbia in Victoria.\n",
      "En 1985, elle prend sa retraite et retourne au Canada comme professeur émérite à l'Université de la Colombie-Britannique, à Vancouver.\n",
      "\n",
      "She died in Vancouver at the age of 83.\n",
      "Elle meurt en 2003, à Vancouver, à l'âge de 83 ans.\n",
      "\n",
      "She received numerous awards for her work in astronomy and was elected as a member of the Royal Society of Canada.\n",
      "Elle a reçu de nombreux prix pour son travail en astronomie dont celui d'être nommée membre de la Société Royale du Canada.\n",
      "\n",
      "He finished his studies in 1956 with a doctoral degree from the University of Göttingen in Germany.\n",
      "Toujours en 1956, on l'engage comme professeur à l'Université de l'État de l'Ohio.\n",
      "\n",
      "He was hired as a professor at Ohio State University the same year he graduated, and he stayed there until 1958 when he accepted a professorship at the David Dunlap Observatory of the University of Toronto in Ontario.\n",
      "Il y reste jusqu'en 1958, année où il accepte un poste de professeur à l'Observatoire David Dunlap de l'Université de Toronto, en Ontario.\n",
      "\n",
      "He became involved in expanding the observatory’s facilities, perfecting computerized calculation techniques, and developing the field of polychrome photometry.\n",
      "Il s'implique alors dans le développement des installations de l'observatoire, la mise au point de techniques de calcul par ordinateur et la photométrie polychrome.\n",
      "\n",
      "Four years later, he became President and Chairman of the Board of the Canada-France-Hawaii Telescope Corporation.\n",
      "Il entre en fonction en 1978 et, en 1982, il ajoute à sa charge la présidence de la Société du télescope Canada-France-Hawaï.\n",
      "\n",
      "He retired in 1986, but retained a researcher position at the Dominion Astrophysical Observatory in Victoria.\n",
      "En 1986, il prend sa retraite mais demeure chercheur à l'Observatoire Fédéral d'Astrophysique de Victoria.\n",
      "\n",
      "Today, van den Bergh focuses his research on the classification and the evolution of galaxies using images taken with the Hubble Space Telescope.\n",
      "Il concentre aujourd'hui principalement ses recherches sur la classification et l'évolution des galaxies en utilisant des images prises par le télescope Hubble.\n",
      "\n",
      "Van den Bergh has published more than 500 scientific articles.\n",
      "Van den Bergh a publié jusqu'à présent plus de 500 articles scientifiques.\n",
      "\n",
      "He received numerous awards for his work and was named an Officer of the Order of Canada.\n",
      "Il a reçu de nombreux prix pour son travail dont celui d'être nommé officier de l'Ordre du Canada.\n",
      "\n",
      "Asteroid 4230 bears his name in his honour.\n",
      "L'astéroïde no 4230 porte son nom en son honneur.\n",
      "\n",
      "Since 1962, his work has focused on nuclear reactions involving carbon and oxygen.\n",
      "Ainsi, dès 1962, ses travaux portent sur les réactions nucléaires impliquant le carbone et l'oxygène.\n",
      "\n",
      "He also focuses part of his research on neutrinos, a type of subatomic particle that we still know very little about.\n",
      "Il concentre également une partie de ses études sur les neutrinos, ces particules dont on sait encore peu de choses.\n",
      "\n",
      "In 1967, he became increasingly interested in the origin of the light elements lithium, beryllium and boron.\n",
      "En 1967, il commence plus particulièrement à s'intéresser à l'origine des éléments légers que sont le lithium, le béryllium et le bore.\n",
      "\n",
      "These were the only two publications, among his many books, that were written for specialists in the field.\n",
      "Ce seront, parmi les nombreux livres qu'il rédigera, les deux seuls ouvrages qu'il destine à des spécialistes.\n",
      "\n",
      "Some of the \"pieces\" created by these collisions are lithium, beryllium or boron atoms.\n",
      "Certains des « morceaux » résultant de ces collisions sont du lithium, du béryllium ou du bore.\n",
      "\n",
      "In 1977, Reeves published Soleil (\"Sun\"), his first popular science book.\n",
      "En 1977, Reeves publie « Soleil », son premier livre de vulgarisation scientifique.\n",
      "\n",
      "Another 15 or so popular astronomy books were published in the years to follow, some with co-authors.\n",
      "Une quinzaine d'autres livres du même genre seront publiés les années suivantes ; certains étant rédigés avec des collaborateurs.\n",
      "\n",
      "Reeves received many awards and distinctions for his work in astronomy and public communications.\n",
      "Reeves a reçu de nombreux prix et plusieurs distinctions pour son travail en astronomie et en vulgarisation.\n",
      "\n",
      "In 2001, he and Johannes Geiss received the Einstein prize for their work on the density of the Universe.\n",
      "En 2001, il reçoit, conjointement avec Johannes Geiss, le prix Einstein pour ses travaux sur la détermination de la densité de l'Univers.\n",
      "\n",
      "Video sequence   Hubert Reeves explains what science is.\n",
      "Séquence vidéo  Hubert Reeves explique ce qu'est la science.\n",
      "\n",
      "Racine specializes in the study of globular clusters.\n",
      "Racine se spécialise dans l'étude des amas globulaires.\n",
      "\n",
      "Globular clusters are collections of stars that form a spherical shape containing anywhere from 10,000 to millions of stars.\n",
      "Les amas globulaires sont des regroupements d'étoiles de forme sphérique qui peuvent contenir de 10 000 à plusieurs millions d'étoiles.\n",
      "\n",
      "In 1969, he became a professor in the astronomy and astrophysics department of the University of Toronto.\n",
      "En 1969, il devient professeur au département d'astronomie et d'astrophysique de l'Université de Toronto.\n",
      "\n",
      "The 60-centimetre telescope saw first light in 1971, and Racine equipped it with a new photometer of his own design.\n",
      "Le télescope de 60 centimètres voit sa première lumière en 1971 et Racine l'équipe d'un nouveau photomètre de sa conception.\n",
      "\n",
      "In 1976, he became astronomy professor for the physics department at the University of Montreal.\n",
      "En 1976, il devient professeur d'astronomie au département de physique de l'Université de Montréal.\n",
      "\n",
      "Racine played a key role in the creation of the new Mont-Mégantic Observatory and was its director from 1976 to 1980.\n",
      "Il est nommé la même année directeur de l'Observatoire du Mont-Mégantic, poste qu'il conserve jusqu'en 1980.\n",
      "\n",
      "In 1980, he was named Executive Director of the Canada-France-Hawaii Telescope Corporation (CFWT).\n",
      "En 1980, il est nommé directeur de la Société du télescope Canada-France-Hawaï (TCFH).\n",
      "\n",
      "In 1984, he left his post as Director of the CFWT and returned as Director of the Mont-Mégantic Observatory.\n",
      "En 1984, il quitte la direction du TCFH et reprend celle de l'Observatoire du Mont-Mégantic.\n",
      "\n",
      "Racine was elected as a member of the Royal Society of Canada in 1989 and the Order of Canada in 1999.\n",
      "Il est nommé membre de la Société Royale du Canada en 1989 et de l'Ordre du Canada en 1999.\n",
      "\n",
      "In 2005, he was made an Officer of the Ordre national du Québec (National Order of Quebec).\n",
      "En 2005, il est fait officier de l'Ordre national du Québec.\n",
      "\n",
      "He received his bachelor’s degree in 1962, his bachelor’s with Honours in 1963, and his master’s in 1964 from the Rand University of South Africa.\n",
      "Il obtient son baccalauréat en 1962, sa licence en 1963 et sa maîtrise en 1964 de l'Université Rand d'Afrique du Sud.\n",
      "\n",
      "He then obtained his doctoral degree from the University of Cambridge in England in 1967.\n",
      "Il décroche ensuite son doctorat de l'Université de Cambridge, en Angleterre, en 1967.\n",
      "\n",
      "In 1968, he discovered that these stars, which have very thick atmospheres, generate hot stellar winds.\n",
      "En 1968, il découvre que ces étoiles, qui ont des atmosphères très épaisses, émettent des vents stellaires chauds.\n",
      "\n",
      "In 1983, after ten years of research on binary stars, he made a major discovery:\n",
      "En 1983, après dix ans de recherches sur les étoiles binaires, il fait une découverte majeure.\n",
      "\n",
      "Hutchings, along with coworkers Anne Cowley and David Crampton, identified the first black hole located outside our galaxy.\n",
      "Il identifie dans le Grand Nuage de Magellan, avec Anne Cowley et David Crampton, le premier trou noir situé hors de notre galaxie.\n",
      "\n",
      "Active galaxies are those with centres marked by enormous energy outputs.\n",
      "Les galaxies actives sont des galaxies possédant un coeur qui émet de grandes quantités d'énergie.\n",
      "\n",
      "Over the years, the study of quasars became one of Hutchings specialties.\n",
      "Leur étude deviendra, avec les années, une des spécialités de Hutchings.\n",
      "\n",
      "In 1994, Hutchings became Chairman of the Hubble Space Telescope (HST).\n",
      "En 1994, il est président de projet pour le télescope spatial Hubble.\n",
      "\n",
      "In 1998, he was named Canadian Principal Investigator for the proposed CUVIT space mission (Canadian UV Imaging Telescope).\n",
      "En 1998, il est chercheur canadien principal pour la mission spatiale CUVIT (pour Canadian UV Imaging Telescope ou Télescope Canadien à Imagerie UV, en français).\n",
      "\n",
      "Hutchings has published more than 400 scientific articles to date.\n",
      "Hutchings a publié jusqu'à présent plus de 400 articles scientifiques.\n",
      "\n",
      "He received numerous distinctions for his work, including his election as a member of the Royal Society of Canada.\n",
      "Il a reçu de nombreux prix pour son travail dont celui d'être nommé membre de la Société Royale du Canada.\n",
      "\n",
      "From 1970 to 1972, he was a postdoctoral researcher at the David Dunlap Observatory of the University of Toronto astronomy department.\n",
      "De 1970 à 1972, il est chercheur postdoctoral à l'Observatoire David Dunlap du département d'astronomie de l'Université de Toronto.\n",
      "\n",
      "He also taught at the David Dunlap Observatory from 1970 to 1972, at Scarborough College from 1971 to 1972, and at Erindale College from 1972 to 1973.\n",
      "Il enseigne également à l'Observatoire David Dunlap de 1970 à 1972, au Collège Scarborough de 1971 à 1972 et au Collège Erindale de 1972 à 1973.\n",
      "\n",
      "He then became a professor in the astronomy department at the University of Toronto in 1973, and has remained there ever since.\n",
      "Il devient ensuite professeur au département d'astronomie de l'Université de Toronto en 1973, où il est toujours aujourd'hui.\n",
      "\n",
      "The black hole in question was Cygnus X-1, which lies at the centre of our own galaxy, the Milky Way.\n",
      "Il s'agit de Cygnus X-1, un trou noir se trouvant dans notre galaxie.\n",
      "\n",
      "His calculations demonstrated that the companion could be nothing less than a black hole.\n",
      "Les calculs de l'astronome montreront que le compagnon en question ne peut être rien d'autre qu'un trou noir.\n",
      "\n",
      "OB stars are very hot blue stars with thick atmospheres.\n",
      "Les « étoiles OB » sont des étoiles bleues très chaudes qui possèdent des atmosphères très épaisses.\n",
      "\n",
      "OBN stars are a subclass of OB stars that are characterized by nitrogen anomalies in their spectra.\n",
      "Les « étoiles OBN » sont des étoiles OB qui ont des anomalies en azote dans leur spectre.\n",
      "\n",
      "Bolton has received many awards for his work, including being elected as a member of the Royal Society of Canada.\n",
      "Il a reçu plusieurs prix pour son travail dont celui d'être nommé membre de la Société Royale du Canada.\n",
      "\n",
      "In 1977, he organized a workshop on the causes of the Cretaceous-Tertiary mass extinction that marked the disappearance of the dinosaurs.\n",
      "Il revient au Canada en 1975, où on le retrouve comme associé de recherche au nouvel Institut Herzberg d'Astrophysique, à Ottawa.\n",
      "\n",
      "In 1982, Roy published his first book, L’astronomie et son histoire (\"Astronomy and its History\").\n",
      "En 1982, il publie un premier livre intitulé « L'astronomie et son histoire ».\n",
      "\n",
      "Other instruments were to follow.\n",
      "D'autres appareils suivront par la suite.\n",
      "\n",
      "In 1997, he became a member of the board of directors for the Gemini Project, a proposal to construct the two largest telescopes in the world.\n",
      "En 1997, il devient membre du conseil d'administration du projet Gemini qui vise à construire les deux plus grands télescopes au monde.\n",
      "\n",
      "One of the telescopes would be located in the northern hemisphere (Hawaii) and the other in the southern hemisphere (Chile).\n",
      "Un des télescopes sera situé dans l'hémisphère nord (à Hawaï), le second dans l'hémisphère sud (au Chili).\n",
      "\n",
      "In 2000, he left Laval University to become the scientific director for the Gemini North Observatory in Hawaii.\n",
      "En 2000, il quitte l'Université Laval pour devenir directeur scientifique de l'Observatoire Astronomique Gemini Nord à Hawaï.\n",
      "\n",
      "His current research interests are spiral galaxies, the processes of massive star formation, and the chemical enrichment in galaxies.\n",
      "Ses travaux portent présentement sur l'évolution des galaxies spirales, les processus de formation des étoiles massives et l'enrichissement chimique des galaxies.\n",
      "\n",
      "He obtained his bachelor’s degree from the University of Toronto in 1968 and his master’s degree in 1969.\n",
      "Il obtient de l'Université de Toronto son baccalauréat en 1968 et sa maîtrise en 1969.\n",
      "\n",
      "He strives to understand its origin and its relationship to stars.\n",
      "Martin cherche à comprendre son origine et sa relation avec les étoiles.\n",
      "\n",
      "During the first 15 years of his career, Martin concentrated mainly on interstellar dust.\n",
      "Durant les quinze premières années de sa carrière, Martin concentre principalement ses travaux sur la poussière interstellaire.\n",
      "\n",
      "In 1984, Martin became the first person from the astronomy department at the University of Toronto to become a member of the Canadian Institute for Theoretical Astrophysics.\n",
      "En 1984, Martin devient le premier membre de l'Institut Canadien d'Astrophysique Théorique issu du département d'astronomie de l'Université de Toronto.\n",
      "\n",
      "His contributions in this field have repercussions for our understanding of how the first stars of the Universe came to be.\n",
      "Ses travaux ont des répercussions jusque dans notre compréhension de la formation des premières étoiles de l'Univers.\n",
      "\n",
      "The results of these studies have improved our understanding of the evolution of galaxies in the Universe.\n",
      "Les résultats de ses études permettent de mieux comprendre l'évolution des galaxies et de l'Univers.\n",
      "\n",
      "In 1999, Martin was named Director of the University of Toronto’s David Dunlap Observatory.\n",
      "En 1999, Martin est nommé directeur de l'Observatoire David Dunlap de l'Université de Toronto.\n",
      "\n",
      "Martin received the Carlyle S. Beals Award in 1994 from the Astronomical Society of Canada in recognition of his research contributions.\n",
      "En 1994, il a reçu le prix Carlyle S. Beals de la Societé Canadienne d'Astronomie pour ses travaux de recherche.\n",
      "\n",
      "Video sequence   Peter Gordon Martin talks about interstellar dust.\n",
      "Séquence vidéo  Peter Gordon Martin parle des poussières cosmiques.\n",
      "\n",
      "In 1969, he obtained his bachelor’s degree from Laval University in Quebec City, and his doctoral degree in 1974 from the University of Rochester in the state of New York.\n",
      "En 1969, il obtient son baccalauréat de l'Université Laval et en 1974, son doctorat de l'Université Rochester, dans l'état de New York.\n",
      "\n",
      "He then took a postdoctoral position at the University of Western Ontario in London, and in 1977 he became a professor at the University of Montreal.\n",
      "Il effectue ensuite un stage postdoctoral à l'Université de Western Ontario, à London, et en 1977, il devient professeur à l'Université de Montréal.\n",
      "\n",
      "Fontaine has specialized in the study of white dwarf stars since he first started his doctoral studies.\n",
      "Fontaine se spécialise dans l'étude des étoiles naines blanches dès le début de son doctorat.\n",
      "\n",
      "A white dwarf forms when a star depletes its nuclear fuel.\n",
      "Une naine blanche se forme lorsqu'une étoile épuise son carburant nucléaire.\n",
      "\n",
      "Asteroseismologists – scientist who study the vibrations of stars – can measure these changes in intensity with an instrument known as a photometer.\n",
      "Un astéroséismologue est un spécialiste de l'étude des vibrations qui secouent les étoiles.\n",
      "\n",
      "That same year, their prediction was confirmed by telescopic observations of a DB white dwarf.\n",
      "La même année, leur prédiction se trouve confirmée par l'observation au télescope d'une naine blanche de type DB.\n",
      "\n",
      "In 1987, Fontaine and his collaborators had the idea to determine the age of the Universe using white dwarfs.\n",
      "En 1987, Fontaine et ses collaborateurs ont l'idée de déterminer l'âge de l'Univers avec des naines blanches.\n",
      "\n",
      "In 1990, Fontaine published the first results within the framework of the Montréal-Cambridge-Tololo Project, which he helped develop.\n",
      "En 1990, Fontaine publie les premiers résultats qu'il obtient dans le cadre du projet Montréal-Cambridge-Tololo.\n",
      "\n",
      "In the years since, Fontaine and his collaborators have continued to predict other types of stars.\n",
      "Pendant les années qui suivent, Fontaine et ses collaborateurs découvrent d'autres types d'étoiles.\n",
      "\n",
      "Fontaine received numerous distinctions for his work, including being elected as a member of the Royal Society of Canada.\n",
      "Fontaine a reçu de nombreuses reconnaissances pour son travail dont celle d'être nommé membre de la Société Royale du Canada.\n",
      "\n",
      "Asteroid 4230 is named in his honour.\n",
      "L'astéroïde no 4230 porte son nom en son honneur.\n",
      "\n",
      "Video sequence   Gilles Fontaine explains what asteroseismology is.\n",
      "Séquence vidéo  Gilles Fontaine explique ce qu'est l'astéroséismologie.\n",
      "\n",
      "In 1973, he obtained his bachelor’s degree from the University of Toronto and enrolled at the California Institute of Technology (Caltech) in 1974.\n",
      "En 1973, il décroche son baccalauréat de l'Université de Toronto, puis s'inscrit en 1974 à l'Institut de Technologie de la Californie.\n",
      "\n",
      "Bond specializes in the study of the structure of the Universe.\n",
      "Bond se spécialise dans l'étude de la structure de l'Univers.\n",
      "\n",
      "However, in 1991, the COBE satellite (COsmic Background Explorer) did indeed reveal slight variations.\n",
      "Pourtant, en 1991, le satellite spatial COBE (pour COsmic Background Explorer) met à jour de légères variations.\n",
      "\n",
      "In 1996, he was named Director of the Canadian Institute for Theoretical Astrophysics.\n",
      "En 1996, il est nommé directeur de l'Institut Canadien d'Astrophysique Théorique.\n",
      "\n",
      "In 1998, the first Boomerang mission was launched above the Antarctic.\n",
      "En 1998, une première mission Boomerang est lancée au-dessus de l'Antarctique.\n",
      "\n",
      "In 2001, Bond became director of research programs at the Canadian Institute for Advanced Research.\n",
      "En 2001, Bond devient directeur des programmes de recherche à l'Institut Canadien de Recherches Avancées.\n",
      "\n",
      "According to Bond, it is possible that some small trace – some evidence – of the existence of dark energy could be found in the cosmic background radiation.\n",
      "Selon Bond, il y a des chances de retrouver une trace de l'existence de l'énergie sombre dans le rayonnement de fond cosmique.\n",
      "\n",
      "Video sequence  John Richard Bond explains the purpose of astronomy\n",
      "Séquence vidéo  John Richard Bond explique ce qu’est un cosmologue expérimental.\n",
      "\n",
      "Upon obtaining his doctoral degree, he was hired as a researcher at the Massachusetts Institute of Technology.\n",
      "Aussitôt son doctorat obtenu, on l'engage comme chercheur à l'Institut de Technologie du Massachusetts.\n",
      "\n",
      "He stayed for two years and then moved to England in 1977 to become a research agent in the Institute of Astronomy at the University of Cambridge.\n",
      "Il y reste deux ans et, en 1977, il déménage en Angleterre et devient agent de recherche à l'Institut d'Astronomie de Cambridge.\n",
      "\n",
      "Tremaine is an expert in cosmic dynamics; that is, the study of the effects of forces that move celestial objects.\n",
      "Tremaine est expert en dynamique cosmique, c'est-à-dire dans l'étude des effets des forces qui déplacent les objets célestes.\n",
      "\n",
      "In simple terms, he is trying to determine the changes in speeds and directions that affect various bodies.\n",
      "En termes simples, il cherche à déterminer les changements de vitesse et de direction qui affectent divers corps célestes.\n",
      "\n",
      "He has applied this type of study to planetary rings, comets, planets, black holes, galaxies and galaxy clusters.\n",
      "Il a appliqué ce genre d'étude aux anneaux planétaires, aux comètes, aux planètes, aux trous noirs, aux galaxies et aux amas de galaxies.\n",
      "\n",
      "Thanks to his energy, the institute eventually carved itself an enviable position in the international scene.\n",
      "Grâce à son dynamisme, l'institut se taillera petit à petit une place enviable sur la scène internationale.\n",
      "\n",
      "In 1987, Tremaine wrote the book Galactic Dynamics with James Binney, which quickly became a reference work in the field.\n",
      "En 1987, Tremaine publie avec James Binney le livre Galactic Dynamics (Dynamique galactique, en français) qui devient vite une référence dans le domaine.\n",
      "\n",
      "This revelation proved to be another high point in his career.\n",
      "C'est là un autre moment fort de sa carrière.\n",
      "\n",
      "Tremaine has received many awards, including being elected as member of the Royal Society of Canada.\n",
      "Tremaine a remporté plusieurs prix dont celui d'être nommé membre de la Société Royale du Canada.\n",
      "\n",
      "He obtained his bachelor’s degree in 1979 from the University of Toronto and his master’s and doctoral degrees in 1982 and 1987 from the University of Western Ontario in London.\n",
      "Il obtient de l'Université de Toronto son baccalauréat en 1979 et de l'Université Western Ontario, à London, sa maîtrise en 1982 et son doctorat en 1987.\n",
      "\n",
      "In 1988, he undertook postdoctoral research at the University of British Columbia in Vancouver.\n",
      "En 1988, il effectue un stage postdoctoral à l'Université de la Colombie-Britannique, à Vancouver.\n",
      "\n",
      "In 1991, he was hired as a research agent at the University of Montreal.\n",
      "En 1991, on l'engage comme agent de recherche à l'Université de Montréal.\n",
      "\n",
      "He then became a professor at the University of British Columbia.\n",
      "Il devient ensuite professeur à l'Université de la Colombie-Britannique, à Vancouver.\n",
      "\n",
      "Matthews is an asteroseismologist; that is, he specializes in the study of the vibrations (pulsations) that shake stars.\n",
      "Matthews est astéroséismologue, c'est-à-dire qu'il est spécialiste de l'étude des vibrations qui secouent les étoiles.\n",
      "\n",
      "All stars, like the Sun, vibrate at some time during their lifespan.\n",
      "Les étoiles, comme le Soleil, vibrent en effet à un moment ou l'autre de leur vie.\n",
      "\n",
      "In addition to asteroseismology, Matthews has other interests.\n",
      "En plus de l'astéroséismologie, Matthews a d'autres centres d'intérêts.\n",
      "\n",
      "In 1992, he tackled the job of mapping solar spots on stars using Doppler imaging.\n",
      "En 1992, il s'attaque à la cartographie des taches solaires des étoiles par imagerie Doppler.\n",
      "\n",
      "In 1994, he used open star clusters and groups of open star clusters to calibrate a scale for cosmological distances.\n",
      "En 1994, il entreprend d'utiliser les amas ouverts d'étoiles et leurs associations pour calibrer l'échelle de distance cosmologique.\n",
      "\n",
      "The year 1997 was a particularly significant year for Matthews.\n",
      "L'année 1997 est particulièrement importante pour lui.\n",
      "\n",
      "In 2003, after six years of preparation, the MOST satellite was launched.\n",
      "Matthews en devient le chercheur principal et le scientifique de mission.\n",
      "\n",
      "Since 2004, the discoveries made by Matthews and the MOST satellite regularly make the headlines in the media around the world.\n",
      "Depuis 2004, les découvertes effectuées par Matthews et MOST font régulièrement les manchettes des médias du monde entier.\n",
      "\n",
      "Particularly popular with young people, he received awards for excellence in teaching in 1999 and 2002.\n",
      "Particulièrement populaire auprès des jeunes, il a reçu, en 1999 et en 2002, des prix pour l'excellence de son enseignement.\n",
      "\n",
      "Astronomers « Return to the astronomers Jack Newton (1942- ) Known for his world famous photographs Jack Newton was born in 1942 in Winnipeg, Manitoba.\n",
      "Astronomes « Retour aux astronomes Jack Newton (1942- ) Ses photographies sont réputées dans le monde entier Jack Newton naît en 1942 à Winnipeg, au Manitoba.\n",
      "\n",
      "He obtained a diploma in business administration during the 1970’s from Red River Community College and became manager for the stores Sears and Marks & Spencer.\n",
      "Il obtient un diplôme en administration des affaires dans les années 1970 du Red River Community College puis devient gérant pour les magasins Sears et Mark & Spencer.\n",
      "\n",
      "His interest in astronomy began in 1954 at the age of 12.\n",
      "Il commence à s'intéresser à l'astronomie en 1954 à l'âge de 12 ans.\n",
      "\n",
      "Four years later, in 1958, he joined the Winnipeg Centre of the Royal Astronomical Society of Canada.\n",
      "Quatre ans plus tard, en 1958, il joint le Centre de Winnipeg de la Société Royale d'Astronomie du Canada.\n",
      "\n",
      "In 1969, he constructed a 32-centimetre telescope and installed it under a dome in his backyard.\n",
      "En 1969, il construit un télescope de 32 centimètres et l'installe sous un dôme dans la cour arrière de sa maison.\n",
      "\n",
      "He then started up an astrophotography section with the Winnipeg Centre and became the president from 1970 to 1972.\n",
      "Il démarre ensuite une section d'astrophotographie au Centre de Winnipeg et devient même président du centre de 1970 à 1972.\n",
      "\n",
      "In 1973, Newton’s work required him to move to Toronto.\n",
      "En 1973, son emploi l'oblige à déménager à Toronto.\n",
      "\n",
      "He began to test different film types for his photography work and one year later, in 1974, he published Astro Photography:\n",
      "Il commence alors à tester différents films pour ses photographies et un an plus tard, en 1974, il publie Astro Photography :\n",
      "\n",
      "In 1975, he was elected president of the Toronto Centre of the Royal Astronomical Society of Canada.\n",
      "En 1975, il est élu pour un an président du Centre de Toronto de la Société Royale d'Astronomie du Canada.\n",
      "\n",
      "Still passionate about photography, he published An Introduction to CCD Astronomy and Deep Sky Objects:\n",
      "Toujours passionné de photographie, il publie en 1977 An Introduction to CCD Astronomy et Deep Sky Objects :\n",
      "\n",
      "In 1979, Newton moved again for work-related reasons, this time to Victoria in British Columbia.\n",
      "En 1979, son emploi l'amène à déménager de nouveau, cette fois à Victoria, en Colombie-Britannique.\n",
      "\n",
      "He continued to pursue his astrophotography activities and became the president of the Victoria Centre from 1980 to 1981.\n",
      "Il poursuit ses activités en astrophotographie et occupe la présidence du Centre de Victoria de 1980 à 1981.\n",
      "\n",
      "He wrote two books with Philip Teece:\n",
      "Il rédige ensuite deux livres avec Philip Teece :\n",
      "\n",
      "In 1997, he joined forces with Terence Dickinson and published Splendors of the Universe:\n",
      "En 1997, il se joint cette fois à Terence Dickinson et publie Splendors of the Universe :\n",
      "\n",
      "Lemay made his first forays into astronomy around 1954 at the age of 11.\n",
      "Il fait ses débuts en astronomie vers 1954, à l'âge de 11 ans.\n",
      "\n",
      "In 1962, he bought his first telescope, a 11.4-centimetre Tasco reflector that he still has today.\n",
      "En 1962, il achète son premier télescope, un réflecteur Tasco de 11,4 centimètres qu'il possède toujours.\n",
      "\n",
      "From 1971 to 1972, he used 7x50 binoculars to observe all the stars in the Norton Star Atlas, from the North Pole to -35° South.\n",
      "De 1971 à 1972, il observe aux jumelles 7x50 toutes les étoiles de l'Atlas Norton Star, du pôle Nord jusqu'à -35° Sud.\n",
      "\n",
      "In 1973, he took his first long-exposure photos during a guided tour over the night of May 26.\n",
      "En 1973, il prend ses premières photos longue exposition guidées dans la nuit du 26 au 27 mai.\n",
      "\n",
      "Lemay was probably the first North American observer to see Nova Cygni in the sky in 1975.\n",
      "En 1975, il est probablement le premier nord-américain à observer Nova Cygni dans le ciel.\n",
      "\n",
      "A nova is a star that absorbs matter from a neighbouring star, which causes the new host to heat up and suddenly brighten.\n",
      "La matière absorbée finit par réchauffer l'étoile hôte et celle-ci se met alors à émettre subitement plus de lumière.\n",
      "\n",
      "It is a rare and spectacular event.\n",
      "Il s'agit d'un phénomène rare et plutôt spectaculaire.\n",
      "\n",
      "In 1978, Lemay began the daunting task of assembling a photographic atlas of the sky using his 14-centimetre Schmidt camera.\n",
      "En 1978, il entreprend la tâche colossale de réaliser un atlas photographique du ciel avec sa caméra Schmidt de 14 centimètres.\n",
      "\n",
      "He completed the work in 1985 after taking 1,182 photographs.\n",
      "Il achève son travail en 1985 après avoir pris 1182 clichés photographiques.\n",
      "\n",
      "In 1981, he founded the Astronomy Club of Rimouski in Quebec.\n",
      "En 1981, il fonde le Club d'Astronomie de Rimouski, au Québec.\n",
      "\n",
      "The club was very active and they twice organized the annual conference of the Amateur Astronomy Federation of Quebec in 1990 and 1997.\n",
      "Le club est très actif et organise à deux occasions (en 1990 et 1997) le congrès annuel de la Fédération des Astronomes Amateurs du Québec.\n",
      "\n",
      "The conference took place in Quebec City, and with over 200 participants it was deemed an unequivocal success.\n",
      "Le congrès est un franc succès et regroupe pas moins de 210 personnes.\n",
      "\n",
      "From 1990 to 1992, he was the National President of the Royal Astronomical Society of Canada.\n",
      "De 1990 à 1992, il est président national de la Société Royale d'Astronomie du Canada.\n",
      "\n",
      "From 1992 to 2000, he was Codirector, with R. Hawkes, of the Canadian Fireball Reporting Centre.\n",
      "De 1992 à 2000, il est codirecteur, avec R. Hawkes, du Centre canadien de rapports sur les météores.\n",
      "\n",
      "The primary goal is to help recover meteorites in the short and long term.\n",
      "Le but premier est d'aider à la récupération potentielle de météorites à court et moyen terme.\n",
      "\n",
      "In 2001, the centre moved to the University of Calgary where it falls under the responsibility of Alan Hildebrand.\n",
      "En 2001, le centre déménage à l'Université de Calgary, où il demeure sous la responsabilité de Alan Hildebrand.\n",
      "\n",
      "In 1996, he was one of the founding members of the virtual group ASTRO & CCD of the Amateur Astronomy Federation of Quebec.\n",
      "En 1996, il est un des membres fondateurs du groupe virtuel ASTRO & CCD de la Fédération des Astronomes Amateurs du Québec.\n",
      "\n"
     ]
    }
   ],
   "source": [
    "inputs = []\n",
    "outputs = []\n",
    "\n",
    "with open('tokenized_data.json', 'r') as f:\n",
    "    data = json.load(f)\n",
    "    inputs = data['inputs'][:max_examples]\n",
    "    outputs = data['outputs'][:max_examples]\n",
    "print(len(inputs), len(outputs))\n",
    "# for inp, out in zip(inputs, outputs):\n",
    "#     out = tokenizer.decode(out, skip_special_tokens=True)\n",
    "#     inp = tokenizer.decode(inp, skip_special_tokens=True)\n",
    "#     print(inp)\n",
    "#     print(out)\n",
    "#     print()\n",
    "#     res = pipe(out, top_k=1, truncation=True)[0]['label']\n",
    "#     if res != 'fr':\n",
    "#         print(res, out)"
   ]
  },
  {
   "cell_type": "markdown",
   "id": "758e78e09478c0da",
   "metadata": {},
   "source": [
    "# Clean data"
   ]
  },
  {
   "cell_type": "code",
   "execution_count": 17,
   "id": "13fddb44c3ac001c",
   "metadata": {
    "ExecuteTime": {
     "end_time": "2025-03-14T14:02:36.204862Z",
     "start_time": "2025-03-14T14:01:05.982943Z"
    },
    "trusted": true
   },
   "outputs": [],
   "source": [
    "\"\"\"To set determined len for src and tgt --> also with pad tokens\"\"\"\n",
    "\n",
    "\n",
    "def clean_data(sentences, max_seq_length):\n",
    "    for i, sentence in enumerate(sentences):\n",
    "        if len(sentence) < max_seq_length:\n",
    "            sentences[i] = sentence + [tokenizer.pad_token_id] * (max_seq_length - len(sentence))\n",
    "\n",
    "\n",
    "clean_data(inputs, SRC_MAX_SEQ)\n",
    "clean_data(outputs, TGT_MAX_SEQ)"
   ]
  },
  {
   "cell_type": "code",
   "execution_count": 18,
   "id": "6a144e28",
   "metadata": {},
   "outputs": [
    {
     "name": "stdout",
     "output_type": "stream",
     "text": [
      "Site map ###### Plan du site\n",
      "Feedback ###### Rétroaction\n",
      "Credits ###### Crédits\n",
      "What is light ? ###### Qu’est-ce que la lumière?\n",
      "The sky of the first inhabitants A contemporary vison of the Universe Astronomy for everyone ###### Le ciel des premiers habitants La vision contemporaine de l'Univers L’astronomie pour tous\n",
      "Cartoon ###### Bande dessinée\n",
      "Astronomers Introduction Introduction video What is Astronomy? ###### Astronomes Introduction Vidéo d'introduction Qu'est-ce que l'astronomie?\n",
      "The name is derived from the Greek root astron for star, and nomos for arrangement or law. ###### Son nom vient du grec astron, qui veut dire étoile et nomos, qui veut dire loi.\n",
      "It prompts us to ask the deepest existential questions: ###### L'astronomie évoque donc aussi les grandes questions « existentielles » :\n",
      "Who are we? ###### Où sommes-nous?\n",
      "Where did we come from? ###### D'où venons-nous?\n"
     ]
    }
   ],
   "source": [
    "for step, (inp, out) in enumerate(zip(inputs, outputs)):\n",
    "    print(tokenizer.decode(inp, skip_special_tokens=True), '######', tokenizer.decode(out, skip_special_tokens=True))\n",
    "    if step == 10:\n",
    "        break"
   ]
  },
  {
   "cell_type": "code",
   "execution_count": 19,
   "id": "b871c29a18bd72e0",
   "metadata": {
    "ExecuteTime": {
     "end_time": "2025-03-14T14:02:36.786438Z",
     "start_time": "2025-03-14T14:02:36.229746Z"
    },
    "trusted": true
   },
   "outputs": [
    {
     "name": "stdout",
     "output_type": "stream",
     "text": [
      "Max src seq len: 50\n",
      "Max tgt seq len: 50\n",
      "Number of examples: 600\n",
      "Number of vocab size: 50265\n"
     ]
    }
   ],
   "source": [
    "inputs = torch.tensor(inputs)\n",
    "targets = torch.tensor(outputs)\n",
    "assert len(inputs) == len(targets), \"Number of articles and summaries must be the same\"\n",
    "print('Max src seq len:', SRC_MAX_SEQ)\n",
    "print('Max tgt seq len:', TGT_MAX_SEQ)\n",
    "print('Number of examples:', len(inputs))\n",
    "print(\"Number of vocab size:\", VOCAB_SIZE)"
   ]
  },
  {
   "cell_type": "markdown",
   "id": "d5f9a69697ca4da7",
   "metadata": {},
   "source": [
    "# Custom Dataset and DataLoader with train and val data (80%, 20%)"
   ]
  },
  {
   "cell_type": "code",
   "execution_count": 20,
   "id": "482d5e998d8ec790",
   "metadata": {
    "ExecuteTime": {
     "end_time": "2025-03-14T14:02:36.816089Z",
     "start_time": "2025-03-14T14:02:36.800441Z"
    },
    "trusted": true
   },
   "outputs": [
    {
     "name": "stdout",
     "output_type": "stream",
     "text": [
      "Number of training samples: 480\n",
      "Number of validation samples: 120\n"
     ]
    }
   ],
   "source": [
    "from torch.utils.data import random_split, Dataset\n",
    "\n",
    "\n",
    "class CustomDataset(Dataset):\n",
    "    def __init__(self, inputs: torch.Tensor, outputs: torch.Tensor):\n",
    "        self.inputs = inputs\n",
    "        self.outputs = outputs\n",
    "\n",
    "    def __len__(self):\n",
    "        return len(self.inputs)\n",
    "\n",
    "    def __getitem__(self, idx):\n",
    "        return self.inputs[idx], self.outputs[idx]\n",
    "\n",
    "\n",
    "dataset = CustomDataset(inputs, targets)\n",
    "train_data, val_data = random_split(dataset, [0.8, 0.2])\n",
    "print(f\"Number of training samples: {len(train_data)}\")\n",
    "print(f\"Number of validation samples: {len(val_data)}\")"
   ]
  },
  {
   "cell_type": "code",
   "execution_count": 21,
   "id": "cd381a10172d1af3",
   "metadata": {
    "ExecuteTime": {
     "end_time": "2025-03-14T14:02:36.832311Z",
     "start_time": "2025-03-14T14:02:36.825793Z"
    },
    "trusted": true
   },
   "outputs": [
    {
     "name": "stdout",
     "output_type": "stream",
     "text": [
      "Number of batches in training set: 4\n",
      "Number of batches in validation set: 1\n"
     ]
    }
   ],
   "source": [
    "from torch.utils.data import DataLoader\n",
    "\n",
    "BATCH_SIZE = 128  # TODO: expand batch size for transformer architecture\n",
    "\n",
    "train_loader = DataLoader(\n",
    "    train_data,\n",
    "    batch_size=BATCH_SIZE,\n",
    "    shuffle=True,\n",
    "    # drop_last=True\n",
    ")\n",
    "\n",
    "val_loader = DataLoader(\n",
    "    val_data,\n",
    "    batch_size=BATCH_SIZE,\n",
    "    shuffle=True,\n",
    "    # drop_last=True\n",
    ")\n",
    "\n",
    "print(f\"Number of batches in training set: {len(train_loader)}\")\n",
    "print(f\"Number of batches in validation set: {len(val_loader)}\")\n"
   ]
  },
  {
   "cell_type": "code",
   "execution_count": 22,
   "id": "7a292d27",
   "metadata": {},
   "outputs": [
    {
     "name": "stdout",
     "output_type": "stream",
     "text": [
      "It was under his guidance that astronomy really took off in Canada, developing first at the national scale and then rising to international stature.\n",
      "C'est en effet sous sa gouverne que l'astronomie canadienne prend son véritable envol et se développe au niveau national et international.\n"
     ]
    }
   ],
   "source": [
    "print(tokenizer.decode(train_loader.dataset[0][0], skip_special_tokens=True) )\n",
    "print(tokenizer.decode(train_loader.dataset[0][1], skip_special_tokens=True) )"
   ]
  },
  {
   "cell_type": "code",
   "execution_count": 23,
   "id": "ef607fe7d7712cd5",
   "metadata": {
    "ExecuteTime": {
     "end_time": "2025-03-14T14:02:36.875983Z",
     "start_time": "2025-03-14T14:02:36.841289Z"
    },
    "trusted": true
   },
   "outputs": [],
   "source": [
    "import math\n",
    "\n",
    "\n",
    "class MultiHeadAttention(nn.Module):\n",
    "    def __init__(self, d_model, num_heads):\n",
    "        super(MultiHeadAttention, self).__init__()\n",
    "        assert d_model % num_heads == 0, \"d_model must be divisible by num_heads\"\n",
    "\n",
    "        self.d_model = d_model\n",
    "        self.num_heads = num_heads\n",
    "        self.d_k = d_model // num_heads \n",
    "\n",
    "        self.W_q = nn.Linear(d_model, d_model)  # Query transformation\n",
    "        self.W_k = nn.Linear(d_model, d_model)  # Key transformation\n",
    "        self.W_v = nn.Linear(d_model, d_model)  # Value transformation\n",
    "        self.W_o = nn.Linear(d_model, d_model)  # Output transformation\n",
    "\n",
    "    def scaled_dot_product_attention(self, Q, K, V, mask=None):\n",
    "        # TODO: use F..scaled_dot_product_attention\n",
    "        attn_scores = torch.matmul(Q, K.transpose(-2, -1)) / math.sqrt(self.d_k)\n",
    "\n",
    "        if mask is not None:\n",
    "            attn_scores = attn_scores.masked_fill(mask == 0, -1e9)\n",
    "\n",
    "        attn_probs = torch.softmax(attn_scores, dim=-1)\n",
    "\n",
    "        output = torch.matmul(attn_probs, V)\n",
    "        return output\n",
    "\n",
    "    def split_heads(self, x):\n",
    "        batch_size, seq_length, d_model = x.size()\n",
    "        return x.view(batch_size, seq_length, self.num_heads, self.d_k).transpose(1, 2)\n",
    "\n",
    "    def combine_heads(self, x):\n",
    "        batch_size, _, seq_length, d_k = x.size()\n",
    "        return x.transpose(1, 2).contiguous().view(batch_size, seq_length, self.d_model)\n",
    "\n",
    "    def forward(self, Q, K, V, mask=None):\n",
    "        Q = self.split_heads(self.W_q(Q))\n",
    "        K = self.split_heads(self.W_k(K))\n",
    "        V = self.split_heads(self.W_v(V))\n",
    "\n",
    "        attn_output = self.scaled_dot_product_attention(Q, K, V, mask)\n",
    "        output = self.W_o(self.combine_heads(attn_output))\n",
    "        return output"
   ]
  },
  {
   "cell_type": "code",
   "execution_count": 24,
   "id": "5785cc712765f655",
   "metadata": {
    "ExecuteTime": {
     "end_time": "2025-03-14T14:02:36.889939Z",
     "start_time": "2025-03-14T14:02:36.885027Z"
    },
    "trusted": true
   },
   "outputs": [],
   "source": [
    "class FeedForward(nn.Module):\n",
    "    def __init__(self, d_model, d_ff):\n",
    "        super(FeedForward, self).__init__()\n",
    "        self.fc1 = nn.Linear(d_model, d_ff)\n",
    "        self.fc2 = nn.Linear(d_ff, d_model)\n",
    "        # Assumption: GELU outperforms ReLU which leads to 'ReLU dead neuron problem': https://arxiv.org/pdf/1606.08415\n",
    "        self.gelu = nn.GELU(approximate='tanh')\n",
    "\n",
    "    def forward(self, x):\n",
    "        return self.fc2(self.gelu(self.fc1(x)))"
   ]
  },
  {
   "cell_type": "code",
   "execution_count": 25,
   "id": "fe4e61c154ff8b1a",
   "metadata": {
    "ExecuteTime": {
     "end_time": "2025-03-14T14:02:36.905657Z",
     "start_time": "2025-03-14T14:02:36.898280Z"
    },
    "trusted": true
   },
   "outputs": [
    {
     "data": {
      "text/plain": [
       "'NOTE: There is no evidence that positional encoding is better than simple learnable embeddings.'"
      ]
     },
     "execution_count": 25,
     "metadata": {},
     "output_type": "execute_result"
    }
   ],
   "source": [
    "\"\"\"NOTE: There is no evidence that positional encoding is better than simple learnable embeddings.\"\"\"\n",
    "\n",
    "#\n",
    "# class PositionalEncoding(nn.Module):\n",
    "#     def __init__(self, d_model, max_seq_length):\n",
    "#         super(PositionalEncoding, self).__init__()\n",
    "#\n",
    "#         pe = torch.zeros(max_seq_length, d_model)\n",
    "#         position = torch.arange(0, max_seq_length, dtype=torch.float).unsqueeze(1)\n",
    "#         div_term = torch.exp(torch.arange(0, d_model, 2).float() * -(math.log(10000.0) / d_model))\n",
    "#\n",
    "#         pe[:, 0::2] = torch.sin(position * div_term)\n",
    "#         pe[:, 1::2] = torch.cos(position * div_term)\n",
    "#\n",
    "#         self.register_buffer('pe', pe.unsqueeze(0))\n",
    "#\n",
    "#     def forward(self, x):\n",
    "#         return x + self.pe[:, :x.size(1)]"
   ]
  },
  {
   "cell_type": "code",
   "execution_count": 26,
   "id": "67a0b8abf7ef1b80",
   "metadata": {
    "ExecuteTime": {
     "end_time": "2025-03-14T14:02:36.920098Z",
     "start_time": "2025-03-14T14:02:36.914083Z"
    },
    "trusted": true
   },
   "outputs": [],
   "source": [
    "class EncoderLayer(nn.Module):\n",
    "    def __init__(self, d_model, num_heads, d_ff, dropout):\n",
    "        super(EncoderLayer, self).__init__()\n",
    "        self.self_attn = MultiHeadAttention(d_model, num_heads)\n",
    "        self.feed_forward = FeedForward(d_model, d_ff)\n",
    "        self.norm1 = nn.LayerNorm(d_model)\n",
    "        self.norm2 = nn.LayerNorm(d_model)\n",
    "        self.dropout = nn.Dropout(dropout)  # TODO: one dropout layer or two?\n",
    "\n",
    "    def forward(self, x, mask):\n",
    "        # Normalization before sub-blocks: as described at: https://cdn.openai.com/better-language-models/language_models_are_unsupervised_multitask_learners.pdf\n",
    "        residual_x = self.norm1(x)  # residual_x described at: https://arxiv.org/pdf/1904.10509\n",
    "        attn_output = self.self_attn(residual_x, residual_x, residual_x, mask)\n",
    "        x = x + self.dropout(attn_output)\n",
    "        residual_x = self.norm2(x)  # Normalization before sub-blocks\n",
    "        ff_output = self.feed_forward(residual_x)\n",
    "        x = x + self.dropout(ff_output)\n",
    "        return x"
   ]
  },
  {
   "cell_type": "code",
   "execution_count": 27,
   "id": "13f775b689e91e6e",
   "metadata": {
    "ExecuteTime": {
     "end_time": "2025-03-14T14:02:36.935223Z",
     "start_time": "2025-03-14T14:02:36.929678Z"
    },
    "trusted": true
   },
   "outputs": [],
   "source": [
    "class DecoderLayer(nn.Module):\n",
    "    def __init__(self, d_model, num_heads, d_ff, dropout):\n",
    "        super(DecoderLayer, self).__init__()\n",
    "        self.self_attn = MultiHeadAttention(d_model, num_heads)\n",
    "        self.cross_attn = MultiHeadAttention(d_model, num_heads)\n",
    "        self.feed_forward = FeedForward(d_model, d_ff)\n",
    "        self.norm1 = nn.LayerNorm(d_model)\n",
    "        self.norm2 = nn.LayerNorm(d_model)\n",
    "        self.norm3 = nn.LayerNorm(d_model)\n",
    "        self.dropout = nn.Dropout(dropout)\n",
    "\n",
    "    def forward(self, x, enc_output, src_mask, tgt_mask):\n",
    "        # Normalization before sub-blocks: as described at: https://cdn.openai.com/better-language-models/language_models_are_unsupervised_multitask_learners.pdf\n",
    "        residual_x = self.norm1(x)\n",
    "        attn_output = self.self_attn(residual_x, residual_x, residual_x, tgt_mask)\n",
    "        x = x + self.dropout(attn_output)\n",
    "        residual_x = self.norm2(x)  # Normalization before sub-blocks\n",
    "        attn_output = self.cross_attn(residual_x, enc_output, enc_output, src_mask)\n",
    "        x = x + self.dropout(attn_output)\n",
    "        residual_x = self.norm3(x)  # Normalization before sub-blocks\n",
    "        ff_output = self.feed_forward(residual_x)\n",
    "        x = x + self.dropout(ff_output)\n",
    "        return x"
   ]
  },
  {
   "cell_type": "code",
   "execution_count": 28,
   "id": "1f6b502c5537500e",
   "metadata": {
    "ExecuteTime": {
     "end_time": "2025-03-14T14:02:36.976478Z",
     "start_time": "2025-03-14T14:02:36.947631Z"
    },
    "trusted": true
   },
   "outputs": [],
   "source": [
    "\n",
    "\n",
    "\n",
    "class Transformer(nn.Module):\n",
    "    def __init__(self, src_vocab_size, tgt_vocab_size, d_model, num_heads, num_layers, d_ff, max_src_seq_len,\n",
    "                 max_tgt_seq_len, dropout):\n",
    "        super(Transformer, self).__init__()\n",
    "        self.encoder_embedding = nn.Embedding(src_vocab_size, d_model)\n",
    "        self.decoder_embedding = nn.Embedding(tgt_vocab_size, d_model)\n",
    "        # self.src_positional_encoding = PositionalEncoding(d_model, max_src_seq_len)\n",
    "        # self.tgt_positional_encoding = PositionalEncoding(d_model, max_tgt_seq_len)\n",
    "        self.src_positional_encoding = nn.Embedding(max_src_seq_len,\n",
    "                                                    d_model)  # instead of cos and sin functions (in PositionalEncoding)\n",
    "        self.tgt_positional_encoding = nn.Embedding(max_tgt_seq_len, d_model)\n",
    "\n",
    "        self.encoder_layers = nn.ModuleList(\n",
    "            [EncoderLayer(d_model, num_heads, d_ff, dropout) for _ in range(num_layers)])\n",
    "        self.decoder_layers = nn.ModuleList(\n",
    "            [DecoderLayer(d_model, num_heads, d_ff, dropout) for _ in range(num_layers)])\n",
    "\n",
    "        # One more LayerNorm as described: https://cdn.openai.com/better-language-models/language_models_are_unsupervised_multitask_learners.pdf\n",
    "        self.ln_f = nn.LayerNorm(d_model)\n",
    "        self.output_layer = nn.Linear(d_model, tgt_vocab_size,\n",
    "                                      bias=False)  # bias=False as depicted: https://github.com/karpathy/nanoGPT/blob/master/model.py\n",
    "        self.dropout = nn.Dropout(dropout)\n",
    "\n",
    "    def generate_mask(self, src, tgt):\n",
    "        src_mask = (src != tokenizer.pad_token_id).unsqueeze(1).unsqueeze(2)\n",
    "        tgt_mask = (tgt != tokenizer.pad_token_id).unsqueeze(1).unsqueeze(3)\n",
    "        src_mask, tgt_mask = src_mask.to(device), tgt_mask.to(device)\n",
    "        seq_length = tgt.size(1)\n",
    "        casual_mask = (1 - torch.triu(torch.ones(1, seq_length, seq_length), diagonal=1)).bool()\n",
    "        casual_mask = casual_mask.to(device)\n",
    "        tgt_mask = tgt_mask & casual_mask\n",
    "        return src_mask, tgt_mask\n",
    "\n",
    "    def forward(self, src, tgt):\n",
    "        src_mask, tgt_mask = self.generate_mask(src, tgt)\n",
    "        # src_embedded = self.dropout(self.src_positional_encoding(self.encoder_embedding(src)))\n",
    "        # tgt_embedded = self.dropout(self.tgt_positional_encoding(self.decoder_embedding(tgt)))\n",
    "\n",
    "        src_pos = torch.arange(0, src.size(1)).to(device)  # [0, 1, 2 ... src.size(1)]\n",
    "        src_pos = self.src_positional_encoding(src_pos)\n",
    "        src_embedded = self.encoder_embedding(src)\n",
    "        src_embedded = self.dropout(src_pos + src_embedded)\n",
    "\n",
    "        tgt_pos = torch.arange(0, tgt.size(1)).to(device)\n",
    "        tgt_pos = self.tgt_positional_encoding(tgt_pos)\n",
    "        tgt_embedded = self.decoder_embedding(tgt)\n",
    "        tgt_embedded = self.dropout(tgt_pos + tgt_embedded)\n",
    "\n",
    "        enc_output = src_embedded\n",
    "        for enc_layer in self.encoder_layers:\n",
    "            enc_output = enc_layer(enc_output, src_mask)\n",
    "\n",
    "        dec_output = tgt_embedded\n",
    "        for dec_layer in self.decoder_layers:\n",
    "            dec_output = dec_layer(dec_output, enc_output, src_mask, tgt_mask)\n",
    "\n",
    "        # One more LayerNorm as described: https://cdn.openai.com/better-language-models/language_models_are_unsupervised_multitask_learners.pdf\n",
    "        dec_output = self.ln_f(dec_output)\n",
    "        output = self.output_layer(dec_output)\n",
    "        return output"
   ]
  },
  {
   "cell_type": "code",
   "execution_count": 29,
   "id": "88b2eaebd84a3627",
   "metadata": {
    "ExecuteTime": {
     "end_time": "2025-03-14T14:02:36.990503Z",
     "start_time": "2025-03-14T14:02:36.986534Z"
    },
    "trusted": true
   },
   "outputs": [],
   "source": [
    "src_vocab_size = VOCAB_SIZE\n",
    "tgt_vocab_size = VOCAB_SIZE\n",
    "d_model = 128  # TODO: experiment with model complexity - it can lead to overfitting\n",
    "num_heads = 1  # TODO: layers + heads have impact on final results: https://medium.com/@ccibeekeoc42/unveiling-the-transformer-impact-of-layers-and-attention-heads-in-audio-classification-58747d52b794\n",
    "num_layers = 6  # TODO: how many layers? as above, model complexity; smaller BART uses 6: https://arxiv.org/pdf/1910.13461\n",
    "d_ff = d_model * 4\n",
    "max_src_seq_len = SRC_MAX_SEQ\n",
    "max_tgt_seq_len = TGT_MAX_SEQ\n",
    "dropout = 0.1"
   ]
  },
  {
   "cell_type": "code",
   "execution_count": 30,
   "id": "930121124b5e2e91",
   "metadata": {
    "ExecuteTime": {
     "end_time": "2025-03-14T14:02:37.383510Z",
     "start_time": "2025-03-14T14:02:36.999834Z"
    },
    "trusted": true
   },
   "outputs": [
    {
     "name": "stdout",
     "output_type": "stream",
     "text": [
      "Number of parameters: 22.091904 M\n"
     ]
    }
   ],
   "source": [
    "transformer = Transformer(src_vocab_size, tgt_vocab_size, d_model, num_heads, num_layers, d_ff, max_src_seq_len,\n",
    "                          max_tgt_seq_len,\n",
    "                          dropout)\n",
    "transformer.to(device)\n",
    "num_parameters = sum(p.numel() for p in transformer.parameters())\n",
    "print(f\"Number of parameters: {num_parameters/1000000} M\")\n"
   ]
  },
  {
   "cell_type": "markdown",
   "id": "a977685c1564feae",
   "metadata": {},
   "source": [
    "# Train model"
   ]
  },
  {
   "cell_type": "code",
   "execution_count": 31,
   "id": "4c27c273e453e232",
   "metadata": {
    "ExecuteTime": {
     "end_time": "2025-03-14T14:05:04.407645Z",
     "start_time": "2025-03-14T14:02:37.394025Z"
    },
    "trusted": true
   },
   "outputs": [
    {
     "name": "stderr",
     "output_type": "stream",
     "text": [
      "Epoch 1: 100%|██████████| 4/4 [00:00<00:00,  4.77it/s, Batch Loss=10.9]\n"
     ]
    },
    {
     "name": "stdout",
     "output_type": "stream",
     "text": [
      "Epoch: 1, Loss: 10.9715\n",
      "Average Validation Loss: 10.9263\n"
     ]
    },
    {
     "name": "stderr",
     "output_type": "stream",
     "text": [
      "Epoch 2: 100%|██████████| 4/4 [00:00<00:00, 10.07it/s, Batch Loss=10.8]\n"
     ]
    },
    {
     "name": "stdout",
     "output_type": "stream",
     "text": [
      "Epoch: 2, Loss: 10.8936\n",
      "Average Validation Loss: 10.7752\n"
     ]
    },
    {
     "name": "stderr",
     "output_type": "stream",
     "text": [
      "Epoch 3: 100%|██████████| 4/4 [00:00<00:00,  4.05it/s, Batch Loss=10.7]\n"
     ]
    },
    {
     "name": "stdout",
     "output_type": "stream",
     "text": [
      "Epoch: 3, Loss: 10.7249\n",
      "Average Validation Loss: 10.5592\n"
     ]
    },
    {
     "name": "stderr",
     "output_type": "stream",
     "text": [
      "Epoch 4: 100%|██████████| 4/4 [00:00<00:00,  6.01it/s, Batch Loss=10.4]\n"
     ]
    },
    {
     "name": "stdout",
     "output_type": "stream",
     "text": [
      "Epoch: 4, Loss: 10.5088\n",
      "Average Validation Loss: 10.3535\n"
     ]
    },
    {
     "name": "stderr",
     "output_type": "stream",
     "text": [
      "Epoch 5: 100%|██████████| 4/4 [00:00<00:00,  6.04it/s, Batch Loss=10.2]\n"
     ]
    },
    {
     "name": "stdout",
     "output_type": "stream",
     "text": [
      "Epoch: 5, Loss: 10.3051\n",
      "Average Validation Loss: 10.1717\n"
     ]
    },
    {
     "name": "stderr",
     "output_type": "stream",
     "text": [
      "Epoch 6: 100%|██████████| 4/4 [00:00<00:00,  5.96it/s, Batch Loss=10]  \n"
     ]
    },
    {
     "name": "stdout",
     "output_type": "stream",
     "text": [
      "Epoch: 6, Loss: 10.1065\n",
      "Average Validation Loss: 9.9800\n"
     ]
    },
    {
     "name": "stderr",
     "output_type": "stream",
     "text": [
      "Epoch 7: 100%|██████████| 4/4 [00:00<00:00,  5.82it/s, Batch Loss=9.79]\n"
     ]
    },
    {
     "name": "stdout",
     "output_type": "stream",
     "text": [
      "Epoch: 7, Loss: 9.8866\n",
      "Average Validation Loss: 9.7492\n"
     ]
    },
    {
     "name": "stderr",
     "output_type": "stream",
     "text": [
      "Epoch 8: 100%|██████████| 4/4 [00:00<00:00,  5.92it/s, Batch Loss=9.51]\n"
     ]
    },
    {
     "name": "stdout",
     "output_type": "stream",
     "text": [
      "Epoch: 8, Loss: 9.6218\n",
      "Average Validation Loss: 9.4664\n"
     ]
    },
    {
     "name": "stderr",
     "output_type": "stream",
     "text": [
      "Epoch 9: 100%|██████████| 4/4 [00:00<00:00,  5.87it/s, Batch Loss=9.16]\n"
     ]
    },
    {
     "name": "stdout",
     "output_type": "stream",
     "text": [
      "Epoch: 9, Loss: 9.3055\n",
      "Average Validation Loss: 9.1392\n"
     ]
    },
    {
     "name": "stderr",
     "output_type": "stream",
     "text": [
      "Epoch 10: 100%|██████████| 4/4 [00:00<00:00,  5.87it/s, Batch Loss=8.79]\n"
     ]
    },
    {
     "name": "stdout",
     "output_type": "stream",
     "text": [
      "Epoch: 10, Loss: 8.9427\n",
      "Average Validation Loss: 8.7705\n"
     ]
    },
    {
     "name": "stderr",
     "output_type": "stream",
     "text": [
      "Epoch 11: 100%|██████████| 4/4 [00:00<00:00,  5.97it/s, Batch Loss=8.39]\n"
     ]
    },
    {
     "name": "stdout",
     "output_type": "stream",
     "text": [
      "Epoch: 11, Loss: 8.5393\n",
      "Average Validation Loss: 8.3654\n"
     ]
    },
    {
     "name": "stderr",
     "output_type": "stream",
     "text": [
      "Epoch 12: 100%|██████████| 4/4 [00:00<00:00,  6.01it/s, Batch Loss=7.95]\n"
     ]
    },
    {
     "name": "stdout",
     "output_type": "stream",
     "text": [
      "Epoch: 12, Loss: 8.1057\n",
      "Average Validation Loss: 7.9536\n"
     ]
    },
    {
     "name": "stderr",
     "output_type": "stream",
     "text": [
      "Epoch 13: 100%|██████████| 4/4 [00:00<00:00,  6.08it/s, Batch Loss=7.51]\n"
     ]
    },
    {
     "name": "stdout",
     "output_type": "stream",
     "text": [
      "Epoch: 13, Loss: 7.6738\n",
      "Average Validation Loss: 7.5477\n"
     ]
    },
    {
     "name": "stderr",
     "output_type": "stream",
     "text": [
      "Epoch 14: 100%|██████████| 4/4 [00:00<00:00,  6.01it/s, Batch Loss=7.08]\n"
     ]
    },
    {
     "name": "stdout",
     "output_type": "stream",
     "text": [
      "Epoch: 14, Loss: 7.2496\n",
      "Average Validation Loss: 7.1800\n"
     ]
    },
    {
     "name": "stderr",
     "output_type": "stream",
     "text": [
      "Epoch 15: 100%|██████████| 4/4 [00:00<00:00,  5.97it/s, Batch Loss=6.72]\n"
     ]
    },
    {
     "name": "stdout",
     "output_type": "stream",
     "text": [
      "Epoch: 15, Loss: 6.8681\n",
      "Average Validation Loss: 6.8549\n"
     ]
    },
    {
     "name": "stderr",
     "output_type": "stream",
     "text": [
      "Epoch 16: 100%|██████████| 4/4 [00:00<00:00,  5.92it/s, Batch Loss=6.43]\n"
     ]
    },
    {
     "name": "stdout",
     "output_type": "stream",
     "text": [
      "Epoch: 16, Loss: 6.5411\n",
      "Average Validation Loss: 6.5944\n"
     ]
    },
    {
     "name": "stderr",
     "output_type": "stream",
     "text": [
      "Epoch 17: 100%|██████████| 4/4 [00:00<00:00,  6.02it/s, Batch Loss=6.16]\n"
     ]
    },
    {
     "name": "stdout",
     "output_type": "stream",
     "text": [
      "Epoch: 17, Loss: 6.2785\n",
      "Average Validation Loss: 6.3939\n"
     ]
    },
    {
     "name": "stderr",
     "output_type": "stream",
     "text": [
      "Epoch 18: 100%|██████████| 4/4 [00:00<00:00,  6.04it/s, Batch Loss=6.04]\n"
     ]
    },
    {
     "name": "stdout",
     "output_type": "stream",
     "text": [
      "Epoch: 18, Loss: 6.0795\n",
      "Average Validation Loss: 6.2264\n"
     ]
    },
    {
     "name": "stderr",
     "output_type": "stream",
     "text": [
      "Epoch 19: 100%|██████████| 4/4 [00:00<00:00,  5.95it/s, Batch Loss=5.9] \n"
     ]
    },
    {
     "name": "stdout",
     "output_type": "stream",
     "text": [
      "Epoch: 19, Loss: 5.9158\n",
      "Average Validation Loss: 6.0929\n"
     ]
    },
    {
     "name": "stderr",
     "output_type": "stream",
     "text": [
      "Epoch 20: 100%|██████████| 4/4 [00:00<00:00,  6.00it/s, Batch Loss=5.77]\n"
     ]
    },
    {
     "name": "stdout",
     "output_type": "stream",
     "text": [
      "Epoch: 20, Loss: 5.7691\n",
      "Average Validation Loss: 5.9756\n"
     ]
    },
    {
     "name": "stderr",
     "output_type": "stream",
     "text": [
      "Epoch 21: 100%|██████████| 4/4 [00:00<00:00,  5.99it/s, Batch Loss=5.56]\n"
     ]
    },
    {
     "name": "stdout",
     "output_type": "stream",
     "text": [
      "Epoch: 21, Loss: 5.6338\n",
      "Average Validation Loss: 5.8667\n"
     ]
    },
    {
     "name": "stderr",
     "output_type": "stream",
     "text": [
      "Epoch 22: 100%|██████████| 4/4 [00:00<00:00,  6.03it/s, Batch Loss=5.44]\n"
     ]
    },
    {
     "name": "stdout",
     "output_type": "stream",
     "text": [
      "Epoch: 22, Loss: 5.5122\n",
      "Average Validation Loss: 5.7690\n"
     ]
    },
    {
     "name": "stderr",
     "output_type": "stream",
     "text": [
      "Epoch 23: 100%|██████████| 4/4 [00:00<00:00,  6.12it/s, Batch Loss=5.49]\n"
     ]
    },
    {
     "name": "stdout",
     "output_type": "stream",
     "text": [
      "Epoch: 23, Loss: 5.4104\n",
      "Average Validation Loss: 5.6809\n"
     ]
    },
    {
     "name": "stderr",
     "output_type": "stream",
     "text": [
      "Epoch 24: 100%|██████████| 4/4 [00:00<00:00,  5.95it/s, Batch Loss=5.23]\n"
     ]
    },
    {
     "name": "stdout",
     "output_type": "stream",
     "text": [
      "Epoch: 24, Loss: 5.2864\n",
      "Average Validation Loss: 5.5909\n"
     ]
    },
    {
     "name": "stderr",
     "output_type": "stream",
     "text": [
      "Epoch 25: 100%|██████████| 4/4 [00:00<00:00,  6.01it/s, Batch Loss=5.12]\n"
     ]
    },
    {
     "name": "stdout",
     "output_type": "stream",
     "text": [
      "Epoch: 25, Loss: 5.1734\n",
      "Average Validation Loss: 5.5043\n"
     ]
    },
    {
     "name": "stderr",
     "output_type": "stream",
     "text": [
      "Epoch 26: 100%|██████████| 4/4 [00:00<00:00,  5.95it/s, Batch Loss=4.99]\n"
     ]
    },
    {
     "name": "stdout",
     "output_type": "stream",
     "text": [
      "Epoch: 26, Loss: 5.0583\n",
      "Average Validation Loss: 5.4254\n"
     ]
    },
    {
     "name": "stderr",
     "output_type": "stream",
     "text": [
      "Epoch 27: 100%|██████████| 4/4 [00:00<00:00,  5.94it/s, Batch Loss=4.94]\n"
     ]
    },
    {
     "name": "stdout",
     "output_type": "stream",
     "text": [
      "Epoch: 27, Loss: 4.9529\n",
      "Average Validation Loss: 5.3532\n"
     ]
    },
    {
     "name": "stderr",
     "output_type": "stream",
     "text": [
      "Epoch 28: 100%|██████████| 4/4 [00:00<00:00,  5.99it/s, Batch Loss=4.86]\n"
     ]
    },
    {
     "name": "stdout",
     "output_type": "stream",
     "text": [
      "Epoch: 28, Loss: 4.8495\n",
      "Average Validation Loss: 5.2841\n"
     ]
    },
    {
     "name": "stderr",
     "output_type": "stream",
     "text": [
      "Epoch 29: 100%|██████████| 4/4 [00:00<00:00,  5.98it/s, Batch Loss=4.69]\n"
     ]
    },
    {
     "name": "stdout",
     "output_type": "stream",
     "text": [
      "Epoch: 29, Loss: 4.7401\n",
      "Average Validation Loss: 5.2146\n"
     ]
    },
    {
     "name": "stderr",
     "output_type": "stream",
     "text": [
      "Epoch 30: 100%|██████████| 4/4 [00:00<00:00,  6.01it/s, Batch Loss=4.56]\n"
     ]
    },
    {
     "name": "stdout",
     "output_type": "stream",
     "text": [
      "Epoch: 30, Loss: 4.6288\n",
      "Average Validation Loss: 5.1517\n"
     ]
    },
    {
     "name": "stderr",
     "output_type": "stream",
     "text": [
      "Epoch 31: 100%|██████████| 4/4 [00:00<00:00,  6.02it/s, Batch Loss=4.51]\n"
     ]
    },
    {
     "name": "stdout",
     "output_type": "stream",
     "text": [
      "Epoch: 31, Loss: 4.5287\n",
      "Average Validation Loss: 5.0885\n"
     ]
    },
    {
     "name": "stderr",
     "output_type": "stream",
     "text": [
      "Epoch 32: 100%|██████████| 4/4 [00:00<00:00,  5.99it/s, Batch Loss=4.42]\n"
     ]
    },
    {
     "name": "stdout",
     "output_type": "stream",
     "text": [
      "Epoch: 32, Loss: 4.4275\n",
      "Average Validation Loss: 5.0288\n"
     ]
    },
    {
     "name": "stderr",
     "output_type": "stream",
     "text": [
      "Epoch 33: 100%|██████████| 4/4 [00:00<00:00,  5.96it/s, Batch Loss=4.27]\n"
     ]
    },
    {
     "name": "stdout",
     "output_type": "stream",
     "text": [
      "Epoch: 33, Loss: 4.3178\n",
      "Average Validation Loss: 4.9795\n"
     ]
    },
    {
     "name": "stderr",
     "output_type": "stream",
     "text": [
      "Epoch 34: 100%|██████████| 4/4 [00:00<00:00,  5.98it/s, Batch Loss=4.14]\n"
     ]
    },
    {
     "name": "stdout",
     "output_type": "stream",
     "text": [
      "Epoch: 34, Loss: 4.2166\n",
      "Average Validation Loss: 4.9273\n"
     ]
    },
    {
     "name": "stderr",
     "output_type": "stream",
     "text": [
      "Epoch 35: 100%|██████████| 4/4 [00:00<00:00,  5.99it/s, Batch Loss=4.14]\n"
     ]
    },
    {
     "name": "stdout",
     "output_type": "stream",
     "text": [
      "Epoch: 35, Loss: 4.1196\n",
      "Average Validation Loss: 4.8771\n"
     ]
    },
    {
     "name": "stderr",
     "output_type": "stream",
     "text": [
      "Epoch 36: 100%|██████████| 4/4 [00:00<00:00,  5.98it/s, Batch Loss=3.94]\n"
     ]
    },
    {
     "name": "stdout",
     "output_type": "stream",
     "text": [
      "Epoch: 36, Loss: 4.0133\n",
      "Average Validation Loss: 4.8355\n"
     ]
    },
    {
     "name": "stderr",
     "output_type": "stream",
     "text": [
      "Epoch 37: 100%|██████████| 4/4 [00:00<00:00,  5.96it/s, Batch Loss=3.85]\n"
     ]
    },
    {
     "name": "stdout",
     "output_type": "stream",
     "text": [
      "Epoch: 37, Loss: 3.9180\n",
      "Average Validation Loss: 4.7892\n"
     ]
    },
    {
     "name": "stderr",
     "output_type": "stream",
     "text": [
      "Epoch 38: 100%|██████████| 4/4 [00:00<00:00,  5.98it/s, Batch Loss=3.76]\n"
     ]
    },
    {
     "name": "stdout",
     "output_type": "stream",
     "text": [
      "Epoch: 38, Loss: 3.8201\n",
      "Average Validation Loss: 4.7582\n"
     ]
    },
    {
     "name": "stderr",
     "output_type": "stream",
     "text": [
      "Epoch 39: 100%|██████████| 4/4 [00:00<00:00,  6.01it/s, Batch Loss=3.71]\n"
     ]
    },
    {
     "name": "stdout",
     "output_type": "stream",
     "text": [
      "Epoch: 39, Loss: 3.7308\n",
      "Average Validation Loss: 4.7192\n"
     ]
    },
    {
     "name": "stderr",
     "output_type": "stream",
     "text": [
      "Epoch 40: 100%|██████████| 4/4 [00:00<00:00,  5.98it/s, Batch Loss=3.54]\n"
     ]
    },
    {
     "name": "stdout",
     "output_type": "stream",
     "text": [
      "Epoch: 40, Loss: 3.6262\n",
      "Average Validation Loss: 4.6867\n"
     ]
    },
    {
     "name": "stderr",
     "output_type": "stream",
     "text": [
      "Epoch 41: 100%|██████████| 4/4 [00:00<00:00,  5.98it/s, Batch Loss=3.47]\n"
     ]
    },
    {
     "name": "stdout",
     "output_type": "stream",
     "text": [
      "Epoch: 41, Loss: 3.5394\n",
      "Average Validation Loss: 4.6606\n"
     ]
    },
    {
     "name": "stderr",
     "output_type": "stream",
     "text": [
      "Epoch 42: 100%|██████████| 4/4 [00:00<00:00,  5.98it/s, Batch Loss=3.38]\n"
     ]
    },
    {
     "name": "stdout",
     "output_type": "stream",
     "text": [
      "Epoch: 42, Loss: 3.4561\n",
      "Average Validation Loss: 4.6263\n"
     ]
    },
    {
     "name": "stderr",
     "output_type": "stream",
     "text": [
      "Epoch 43: 100%|██████████| 4/4 [00:00<00:00,  5.95it/s, Batch Loss=3.21]\n"
     ]
    },
    {
     "name": "stdout",
     "output_type": "stream",
     "text": [
      "Epoch: 43, Loss: 3.3592\n",
      "Average Validation Loss: 4.5951\n"
     ]
    },
    {
     "name": "stderr",
     "output_type": "stream",
     "text": [
      "Epoch 44: 100%|██████████| 4/4 [00:00<00:00,  5.99it/s, Batch Loss=3.24]\n"
     ]
    },
    {
     "name": "stdout",
     "output_type": "stream",
     "text": [
      "Epoch: 44, Loss: 3.2767\n",
      "Average Validation Loss: 4.5741\n"
     ]
    },
    {
     "name": "stderr",
     "output_type": "stream",
     "text": [
      "Epoch 45: 100%|██████████| 4/4 [00:00<00:00,  5.97it/s, Batch Loss=3.18]\n"
     ]
    },
    {
     "name": "stdout",
     "output_type": "stream",
     "text": [
      "Epoch: 45, Loss: 3.1986\n",
      "Average Validation Loss: 4.5516\n"
     ]
    },
    {
     "name": "stderr",
     "output_type": "stream",
     "text": [
      "Epoch 46: 100%|██████████| 4/4 [00:00<00:00,  5.92it/s, Batch Loss=3.02]\n"
     ]
    },
    {
     "name": "stdout",
     "output_type": "stream",
     "text": [
      "Epoch: 46, Loss: 3.1105\n",
      "Average Validation Loss: 4.5267\n"
     ]
    },
    {
     "name": "stderr",
     "output_type": "stream",
     "text": [
      "Epoch 47: 100%|██████████| 4/4 [00:00<00:00,  6.01it/s, Batch Loss=2.93]\n"
     ]
    },
    {
     "name": "stdout",
     "output_type": "stream",
     "text": [
      "Epoch: 47, Loss: 3.0334\n",
      "Average Validation Loss: 4.5103\n"
     ]
    },
    {
     "name": "stderr",
     "output_type": "stream",
     "text": [
      "Epoch 48: 100%|██████████| 4/4 [00:00<00:00,  6.04it/s, Batch Loss=2.96]\n"
     ]
    },
    {
     "name": "stdout",
     "output_type": "stream",
     "text": [
      "Epoch: 48, Loss: 2.9670\n",
      "Average Validation Loss: 4.4953\n"
     ]
    },
    {
     "name": "stderr",
     "output_type": "stream",
     "text": [
      "Epoch 49: 100%|██████████| 4/4 [00:00<00:00,  5.98it/s, Batch Loss=2.78]\n"
     ]
    },
    {
     "name": "stdout",
     "output_type": "stream",
     "text": [
      "Epoch: 49, Loss: 2.8835\n",
      "Average Validation Loss: 4.4711\n"
     ]
    },
    {
     "name": "stderr",
     "output_type": "stream",
     "text": [
      "Epoch 50: 100%|██████████| 4/4 [00:00<00:00,  6.02it/s, Batch Loss=2.8] \n"
     ]
    },
    {
     "name": "stdout",
     "output_type": "stream",
     "text": [
      "Epoch: 50, Loss: 2.8214\n",
      "Average Validation Loss: 4.4574\n"
     ]
    },
    {
     "name": "stderr",
     "output_type": "stream",
     "text": [
      "Epoch 51: 100%|██████████| 4/4 [00:00<00:00,  5.98it/s, Batch Loss=2.59]\n"
     ]
    },
    {
     "name": "stdout",
     "output_type": "stream",
     "text": [
      "Epoch: 51, Loss: 2.7342\n",
      "Average Validation Loss: 4.4438\n"
     ]
    },
    {
     "name": "stderr",
     "output_type": "stream",
     "text": [
      "Epoch 52: 100%|██████████| 4/4 [00:00<00:00,  6.00it/s, Batch Loss=2.73]\n"
     ]
    },
    {
     "name": "stdout",
     "output_type": "stream",
     "text": [
      "Epoch: 52, Loss: 2.6736\n",
      "Average Validation Loss: 4.4448\n"
     ]
    },
    {
     "name": "stderr",
     "output_type": "stream",
     "text": [
      "Epoch 53: 100%|██████████| 4/4 [00:00<00:00,  5.94it/s, Batch Loss=2.63]\n"
     ]
    },
    {
     "name": "stdout",
     "output_type": "stream",
     "text": [
      "Epoch: 53, Loss: 2.6064\n",
      "Average Validation Loss: 4.4197\n"
     ]
    },
    {
     "name": "stderr",
     "output_type": "stream",
     "text": [
      "Epoch 54: 100%|██████████| 4/4 [00:00<00:00,  5.91it/s, Batch Loss=2.54]\n"
     ]
    },
    {
     "name": "stdout",
     "output_type": "stream",
     "text": [
      "Epoch: 54, Loss: 2.5462\n",
      "Average Validation Loss: 4.4185\n"
     ]
    },
    {
     "name": "stderr",
     "output_type": "stream",
     "text": [
      "Epoch 55: 100%|██████████| 4/4 [00:00<00:00,  5.95it/s, Batch Loss=2.48]\n"
     ]
    },
    {
     "name": "stdout",
     "output_type": "stream",
     "text": [
      "Epoch: 55, Loss: 2.4807\n",
      "Average Validation Loss: 4.4063\n"
     ]
    },
    {
     "name": "stderr",
     "output_type": "stream",
     "text": [
      "Epoch 56: 100%|██████████| 4/4 [00:00<00:00,  5.91it/s, Batch Loss=2.37]\n"
     ]
    },
    {
     "name": "stdout",
     "output_type": "stream",
     "text": [
      "Epoch: 56, Loss: 2.4140\n",
      "Average Validation Loss: 4.4053\n"
     ]
    },
    {
     "name": "stderr",
     "output_type": "stream",
     "text": [
      "Epoch 57: 100%|██████████| 4/4 [00:00<00:00,  5.96it/s, Batch Loss=2.31]\n"
     ]
    },
    {
     "name": "stdout",
     "output_type": "stream",
     "text": [
      "Epoch: 57, Loss: 2.3459\n",
      "Average Validation Loss: 4.4011\n"
     ]
    },
    {
     "name": "stderr",
     "output_type": "stream",
     "text": [
      "Epoch 58: 100%|██████████| 4/4 [00:00<00:00,  5.95it/s, Batch Loss=2.32]\n"
     ]
    },
    {
     "name": "stdout",
     "output_type": "stream",
     "text": [
      "Epoch: 58, Loss: 2.2936\n",
      "Average Validation Loss: 4.3856\n"
     ]
    },
    {
     "name": "stderr",
     "output_type": "stream",
     "text": [
      "Epoch 59: 100%|██████████| 4/4 [00:00<00:00,  5.93it/s, Batch Loss=2.26]\n"
     ]
    },
    {
     "name": "stdout",
     "output_type": "stream",
     "text": [
      "Epoch: 59, Loss: 2.2331\n",
      "Average Validation Loss: 4.3839\n"
     ]
    },
    {
     "name": "stderr",
     "output_type": "stream",
     "text": [
      "Epoch 60: 100%|██████████| 4/4 [00:00<00:00,  5.87it/s, Batch Loss=2.13]\n"
     ]
    },
    {
     "name": "stdout",
     "output_type": "stream",
     "text": [
      "Epoch: 60, Loss: 2.1757\n",
      "Average Validation Loss: 4.3780\n"
     ]
    },
    {
     "name": "stderr",
     "output_type": "stream",
     "text": [
      "Epoch 61: 100%|██████████| 4/4 [00:00<00:00,  5.98it/s, Batch Loss=2.17]\n"
     ]
    },
    {
     "name": "stdout",
     "output_type": "stream",
     "text": [
      "Epoch: 61, Loss: 2.1247\n",
      "Average Validation Loss: 4.3650\n"
     ]
    },
    {
     "name": "stderr",
     "output_type": "stream",
     "text": [
      "Epoch 62: 100%|██████████| 4/4 [00:00<00:00,  5.98it/s, Batch Loss=2.11]\n"
     ]
    },
    {
     "name": "stdout",
     "output_type": "stream",
     "text": [
      "Epoch: 62, Loss: 2.0730\n",
      "Average Validation Loss: 4.3740\n"
     ]
    },
    {
     "name": "stderr",
     "output_type": "stream",
     "text": [
      "Epoch 63: 100%|██████████| 4/4 [00:00<00:00,  6.03it/s, Batch Loss=1.96]\n"
     ]
    },
    {
     "name": "stdout",
     "output_type": "stream",
     "text": [
      "Epoch: 63, Loss: 2.0073\n",
      "Average Validation Loss: 4.3972\n"
     ]
    },
    {
     "name": "stderr",
     "output_type": "stream",
     "text": [
      "Epoch 64: 100%|██████████| 4/4 [00:00<00:00,  5.88it/s, Batch Loss=1.94]\n"
     ]
    },
    {
     "name": "stdout",
     "output_type": "stream",
     "text": [
      "Epoch: 64, Loss: 1.9632\n",
      "Average Validation Loss: 4.3819\n"
     ]
    },
    {
     "name": "stderr",
     "output_type": "stream",
     "text": [
      "Epoch 65: 100%|██████████| 4/4 [00:00<00:00,  5.88it/s, Batch Loss=1.87]\n"
     ]
    },
    {
     "name": "stdout",
     "output_type": "stream",
     "text": [
      "Epoch: 65, Loss: 1.9106\n",
      "Average Validation Loss: 4.3808\n"
     ]
    },
    {
     "name": "stderr",
     "output_type": "stream",
     "text": [
      "Epoch 66: 100%|██████████| 4/4 [00:00<00:00,  5.96it/s, Batch Loss=1.89]\n"
     ]
    },
    {
     "name": "stdout",
     "output_type": "stream",
     "text": [
      "Epoch: 66, Loss: 1.8736\n",
      "Average Validation Loss: 4.3792\n"
     ]
    },
    {
     "name": "stderr",
     "output_type": "stream",
     "text": [
      "Epoch 67: 100%|██████████| 4/4 [00:00<00:00,  5.95it/s, Batch Loss=1.76]\n"
     ]
    },
    {
     "name": "stdout",
     "output_type": "stream",
     "text": [
      "Epoch: 67, Loss: 1.8162\n",
      "Average Validation Loss: 4.3811\n"
     ]
    },
    {
     "name": "stderr",
     "output_type": "stream",
     "text": [
      "Epoch 68: 100%|██████████| 4/4 [00:00<00:00,  6.02it/s, Batch Loss=1.82]\n"
     ]
    },
    {
     "name": "stdout",
     "output_type": "stream",
     "text": [
      "Epoch: 68, Loss: 1.7723\n",
      "Average Validation Loss: 4.3784\n"
     ]
    },
    {
     "name": "stderr",
     "output_type": "stream",
     "text": [
      "Epoch 69: 100%|██████████| 4/4 [00:00<00:00,  5.95it/s, Batch Loss=1.69]\n"
     ]
    },
    {
     "name": "stdout",
     "output_type": "stream",
     "text": [
      "Epoch: 69, Loss: 1.7317\n",
      "Average Validation Loss: 4.3970\n"
     ]
    },
    {
     "name": "stderr",
     "output_type": "stream",
     "text": [
      "Epoch 70: 100%|██████████| 4/4 [00:00<00:00,  6.04it/s, Batch Loss=1.76]\n"
     ]
    },
    {
     "name": "stdout",
     "output_type": "stream",
     "text": [
      "Epoch: 70, Loss: 1.6880\n",
      "Average Validation Loss: 4.3880\n"
     ]
    },
    {
     "name": "stderr",
     "output_type": "stream",
     "text": [
      "Epoch 71: 100%|██████████| 4/4 [00:00<00:00,  5.86it/s, Batch Loss=1.64]\n"
     ]
    },
    {
     "name": "stdout",
     "output_type": "stream",
     "text": [
      "Epoch: 71, Loss: 1.6456\n",
      "Average Validation Loss: 4.3938\n"
     ]
    },
    {
     "name": "stderr",
     "output_type": "stream",
     "text": [
      "Epoch 72: 100%|██████████| 4/4 [00:00<00:00,  5.93it/s, Batch Loss=1.61]\n"
     ]
    },
    {
     "name": "stdout",
     "output_type": "stream",
     "text": [
      "Epoch: 72, Loss: 1.6081\n",
      "Average Validation Loss: 4.3942\n"
     ]
    },
    {
     "name": "stderr",
     "output_type": "stream",
     "text": [
      "Epoch 73: 100%|██████████| 4/4 [00:00<00:00,  5.93it/s, Batch Loss=1.56]\n"
     ]
    },
    {
     "name": "stdout",
     "output_type": "stream",
     "text": [
      "Epoch: 73, Loss: 1.5637\n",
      "Average Validation Loss: 4.4011\n"
     ]
    },
    {
     "name": "stderr",
     "output_type": "stream",
     "text": [
      "Epoch 74: 100%|██████████| 4/4 [00:00<00:00,  5.96it/s, Batch Loss=1.55]\n"
     ]
    },
    {
     "name": "stdout",
     "output_type": "stream",
     "text": [
      "Epoch: 74, Loss: 1.5323\n",
      "Average Validation Loss: 4.3955\n"
     ]
    },
    {
     "name": "stderr",
     "output_type": "stream",
     "text": [
      "Epoch 75: 100%|██████████| 4/4 [00:00<00:00,  5.95it/s, Batch Loss=1.42]\n"
     ]
    },
    {
     "name": "stdout",
     "output_type": "stream",
     "text": [
      "Epoch: 75, Loss: 1.4900\n",
      "Average Validation Loss: 4.4141\n"
     ]
    },
    {
     "name": "stderr",
     "output_type": "stream",
     "text": [
      "Epoch 76: 100%|██████████| 4/4 [00:00<00:00,  5.94it/s, Batch Loss=1.46]\n"
     ]
    },
    {
     "name": "stdout",
     "output_type": "stream",
     "text": [
      "Epoch: 76, Loss: 1.4489\n",
      "Average Validation Loss: 4.4159\n"
     ]
    },
    {
     "name": "stderr",
     "output_type": "stream",
     "text": [
      "Epoch 77: 100%|██████████| 4/4 [00:00<00:00,  5.95it/s, Batch Loss=1.48]\n"
     ]
    },
    {
     "name": "stdout",
     "output_type": "stream",
     "text": [
      "Epoch: 77, Loss: 1.4215\n",
      "Average Validation Loss: 4.4212\n"
     ]
    },
    {
     "name": "stderr",
     "output_type": "stream",
     "text": [
      "Epoch 78: 100%|██████████| 4/4 [00:00<00:00,  5.88it/s, Batch Loss=1.36]\n"
     ]
    },
    {
     "name": "stdout",
     "output_type": "stream",
     "text": [
      "Epoch: 78, Loss: 1.3783\n",
      "Average Validation Loss: 4.4253\n"
     ]
    },
    {
     "name": "stderr",
     "output_type": "stream",
     "text": [
      "Epoch 79: 100%|██████████| 4/4 [00:00<00:00,  5.96it/s, Batch Loss=1.24]\n"
     ]
    },
    {
     "name": "stdout",
     "output_type": "stream",
     "text": [
      "Epoch: 79, Loss: 1.3362\n",
      "Average Validation Loss: 4.4166\n"
     ]
    },
    {
     "name": "stderr",
     "output_type": "stream",
     "text": [
      "Epoch 80: 100%|██████████| 4/4 [00:00<00:00,  6.02it/s, Batch Loss=1.31]\n"
     ]
    },
    {
     "name": "stdout",
     "output_type": "stream",
     "text": [
      "Epoch: 80, Loss: 1.3157\n",
      "Average Validation Loss: 4.4381\n"
     ]
    },
    {
     "name": "stderr",
     "output_type": "stream",
     "text": [
      "Epoch 81: 100%|██████████| 4/4 [00:00<00:00,  6.02it/s, Batch Loss=1.3] \n"
     ]
    },
    {
     "name": "stdout",
     "output_type": "stream",
     "text": [
      "Epoch: 81, Loss: 1.2874\n",
      "Average Validation Loss: 4.4334\n"
     ]
    },
    {
     "name": "stderr",
     "output_type": "stream",
     "text": [
      "Epoch 82: 100%|██████████| 4/4 [00:00<00:00,  5.94it/s, Batch Loss=1.23]\n"
     ]
    },
    {
     "name": "stdout",
     "output_type": "stream",
     "text": [
      "Epoch: 82, Loss: 1.2508\n",
      "Average Validation Loss: 4.4300\n"
     ]
    },
    {
     "name": "stderr",
     "output_type": "stream",
     "text": [
      "Epoch 83: 100%|██████████| 4/4 [00:00<00:00,  5.93it/s, Batch Loss=1.19]\n"
     ]
    },
    {
     "name": "stdout",
     "output_type": "stream",
     "text": [
      "Epoch: 83, Loss: 1.2213\n",
      "Average Validation Loss: 4.4514\n"
     ]
    },
    {
     "name": "stderr",
     "output_type": "stream",
     "text": [
      "Epoch 84: 100%|██████████| 4/4 [00:00<00:00,  5.84it/s, Batch Loss=1.18]\n"
     ]
    },
    {
     "name": "stdout",
     "output_type": "stream",
     "text": [
      "Epoch: 84, Loss: 1.1914\n",
      "Average Validation Loss: 4.4414\n"
     ]
    },
    {
     "name": "stderr",
     "output_type": "stream",
     "text": [
      "Epoch 85: 100%|██████████| 4/4 [00:00<00:00,  5.92it/s, Batch Loss=1.16]\n"
     ]
    },
    {
     "name": "stdout",
     "output_type": "stream",
     "text": [
      "Epoch: 85, Loss: 1.1640\n",
      "Average Validation Loss: 4.4517\n"
     ]
    },
    {
     "name": "stderr",
     "output_type": "stream",
     "text": [
      "Epoch 86: 100%|██████████| 4/4 [00:00<00:00,  6.04it/s, Batch Loss=1.1] \n"
     ]
    },
    {
     "name": "stdout",
     "output_type": "stream",
     "text": [
      "Epoch: 86, Loss: 1.1327\n",
      "Average Validation Loss: 4.4621\n"
     ]
    },
    {
     "name": "stderr",
     "output_type": "stream",
     "text": [
      "Epoch 87: 100%|██████████| 4/4 [00:00<00:00,  5.87it/s, Batch Loss=1.11]\n"
     ]
    },
    {
     "name": "stdout",
     "output_type": "stream",
     "text": [
      "Epoch: 87, Loss: 1.1147\n",
      "Average Validation Loss: 4.4634\n"
     ]
    },
    {
     "name": "stderr",
     "output_type": "stream",
     "text": [
      "Epoch 88: 100%|██████████| 4/4 [00:00<00:00,  5.96it/s, Batch Loss=1.11]\n"
     ]
    },
    {
     "name": "stdout",
     "output_type": "stream",
     "text": [
      "Epoch: 88, Loss: 1.0814\n",
      "Average Validation Loss: 4.4695\n"
     ]
    },
    {
     "name": "stderr",
     "output_type": "stream",
     "text": [
      "Epoch 89: 100%|██████████| 4/4 [00:00<00:00,  5.93it/s, Batch Loss=1.07]\n"
     ]
    },
    {
     "name": "stdout",
     "output_type": "stream",
     "text": [
      "Epoch: 89, Loss: 1.0657\n",
      "Average Validation Loss: 4.4614\n"
     ]
    },
    {
     "name": "stderr",
     "output_type": "stream",
     "text": [
      "Epoch 90: 100%|██████████| 4/4 [00:00<00:00,  5.96it/s, Batch Loss=1.04]\n"
     ]
    },
    {
     "name": "stdout",
     "output_type": "stream",
     "text": [
      "Epoch: 90, Loss: 1.0367\n",
      "Average Validation Loss: 4.4762\n"
     ]
    },
    {
     "name": "stderr",
     "output_type": "stream",
     "text": [
      "Epoch 91: 100%|██████████| 4/4 [00:00<00:00,  6.00it/s, Batch Loss=1.03] \n"
     ]
    },
    {
     "name": "stdout",
     "output_type": "stream",
     "text": [
      "Epoch: 91, Loss: 1.0162\n",
      "Average Validation Loss: 4.4804\n"
     ]
    },
    {
     "name": "stderr",
     "output_type": "stream",
     "text": [
      "Epoch 92: 100%|██████████| 4/4 [00:00<00:00,  5.84it/s, Batch Loss=0.978]\n"
     ]
    },
    {
     "name": "stdout",
     "output_type": "stream",
     "text": [
      "Epoch: 92, Loss: 0.9902\n",
      "Average Validation Loss: 4.4840\n"
     ]
    },
    {
     "name": "stderr",
     "output_type": "stream",
     "text": [
      "Epoch 93: 100%|██████████| 4/4 [00:00<00:00,  6.00it/s, Batch Loss=1.02] \n"
     ]
    },
    {
     "name": "stdout",
     "output_type": "stream",
     "text": [
      "Epoch: 93, Loss: 0.9720\n",
      "Average Validation Loss: 4.4969\n"
     ]
    },
    {
     "name": "stderr",
     "output_type": "stream",
     "text": [
      "Epoch 94: 100%|██████████| 4/4 [00:00<00:00,  5.84it/s, Batch Loss=0.93] \n"
     ]
    },
    {
     "name": "stdout",
     "output_type": "stream",
     "text": [
      "Epoch: 94, Loss: 0.9467\n",
      "Average Validation Loss: 4.5020\n"
     ]
    },
    {
     "name": "stderr",
     "output_type": "stream",
     "text": [
      "Epoch 95: 100%|██████████| 4/4 [00:00<00:00,  5.95it/s, Batch Loss=0.863]\n"
     ]
    },
    {
     "name": "stdout",
     "output_type": "stream",
     "text": [
      "Epoch: 95, Loss: 0.9208\n",
      "Average Validation Loss: 4.5022\n"
     ]
    },
    {
     "name": "stderr",
     "output_type": "stream",
     "text": [
      "Epoch 96: 100%|██████████| 4/4 [00:00<00:00,  5.92it/s, Batch Loss=0.878]\n"
     ]
    },
    {
     "name": "stdout",
     "output_type": "stream",
     "text": [
      "Epoch: 96, Loss: 0.9008\n",
      "Average Validation Loss: 4.5117\n"
     ]
    },
    {
     "name": "stderr",
     "output_type": "stream",
     "text": [
      "Epoch 97: 100%|██████████| 4/4 [00:00<00:00,  6.10it/s, Batch Loss=0.903]\n"
     ]
    },
    {
     "name": "stdout",
     "output_type": "stream",
     "text": [
      "Epoch: 97, Loss: 0.8879\n",
      "Average Validation Loss: 4.5122\n"
     ]
    },
    {
     "name": "stderr",
     "output_type": "stream",
     "text": [
      "Epoch 98: 100%|██████████| 4/4 [00:00<00:00,  6.04it/s, Batch Loss=0.85] \n"
     ]
    },
    {
     "name": "stdout",
     "output_type": "stream",
     "text": [
      "Epoch: 98, Loss: 0.8693\n",
      "Average Validation Loss: 4.5182\n"
     ]
    },
    {
     "name": "stderr",
     "output_type": "stream",
     "text": [
      "Epoch 99: 100%|██████████| 4/4 [00:00<00:00,  5.96it/s, Batch Loss=0.798]\n"
     ]
    },
    {
     "name": "stdout",
     "output_type": "stream",
     "text": [
      "Epoch: 99, Loss: 0.8477\n",
      "Average Validation Loss: 4.5269\n"
     ]
    },
    {
     "name": "stderr",
     "output_type": "stream",
     "text": [
      "Epoch 100: 100%|██████████| 4/4 [00:00<00:00,  5.96it/s, Batch Loss=0.831]\n"
     ]
    },
    {
     "name": "stdout",
     "output_type": "stream",
     "text": [
      "Epoch: 100, Loss: 0.8258\n",
      "Average Validation Loss: 4.5225\n"
     ]
    },
    {
     "name": "stderr",
     "output_type": "stream",
     "text": [
      "Epoch 101: 100%|██████████| 4/4 [00:00<00:00,  5.88it/s, Batch Loss=0.796]\n"
     ]
    },
    {
     "name": "stdout",
     "output_type": "stream",
     "text": [
      "Epoch: 101, Loss: 0.8166\n",
      "Average Validation Loss: 4.5327\n"
     ]
    },
    {
     "name": "stderr",
     "output_type": "stream",
     "text": [
      "Epoch 102: 100%|██████████| 4/4 [00:00<00:00,  5.88it/s, Batch Loss=0.825]\n"
     ]
    },
    {
     "name": "stdout",
     "output_type": "stream",
     "text": [
      "Epoch: 102, Loss: 0.8009\n",
      "Average Validation Loss: 4.5430\n"
     ]
    },
    {
     "name": "stderr",
     "output_type": "stream",
     "text": [
      "Epoch 103: 100%|██████████| 4/4 [00:00<00:00,  5.98it/s, Batch Loss=0.768]\n"
     ]
    },
    {
     "name": "stdout",
     "output_type": "stream",
     "text": [
      "Epoch: 103, Loss: 0.7807\n",
      "Average Validation Loss: 4.5462\n"
     ]
    },
    {
     "name": "stderr",
     "output_type": "stream",
     "text": [
      "Epoch 104: 100%|██████████| 4/4 [00:00<00:00,  6.04it/s, Batch Loss=0.785]\n"
     ]
    },
    {
     "name": "stdout",
     "output_type": "stream",
     "text": [
      "Epoch: 104, Loss: 0.7706\n",
      "Average Validation Loss: 4.5507\n"
     ]
    },
    {
     "name": "stderr",
     "output_type": "stream",
     "text": [
      "Epoch 105: 100%|██████████| 4/4 [00:00<00:00,  5.85it/s, Batch Loss=0.776]\n"
     ]
    },
    {
     "name": "stdout",
     "output_type": "stream",
     "text": [
      "Epoch: 105, Loss: 0.7507\n",
      "Average Validation Loss: 4.5589\n"
     ]
    },
    {
     "name": "stderr",
     "output_type": "stream",
     "text": [
      "Epoch 106: 100%|██████████| 4/4 [00:00<00:00,  5.95it/s, Batch Loss=0.758]\n"
     ]
    },
    {
     "name": "stdout",
     "output_type": "stream",
     "text": [
      "Epoch: 106, Loss: 0.7361\n",
      "Average Validation Loss: 4.5632\n"
     ]
    },
    {
     "name": "stderr",
     "output_type": "stream",
     "text": [
      "Epoch 107: 100%|██████████| 4/4 [00:00<00:00,  5.93it/s, Batch Loss=0.711]\n"
     ]
    },
    {
     "name": "stdout",
     "output_type": "stream",
     "text": [
      "Epoch: 107, Loss: 0.7198\n",
      "Average Validation Loss: 4.5590\n"
     ]
    },
    {
     "name": "stderr",
     "output_type": "stream",
     "text": [
      "Epoch 108: 100%|██████████| 4/4 [00:00<00:00,  5.92it/s, Batch Loss=0.705]\n"
     ]
    },
    {
     "name": "stdout",
     "output_type": "stream",
     "text": [
      "Epoch: 108, Loss: 0.7077\n",
      "Average Validation Loss: 4.5737\n"
     ]
    },
    {
     "name": "stderr",
     "output_type": "stream",
     "text": [
      "Epoch 109: 100%|██████████| 4/4 [00:00<00:00,  5.94it/s, Batch Loss=0.702]\n"
     ]
    },
    {
     "name": "stdout",
     "output_type": "stream",
     "text": [
      "Epoch: 109, Loss: 0.6964\n",
      "Average Validation Loss: 4.5766\n"
     ]
    },
    {
     "name": "stderr",
     "output_type": "stream",
     "text": [
      "Epoch 110: 100%|██████████| 4/4 [00:00<00:00,  5.95it/s, Batch Loss=0.698]\n"
     ]
    },
    {
     "name": "stdout",
     "output_type": "stream",
     "text": [
      "Epoch: 110, Loss: 0.6834\n",
      "Average Validation Loss: 4.5641\n"
     ]
    },
    {
     "name": "stderr",
     "output_type": "stream",
     "text": [
      "Epoch 111: 100%|██████████| 4/4 [00:00<00:00,  5.89it/s, Batch Loss=0.706]\n"
     ]
    },
    {
     "name": "stdout",
     "output_type": "stream",
     "text": [
      "Epoch: 111, Loss: 0.6733\n",
      "Average Validation Loss: 4.5792\n"
     ]
    },
    {
     "name": "stderr",
     "output_type": "stream",
     "text": [
      "Epoch 112: 100%|██████████| 4/4 [00:00<00:00,  6.04it/s, Batch Loss=0.704]\n"
     ]
    },
    {
     "name": "stdout",
     "output_type": "stream",
     "text": [
      "Epoch: 112, Loss: 0.6629\n",
      "Average Validation Loss: 4.5761\n"
     ]
    },
    {
     "name": "stderr",
     "output_type": "stream",
     "text": [
      "Epoch 113: 100%|██████████| 4/4 [00:00<00:00,  5.85it/s, Batch Loss=0.666]\n"
     ]
    },
    {
     "name": "stdout",
     "output_type": "stream",
     "text": [
      "Epoch: 113, Loss: 0.6506\n",
      "Average Validation Loss: 4.5903\n"
     ]
    },
    {
     "name": "stderr",
     "output_type": "stream",
     "text": [
      "Epoch 114: 100%|██████████| 4/4 [00:00<00:00,  5.87it/s, Batch Loss=0.663]\n"
     ]
    },
    {
     "name": "stdout",
     "output_type": "stream",
     "text": [
      "Epoch: 114, Loss: 0.6359\n",
      "Average Validation Loss: 4.5929\n"
     ]
    },
    {
     "name": "stderr",
     "output_type": "stream",
     "text": [
      "Epoch 115: 100%|██████████| 4/4 [00:00<00:00,  5.83it/s, Batch Loss=0.647]\n"
     ]
    },
    {
     "name": "stdout",
     "output_type": "stream",
     "text": [
      "Epoch: 115, Loss: 0.6247\n",
      "Average Validation Loss: 4.6070\n"
     ]
    },
    {
     "name": "stderr",
     "output_type": "stream",
     "text": [
      "Epoch 116: 100%|██████████| 4/4 [00:00<00:00,  5.88it/s, Batch Loss=0.569]\n"
     ]
    },
    {
     "name": "stdout",
     "output_type": "stream",
     "text": [
      "Epoch: 116, Loss: 0.6132\n",
      "Average Validation Loss: 4.6152\n"
     ]
    },
    {
     "name": "stderr",
     "output_type": "stream",
     "text": [
      "Epoch 117: 100%|██████████| 4/4 [00:00<00:00,  5.90it/s, Batch Loss=0.627]\n"
     ]
    },
    {
     "name": "stdout",
     "output_type": "stream",
     "text": [
      "Epoch: 117, Loss: 0.6111\n",
      "Average Validation Loss: 4.6265\n"
     ]
    },
    {
     "name": "stderr",
     "output_type": "stream",
     "text": [
      "Epoch 118: 100%|██████████| 4/4 [00:00<00:00,  5.81it/s, Batch Loss=0.615]\n"
     ]
    },
    {
     "name": "stdout",
     "output_type": "stream",
     "text": [
      "Epoch: 118, Loss: 0.5974\n",
      "Average Validation Loss: 4.6258\n"
     ]
    },
    {
     "name": "stderr",
     "output_type": "stream",
     "text": [
      "Epoch 119: 100%|██████████| 4/4 [00:00<00:00,  5.94it/s, Batch Loss=0.6]  \n"
     ]
    },
    {
     "name": "stdout",
     "output_type": "stream",
     "text": [
      "Epoch: 119, Loss: 0.5876\n",
      "Average Validation Loss: 4.6201\n"
     ]
    },
    {
     "name": "stderr",
     "output_type": "stream",
     "text": [
      "Epoch 120: 100%|██████████| 4/4 [00:00<00:00,  5.93it/s, Batch Loss=0.57] \n"
     ]
    },
    {
     "name": "stdout",
     "output_type": "stream",
     "text": [
      "Epoch: 120, Loss: 0.5795\n",
      "Average Validation Loss: 4.6259\n"
     ]
    },
    {
     "name": "stderr",
     "output_type": "stream",
     "text": [
      "Epoch 121: 100%|██████████| 4/4 [00:00<00:00,  5.90it/s, Batch Loss=0.536]\n"
     ]
    },
    {
     "name": "stdout",
     "output_type": "stream",
     "text": [
      "Epoch: 121, Loss: 0.5688\n",
      "Average Validation Loss: 4.6167\n"
     ]
    },
    {
     "name": "stderr",
     "output_type": "stream",
     "text": [
      "Epoch 122: 100%|██████████| 4/4 [00:00<00:00,  5.94it/s, Batch Loss=0.575]\n"
     ]
    },
    {
     "name": "stdout",
     "output_type": "stream",
     "text": [
      "Epoch: 122, Loss: 0.5627\n",
      "Average Validation Loss: 4.6360\n"
     ]
    },
    {
     "name": "stderr",
     "output_type": "stream",
     "text": [
      "Epoch 123: 100%|██████████| 4/4 [00:00<00:00,  5.96it/s, Batch Loss=0.558]\n"
     ]
    },
    {
     "name": "stdout",
     "output_type": "stream",
     "text": [
      "Epoch: 123, Loss: 0.5586\n",
      "Average Validation Loss: 4.6334\n"
     ]
    },
    {
     "name": "stderr",
     "output_type": "stream",
     "text": [
      "Epoch 124: 100%|██████████| 4/4 [00:00<00:00,  5.89it/s, Batch Loss=0.556]\n"
     ]
    },
    {
     "name": "stdout",
     "output_type": "stream",
     "text": [
      "Epoch: 124, Loss: 0.5496\n",
      "Average Validation Loss: 4.6375\n"
     ]
    },
    {
     "name": "stderr",
     "output_type": "stream",
     "text": [
      "Epoch 125: 100%|██████████| 4/4 [00:00<00:00,  5.89it/s, Batch Loss=0.547]\n"
     ]
    },
    {
     "name": "stdout",
     "output_type": "stream",
     "text": [
      "Epoch: 125, Loss: 0.5413\n",
      "Average Validation Loss: 4.6438\n"
     ]
    },
    {
     "name": "stderr",
     "output_type": "stream",
     "text": [
      "Epoch 126: 100%|██████████| 4/4 [00:00<00:00,  5.97it/s, Batch Loss=0.522]\n"
     ]
    },
    {
     "name": "stdout",
     "output_type": "stream",
     "text": [
      "Epoch: 126, Loss: 0.5360\n",
      "Average Validation Loss: 4.6434\n"
     ]
    },
    {
     "name": "stderr",
     "output_type": "stream",
     "text": [
      "Epoch 127: 100%|██████████| 4/4 [00:00<00:00,  5.95it/s, Batch Loss=0.536]\n"
     ]
    },
    {
     "name": "stdout",
     "output_type": "stream",
     "text": [
      "Epoch: 127, Loss: 0.5285\n",
      "Average Validation Loss: 4.6525\n"
     ]
    },
    {
     "name": "stderr",
     "output_type": "stream",
     "text": [
      "Epoch 128: 100%|██████████| 4/4 [00:00<00:00,  5.92it/s, Batch Loss=0.533]\n"
     ]
    },
    {
     "name": "stdout",
     "output_type": "stream",
     "text": [
      "Epoch: 128, Loss: 0.5241\n",
      "Average Validation Loss: 4.6555\n"
     ]
    },
    {
     "name": "stderr",
     "output_type": "stream",
     "text": [
      "Epoch 129: 100%|██████████| 4/4 [00:00<00:00,  5.95it/s, Batch Loss=0.493]\n"
     ]
    },
    {
     "name": "stdout",
     "output_type": "stream",
     "text": [
      "Epoch: 129, Loss: 0.5130\n",
      "Average Validation Loss: 4.6543\n"
     ]
    },
    {
     "name": "stderr",
     "output_type": "stream",
     "text": [
      "Epoch 130: 100%|██████████| 4/4 [00:00<00:00,  5.89it/s, Batch Loss=0.506]\n"
     ]
    },
    {
     "name": "stdout",
     "output_type": "stream",
     "text": [
      "Epoch: 130, Loss: 0.5129\n",
      "Average Validation Loss: 4.6577\n"
     ]
    },
    {
     "name": "stderr",
     "output_type": "stream",
     "text": [
      "Epoch 131: 100%|██████████| 4/4 [00:00<00:00,  5.95it/s, Batch Loss=0.509]\n"
     ]
    },
    {
     "name": "stdout",
     "output_type": "stream",
     "text": [
      "Epoch: 131, Loss: 0.5039\n",
      "Average Validation Loss: 4.6620\n"
     ]
    },
    {
     "name": "stderr",
     "output_type": "stream",
     "text": [
      "Epoch 132: 100%|██████████| 4/4 [00:00<00:00,  5.92it/s, Batch Loss=0.486]\n"
     ]
    },
    {
     "name": "stdout",
     "output_type": "stream",
     "text": [
      "Epoch: 132, Loss: 0.5030\n",
      "Average Validation Loss: 4.6623\n"
     ]
    },
    {
     "name": "stderr",
     "output_type": "stream",
     "text": [
      "Epoch 133: 100%|██████████| 4/4 [00:00<00:00,  5.98it/s, Batch Loss=0.473]\n"
     ]
    },
    {
     "name": "stdout",
     "output_type": "stream",
     "text": [
      "Epoch: 133, Loss: 0.4928\n",
      "Average Validation Loss: 4.6677\n"
     ]
    },
    {
     "name": "stderr",
     "output_type": "stream",
     "text": [
      "Epoch 134: 100%|██████████| 4/4 [00:00<00:00,  5.90it/s, Batch Loss=0.502]\n"
     ]
    },
    {
     "name": "stdout",
     "output_type": "stream",
     "text": [
      "Epoch: 134, Loss: 0.4930\n",
      "Average Validation Loss: 4.6696\n"
     ]
    },
    {
     "name": "stderr",
     "output_type": "stream",
     "text": [
      "Epoch 135: 100%|██████████| 4/4 [00:00<00:00,  5.87it/s, Batch Loss=0.488]\n"
     ]
    },
    {
     "name": "stdout",
     "output_type": "stream",
     "text": [
      "Epoch: 135, Loss: 0.4858\n",
      "Average Validation Loss: 4.6689\n"
     ]
    },
    {
     "name": "stderr",
     "output_type": "stream",
     "text": [
      "Epoch 136: 100%|██████████| 4/4 [00:00<00:00,  6.00it/s, Batch Loss=0.494]\n"
     ]
    },
    {
     "name": "stdout",
     "output_type": "stream",
     "text": [
      "Epoch: 136, Loss: 0.4852\n",
      "Average Validation Loss: 4.6712\n"
     ]
    },
    {
     "name": "stderr",
     "output_type": "stream",
     "text": [
      "Epoch 137: 100%|██████████| 4/4 [00:00<00:00,  5.91it/s, Batch Loss=0.473]\n"
     ]
    },
    {
     "name": "stdout",
     "output_type": "stream",
     "text": [
      "Epoch: 137, Loss: 0.4801\n",
      "Average Validation Loss: 4.6713\n"
     ]
    },
    {
     "name": "stderr",
     "output_type": "stream",
     "text": [
      "Epoch 138: 100%|██████████| 4/4 [00:00<00:00,  5.94it/s, Batch Loss=0.478]\n"
     ]
    },
    {
     "name": "stdout",
     "output_type": "stream",
     "text": [
      "Epoch: 138, Loss: 0.4739\n",
      "Average Validation Loss: 4.6744\n"
     ]
    },
    {
     "name": "stderr",
     "output_type": "stream",
     "text": [
      "Epoch 139: 100%|██████████| 4/4 [00:00<00:00,  5.90it/s, Batch Loss=0.468]\n"
     ]
    },
    {
     "name": "stdout",
     "output_type": "stream",
     "text": [
      "Epoch: 139, Loss: 0.4701\n",
      "Average Validation Loss: 4.6775\n"
     ]
    },
    {
     "name": "stderr",
     "output_type": "stream",
     "text": [
      "Epoch 140: 100%|██████████| 4/4 [00:00<00:00,  5.89it/s, Batch Loss=0.475]\n"
     ]
    },
    {
     "name": "stdout",
     "output_type": "stream",
     "text": [
      "Epoch: 140, Loss: 0.4658\n",
      "Average Validation Loss: 4.6804\n"
     ]
    },
    {
     "name": "stderr",
     "output_type": "stream",
     "text": [
      "Epoch 141: 100%|██████████| 4/4 [00:00<00:00,  5.93it/s, Batch Loss=0.465]\n"
     ]
    },
    {
     "name": "stdout",
     "output_type": "stream",
     "text": [
      "Epoch: 141, Loss: 0.4696\n",
      "Average Validation Loss: 4.6817\n"
     ]
    },
    {
     "name": "stderr",
     "output_type": "stream",
     "text": [
      "Epoch 142: 100%|██████████| 4/4 [00:00<00:00,  5.89it/s, Batch Loss=0.471]\n"
     ]
    },
    {
     "name": "stdout",
     "output_type": "stream",
     "text": [
      "Epoch: 142, Loss: 0.4598\n",
      "Average Validation Loss: 4.6831\n"
     ]
    },
    {
     "name": "stderr",
     "output_type": "stream",
     "text": [
      "Epoch 143: 100%|██████████| 4/4 [00:00<00:00,  5.91it/s, Batch Loss=0.474]\n"
     ]
    },
    {
     "name": "stdout",
     "output_type": "stream",
     "text": [
      "Epoch: 143, Loss: 0.4638\n",
      "Average Validation Loss: 4.6841\n"
     ]
    },
    {
     "name": "stderr",
     "output_type": "stream",
     "text": [
      "Epoch 144: 100%|██████████| 4/4 [00:00<00:00,  5.92it/s, Batch Loss=0.47] \n"
     ]
    },
    {
     "name": "stdout",
     "output_type": "stream",
     "text": [
      "Epoch: 144, Loss: 0.4641\n",
      "Average Validation Loss: 4.6842\n"
     ]
    },
    {
     "name": "stderr",
     "output_type": "stream",
     "text": [
      "Epoch 145: 100%|██████████| 4/4 [00:00<00:00,  6.00it/s, Batch Loss=0.463]\n"
     ]
    },
    {
     "name": "stdout",
     "output_type": "stream",
     "text": [
      "Epoch: 145, Loss: 0.4580\n",
      "Average Validation Loss: 4.6853\n"
     ]
    },
    {
     "name": "stderr",
     "output_type": "stream",
     "text": [
      "Epoch 146: 100%|██████████| 4/4 [00:00<00:00,  5.86it/s, Batch Loss=0.421]\n"
     ]
    },
    {
     "name": "stdout",
     "output_type": "stream",
     "text": [
      "Epoch: 146, Loss: 0.4534\n",
      "Average Validation Loss: 4.6852\n"
     ]
    },
    {
     "name": "stderr",
     "output_type": "stream",
     "text": [
      "Epoch 147: 100%|██████████| 4/4 [00:00<00:00,  5.92it/s, Batch Loss=0.474]\n"
     ]
    },
    {
     "name": "stdout",
     "output_type": "stream",
     "text": [
      "Epoch: 147, Loss: 0.4597\n",
      "Average Validation Loss: 4.6856\n"
     ]
    },
    {
     "name": "stderr",
     "output_type": "stream",
     "text": [
      "Epoch 148: 100%|██████████| 4/4 [00:00<00:00,  5.88it/s, Batch Loss=0.449]\n"
     ]
    },
    {
     "name": "stdout",
     "output_type": "stream",
     "text": [
      "Epoch: 148, Loss: 0.4507\n",
      "Average Validation Loss: 4.6854\n"
     ]
    },
    {
     "name": "stderr",
     "output_type": "stream",
     "text": [
      "Epoch 149: 100%|██████████| 4/4 [00:00<00:00,  5.90it/s, Batch Loss=0.455]\n"
     ]
    },
    {
     "name": "stdout",
     "output_type": "stream",
     "text": [
      "Epoch: 149, Loss: 0.4533\n",
      "Average Validation Loss: 4.6850\n"
     ]
    },
    {
     "name": "stderr",
     "output_type": "stream",
     "text": [
      "Epoch 150: 100%|██████████| 4/4 [00:00<00:00,  5.86it/s, Batch Loss=0.445]"
     ]
    },
    {
     "name": "stdout",
     "output_type": "stream",
     "text": [
      "Epoch: 150, Loss: 0.4533\n",
      "Average Validation Loss: 4.6849\n"
     ]
    },
    {
     "name": "stderr",
     "output_type": "stream",
     "text": [
      "\n"
     ]
    }
   ],
   "source": [
    "import torch\n",
    "import torch.nn.functional as F\n",
    "from transformers import get_linear_schedule_with_warmup\n",
    "from torch import optim\n",
    "from tqdm import tqdm\n",
    "\n",
    "torch.manual_seed(seed) \n",
    "torch.cuda.manual_seed(seed)\n",
    "torch.cuda.manual_seed_all(seed)\n",
    "\n",
    "lr = 0.0007\n",
    "optimizer = optim.Adam(\n",
    "    transformer.parameters(), lr=lr, betas=(0.9, 0.98), eps=1e-9, weight_decay=0.00\n",
    ")\n",
    "\n",
    "# TODO: experiment with gradient accumulation\n",
    "num_epochs = 150\n",
    "# TODO: add warmup steps\n",
    "num_training_steps = len(train_loader) * num_epochs\n",
    "num_warmup_steps = int(0.1 * num_training_steps) # TODO: experiment with that\n",
    " \n",
    "scheduler = get_linear_schedule_with_warmup(\n",
    "    optimizer, num_warmup_steps=num_warmup_steps, num_training_steps=num_training_steps\n",
    ")\n",
    "\n",
    "# Tracking history\n",
    "lr_history = []\n",
    "loss_history = []\n",
    "val_loss_history = []\n",
    "\n",
    "for epoch in range(num_epochs):\n",
    "    epoch_loss = 0.0\n",
    "    transformer.train()\n",
    "\n",
    "    # Progress bar for training\n",
    "    progress_bar = tqdm(train_loader, desc=f\"Epoch {epoch + 1}\")\n",
    "\n",
    "    for step, (src_data, tgt_data) in enumerate(progress_bar):\n",
    "        src_data, tgt_data = src_data.to(device), tgt_data.to(device)\n",
    "\n",
    "        # Forward pass\n",
    "        output = transformer(src_data, tgt_data[:, :-1])\n",
    "\n",
    "        # Compute loss\n",
    "        loss = F.cross_entropy(\n",
    "            output.contiguous().view(-1, tgt_vocab_size),\n",
    "            tgt_data[:, 1:].contiguous().view(-1),\n",
    "            ignore_index=tokenizer.pad_token_id\n",
    "        )\n",
    "\n",
    "        # Track loss\n",
    "        loss_history.append(loss.item())\n",
    "        epoch_loss += loss.item()\n",
    "        lr_history.append(optimizer.param_groups[0][\"lr\"])\n",
    "\n",
    "        # Backpropagation\n",
    "        optimizer.zero_grad()\n",
    "        loss.backward()\n",
    "        torch.nn.utils.clip_grad_norm_(transformer.parameters(), 1.0)\n",
    "        optimizer.step()\n",
    "        scheduler.step()\n",
    "\n",
    "        progress_bar.set_postfix({\"Batch Loss\": loss.item()})\n",
    "\n",
    "    avg_epoch_loss = epoch_loss / len(train_loader)\n",
    "    print(f\"Epoch: {epoch + 1}, Loss: {avg_epoch_loss:.4f}\")\n",
    "\n",
    "    transformer.eval()\n",
    "    total_val_loss = 0.0\n",
    "\n",
    "    with torch.no_grad():\n",
    "        for val_src_data, val_tgt_data in val_loader:\n",
    "            val_src_data, val_tgt_data = val_src_data.to(device), val_tgt_data.to(device)\n",
    "\n",
    "            # Forward pass\n",
    "            val_output = transformer(val_src_data, val_tgt_data[:, :-1])\n",
    "\n",
    "            val_loss = F.cross_entropy(\n",
    "                val_output.contiguous().view(-1, tgt_vocab_size),\n",
    "                val_tgt_data[:, 1:].contiguous().view(-1),\n",
    "                ignore_index=tokenizer.pad_token_id\n",
    "            )\n",
    "\n",
    "            total_val_loss += val_loss.item()\n",
    "\n",
    "    # Calculate average validation loss\n",
    "    avg_val_loss = total_val_loss / len(val_loader)\n",
    "    val_loss_history.append(avg_val_loss)\n",
    "    print(f\"Average Validation Loss: {avg_val_loss:.4f}\")\n"
   ]
  },
  {
   "cell_type": "code",
   "execution_count": 22,
   "id": "e736c0d0",
   "metadata": {},
   "outputs": [],
   "source": [
    "# import gc\n",
    "# del transformer\n",
    "# gc.collect()"
   ]
  },
  {
   "cell_type": "markdown",
   "id": "83ebbec4b3c21794",
   "metadata": {},
   "source": [
    "# Show charts with lr and loss"
   ]
  },
  {
   "cell_type": "code",
   "execution_count": 33,
   "id": "d9ea000c71a19b90",
   "metadata": {
    "ExecuteTime": {
     "end_time": "2025-03-14T14:05:08.610197Z",
     "start_time": "2025-03-14T14:05:08.441158Z"
    },
    "trusted": true
   },
   "outputs": [
    {
     "data": {
      "image/png": "[encoded data removed]",
      "text/plain": [
       "<Figure size 640x480 with 2 Axes>"
      ]
     },
     "metadata": {},
     "output_type": "display_data"
    }
   ],
   "source": [
    "from matplotlib import pyplot as plt\n",
    "\n",
    "# Ensure all histories are properly formatted\n",
    "assert len(lr_history) == len(\n",
    "    loss_history\n",
    "), \"Length of lr_history and loss_history must be the same\"\n",
    "\n",
    "# Create figure and primary y-axis for Loss\n",
    "fig, ax1 = plt.subplots()\n",
    "\n",
    "ax1.set_title(\"Learning Rate vs. Loss\")\n",
    "ax1.set_xlabel(\"Training Step\")\n",
    "ax1.set_ylabel(\"Loss\", color=\"tab:red\")\n",
    "ax1.plot(range(len(loss_history)), loss_history, color=\"tab:red\", label=\"Training Loss\")\n",
    "ax1.tick_params(axis=\"y\", labelcolor=\"tab:red\")\n",
    "\n",
    "# Plot validation loss (assuming it occurs every 'epoch_interval' steps)\n",
    "epoch_interval = len(loss_history) // len(val_loss_history)\n",
    "val_x = [\n",
    "    i * epoch_interval for i in range(len(val_loss_history))\n",
    "]  # X values for validation loss\n",
    "ax1.plot(\n",
    "    val_x,\n",
    "    val_loss_history,\n",
    "    color=\"tab:orange\",\n",
    "    marker=\"o\",\n",
    "    linestyle=\"dashed\",\n",
    "    label=\"Validation Loss\",\n",
    ")\n",
    "\n",
    "# Create secondary y-axis for Learning Rate\n",
    "ax2 = ax1.twinx()\n",
    "ax2.set_ylabel(\"Learning Rate\", color=\"tab:blue\")\n",
    "ax2.plot(\n",
    "    range(len(lr_history)),\n",
    "    lr_history,\n",
    "    color=\"tab:blue\",\n",
    "    linestyle=\"--\",\n",
    "    label=\"Learning Rate\",\n",
    ")\n",
    "ax2.tick_params(axis=\"y\", labelcolor=\"tab:blue\")\n",
    "\n",
    "# Legends\n",
    "ax1.legend(loc=\"upper left\")\n",
    "ax2.legend(loc=\"upper right\")\n",
    "\n",
    "plt.show()"
   ]
  },
  {
   "cell_type": "markdown",
   "id": "98b42d308d6a31e2",
   "metadata": {},
   "source": [
    "# Model inference"
   ]
  },
  {
   "cell_type": "code",
   "execution_count": 34,
   "id": "bcce66b6b0763edf",
   "metadata": {
    "ExecuteTime": {
     "end_time": "2025-03-14T14:05:18.725518Z",
     "start_time": "2025-03-14T14:05:17.948403Z"
    },
    "trusted": true
   },
   "outputs": [],
   "source": [
    "def inference(input, tokenizer, model, max_length=TGT_MAX_SEQ):\n",
    "    \"\"\"\n",
    "    Translates a single Polish sentence into Ukrainian using greedy decoding.\n",
    "    \"\"\"\n",
    "    model.eval()  # Set the model to evaluation mode\n",
    "\n",
    "    tokens = tokenizer.encode(input)\n",
    "    tokens = torch.tensor(tokens).unsqueeze(0).to(device)  # Shape: (1, seq_len)\n",
    "    # print(tokens)\n",
    "\n",
    "    # Start with the input sentence and an empty target sequence\n",
    "    src_data = tokens\n",
    "    tgt_data = torch.tensor([tokenizer.bos_token_id]).unsqueeze(0).to(device)\n",
    "\n",
    "    with torch.no_grad():\n",
    "        for _ in range(max_length):\n",
    "            output = model(src_data, tgt_data)\n",
    "\n",
    "            next_token_id = output[:, -1, :].argmax(dim=-1).item()\n",
    "\n",
    "            tgt_data = torch.cat([tgt_data, torch.tensor([[next_token_id]]).to(device)], dim=1)\n",
    "\n",
    "            if next_token_id == tokenizer.eos_token_id:\n",
    "                break\n",
    "\n",
    "    # Decode the token ids back to the sentence\n",
    "    translated_tokens = tgt_data.squeeze().tolist()\n",
    "    translated_sentence = tokenizer.decode(translated_tokens, skip_special_tokens=True)\n",
    "\n",
    "    return translated_sentence\n",
    "\n",
    "\n",
    "def inference_from_datasets(train_dataset: bool = True, index: int = 0) -> (str, str):\n",
    "    if train_dataset:\n",
    "        dataset = train_loader.dataset\n",
    "    else:\n",
    "        dataset = val_loader.dataset\n",
    "    src_input = tokenizer.decode(dataset[index][0].tolist(), skip_special_tokens=True)\n",
    "    translation = inference(src_input, tokenizer, transformer)\n",
    "\n",
    "    print('Dataset:', 'Train' if train_dataset else 'Validation')\n",
    "    print('Src:', src_input)\n",
    "    print('Generated translation:', translation)\n",
    "    real_translation = tokenizer.decode(dataset[index][1].tolist(), skip_special_tokens=True)\n",
    "    print('Real translation:      ', real_translation)\n",
    "    return src_input, translation, real_translation"
   ]
  },
  {
   "cell_type": "markdown",
   "id": "9c365308",
   "metadata": {},
   "source": [
    "<!-- # SacreBLEU metrics -->"
   ]
  },
  {
   "cell_type": "code",
   "execution_count": 39,
   "id": "530f3496",
   "metadata": {},
   "outputs": [
    {
     "name": "stderr",
     "output_type": "stream",
     "text": [
      "Downloading builder script: 100%|██████████| 7.02k/7.02k [00:00<00:00, 15.4MB/s]\n",
      "[nltk_data] Downloading package wordnet to\n",
      "[nltk_data]     D:\\Users\\mlaudan\\AppData\\Roaming\\nltk_data...\n",
      "[nltk_data] Downloading package punkt_tab to\n",
      "[nltk_data]     D:\\Users\\mlaudan\\AppData\\Roaming\\nltk_data...\n",
      "[nltk_data]   Unzipping tokenizers\\punkt_tab.zip.\n",
      "[nltk_data] Downloading package omw-1.4 to\n",
      "[nltk_data]     D:\\Users\\mlaudan\\AppData\\Roaming\\nltk_data...\n",
      "Downloading builder script: 100%|██████████| 9.01k/9.01k [00:00<?, ?B/s]\n",
      "Downloading builder script: 100%|██████████| 5.94k/5.94k [00:00<?, ?B/s]\n",
      "Downloading extra modules: 4.07kB [00:00, ?B/s]                       \n",
      "Downloading extra modules: 100%|██████████| 3.34k/3.34k [00:00<?, ?B/s]\n"
     ]
    }
   ],
   "source": [
    "import evaluate\n",
    "import httpx\n",
    "# Load metrics\n",
    "rouge = evaluate.load(\"rouge\")\n",
    "sacrebleu = evaluate.load(\"sacrebleu\")\n",
    "meteor = evaluate.load(\"meteor\")\n",
    "chrf = evaluate.load(\"chrf\")\n",
    "bleu = evaluate.load(\"bleu\")"
   ]
  },
  {
   "cell_type": "code",
   "execution_count": null,
   "id": "d8feb000",
   "metadata": {},
   "outputs": [
    {
     "name": "stdout",
     "output_type": "stream",
     "text": [
      "Dataset: Validation\n",
      "Src: The telescope was still equipped with a metal mirror (not glass), and its optical qualities were considered less than optimal by that time.\n",
      "Generated translation: Le télescope de 1, il département d'une réput spélescope Spatial et moy deux livres et scientifiques.\n",
      "Real translation:       Le télescope est toutefois doté d'un miroir de métal (et non de verre) n'ayant pas de grandes qualités optiques.\n",
      "Translation from DeepL: Le télescope était encore équipé d'un miroir en métal (et non en verre), et ses qualités optiques n'étaient pas considérées comme optimales à l'époque.\n",
      "DEEEPL\n",
      "\n",
      "Dataset: Validation\n",
      "Src: The James Webb Space Telescope The successor to the Hubble Space Telescope\n",
      "Generated translation: Le Télescope spatial FUSE est la recherche astronomique du Canada\n",
      "Real translation:       Le Télescope Spatial James Webb Le successeur du télescope spatial Hubble\n",
      "Translation from DeepL: Le télescope spatial James Webb Le successeur du télescope spatial Hubble\n",
      "DEEEPL\n",
      "\n",
      "Dataset: Validation\n",
      "Src: Observatories For thousands of years, native people use the stars to navigate and to monitor the passage of time.\n",
      "Generated translation: Observatoires Création de l’Observatoire David Dunlap à MOSTous celle-Unis et des étoiles de la Terre gal.\n",
      "Real translation:       Observatoires Depuis des milliers d'années, les autochtones observent les étoiles pour se repérer dans l'espace et le temps.\n",
      "Translation from DeepL: Observatoires Depuis des milliers d'années, les peuples autochtones utilisent les étoiles pour naviguer et surveiller le passage du temps.\n",
      "DEEEPL\n",
      "\n",
      "Dataset: Validation\n",
      "Src: Credits\n",
      "Generated translation: Tousatoires astronom\n",
      "Real translation:       Crédits\n",
      "Translation from DeepL: Crédits\n",
      "DEEEPL\n",
      "\n",
      "Dataset: Validation\n",
      "Src: Video sequence  Jaymie Mark Matthews explains what MOST is.\n",
      "Generated translation: Séquence vidéo  John Richard Bond explique ce qu'un spectroscopie.\n",
      "Real translation:       Séquence vidéo  Jaymie Mark Matthews explique ce qu'est MOST.\n",
      "Translation from DeepL: Séquence vidéo Jaymie Mark Matthews explique ce qu'est MOST.\n",
      "DEEEPL\n",
      "\n",
      "Dataset: Validation\n",
      "Src: Evolution of images Astronauts of the Apollo 11 mission take the first photos from the Moon.\n",
      "Generated translation: ÉvolutionImages La première photographie de la Lune lunaires ce d'une lunaire en astronomique Thébuleuseres.\n",
      "Real translation:       ÉvolutionImages Les astronautes de la mission américaine Apollo 11 réalisent les premières photographies prises depuis la Lune.\n",
      "Translation from DeepL: Évolution des images Les astronautes de la mission Apollo 11 prennent les premières photos de la Lune.\n",
      "DEEEPL\n",
      "\n",
      "Dataset: Validation\n",
      "Src: In 1976, he became astronomy professor for the physics department at the University of Montreal.\n",
      "Generated translation: En 1962, il devient professeur au département d'astronomie de l'astronomie de l'Université de Toronto.\n",
      "Real translation:       En 1976, il devient professeur d'astronomie au département de physique de l'Université de Montréal.\n",
      "Translation from DeepL: En 1976, il devient professeur d'astronomie au département de physique de l'Université de Montréal.\n",
      "DEEEPL\n",
      "\n",
      "Dataset: Validation\n",
      "Src: The Large Zenith Telescope is the third largest optical telescope in North America and the largest liquid mirror telescope in the world.\n",
      "Generated translation: L'objectif d'une nouveau télescope de la miroir la plus grand télescope Canada.\n",
      "Real translation:       Le Grand Télescope Zénith est le troisième plus grand télescope optique en Amérique du Nord et le plus grand du genre au monde.\n",
      "Translation from DeepL: Le Large Zenith Telescope est le troisième plus grand télescope optique d'Amérique du Nord et le plus grand télescope à miroir liquide du monde.\n",
      "DEEEPL\n",
      "\n",
      "Dataset: Validation\n",
      "Src: The service building was completed in 1977, and the observatory several months later in 1978.\n",
      "Generated translation: L'observatoire astronomique du découve au 2/3 du centre d'observatoire astronomique et de l'observatoire la structure, en Ontario.\n",
      "Real translation:       Le bâtiment de service est complété en 1977 et l'observatoire est finalisé quelques mois plus tard, en 1978.\n",
      "Translation from DeepL: Le bâtiment de service a été achevé en 1977, et l'observatoire quelques mois plus tard, en 1978.\n",
      "DEEEPL\n",
      "\n",
      "Dataset: Validation\n",
      "Src: Although not the biggest, the state of the art instruments attached to the Mont-Mégantic telescope make it the most powerful telescope in Canada.\n",
      "Generated translation: En 1994, il aussièrement les de l'uneres du Conseil jamaisateur étoiles du Mont-Mélescope.\n",
      "Real translation:       Ses instruments de pointe en font le télescope le plus puissant au Canada.\n",
      "Translation from DeepL: Bien qu'il ne soit pas le plus grand, les instruments de pointe qui équipent le télescope du Mont-Mégantic en font le télescope le plus puissant du Canada.\n",
      "DEEEPL\n",
      "\n",
      "Dataset: Validation\n",
      "Src: Fontaine has specialized in the study of white dwarf stars since he first started his doctoral studies.\n",
      "Generated translation: Les télescope est, l'observatoire est par le premier observatoire près au nouvre pour de recherche pour sont étoiles.\n",
      "Real translation:       Fontaine se spécialise dans l'étude des étoiles naines blanches dès le début de son doctorat.\n",
      "Translation from DeepL: M. Fontaine s'est spécialisé dans l'étude des naines blanches dès le début de ses études doctorales.\n",
      "DEEEPL\n",
      "\n",
      "Dataset: Validation\n",
      "Src: Astronomers Timeline\n",
      "Generated translation: Astronomes Introduction Vidéo d'introduction Qu'est-ce que le mond\n",
      "Real translation:       Astronomes Ligne de temps\n",
      "Translation from DeepL: Chronologie des astronomes\n",
      "DEEEPL\n",
      "\n",
      "Dataset: Validation\n",
      "Src: The observatory is named after James Clerk Maxwell, a Scottish physicist who was famous for his groundbreaking work in electricity and magnetism.\n",
      "Generated translation: L'observatoire astronomique, il décopes au 2/3 du centre d'observatoire pour la son premier directeur de sont à pètres vite de doctor.\n",
      "Real translation:       L'observatoire doit son nom au physicien écossais James Clerk Maxwell, célèbre pour ses travaux fondamentaux en électricité et magnétisme.\n",
      "Translation from DeepL: L'observatoire porte le nom de James Clerk Maxwell, physicien écossais célèbre pour ses travaux novateurs sur l'électricité et le magnétisme.\n",
      "DEEEPL\n",
      "\n",
      "Dataset: Validation\n",
      "Src: Three months later, he became professor in the physics department, a position he occupied for the next six years.\n",
      "Generated translation: Il s'agit de l'undire en Ontario, il avec le déterminer la présentre galaxie du Soleil.\n",
      "Real translation:       Trois mois plus tard, il devient professeur au département de physique ; il y restera dix ans.\n",
      "Translation from DeepL: Trois mois plus tard, il devient professeur au département de physique, poste qu'il occupe pendant six ans.\n",
      "DEEEPL\n",
      "\n",
      "Dataset: Validation\n",
      "Src: The launch was initially planned for 1997, but after several delays and postponements, it finally took place in 2001.\n",
      "Generated translation: L'astéroïde no 3314 deux prix et publie les vis et le directeur, environ en 1971.\n",
      "Real translation:       Le lancement est initialement prévu pour 1997, mais après plusieurs délais et reports, il n'a finalement lieu qu'en 2001.\n",
      "Translation from DeepL: Le lancement était initialement prévu pour 1997, mais après plusieurs retards et reports, il a finalement eu lieu en 2001.\n",
      "DEEEPL\n",
      "\n",
      "Dataset: Validation\n",
      "Src: His family immigrated to Canada in 1862 and settled down at Port Hope, Ontario.\n",
      "Generated translation: Ses travaux portent en 1990 et meurt environ à l'Université de Toronto, à l'Unis.\n",
      "Real translation:       Peu de temps après, en 1862, sa famille immigre au Canada et s'installe à Port Hope, en Ontario.\n",
      "Translation from DeepL: Sa famille a immigré au Canada en 1862 et s'est installée à Port Hope, dans l'Ontario.\n",
      "DEEEPL\n",
      "\n",
      "Dataset: Validation\n",
      "Src: Observatories Evidence suggests that an astronomical observatory is installed at the College of Quebec.\n",
      "Generated translation: Observatoires Création de l’Observatoire de l’Observatoire de l’astronomique du Mont-Britannique.\n",
      "Real translation:       Observatoires Indices d'installation d'un observatoire astronomique au Collège de Québec.\n",
      "Translation from DeepL: Observatoires Tout porte à croire qu'un observatoire astronomique est installé au Collège du Québec.\n",
      "DEEEPL\n",
      "\n",
      "Dataset: Validation\n",
      "Src: In 1996, he was one of the founding members of the virtual group ASTRO & CCD of the Amateur Astronomy Federation of Quebec.\n",
      "Generated translation: En 1996, il est nommé directeur de l'Université de la Sociététoiles prètre à l'Université de la Colombie-Britannique.\n",
      "Real translation:       En 1996, il est un des membres fondateurs du groupe virtuel ASTRO & CCD de la Fédération des Astronomes Amateurs du Québec.\n",
      "Translation from DeepL: En 1996, il a été l'un des membres fondateurs du groupe virtuel ASTRO & CCD de la Fédération d'astronomie amateur du Québec.\n",
      "DEEEPL\n",
      "\n",
      "Dataset: Validation\n",
      "Src: Gore-Tex allows 97% of submillimetre waves to pass through and does not interfere with the operation of the radio telescope.\n",
      "Generated translation: L'Institut Herzberg d'Astrophysique du télescope sub et la rechercheur d'un observatoire du monde entre galaxie molélescope.\n",
      "Real translation:       Le Gore-Tex laisse passer 97 % des ondes submillimétriques et ne gène donc pas le fonctionnement du radiotélescope.\n",
      "Translation from DeepL: Gore-Tex laisse passer 97 % des ondes submillimétriques et n'interfère pas avec le fonctionnement du radiotélescope.\n",
      "DEEEPL\n",
      "\n",
      "Dataset: Validation\n",
      "Src: In 1991, he was hired as a research agent at the University of Montreal.\n",
      "Generated translation: En 1997, il est nommé directeur de l'Université de l'Université de Toronto.\n",
      "Real translation:       En 1991, on l'engage comme agent de recherche à l'Université de Montréal.\n",
      "Translation from DeepL: En 1991, il est engagé comme agent de recherche à l'Université de Montréal.\n",
      "DEEEPL\n",
      "\n",
      "Dataset: Validation\n",
      "Src: Canadian participation in the Gemini telescopes is currently the responsibility of the National Research Council of Canada’s Herzberg Institute of Astrophysics   Video sequence   Jean-René Roy talks about the Gemini telescopes.\n",
      "Generated translation: L'Institut Herzberg d'Astrophysique du Canada-Mégantic le Canada-Mégantic.\n",
      "Real translation:       L'Institut Herzberg d'Astrophysique du Conseil National de Recherches du Canada est présentement responsable de la participation canadienne dans les télescopes.\n",
      "Translation from DeepL: La participation canadienne aux télescopes Gemini est actuellement sous la responsabilité de l'Institut Herzberg d'astrophysique du Conseil national de recherches du Canada Séquence vidéo Jean-René Roy parle des télescopes Gemini.\n",
      "DEEEPL\n",
      "\n",
      "Dataset: Validation\n",
      "Src: Clarence Augustus Chant The Father  of Canadian astronomy\n",
      "Generated translation: De 1992qu'astronomie, il ses étéorique à plusieurs à plusieurs.\n",
      "Real translation:       Clarence Augustus Chant Il est considéré comme le père de l'astronomie au Canada\n",
      "Translation from DeepL: Clarence Augustus Chant Le père de l'astronomie canadienne\n",
      "DEEEPL\n",
      "\n",
      "Dataset: Validation\n",
      "Src: At the time, only two other molecules had been identified in such an environment.\n",
      "Generated translation: À partir de l'un observatoire astronomie.\n",
      "Real translation:       Seules deux autres molécules avaient alors été identifiées dans de tels nuages.\n",
      "Translation from DeepL: À l'époque, seules deux autres molécules avaient été identifiées dans un tel environnement.\n",
      "DEEEPL\n",
      "\n",
      "Dataset: Validation\n",
      "Src: The observatory was mainly the work of Clarence Augustus Chant, a Canadian astronomer and astronomy professor at the University of Toronto.\n",
      "Generated translation: L'observatoire astronomique du département d'astronomie et département d'astronomie du département d'observatoire de l'observatoire.\n",
      "Real translation:       L'observatoire est principalement l'œuvre de l'astronome canadien Clarence Augustus Chant, professeur d'astronomie à l'Université de Toronto.\n",
      "Translation from DeepL: L'observatoire est principalement l'œuvre de Clarence Augustus Chant, astronome canadien et professeur d'astronomie à l'université de Toronto.\n",
      "DEEEPL\n",
      "\n",
      "Dataset: Validation\n",
      "Src: Evolution of images Charles Messier makes this drawing of the Orion nebula.\n",
      "Generated translation: ÉvolutionImages La nébuleuse d’Orion par le plus grand du radiotéquis.\n",
      "Real translation:       ÉvolutionImages Charles Messier réalise ce dessin de la nébuleuse d’Orion.\n",
      "Translation from DeepL: Évolution des images Charles Messier réalise ce dessin de la nébuleuse d'Orion.\n",
      "DEEEPL\n",
      "\n",
      "Dataset: Validation\n",
      "Src: Bolton has received many awards for his work, including being elected as a member of the Royal Society of Canada.\n",
      "Generated translation: Le projet d'un observatoire David Dunéquipe d'il National de Recherches du Canada Canada.\n",
      "Real translation:       Il a reçu plusieurs prix pour son travail dont celui d'être nommé membre de la Société Royale du Canada.\n",
      "Translation from DeepL: Bolton a reçu de nombreuses récompenses pour son travail, et a notamment été élu membre de la Société royale du Canada.\n",
      "DEEEPL\n",
      "\n",
      "Dataset: Validation\n",
      "Src: Beals then returned to the University of Acadia where he was hired as assistant professor in physics.\n",
      "Generated translation: Il est nommécheur de l'Université de l'Université de la Colombie-Britannique, à l'Université.\n",
      "Real translation:       Il retourne alors à l'Université Acadia où il est engagé comme professeur assistant en physique.\n",
      "Translation from DeepL: Beals est ensuite retourné à l'université d'Acadia où il a été engagé comme professeur adjoint de physique.\n",
      "DEEEPL\n",
      "\n",
      "Dataset: Validation\n",
      "Src: He passed away in Ottawa in 1916 at 62 years old.\n",
      "Generated translation: Il a reçu de 18 des mond ans.\n",
      "Real translation:       Il meurt à Ottawa en 1916, à l'âge de 62 ans.\n",
      "Translation from DeepL: Il est décédé à Ottawa en 1916 à l'âge de 62 ans.\n",
      "DEEEPL\n",
      "\n",
      "Dataset: Validation\n",
      "Src: Active galaxies are those with centres marked by enormous energy outputs.\n",
      "Generated translation: De 1992 à l'observatoire est responsable devrir des atmosphètre.\n",
      "Real translation:       Les galaxies actives sont des galaxies possédant un coeur qui émet de grandes quantités d'énergie.\n",
      "Translation from DeepL: Les galaxies actives sont celles dont le centre est marqué par une énorme production d'énergie.\n",
      "DEEEPL\n",
      "\n",
      "Dataset: Validation\n",
      "Src: Evolution of images The first known drawing of the Orion nebula, drawn by Giovanni Batista Hodierna.\n",
      "Generated translation: ÉvolutionImages La première photographie de la Lune prise par le premier à Ottawa la néricaine, la Lune.\n",
      "Real translation:       ÉvolutionImages Premier dessin connu de la nébuleuse d’Orion par Giovanni Batista Hodierna.\n",
      "Translation from DeepL: Évolution des images Le premier dessin connu de la nébuleuse d'Orion, réalisé par Giovanni Batista Hodierna.\n",
      "DEEEPL\n",
      "\n",
      "Dataset: Validation\n",
      "Src: He secured a job with the Department of Finance in Ottawa, but only stayed for two years.\n",
      "Generated translation: Il s'agit de l'observatoire pour ses d'il National en spectroscopieurs deux autres de sa carrière.\n",
      "Real translation:       Il décroche la même année un emploi au Département des Finances à Ottawa mais n'y reste que deux ans.\n",
      "Translation from DeepL: Il obtient un poste au ministère des Finances à Ottawa, mais n'y reste que deux ans.\n",
      "DEEEPL\n",
      "\n",
      "Dataset: Validation\n",
      "Src: In 2000, he left Laval University to become the scientific director for the Gemini North Observatory in Hawaii.\n",
      "Generated translation: En 1922, l'Observatoire David Dunlap est l'Université de réalise en Ontario.\n",
      "Real translation:       En 2000, il quitte l'Université Laval pour devenir directeur scientifique de l'Observatoire Astronomique Gemini Nord à Hawaï.\n",
      "Translation from DeepL: En 2000, il quitte l'Université Laval pour devenir directeur scientifique de l'Observatoire Gemini Nord à Hawaï.\n",
      "DEEEPL\n",
      "\n",
      "Dataset: Validation\n",
      "Src: In 1999, a major 3-year renovation program was started.\n",
      "Generated translation: En 2003, on l'observatoire fait sont qu'une lunette fait deux prix.\n",
      "Real translation:       En 1999, un important programme de rénovation de trois ans débute.\n",
      "Translation from DeepL: En 1999, un important programme de rénovation sur trois ans a été lancé.\n",
      "DEEEPL\n",
      "\n",
      "Dataset: Validation\n",
      "Src: Canada was granted access to 42.5% of the available observation time, France 42.5%, and the United States 15%.\n",
      "Generated translation: Le télescope est, l'observatoire du Collège de la plus grand public à l'Université de la plus grande.\n",
      "Real translation:       Le Canada dispose de 42,5 % du temps d'observation, la France de 42,5 %, et les Etats-Unis, de 15 %.\n",
      "Translation from DeepL: Le Canada a eu accès à 42,5 % du temps d'observation disponible, la France à 42,5 % et les États-Unis à 15 %.\n",
      "DEEEPL\n",
      "\n",
      "Dataset: Validation\n",
      "Src: Observatories Planed launch of the James Webb Space Telescope by Canada, the United States and Europe.\n",
      "Generated translation: Observatoires Création de l’Observatoire David Dunlap est le Canada, leur du Canada-Unis et la France.\n",
      "Real translation:       Observatoires Lancement prévu du Télescope Spatial James Webb, par les États-Unis, le Canada et l'Europe.\n",
      "Translation from DeepL: Observatoires Lancement prévu du télescope spatial James Webb par le Canada, les États-Unis et l'Europe.\n",
      "DEEEPL\n",
      "\n",
      "Dataset: Validation\n",
      "Src: He enrolled at the University of Toronto in 1887 and received his bachelor’s degree in 1890.\n",
      "Generated translation: Il y reste jusqu'en 1958ouvertes pour son nom en Ontario et son doctorat d'astronomie de l'Université de Toronto.\n",
      "Real translation:       En 1887, il s'inscrit à l'Université de Toronto et obtient son baccalauréat en 1890.\n",
      "Translation from DeepL: Il s'inscrit à l'université de Toronto en 1887 et obtient sa licence en 1890.\n",
      "DEEEPL\n",
      "\n",
      "Dataset: Validation\n",
      "Src: His interest in astronomy began in 1954 at the age of 12.\n",
      "Generated translation: Ses travaux portent en 1999 et meurt enseâge de l'Univers.\n",
      "Real translation:       Il commence à s'intéresser à l'astronomie en 1954 à l'âge de 12 ans.\n",
      "Translation from DeepL: Il a commencé à s'intéresser à l'astronomie en 1954, à l'âge de 12 ans.\n",
      "DEEEPL\n",
      "\n",
      "Dataset: Validation\n",
      "Src: Observatories The Dominion Radio Astrophysical Observatory is established at White Lake near Penticton, British Columbia.\n",
      "Generated translation: Observatoires Création de l’Observatoire Fédéral d’Astrophysique à Saanich, près de Victoria en Colombie-Britannique.\n",
      "Real translation:       Observatoires Création de l’Observatoire Fédéral de Radioastrophysique à White Lake, près de Penticton en Colombie-Britannique.\n",
      "Translation from DeepL: Observatoires L'Observatoire fédéral de radioastrophysique est établi à White Lake, près de Penticton, en Colombie-Britannique.\n",
      "DEEEPL\n",
      "\n",
      "Dataset: Validation\n",
      "Src: Today, the Dominion Astrophysical Observatory is the responsibility of the National Research Council of Canada’s Herzberg Institute of Astrophysics.\n",
      "Generated translation: Il s'agit d'Astrophysique, il avec la plusie de l'Institut Herzberg d'Astrophysique du Canada, du Canada-Université de l'Univers.\n",
      "Real translation:       L'observatoire est aujourd'hui sous la responsabilité de l'Institut Herzberg d'Astrophysique du Conseil National de Recherches du Canada.\n",
      "Translation from DeepL: Aujourd'hui, l'Observatoire fédéral d'astrophysique est sous la responsabilité de l'Institut Herzberg d'astrophysique du Conseil national de recherches du Canada.\n",
      "DEEEPL\n",
      "\n",
      "Dataset: Validation\n",
      "Src: Unfortunately, Dunlap died in 1924 and seemingly with him any chance of realizing Chant’s goal.\n",
      "Generated translation: De 1992 à 2000, il est, l'observatoire est prés au Canada et son travolution des galaxies en astrophysique et l'Université de la France.\n",
      "Real translation:       Malheureusement, Dunlap meurt en 1924 et le rêve de Chant n'a pas le temps de se concrétiser.\n",
      "Translation from DeepL: Malheureusement, Dunlap meurt en 1924 et, apparemment, avec lui toute chance de réaliser l'objectif de Chant.\n",
      "DEEEPL\n",
      "\n",
      "Dataset: Validation\n",
      "Src: Evolution of images Leonardo da Vinci draws this sketch of the Moon.\n",
      "Generated translation: ÉvolutionImages La première image astronomique.\n",
      "Real translation:       ÉvolutionImages Leonard de Vinci effectue ce croquis de la Lune.\n",
      "Translation from DeepL: Évolution des images Léonard de Vinci dessine ce croquis de la Lune.\n",
      "DEEEPL\n",
      "\n",
      "Dataset: Validation\n",
      "Src: Observatories The Quebec City Observatory is established on the Plains of Abraham.\n",
      "Generated translation: Observatoires Création de l'observatoire de l'Université McGill, à Montréal au Québec.\n",
      "Real translation:       Observatoires Création de l'observatoire de Québec, sur les Plaines d'Abraham.\n",
      "Translation from DeepL: Observatoires L'Observatoire de Québec est établi sur les plaines d'Abraham.\n",
      "DEEEPL\n",
      "\n",
      "Dataset: Validation\n",
      "Src: 1667 : pollution Louis XIV commands all roads in the capital of Paris to be lit at night in order to combat thefts and other crimes.\n",
      "Generated translation: En 1994, il a reçu le Soleil se trouve au 2/3 du centre d'observatoire David Dunlap à l'Université de la structure des astronomie.\n",
      "Real translation:       1667 : pollution Louis XIV impose l’éclairage de toutes les rues de la capitale (Paris) pour lutter contre les vols et les crimes.\n",
      "Translation from DeepL: 1667 : la pollution Louis XIV ordonne que toutes les routes de la capitale Paris soient éclairées la nuit afin de lutter contre les vols et autres délits.\n",
      "DEEEPL\n",
      "\n",
      "Dataset: Validation\n",
      "Src: Radio astronomers at Penticton have been striving towards this goal since the first days of the observatory.\n",
      "Generated translation: Ses travaux portent le premier directeur sur la premières vitesseil est la L'observatoire astronomieurs ontère interstellaire.\n",
      "Real translation:       Les radioastronomes de Penticton s'attèleront d'ailleurs à cette tâche dès les débuts de l'observatoire.\n"
     ]
    },
    {
     "ename": "KeyboardInterrupt",
     "evalue": "",
     "output_type": "error",
     "traceback": [
      "\u001b[1;31m---------------------------------------------------------------------------\u001b[0m",
      "\u001b[1;31mKeyboardInterrupt\u001b[0m                         Traceback (most recent call last)",
      "Cell \u001b[1;32mIn[40], line 39\u001b[0m\n\u001b[0;32m     34\u001b[0m json_data \u001b[38;5;241m=\u001b[39m {\n\u001b[0;32m     35\u001b[0m     \u001b[38;5;124m\"\u001b[39m\u001b[38;5;124mtext\u001b[39m\u001b[38;5;124m\"\u001b[39m: [src_input], \n\u001b[0;32m     36\u001b[0m     \u001b[38;5;124m\"\u001b[39m\u001b[38;5;124mtarget_lang\u001b[39m\u001b[38;5;124m\"\u001b[39m: \u001b[38;5;124m\"\u001b[39m\u001b[38;5;124mFR\u001b[39m\u001b[38;5;124m\"\u001b[39m\n\u001b[0;32m     37\u001b[0m }\n\u001b[0;32m     38\u001b[0m headers \u001b[38;5;241m=\u001b[39m {\u001b[38;5;124m\"\u001b[39m\u001b[38;5;124mAuthorization\u001b[39m\u001b[38;5;124m\"\u001b[39m: \u001b[38;5;124m\"\u001b[39m\u001b[38;5;124mDeepL-Auth-Key 8a886374-aa90-488e-8209-a000d7ac9e93:fx\u001b[39m\u001b[38;5;124m\"\u001b[39m}\n\u001b[1;32m---> 39\u001b[0m response \u001b[38;5;241m=\u001b[39m \u001b[43mhttpx\u001b[49m\u001b[38;5;241;43m.\u001b[39;49m\u001b[43mpost\u001b[49m\u001b[43m(\u001b[49m\u001b[38;5;124;43m\"\u001b[39;49m\u001b[38;5;124;43mhttps://api-free.deepl.com/v2/translate\u001b[39;49m\u001b[38;5;124;43m\"\u001b[39;49m\u001b[43m,\u001b[49m\u001b[43m \u001b[49m\u001b[43mjson\u001b[49m\u001b[38;5;241;43m=\u001b[39;49m\u001b[43mjson_data\u001b[49m\u001b[43m,\u001b[49m\u001b[43m \u001b[49m\u001b[43mheaders\u001b[49m\u001b[38;5;241;43m=\u001b[39;49m\u001b[43mheaders\u001b[49m\u001b[43m)\u001b[49m\n\u001b[0;32m     40\u001b[0m response \u001b[38;5;241m=\u001b[39m response\u001b[38;5;241m.\u001b[39mjson()[\u001b[38;5;124m\"\u001b[39m\u001b[38;5;124mtranslations\u001b[39m\u001b[38;5;124m\"\u001b[39m][\u001b[38;5;241m0\u001b[39m][\u001b[38;5;124m\"\u001b[39m\u001b[38;5;124mtext\u001b[39m\u001b[38;5;124m\"\u001b[39m]\n\u001b[0;32m     41\u001b[0m \u001b[38;5;28mprint\u001b[39m(\u001b[38;5;124m'\u001b[39m\u001b[38;5;124mTranslation from DeepL:\u001b[39m\u001b[38;5;124m'\u001b[39m, response)\n",
      "File \u001b[1;32md:\\Users\\mlaudan\\Documents\\mag\\text_summarization\\.venv\\lib\\site-packages\\httpx\\_api.py:304\u001b[0m, in \u001b[0;36mpost\u001b[1;34m(url, content, data, files, json, params, headers, cookies, auth, proxy, follow_redirects, verify, timeout, trust_env)\u001b[0m\n\u001b[0;32m    282\u001b[0m \u001b[38;5;28;01mdef\u001b[39;00m\u001b[38;5;250m \u001b[39m\u001b[38;5;21mpost\u001b[39m(\n\u001b[0;32m    283\u001b[0m     url: URL \u001b[38;5;241m|\u001b[39m \u001b[38;5;28mstr\u001b[39m,\n\u001b[0;32m    284\u001b[0m     \u001b[38;5;241m*\u001b[39m,\n\u001b[1;32m   (...)\u001b[0m\n\u001b[0;32m    297\u001b[0m     trust_env: \u001b[38;5;28mbool\u001b[39m \u001b[38;5;241m=\u001b[39m \u001b[38;5;28;01mTrue\u001b[39;00m,\n\u001b[0;32m    298\u001b[0m ) \u001b[38;5;241m-\u001b[39m\u001b[38;5;241m>\u001b[39m Response:\n\u001b[0;32m    299\u001b[0m \u001b[38;5;250m    \u001b[39m\u001b[38;5;124;03m\"\"\"\u001b[39;00m\n\u001b[0;32m    300\u001b[0m \u001b[38;5;124;03m    Sends a `POST` request.\u001b[39;00m\n\u001b[0;32m    301\u001b[0m \n\u001b[0;32m    302\u001b[0m \u001b[38;5;124;03m    **Parameters**: See `httpx.request`.\u001b[39;00m\n\u001b[0;32m    303\u001b[0m \u001b[38;5;124;03m    \"\"\"\u001b[39;00m\n\u001b[1;32m--> 304\u001b[0m     \u001b[38;5;28;01mreturn\u001b[39;00m \u001b[43mrequest\u001b[49m\u001b[43m(\u001b[49m\n\u001b[0;32m    305\u001b[0m \u001b[43m        \u001b[49m\u001b[38;5;124;43m\"\u001b[39;49m\u001b[38;5;124;43mPOST\u001b[39;49m\u001b[38;5;124;43m\"\u001b[39;49m\u001b[43m,\u001b[49m\n\u001b[0;32m    306\u001b[0m \u001b[43m        \u001b[49m\u001b[43murl\u001b[49m\u001b[43m,\u001b[49m\n\u001b[0;32m    307\u001b[0m \u001b[43m        \u001b[49m\u001b[43mcontent\u001b[49m\u001b[38;5;241;43m=\u001b[39;49m\u001b[43mcontent\u001b[49m\u001b[43m,\u001b[49m\n\u001b[0;32m    308\u001b[0m \u001b[43m        \u001b[49m\u001b[43mdata\u001b[49m\u001b[38;5;241;43m=\u001b[39;49m\u001b[43mdata\u001b[49m\u001b[43m,\u001b[49m\n\u001b[0;32m    309\u001b[0m \u001b[43m        \u001b[49m\u001b[43mfiles\u001b[49m\u001b[38;5;241;43m=\u001b[39;49m\u001b[43mfiles\u001b[49m\u001b[43m,\u001b[49m\n\u001b[0;32m    310\u001b[0m \u001b[43m        \u001b[49m\u001b[43mjson\u001b[49m\u001b[38;5;241;43m=\u001b[39;49m\u001b[43mjson\u001b[49m\u001b[43m,\u001b[49m\n\u001b[0;32m    311\u001b[0m \u001b[43m        \u001b[49m\u001b[43mparams\u001b[49m\u001b[38;5;241;43m=\u001b[39;49m\u001b[43mparams\u001b[49m\u001b[43m,\u001b[49m\n\u001b[0;32m    312\u001b[0m \u001b[43m        \u001b[49m\u001b[43mheaders\u001b[49m\u001b[38;5;241;43m=\u001b[39;49m\u001b[43mheaders\u001b[49m\u001b[43m,\u001b[49m\n\u001b[0;32m    313\u001b[0m \u001b[43m        \u001b[49m\u001b[43mcookies\u001b[49m\u001b[38;5;241;43m=\u001b[39;49m\u001b[43mcookies\u001b[49m\u001b[43m,\u001b[49m\n\u001b[0;32m    314\u001b[0m \u001b[43m        \u001b[49m\u001b[43mauth\u001b[49m\u001b[38;5;241;43m=\u001b[39;49m\u001b[43mauth\u001b[49m\u001b[43m,\u001b[49m\n\u001b[0;32m    315\u001b[0m \u001b[43m        \u001b[49m\u001b[43mproxy\u001b[49m\u001b[38;5;241;43m=\u001b[39;49m\u001b[43mproxy\u001b[49m\u001b[43m,\u001b[49m\n\u001b[0;32m    316\u001b[0m \u001b[43m        \u001b[49m\u001b[43mfollow_redirects\u001b[49m\u001b[38;5;241;43m=\u001b[39;49m\u001b[43mfollow_redirects\u001b[49m\u001b[43m,\u001b[49m\n\u001b[0;32m    317\u001b[0m \u001b[43m        \u001b[49m\u001b[43mverify\u001b[49m\u001b[38;5;241;43m=\u001b[39;49m\u001b[43mverify\u001b[49m\u001b[43m,\u001b[49m\n\u001b[0;32m    318\u001b[0m \u001b[43m        \u001b[49m\u001b[43mtimeout\u001b[49m\u001b[38;5;241;43m=\u001b[39;49m\u001b[43mtimeout\u001b[49m\u001b[43m,\u001b[49m\n\u001b[0;32m    319\u001b[0m \u001b[43m        \u001b[49m\u001b[43mtrust_env\u001b[49m\u001b[38;5;241;43m=\u001b[39;49m\u001b[43mtrust_env\u001b[49m\u001b[43m,\u001b[49m\n\u001b[0;32m    320\u001b[0m \u001b[43m    \u001b[49m\u001b[43m)\u001b[49m\n",
      "File \u001b[1;32md:\\Users\\mlaudan\\Documents\\mag\\text_summarization\\.venv\\lib\\site-packages\\httpx\\_api.py:109\u001b[0m, in \u001b[0;36mrequest\u001b[1;34m(method, url, params, content, data, files, json, headers, cookies, auth, proxy, timeout, follow_redirects, verify, trust_env)\u001b[0m\n\u001b[0;32m     57\u001b[0m \u001b[38;5;250m\u001b[39m\u001b[38;5;124;03m\"\"\"\u001b[39;00m\n\u001b[0;32m     58\u001b[0m \u001b[38;5;124;03mSends an HTTP request.\u001b[39;00m\n\u001b[0;32m     59\u001b[0m \n\u001b[1;32m   (...)\u001b[0m\n\u001b[0;32m    100\u001b[0m \u001b[38;5;124;03m```\u001b[39;00m\n\u001b[0;32m    101\u001b[0m \u001b[38;5;124;03m\"\"\"\u001b[39;00m\n\u001b[0;32m    102\u001b[0m \u001b[38;5;28;01mwith\u001b[39;00m Client(\n\u001b[0;32m    103\u001b[0m     cookies\u001b[38;5;241m=\u001b[39mcookies,\n\u001b[0;32m    104\u001b[0m     proxy\u001b[38;5;241m=\u001b[39mproxy,\n\u001b[1;32m   (...)\u001b[0m\n\u001b[0;32m    107\u001b[0m     trust_env\u001b[38;5;241m=\u001b[39mtrust_env,\n\u001b[0;32m    108\u001b[0m ) \u001b[38;5;28;01mas\u001b[39;00m client:\n\u001b[1;32m--> 109\u001b[0m     \u001b[38;5;28;01mreturn\u001b[39;00m \u001b[43mclient\u001b[49m\u001b[38;5;241;43m.\u001b[39;49m\u001b[43mrequest\u001b[49m\u001b[43m(\u001b[49m\n\u001b[0;32m    110\u001b[0m \u001b[43m        \u001b[49m\u001b[43mmethod\u001b[49m\u001b[38;5;241;43m=\u001b[39;49m\u001b[43mmethod\u001b[49m\u001b[43m,\u001b[49m\n\u001b[0;32m    111\u001b[0m \u001b[43m        \u001b[49m\u001b[43murl\u001b[49m\u001b[38;5;241;43m=\u001b[39;49m\u001b[43murl\u001b[49m\u001b[43m,\u001b[49m\n\u001b[0;32m    112\u001b[0m \u001b[43m        \u001b[49m\u001b[43mcontent\u001b[49m\u001b[38;5;241;43m=\u001b[39;49m\u001b[43mcontent\u001b[49m\u001b[43m,\u001b[49m\n\u001b[0;32m    113\u001b[0m \u001b[43m        \u001b[49m\u001b[43mdata\u001b[49m\u001b[38;5;241;43m=\u001b[39;49m\u001b[43mdata\u001b[49m\u001b[43m,\u001b[49m\n\u001b[0;32m    114\u001b[0m \u001b[43m        \u001b[49m\u001b[43mfiles\u001b[49m\u001b[38;5;241;43m=\u001b[39;49m\u001b[43mfiles\u001b[49m\u001b[43m,\u001b[49m\n\u001b[0;32m    115\u001b[0m \u001b[43m        \u001b[49m\u001b[43mjson\u001b[49m\u001b[38;5;241;43m=\u001b[39;49m\u001b[43mjson\u001b[49m\u001b[43m,\u001b[49m\n\u001b[0;32m    116\u001b[0m \u001b[43m        \u001b[49m\u001b[43mparams\u001b[49m\u001b[38;5;241;43m=\u001b[39;49m\u001b[43mparams\u001b[49m\u001b[43m,\u001b[49m\n\u001b[0;32m    117\u001b[0m \u001b[43m        \u001b[49m\u001b[43mheaders\u001b[49m\u001b[38;5;241;43m=\u001b[39;49m\u001b[43mheaders\u001b[49m\u001b[43m,\u001b[49m\n\u001b[0;32m    118\u001b[0m \u001b[43m        \u001b[49m\u001b[43mauth\u001b[49m\u001b[38;5;241;43m=\u001b[39;49m\u001b[43mauth\u001b[49m\u001b[43m,\u001b[49m\n\u001b[0;32m    119\u001b[0m \u001b[43m        \u001b[49m\u001b[43mfollow_redirects\u001b[49m\u001b[38;5;241;43m=\u001b[39;49m\u001b[43mfollow_redirects\u001b[49m\u001b[43m,\u001b[49m\n\u001b[0;32m    120\u001b[0m \u001b[43m    \u001b[49m\u001b[43m)\u001b[49m\n",
      "File \u001b[1;32md:\\Users\\mlaudan\\Documents\\mag\\text_summarization\\.venv\\lib\\site-packages\\httpx\\_client.py:825\u001b[0m, in \u001b[0;36mClient.request\u001b[1;34m(self, method, url, content, data, files, json, params, headers, cookies, auth, follow_redirects, timeout, extensions)\u001b[0m\n\u001b[0;32m    810\u001b[0m     warnings\u001b[38;5;241m.\u001b[39mwarn(message, \u001b[38;5;167;01mDeprecationWarning\u001b[39;00m, stacklevel\u001b[38;5;241m=\u001b[39m\u001b[38;5;241m2\u001b[39m)\n\u001b[0;32m    812\u001b[0m request \u001b[38;5;241m=\u001b[39m \u001b[38;5;28mself\u001b[39m\u001b[38;5;241m.\u001b[39mbuild_request(\n\u001b[0;32m    813\u001b[0m     method\u001b[38;5;241m=\u001b[39mmethod,\n\u001b[0;32m    814\u001b[0m     url\u001b[38;5;241m=\u001b[39murl,\n\u001b[1;32m   (...)\u001b[0m\n\u001b[0;32m    823\u001b[0m     extensions\u001b[38;5;241m=\u001b[39mextensions,\n\u001b[0;32m    824\u001b[0m )\n\u001b[1;32m--> 825\u001b[0m \u001b[38;5;28;01mreturn\u001b[39;00m \u001b[38;5;28;43mself\u001b[39;49m\u001b[38;5;241;43m.\u001b[39;49m\u001b[43msend\u001b[49m\u001b[43m(\u001b[49m\u001b[43mrequest\u001b[49m\u001b[43m,\u001b[49m\u001b[43m \u001b[49m\u001b[43mauth\u001b[49m\u001b[38;5;241;43m=\u001b[39;49m\u001b[43mauth\u001b[49m\u001b[43m,\u001b[49m\u001b[43m \u001b[49m\u001b[43mfollow_redirects\u001b[49m\u001b[38;5;241;43m=\u001b[39;49m\u001b[43mfollow_redirects\u001b[49m\u001b[43m)\u001b[49m\n",
      "File \u001b[1;32md:\\Users\\mlaudan\\Documents\\mag\\text_summarization\\.venv\\lib\\site-packages\\httpx\\_client.py:914\u001b[0m, in \u001b[0;36mClient.send\u001b[1;34m(self, request, stream, auth, follow_redirects)\u001b[0m\n\u001b[0;32m    910\u001b[0m \u001b[38;5;28mself\u001b[39m\u001b[38;5;241m.\u001b[39m_set_timeout(request)\n\u001b[0;32m    912\u001b[0m auth \u001b[38;5;241m=\u001b[39m \u001b[38;5;28mself\u001b[39m\u001b[38;5;241m.\u001b[39m_build_request_auth(request, auth)\n\u001b[1;32m--> 914\u001b[0m response \u001b[38;5;241m=\u001b[39m \u001b[38;5;28;43mself\u001b[39;49m\u001b[38;5;241;43m.\u001b[39;49m\u001b[43m_send_handling_auth\u001b[49m\u001b[43m(\u001b[49m\n\u001b[0;32m    915\u001b[0m \u001b[43m    \u001b[49m\u001b[43mrequest\u001b[49m\u001b[43m,\u001b[49m\n\u001b[0;32m    916\u001b[0m \u001b[43m    \u001b[49m\u001b[43mauth\u001b[49m\u001b[38;5;241;43m=\u001b[39;49m\u001b[43mauth\u001b[49m\u001b[43m,\u001b[49m\n\u001b[0;32m    917\u001b[0m \u001b[43m    \u001b[49m\u001b[43mfollow_redirects\u001b[49m\u001b[38;5;241;43m=\u001b[39;49m\u001b[43mfollow_redirects\u001b[49m\u001b[43m,\u001b[49m\n\u001b[0;32m    918\u001b[0m \u001b[43m    \u001b[49m\u001b[43mhistory\u001b[49m\u001b[38;5;241;43m=\u001b[39;49m\u001b[43m[\u001b[49m\u001b[43m]\u001b[49m\u001b[43m,\u001b[49m\n\u001b[0;32m    919\u001b[0m \u001b[43m\u001b[49m\u001b[43m)\u001b[49m\n\u001b[0;32m    920\u001b[0m \u001b[38;5;28;01mtry\u001b[39;00m:\n\u001b[0;32m    921\u001b[0m     \u001b[38;5;28;01mif\u001b[39;00m \u001b[38;5;129;01mnot\u001b[39;00m stream:\n",
      "File \u001b[1;32md:\\Users\\mlaudan\\Documents\\mag\\text_summarization\\.venv\\lib\\site-packages\\httpx\\_client.py:942\u001b[0m, in \u001b[0;36mClient._send_handling_auth\u001b[1;34m(self, request, auth, follow_redirects, history)\u001b[0m\n\u001b[0;32m    939\u001b[0m request \u001b[38;5;241m=\u001b[39m \u001b[38;5;28mnext\u001b[39m(auth_flow)\n\u001b[0;32m    941\u001b[0m \u001b[38;5;28;01mwhile\u001b[39;00m \u001b[38;5;28;01mTrue\u001b[39;00m:\n\u001b[1;32m--> 942\u001b[0m     response \u001b[38;5;241m=\u001b[39m \u001b[38;5;28;43mself\u001b[39;49m\u001b[38;5;241;43m.\u001b[39;49m\u001b[43m_send_handling_redirects\u001b[49m\u001b[43m(\u001b[49m\n\u001b[0;32m    943\u001b[0m \u001b[43m        \u001b[49m\u001b[43mrequest\u001b[49m\u001b[43m,\u001b[49m\n\u001b[0;32m    944\u001b[0m \u001b[43m        \u001b[49m\u001b[43mfollow_redirects\u001b[49m\u001b[38;5;241;43m=\u001b[39;49m\u001b[43mfollow_redirects\u001b[49m\u001b[43m,\u001b[49m\n\u001b[0;32m    945\u001b[0m \u001b[43m        \u001b[49m\u001b[43mhistory\u001b[49m\u001b[38;5;241;43m=\u001b[39;49m\u001b[43mhistory\u001b[49m\u001b[43m,\u001b[49m\n\u001b[0;32m    946\u001b[0m \u001b[43m    \u001b[49m\u001b[43m)\u001b[49m\n\u001b[0;32m    947\u001b[0m     \u001b[38;5;28;01mtry\u001b[39;00m:\n\u001b[0;32m    948\u001b[0m         \u001b[38;5;28;01mtry\u001b[39;00m:\n",
      "File \u001b[1;32md:\\Users\\mlaudan\\Documents\\mag\\text_summarization\\.venv\\lib\\site-packages\\httpx\\_client.py:979\u001b[0m, in \u001b[0;36mClient._send_handling_redirects\u001b[1;34m(self, request, follow_redirects, history)\u001b[0m\n\u001b[0;32m    976\u001b[0m \u001b[38;5;28;01mfor\u001b[39;00m hook \u001b[38;5;129;01min\u001b[39;00m \u001b[38;5;28mself\u001b[39m\u001b[38;5;241m.\u001b[39m_event_hooks[\u001b[38;5;124m\"\u001b[39m\u001b[38;5;124mrequest\u001b[39m\u001b[38;5;124m\"\u001b[39m]:\n\u001b[0;32m    977\u001b[0m     hook(request)\n\u001b[1;32m--> 979\u001b[0m response \u001b[38;5;241m=\u001b[39m \u001b[38;5;28;43mself\u001b[39;49m\u001b[38;5;241;43m.\u001b[39;49m\u001b[43m_send_single_request\u001b[49m\u001b[43m(\u001b[49m\u001b[43mrequest\u001b[49m\u001b[43m)\u001b[49m\n\u001b[0;32m    980\u001b[0m \u001b[38;5;28;01mtry\u001b[39;00m:\n\u001b[0;32m    981\u001b[0m     \u001b[38;5;28;01mfor\u001b[39;00m hook \u001b[38;5;129;01min\u001b[39;00m \u001b[38;5;28mself\u001b[39m\u001b[38;5;241m.\u001b[39m_event_hooks[\u001b[38;5;124m\"\u001b[39m\u001b[38;5;124mresponse\u001b[39m\u001b[38;5;124m\"\u001b[39m]:\n",
      "File \u001b[1;32md:\\Users\\mlaudan\\Documents\\mag\\text_summarization\\.venv\\lib\\site-packages\\httpx\\_client.py:1014\u001b[0m, in \u001b[0;36mClient._send_single_request\u001b[1;34m(self, request)\u001b[0m\n\u001b[0;32m   1009\u001b[0m     \u001b[38;5;28;01mraise\u001b[39;00m \u001b[38;5;167;01mRuntimeError\u001b[39;00m(\n\u001b[0;32m   1010\u001b[0m         \u001b[38;5;124m\"\u001b[39m\u001b[38;5;124mAttempted to send an async request with a sync Client instance.\u001b[39m\u001b[38;5;124m\"\u001b[39m\n\u001b[0;32m   1011\u001b[0m     )\n\u001b[0;32m   1013\u001b[0m \u001b[38;5;28;01mwith\u001b[39;00m request_context(request\u001b[38;5;241m=\u001b[39mrequest):\n\u001b[1;32m-> 1014\u001b[0m     response \u001b[38;5;241m=\u001b[39m \u001b[43mtransport\u001b[49m\u001b[38;5;241;43m.\u001b[39;49m\u001b[43mhandle_request\u001b[49m\u001b[43m(\u001b[49m\u001b[43mrequest\u001b[49m\u001b[43m)\u001b[49m\n\u001b[0;32m   1016\u001b[0m \u001b[38;5;28;01massert\u001b[39;00m \u001b[38;5;28misinstance\u001b[39m(response\u001b[38;5;241m.\u001b[39mstream, SyncByteStream)\n\u001b[0;32m   1018\u001b[0m response\u001b[38;5;241m.\u001b[39mrequest \u001b[38;5;241m=\u001b[39m request\n",
      "File \u001b[1;32md:\\Users\\mlaudan\\Documents\\mag\\text_summarization\\.venv\\lib\\site-packages\\httpx\\_transports\\default.py:250\u001b[0m, in \u001b[0;36mHTTPTransport.handle_request\u001b[1;34m(self, request)\u001b[0m\n\u001b[0;32m    237\u001b[0m req \u001b[38;5;241m=\u001b[39m httpcore\u001b[38;5;241m.\u001b[39mRequest(\n\u001b[0;32m    238\u001b[0m     method\u001b[38;5;241m=\u001b[39mrequest\u001b[38;5;241m.\u001b[39mmethod,\n\u001b[0;32m    239\u001b[0m     url\u001b[38;5;241m=\u001b[39mhttpcore\u001b[38;5;241m.\u001b[39mURL(\n\u001b[1;32m   (...)\u001b[0m\n\u001b[0;32m    247\u001b[0m     extensions\u001b[38;5;241m=\u001b[39mrequest\u001b[38;5;241m.\u001b[39mextensions,\n\u001b[0;32m    248\u001b[0m )\n\u001b[0;32m    249\u001b[0m \u001b[38;5;28;01mwith\u001b[39;00m map_httpcore_exceptions():\n\u001b[1;32m--> 250\u001b[0m     resp \u001b[38;5;241m=\u001b[39m \u001b[38;5;28;43mself\u001b[39;49m\u001b[38;5;241;43m.\u001b[39;49m\u001b[43m_pool\u001b[49m\u001b[38;5;241;43m.\u001b[39;49m\u001b[43mhandle_request\u001b[49m\u001b[43m(\u001b[49m\u001b[43mreq\u001b[49m\u001b[43m)\u001b[49m\n\u001b[0;32m    252\u001b[0m \u001b[38;5;28;01massert\u001b[39;00m \u001b[38;5;28misinstance\u001b[39m(resp\u001b[38;5;241m.\u001b[39mstream, typing\u001b[38;5;241m.\u001b[39mIterable)\n\u001b[0;32m    254\u001b[0m \u001b[38;5;28;01mreturn\u001b[39;00m Response(\n\u001b[0;32m    255\u001b[0m     status_code\u001b[38;5;241m=\u001b[39mresp\u001b[38;5;241m.\u001b[39mstatus,\n\u001b[0;32m    256\u001b[0m     headers\u001b[38;5;241m=\u001b[39mresp\u001b[38;5;241m.\u001b[39mheaders,\n\u001b[0;32m    257\u001b[0m     stream\u001b[38;5;241m=\u001b[39mResponseStream(resp\u001b[38;5;241m.\u001b[39mstream),\n\u001b[0;32m    258\u001b[0m     extensions\u001b[38;5;241m=\u001b[39mresp\u001b[38;5;241m.\u001b[39mextensions,\n\u001b[0;32m    259\u001b[0m )\n",
      "File \u001b[1;32md:\\Users\\mlaudan\\Documents\\mag\\text_summarization\\.venv\\lib\\site-packages\\httpcore\\_sync\\connection_pool.py:256\u001b[0m, in \u001b[0;36mConnectionPool.handle_request\u001b[1;34m(self, request)\u001b[0m\n\u001b[0;32m    253\u001b[0m         closing \u001b[38;5;241m=\u001b[39m \u001b[38;5;28mself\u001b[39m\u001b[38;5;241m.\u001b[39m_assign_requests_to_connections()\n\u001b[0;32m    255\u001b[0m     \u001b[38;5;28mself\u001b[39m\u001b[38;5;241m.\u001b[39m_close_connections(closing)\n\u001b[1;32m--> 256\u001b[0m     \u001b[38;5;28;01mraise\u001b[39;00m exc \u001b[38;5;28;01mfrom\u001b[39;00m\u001b[38;5;250m \u001b[39m\u001b[38;5;28;01mNone\u001b[39;00m\n\u001b[0;32m    258\u001b[0m \u001b[38;5;66;03m# Return the response. Note that in this case we still have to manage\u001b[39;00m\n\u001b[0;32m    259\u001b[0m \u001b[38;5;66;03m# the point at which the response is closed.\u001b[39;00m\n\u001b[0;32m    260\u001b[0m \u001b[38;5;28;01massert\u001b[39;00m \u001b[38;5;28misinstance\u001b[39m(response\u001b[38;5;241m.\u001b[39mstream, typing\u001b[38;5;241m.\u001b[39mIterable)\n",
      "File \u001b[1;32md:\\Users\\mlaudan\\Documents\\mag\\text_summarization\\.venv\\lib\\site-packages\\httpcore\\_sync\\connection_pool.py:236\u001b[0m, in \u001b[0;36mConnectionPool.handle_request\u001b[1;34m(self, request)\u001b[0m\n\u001b[0;32m    232\u001b[0m connection \u001b[38;5;241m=\u001b[39m pool_request\u001b[38;5;241m.\u001b[39mwait_for_connection(timeout\u001b[38;5;241m=\u001b[39mtimeout)\n\u001b[0;32m    234\u001b[0m \u001b[38;5;28;01mtry\u001b[39;00m:\n\u001b[0;32m    235\u001b[0m     \u001b[38;5;66;03m# Send the request on the assigned connection.\u001b[39;00m\n\u001b[1;32m--> 236\u001b[0m     response \u001b[38;5;241m=\u001b[39m \u001b[43mconnection\u001b[49m\u001b[38;5;241;43m.\u001b[39;49m\u001b[43mhandle_request\u001b[49m\u001b[43m(\u001b[49m\n\u001b[0;32m    237\u001b[0m \u001b[43m        \u001b[49m\u001b[43mpool_request\u001b[49m\u001b[38;5;241;43m.\u001b[39;49m\u001b[43mrequest\u001b[49m\n\u001b[0;32m    238\u001b[0m \u001b[43m    \u001b[49m\u001b[43m)\u001b[49m\n\u001b[0;32m    239\u001b[0m \u001b[38;5;28;01mexcept\u001b[39;00m ConnectionNotAvailable:\n\u001b[0;32m    240\u001b[0m     \u001b[38;5;66;03m# In some cases a connection may initially be available to\u001b[39;00m\n\u001b[0;32m    241\u001b[0m     \u001b[38;5;66;03m# handle a request, but then become unavailable.\u001b[39;00m\n\u001b[0;32m    242\u001b[0m     \u001b[38;5;66;03m#\u001b[39;00m\n\u001b[0;32m    243\u001b[0m     \u001b[38;5;66;03m# In this case we clear the connection and try again.\u001b[39;00m\n\u001b[0;32m    244\u001b[0m     pool_request\u001b[38;5;241m.\u001b[39mclear_connection()\n",
      "File \u001b[1;32md:\\Users\\mlaudan\\Documents\\mag\\text_summarization\\.venv\\lib\\site-packages\\httpcore\\_sync\\connection.py:103\u001b[0m, in \u001b[0;36mHTTPConnection.handle_request\u001b[1;34m(self, request)\u001b[0m\n\u001b[0;32m    100\u001b[0m     \u001b[38;5;28mself\u001b[39m\u001b[38;5;241m.\u001b[39m_connect_failed \u001b[38;5;241m=\u001b[39m \u001b[38;5;28;01mTrue\u001b[39;00m\n\u001b[0;32m    101\u001b[0m     \u001b[38;5;28;01mraise\u001b[39;00m exc\n\u001b[1;32m--> 103\u001b[0m \u001b[38;5;28;01mreturn\u001b[39;00m \u001b[38;5;28;43mself\u001b[39;49m\u001b[38;5;241;43m.\u001b[39;49m\u001b[43m_connection\u001b[49m\u001b[38;5;241;43m.\u001b[39;49m\u001b[43mhandle_request\u001b[49m\u001b[43m(\u001b[49m\u001b[43mrequest\u001b[49m\u001b[43m)\u001b[49m\n",
      "File \u001b[1;32md:\\Users\\mlaudan\\Documents\\mag\\text_summarization\\.venv\\lib\\site-packages\\httpcore\\_sync\\http11.py:136\u001b[0m, in \u001b[0;36mHTTP11Connection.handle_request\u001b[1;34m(self, request)\u001b[0m\n\u001b[0;32m    134\u001b[0m     \u001b[38;5;28;01mwith\u001b[39;00m Trace(\u001b[38;5;124m\"\u001b[39m\u001b[38;5;124mresponse_closed\u001b[39m\u001b[38;5;124m\"\u001b[39m, logger, request) \u001b[38;5;28;01mas\u001b[39;00m trace:\n\u001b[0;32m    135\u001b[0m         \u001b[38;5;28mself\u001b[39m\u001b[38;5;241m.\u001b[39m_response_closed()\n\u001b[1;32m--> 136\u001b[0m \u001b[38;5;28;01mraise\u001b[39;00m exc\n",
      "File \u001b[1;32md:\\Users\\mlaudan\\Documents\\mag\\text_summarization\\.venv\\lib\\site-packages\\httpcore\\_sync\\http11.py:106\u001b[0m, in \u001b[0;36mHTTP11Connection.handle_request\u001b[1;34m(self, request)\u001b[0m\n\u001b[0;32m     95\u001b[0m     \u001b[38;5;28;01mpass\u001b[39;00m\n\u001b[0;32m     97\u001b[0m \u001b[38;5;28;01mwith\u001b[39;00m Trace(\n\u001b[0;32m     98\u001b[0m     \u001b[38;5;124m\"\u001b[39m\u001b[38;5;124mreceive_response_headers\u001b[39m\u001b[38;5;124m\"\u001b[39m, logger, request, kwargs\n\u001b[0;32m     99\u001b[0m ) \u001b[38;5;28;01mas\u001b[39;00m trace:\n\u001b[0;32m    100\u001b[0m     (\n\u001b[0;32m    101\u001b[0m         http_version,\n\u001b[0;32m    102\u001b[0m         status,\n\u001b[0;32m    103\u001b[0m         reason_phrase,\n\u001b[0;32m    104\u001b[0m         headers,\n\u001b[0;32m    105\u001b[0m         trailing_data,\n\u001b[1;32m--> 106\u001b[0m     ) \u001b[38;5;241m=\u001b[39m \u001b[38;5;28;43mself\u001b[39;49m\u001b[38;5;241;43m.\u001b[39;49m\u001b[43m_receive_response_headers\u001b[49m\u001b[43m(\u001b[49m\u001b[38;5;241;43m*\u001b[39;49m\u001b[38;5;241;43m*\u001b[39;49m\u001b[43mkwargs\u001b[49m\u001b[43m)\u001b[49m\n\u001b[0;32m    107\u001b[0m     trace\u001b[38;5;241m.\u001b[39mreturn_value \u001b[38;5;241m=\u001b[39m (\n\u001b[0;32m    108\u001b[0m         http_version,\n\u001b[0;32m    109\u001b[0m         status,\n\u001b[0;32m    110\u001b[0m         reason_phrase,\n\u001b[0;32m    111\u001b[0m         headers,\n\u001b[0;32m    112\u001b[0m     )\n\u001b[0;32m    114\u001b[0m network_stream \u001b[38;5;241m=\u001b[39m \u001b[38;5;28mself\u001b[39m\u001b[38;5;241m.\u001b[39m_network_stream\n",
      "File \u001b[1;32md:\\Users\\mlaudan\\Documents\\mag\\text_summarization\\.venv\\lib\\site-packages\\httpcore\\_sync\\http11.py:177\u001b[0m, in \u001b[0;36mHTTP11Connection._receive_response_headers\u001b[1;34m(self, request)\u001b[0m\n\u001b[0;32m    174\u001b[0m timeout \u001b[38;5;241m=\u001b[39m timeouts\u001b[38;5;241m.\u001b[39mget(\u001b[38;5;124m\"\u001b[39m\u001b[38;5;124mread\u001b[39m\u001b[38;5;124m\"\u001b[39m, \u001b[38;5;28;01mNone\u001b[39;00m)\n\u001b[0;32m    176\u001b[0m \u001b[38;5;28;01mwhile\u001b[39;00m \u001b[38;5;28;01mTrue\u001b[39;00m:\n\u001b[1;32m--> 177\u001b[0m     event \u001b[38;5;241m=\u001b[39m \u001b[38;5;28;43mself\u001b[39;49m\u001b[38;5;241;43m.\u001b[39;49m\u001b[43m_receive_event\u001b[49m\u001b[43m(\u001b[49m\u001b[43mtimeout\u001b[49m\u001b[38;5;241;43m=\u001b[39;49m\u001b[43mtimeout\u001b[49m\u001b[43m)\u001b[49m\n\u001b[0;32m    178\u001b[0m     \u001b[38;5;28;01mif\u001b[39;00m \u001b[38;5;28misinstance\u001b[39m(event, h11\u001b[38;5;241m.\u001b[39mResponse):\n\u001b[0;32m    179\u001b[0m         \u001b[38;5;28;01mbreak\u001b[39;00m\n",
      "File \u001b[1;32md:\\Users\\mlaudan\\Documents\\mag\\text_summarization\\.venv\\lib\\site-packages\\httpcore\\_sync\\http11.py:217\u001b[0m, in \u001b[0;36mHTTP11Connection._receive_event\u001b[1;34m(self, timeout)\u001b[0m\n\u001b[0;32m    214\u001b[0m     event \u001b[38;5;241m=\u001b[39m \u001b[38;5;28mself\u001b[39m\u001b[38;5;241m.\u001b[39m_h11_state\u001b[38;5;241m.\u001b[39mnext_event()\n\u001b[0;32m    216\u001b[0m \u001b[38;5;28;01mif\u001b[39;00m event \u001b[38;5;129;01mis\u001b[39;00m h11\u001b[38;5;241m.\u001b[39mNEED_DATA:\n\u001b[1;32m--> 217\u001b[0m     data \u001b[38;5;241m=\u001b[39m \u001b[38;5;28;43mself\u001b[39;49m\u001b[38;5;241;43m.\u001b[39;49m\u001b[43m_network_stream\u001b[49m\u001b[38;5;241;43m.\u001b[39;49m\u001b[43mread\u001b[49m\u001b[43m(\u001b[49m\n\u001b[0;32m    218\u001b[0m \u001b[43m        \u001b[49m\u001b[38;5;28;43mself\u001b[39;49m\u001b[38;5;241;43m.\u001b[39;49m\u001b[43mREAD_NUM_BYTES\u001b[49m\u001b[43m,\u001b[49m\u001b[43m \u001b[49m\u001b[43mtimeout\u001b[49m\u001b[38;5;241;43m=\u001b[39;49m\u001b[43mtimeout\u001b[49m\n\u001b[0;32m    219\u001b[0m \u001b[43m    \u001b[49m\u001b[43m)\u001b[49m\n\u001b[0;32m    221\u001b[0m     \u001b[38;5;66;03m# If we feed this case through h11 we'll raise an exception like:\u001b[39;00m\n\u001b[0;32m    222\u001b[0m     \u001b[38;5;66;03m#\u001b[39;00m\n\u001b[0;32m    223\u001b[0m     \u001b[38;5;66;03m#     httpcore.RemoteProtocolError: can't handle event type\u001b[39;00m\n\u001b[1;32m   (...)\u001b[0m\n\u001b[0;32m    227\u001b[0m     \u001b[38;5;66;03m# perspective. Instead we handle this case distinctly and treat\u001b[39;00m\n\u001b[0;32m    228\u001b[0m     \u001b[38;5;66;03m# it as a ConnectError.\u001b[39;00m\n\u001b[0;32m    229\u001b[0m     \u001b[38;5;28;01mif\u001b[39;00m data \u001b[38;5;241m==\u001b[39m \u001b[38;5;124mb\u001b[39m\u001b[38;5;124m\"\u001b[39m\u001b[38;5;124m\"\u001b[39m \u001b[38;5;129;01mand\u001b[39;00m \u001b[38;5;28mself\u001b[39m\u001b[38;5;241m.\u001b[39m_h11_state\u001b[38;5;241m.\u001b[39mtheir_state \u001b[38;5;241m==\u001b[39m h11\u001b[38;5;241m.\u001b[39mSEND_RESPONSE:\n",
      "File \u001b[1;32md:\\Users\\mlaudan\\Documents\\mag\\text_summarization\\.venv\\lib\\site-packages\\httpcore\\_backends\\sync.py:128\u001b[0m, in \u001b[0;36mSyncStream.read\u001b[1;34m(self, max_bytes, timeout)\u001b[0m\n\u001b[0;32m    126\u001b[0m \u001b[38;5;28;01mwith\u001b[39;00m map_exceptions(exc_map):\n\u001b[0;32m    127\u001b[0m     \u001b[38;5;28mself\u001b[39m\u001b[38;5;241m.\u001b[39m_sock\u001b[38;5;241m.\u001b[39msettimeout(timeout)\n\u001b[1;32m--> 128\u001b[0m     \u001b[38;5;28;01mreturn\u001b[39;00m \u001b[38;5;28;43mself\u001b[39;49m\u001b[38;5;241;43m.\u001b[39;49m\u001b[43m_sock\u001b[49m\u001b[38;5;241;43m.\u001b[39;49m\u001b[43mrecv\u001b[49m\u001b[43m(\u001b[49m\u001b[43mmax_bytes\u001b[49m\u001b[43m)\u001b[49m\n",
      "File \u001b[1;32mC:\\Program Files\\Python38\\lib\\ssl.py:1226\u001b[0m, in \u001b[0;36mSSLSocket.recv\u001b[1;34m(self, buflen, flags)\u001b[0m\n\u001b[0;32m   1222\u001b[0m     \u001b[38;5;28;01mif\u001b[39;00m flags \u001b[38;5;241m!=\u001b[39m \u001b[38;5;241m0\u001b[39m:\n\u001b[0;32m   1223\u001b[0m         \u001b[38;5;28;01mraise\u001b[39;00m \u001b[38;5;167;01mValueError\u001b[39;00m(\n\u001b[0;32m   1224\u001b[0m             \u001b[38;5;124m\"\u001b[39m\u001b[38;5;124mnon-zero flags not allowed in calls to recv() on \u001b[39m\u001b[38;5;132;01m%s\u001b[39;00m\u001b[38;5;124m\"\u001b[39m \u001b[38;5;241m%\u001b[39m\n\u001b[0;32m   1225\u001b[0m             \u001b[38;5;28mself\u001b[39m\u001b[38;5;241m.\u001b[39m\u001b[38;5;18m__class__\u001b[39m)\n\u001b[1;32m-> 1226\u001b[0m     \u001b[38;5;28;01mreturn\u001b[39;00m \u001b[38;5;28;43mself\u001b[39;49m\u001b[38;5;241;43m.\u001b[39;49m\u001b[43mread\u001b[49m\u001b[43m(\u001b[49m\u001b[43mbuflen\u001b[49m\u001b[43m)\u001b[49m\n\u001b[0;32m   1227\u001b[0m \u001b[38;5;28;01melse\u001b[39;00m:\n\u001b[0;32m   1228\u001b[0m     \u001b[38;5;28;01mreturn\u001b[39;00m \u001b[38;5;28msuper\u001b[39m()\u001b[38;5;241m.\u001b[39mrecv(buflen, flags)\n",
      "File \u001b[1;32mC:\\Program Files\\Python38\\lib\\ssl.py:1101\u001b[0m, in \u001b[0;36mSSLSocket.read\u001b[1;34m(self, len, buffer)\u001b[0m\n\u001b[0;32m   1099\u001b[0m         \u001b[38;5;28;01mreturn\u001b[39;00m \u001b[38;5;28mself\u001b[39m\u001b[38;5;241m.\u001b[39m_sslobj\u001b[38;5;241m.\u001b[39mread(\u001b[38;5;28mlen\u001b[39m, buffer)\n\u001b[0;32m   1100\u001b[0m     \u001b[38;5;28;01melse\u001b[39;00m:\n\u001b[1;32m-> 1101\u001b[0m         \u001b[38;5;28;01mreturn\u001b[39;00m \u001b[38;5;28;43mself\u001b[39;49m\u001b[38;5;241;43m.\u001b[39;49m\u001b[43m_sslobj\u001b[49m\u001b[38;5;241;43m.\u001b[39;49m\u001b[43mread\u001b[49m\u001b[43m(\u001b[49m\u001b[38;5;28;43mlen\u001b[39;49m\u001b[43m)\u001b[49m\n\u001b[0;32m   1102\u001b[0m \u001b[38;5;28;01mexcept\u001b[39;00m SSLError \u001b[38;5;28;01mas\u001b[39;00m x:\n\u001b[0;32m   1103\u001b[0m     \u001b[38;5;28;01mif\u001b[39;00m x\u001b[38;5;241m.\u001b[39margs[\u001b[38;5;241m0\u001b[39m] \u001b[38;5;241m==\u001b[39m SSL_ERROR_EOF \u001b[38;5;129;01mand\u001b[39;00m \u001b[38;5;28mself\u001b[39m\u001b[38;5;241m.\u001b[39msuppress_ragged_eofs:\n",
      "\u001b[1;31mKeyboardInterrupt\u001b[0m: "
     ]
    }
   ],
   "source": [
    "\n",
    "# Docs: https://huggingface.co/spaces/evaluate-metric/sacrebleu\n",
    "# score from 0 to 100\n",
    "local_accuracy = 0.0\n",
    "deepl_accuracy = 0.0\n",
    "\n",
    "def compute(predictions, references):\n",
    "    # Predictions and references\n",
    "    predictions = [predictions]\n",
    "    references = [[references]]\n",
    "\n",
    "    # Compute all metrics\n",
    "    results_rouge = rouge.compute(predictions=predictions, references=references)  # ROUGE expects list of strings\n",
    "    results_sacrebleu = sacrebleu.compute(predictions=predictions, references=references)\n",
    "    results_meteor = meteor.compute(predictions=predictions, references=references)\n",
    "    results_chrf = chrf.compute(predictions=predictions, references=references)\n",
    "    results_bleu = bleu.compute(predictions=predictions, references=references)\n",
    "    return results_rouge['rouge1']\n",
    "\n",
    "    # Print results\n",
    "    # print(\"\\n📊 Translation Metrics:\")\n",
    "    # print(f\"ROUGE-1 (0–1):        {results_rouge['rouge1']:.4f}\")  # Overlap of unigrams (single words) between the generated and reference texts.\n",
    "    # print(f\"ROUGE-2 (0–1):        {results_rouge['rouge2']:.4f}\")  # Overlap of bigrams (word pairs).\n",
    "    # print(f\"ROUGE-L (0–1):        {results_rouge['rougeL']:.4f}\")  # Measures longest common subsequence (sequence similarity).\n",
    "    # print(f\"SacreBLEU (0–100):    {results_sacrebleu['score']:.2f}\")  # Precision-based score for how many matching words/phrases, adjusted for brevity.\n",
    "    # print(f\"METEOR (0–1):         {results_meteor['meteor']:.4f}\")  #  Considers word matches, stemming, and synonyms with penalties for word order.\n",
    "    # print(f\"chrF (0–100):         {results_chrf['score']:.2f}\")  # Measures character-level n-gram overlap (more sensitive to small variations).\n",
    "    # print(f\"BLEU (0–100):         {results_bleu['bleu']:.2f}\")  # Measures n-gram overlap between generated and reference texts.\n",
    "\n",
    "n = 10\n",
    "for i in range(n):\n",
    "    src_input, predictions, references = inference_from_datasets(train_dataset=False, index=i)  # translation, real_translation\n",
    "\n",
    "\n",
    "    json_data = {\n",
    "        \"text\": [src_input], \n",
    "        \"target_lang\": \"FR\"\n",
    "    }\n",
    "    headers = {\"Authorization\": \"DeepL-Auth-Key 8a886374-aa90-488e-8209-a000d7ac9e93:fx\"}\n",
    "    response = httpx.post(\"https://api-free.deepl.com/v2/translate\", json=json_data, headers=headers)\n",
    "    response = response.json()[\"translations\"][0][\"text\"]\n",
    "    print('Translation from DeepL:', response)\n",
    "\n",
    "    local_accuracy += compute(predictions, references)\n",
    "    print()\n",
    "    deepl_accuracy += compute(predictions, response)\n",
    "\n",
    "print('Local accuracy:', local_accuracy/n)\n",
    "print('DeepL accuracy:', deepl_accuracy/n)"
   ]
  },
  {
   "cell_type": "code",
   "execution_count": null,
   "id": "ebf81597",
   "metadata": {},
   "outputs": [],
   "source": []
  },
  {
   "cell_type": "code",
   "execution_count": 26,
   "id": "afc825fbffc59d9d",
   "metadata": {
    "ExecuteTime": {
     "end_time": "2025-03-14T14:05:05.855584Z",
     "start_time": "2025-03-14T14:05:05.850821Z"
    },
    "trusted": true
   },
   "outputs": [],
   "source": [
    "# PATH = r\"new_translation_model.pt\"\n",
    "# torch.save(transformer.state_dict(), PATH)"
   ]
  },
  {
   "cell_type": "code",
   "execution_count": 27,
   "id": "1e2e14dd4afcbea3",
   "metadata": {
    "ExecuteTime": {
     "end_time": "2025-03-14T14:05:05.944091Z",
     "start_time": "2025-03-14T14:05:05.940396Z"
    },
    "trusted": true
   },
   "outputs": [],
   "source": [
    "# next_model = Transformer(src_vocab_size, tgt_vocab_size, d_model, num_heads, num_layers, d_ff, max_src_seq_len,\n",
    "#                          max_tgt_seq_len, dropout)\n",
    "# next_model.load_state_dict(torch.load(PATH, weights_only=True))\n",
    "# next_model = next_model.to(device)\n",
    "# # print(next_model)\n",
    "\n",
    "# # sentence = tokenizer.decode(train_loader.dataset[0][0].tolist(), skip_special_tokens=True)\n",
    "# sentence = \"What are light beans there?\"\n",
    "# print(sentence)\n",
    "# # sentence = \"Prehistoric humans studied the relationship between the seasons and the length of days to plan their hunting and gathering activities.\"\n",
    "# translation = translate_sentence(sentence, tokenizer, next_model)\n",
    "# print(translation)"
   ]
  }
 ],
 "metadata": {
  "kaggle": {
   "accelerator": "none",
   "dataSources": [],
   "dockerImageVersionId": 30919,
   "isGpuEnabled": false,
   "isInternetEnabled": true,
   "language": "python",
   "sourceType": "notebook"
  },
  "kernelspec": {
   "display_name": ".venv",
   "language": "python",
   "name": "python3"
  },
  "language_info": {
   "codemirror_mode": {
    "name": "ipython",
    "version": 3
   },
   "file_extension": ".py",
   "mimetype": "text/x-python",
   "name": "python",
   "nbconvert_exporter": "python",
   "pygments_lexer": "ipython3",
   "version": "3.8.6"
  }
 },
 "nbformat": 4,
 "nbformat_minor": 5
}
