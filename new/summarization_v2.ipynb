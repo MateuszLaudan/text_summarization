{
 "cells": [
  {
   "cell_type": "markdown",
   "id": "42235b27f740c1d2",
   "metadata": {},
   "source": [
    "# Summarization model"
   ]
  },
  {
   "cell_type": "code",
   "execution_count": 1,
   "id": "b25e86ebe92c96ae",
   "metadata": {
    "ExecuteTime": {
     "end_time": "2025-03-14T14:00:53.535200Z",
     "start_time": "2025-03-14T14:00:51.569674Z"
    },
    "trusted": true
   },
   "outputs": [
    {
     "name": "stdout",
     "output_type": "stream",
     "text": [
      "PyTorch version: 2.6.0+cu126\n",
      "CUDA available: True\n",
      "CUDA version: 12.6\n",
      "GPU count: 1\n",
      "Using device: cuda\n"
     ]
    }
   ],
   "source": [
    "\n",
    "import torch\n",
    "import torch.nn as nn\n",
    "\n",
    "seed = 42\n",
    "torch.manual_seed(seed)  # PyTorch CPU\n",
    "torch.cuda.manual_seed(seed)  # PyTorch GPU\n",
    "torch.cuda.manual_seed_all(seed)  # Multi-GPU\n",
    "\n",
    "# Check if GPU is available\n",
    "print(f\"PyTorch version: {torch.__version__}\")\n",
    "print(f\"CUDA available: {torch.cuda.is_available()}\")\n",
    "print(f\"CUDA version: {torch.version.cuda}\")\n",
    "print(f\"GPU count: {torch.cuda.device_count()}\")\n",
    "device = \"cuda\" if torch.cuda.is_available() else \"cpu\"\n",
    "# device = 'cpu'\n",
    "print(f\"Using device: {device}\")\n",
    "\n",
    "# import os\n"
   ]
  },
  {
   "cell_type": "markdown",
   "id": "a446025fac5ce2dc",
   "metadata": {},
   "source": [
    "# Load dataset"
   ]
  },
  {
   "cell_type": "code",
   "execution_count": 2,
   "id": "initial_id",
   "metadata": {
    "ExecuteTime": {
     "end_time": "2025-03-14T14:00:57.360280Z",
     "start_time": "2025-03-14T14:00:53.535200Z"
    },
    "trusted": true
   },
   "outputs": [
    {
     "name": "stdout",
     "output_type": "stream",
     "text": [
      "IterableDataset({\n",
      "    features: ['article', 'highlights', 'id', 'summary', 'distilabel_metadata', 'model_name'],\n",
      "    num_shards: 7\n",
      "})\n"
     ]
    }
   ],
   "source": [
    "\n",
    "from datasets import load_dataset\n",
    "\n",
    "ds = load_dataset(\"argilla/cnn-dailymail-summaries\", split='train', streaming=True)\n",
    "print(ds)"
   ]
  },
  {
   "cell_type": "markdown",
   "id": "b63c8a35c64f0a7d",
   "metadata": {},
   "source": [
    "# Get Tokenizer - BartTokenizer with 50265 vocab size"
   ]
  },
  {
   "cell_type": "code",
   "execution_count": 3,
   "id": "bd29edde37c72d6c",
   "metadata": {
    "ExecuteTime": {
     "end_time": "2025-03-14T14:01:05.976725Z",
     "start_time": "2025-03-14T14:01:03.601837Z"
    },
    "trusted": true
   },
   "outputs": [],
   "source": [
    "from transformers import BartTokenizer\n",
    "\n",
    "tokenizer = BartTokenizer.from_pretrained(\"facebook/bart-large-cnn\")\n",
    "VOCAB_SIZE = tokenizer.vocab_size\n",
    "\n",
    "SRC_MAX_SEQ = 512\n",
    "TGT_MAX_SEQ = 64\n"
   ]
  },
  {
   "cell_type": "markdown",
   "id": "87b02503926cda8a",
   "metadata": {},
   "source": [
    "# Prepare data"
   ]
  },
  {
   "cell_type": "code",
   "execution_count": 4,
   "id": "a18148b6dc1234f1",
   "metadata": {
    "ExecuteTime": {
     "end_time": "2025-03-14T14:01:03.594626Z",
     "start_time": "2025-03-14T14:00:57.522389Z"
    },
    "trusted": true
   },
   "outputs": [],
   "source": [
    "inputs = []\n",
    "outputs = []\n",
    "i = 0\n",
    "max = 1000\n",
    "for data in ds:\n",
    "    article = tokenizer.encode(str(data['article']))\n",
    "    summary = tokenizer.encode(str(data['highlights']))\n",
    "    if len(article) <= SRC_MAX_SEQ and len(summary) <= TGT_MAX_SEQ:\n",
    "        inputs.append(article)\n",
    "        outputs.append(summary)\n",
    "        i += 1\n",
    "    \n",
    "    if i == max:\n",
    "        break"
   ]
  },
  {
   "cell_type": "markdown",
   "id": "758e78e09478c0da",
   "metadata": {},
   "source": [
    "# Clean data"
   ]
  },
  {
   "cell_type": "code",
   "execution_count": 5,
   "id": "13fddb44c3ac001c",
   "metadata": {
    "ExecuteTime": {
     "end_time": "2025-03-14T14:02:36.204862Z",
     "start_time": "2025-03-14T14:01:05.982943Z"
    },
    "trusted": true
   },
   "outputs": [],
   "source": [
    "\"\"\"To set determined len for src and tgt --> also with pad tokens\"\"\"\n",
    "\n",
    "# inputs = []\n",
    "# outputs = []\n",
    "# for i in range(len(articles)):\n",
    "#     article = tokenizer.encode(str(articles[i]))\n",
    "#     summary = tokenizer.encode(str(summaries[i]))\n",
    "#     if len(article) <= SRC_MAX_SEQ and len(summary) <= TGT_MAX_SEQ:\n",
    "#         inputs.append(article)\n",
    "#         outputs.append(summary)\n",
    "\n",
    "def clean_data(sentences, max_seq_length):\n",
    "    for i, sentence in enumerate(sentences):\n",
    "        if len(sentence) < max_seq_length:\n",
    "            sentences[i] = sentence + [tokenizer.pad_token_id] * (max_seq_length - len(sentence))\n",
    "\n",
    "\n",
    "clean_data(inputs, SRC_MAX_SEQ)\n",
    "clean_data(outputs, TGT_MAX_SEQ)"
   ]
  },
  {
   "cell_type": "code",
   "execution_count": 6,
   "id": "b871c29a18bd72e0",
   "metadata": {
    "ExecuteTime": {
     "end_time": "2025-03-14T14:02:36.786438Z",
     "start_time": "2025-03-14T14:02:36.229746Z"
    },
    "trusted": true
   },
   "outputs": [
    {
     "name": "stdout",
     "output_type": "stream",
     "text": [
      "Max src seq len: 512\n",
      "Max tgt seq len: 64\n",
      "Number of examples: 1000\n",
      "Number of vocab size: 50265\n"
     ]
    }
   ],
   "source": [
    "articles_inputs = torch.tensor(inputs)\n",
    "summaries_outputs = torch.tensor(outputs)\n",
    "assert len(articles_inputs) == len(summaries_outputs), \"Number of articles and summaries must be the same\"\n",
    "print('Max src seq len:', SRC_MAX_SEQ)\n",
    "print('Max tgt seq len:', TGT_MAX_SEQ)\n",
    "print('Number of examples:', len(inputs))\n",
    "print(\"Number of vocab size:\", VOCAB_SIZE)"
   ]
  },
  {
   "cell_type": "markdown",
   "id": "d5f9a69697ca4da7",
   "metadata": {},
   "source": [
    "# Custom Dataset and DataLoader with train and val data (80%, 20%)"
   ]
  },
  {
   "cell_type": "code",
   "execution_count": 7,
   "id": "482d5e998d8ec790",
   "metadata": {
    "ExecuteTime": {
     "end_time": "2025-03-14T14:02:36.816089Z",
     "start_time": "2025-03-14T14:02:36.800441Z"
    },
    "trusted": true
   },
   "outputs": [
    {
     "name": "stdout",
     "output_type": "stream",
     "text": [
      "Number of training samples: 800\n",
      "Number of validation samples: 200\n"
     ]
    }
   ],
   "source": [
    "from torch.utils.data import random_split, Dataset\n",
    "\n",
    "\n",
    "class CustomDataset(Dataset):\n",
    "    def __init__(self, inputs: torch.Tensor, outputs: torch.Tensor):\n",
    "        self.inputs = inputs\n",
    "        self.outputs = outputs\n",
    "\n",
    "    def __len__(self):\n",
    "        return len(self.inputs)\n",
    "\n",
    "    def __getitem__(self, idx):\n",
    "        return self.inputs[idx], self.outputs[idx]\n",
    "\n",
    "\n",
    "dataset = CustomDataset(articles_inputs, summaries_outputs)\n",
    "train_data, val_data = random_split(dataset, [0.8, 0.2])\n",
    "print(f\"Number of training samples: {len(train_data)}\")\n",
    "print(f\"Number of validation samples: {len(val_data)}\")"
   ]
  },
  {
   "cell_type": "code",
   "execution_count": 8,
   "id": "cd381a10172d1af3",
   "metadata": {
    "ExecuteTime": {
     "end_time": "2025-03-14T14:02:36.832311Z",
     "start_time": "2025-03-14T14:02:36.825793Z"
    },
    "trusted": true
   },
   "outputs": [
    {
     "name": "stdout",
     "output_type": "stream",
     "text": [
      "Number of batches in training set: 25\n",
      "Number of batches in validation set: 7\n"
     ]
    }
   ],
   "source": [
    "from torch.utils.data import DataLoader\n",
    "\n",
    "BATCH_SIZE = 32  # TODO: expand batch size for transformer architecture\n",
    "\n",
    "train_loader = DataLoader(\n",
    "    train_data,\n",
    "    batch_size=BATCH_SIZE,\n",
    "    shuffle=True,\n",
    "    # drop_last=True\n",
    ")\n",
    "\n",
    "val_loader = DataLoader(\n",
    "    val_data,\n",
    "    batch_size=BATCH_SIZE,\n",
    "    shuffle=True,\n",
    "    # drop_last=True\n",
    ")\n",
    "\n",
    "print(f\"Number of batches in training set: {len(train_loader)}\")\n",
    "print(f\"Number of batches in validation set: {len(val_loader)}\")\n"
   ]
  },
  {
   "cell_type": "code",
   "execution_count": 9,
   "id": "ef607fe7d7712cd5",
   "metadata": {
    "ExecuteTime": {
     "end_time": "2025-03-14T14:02:36.875983Z",
     "start_time": "2025-03-14T14:02:36.841289Z"
    },
    "trusted": true
   },
   "outputs": [],
   "source": [
    "import math\n",
    "\n",
    "\n",
    "class MultiHeadAttention(nn.Module):\n",
    "    def __init__(self, d_model, num_heads):\n",
    "        super(MultiHeadAttention, self).__init__()\n",
    "        assert d_model % num_heads == 0, \"d_model must be divisible by num_heads\"\n",
    "\n",
    "        self.d_model = d_model\n",
    "        self.num_heads = num_heads\n",
    "        self.d_k = d_model // num_heads \n",
    "\n",
    "        self.W_q = nn.Linear(d_model, d_model)  # Query transformation\n",
    "        self.W_k = nn.Linear(d_model, d_model)  # Key transformation\n",
    "        self.W_v = nn.Linear(d_model, d_model)  # Value transformation\n",
    "        self.W_o = nn.Linear(d_model, d_model)  # Output transformation\n",
    "\n",
    "    def scaled_dot_product_attention(self, Q, K, V, mask=None):\n",
    "        # TODO: use F..scaled_dot_product_attention\n",
    "        attn_scores = torch.matmul(Q, K.transpose(-2, -1)) / math.sqrt(self.d_k)\n",
    "\n",
    "        if mask is not None:\n",
    "            attn_scores = attn_scores.masked_fill(mask == 0, -1e9)\n",
    "\n",
    "        attn_probs = torch.softmax(attn_scores, dim=-1)\n",
    "\n",
    "        output = torch.matmul(attn_probs, V)\n",
    "        return output\n",
    "\n",
    "    def split_heads(self, x):\n",
    "        batch_size, seq_length, d_model = x.size()\n",
    "        return x.view(batch_size, seq_length, self.num_heads, self.d_k).transpose(1, 2)\n",
    "\n",
    "    def combine_heads(self, x):\n",
    "        batch_size, _, seq_length, d_k = x.size()\n",
    "        return x.transpose(1, 2).contiguous().view(batch_size, seq_length, self.d_model)\n",
    "\n",
    "    def forward(self, Q, K, V, mask=None):\n",
    "        Q = self.split_heads(self.W_q(Q))\n",
    "        K = self.split_heads(self.W_k(K))\n",
    "        V = self.split_heads(self.W_v(V))\n",
    "\n",
    "        attn_output = self.scaled_dot_product_attention(Q, K, V, mask)\n",
    "        output = self.W_o(self.combine_heads(attn_output))\n",
    "        return output"
   ]
  },
  {
   "cell_type": "code",
   "execution_count": 10,
   "id": "5785cc712765f655",
   "metadata": {
    "ExecuteTime": {
     "end_time": "2025-03-14T14:02:36.889939Z",
     "start_time": "2025-03-14T14:02:36.885027Z"
    },
    "trusted": true
   },
   "outputs": [],
   "source": [
    "class FeedForward(nn.Module):\n",
    "    def __init__(self, d_model, d_ff):\n",
    "        super(FeedForward, self).__init__()\n",
    "        self.fc1 = nn.Linear(d_model, d_ff)\n",
    "        self.fc2 = nn.Linear(d_ff, d_model)\n",
    "        # Assumption: GELU outperforms ReLU which leads to 'ReLU dead neuron problem': https://arxiv.org/pdf/1606.08415\n",
    "        self.gelu = nn.GELU(approximate='tanh')\n",
    "\n",
    "    def forward(self, x):\n",
    "        return self.fc2(self.gelu(self.fc1(x)))"
   ]
  },
  {
   "cell_type": "code",
   "execution_count": 11,
   "id": "fe4e61c154ff8b1a",
   "metadata": {
    "ExecuteTime": {
     "end_time": "2025-03-14T14:02:36.905657Z",
     "start_time": "2025-03-14T14:02:36.898280Z"
    },
    "trusted": true
   },
   "outputs": [
    {
     "data": {
      "text/plain": [
       "'NOTE: There is no evidence that positional encoding is better than simple learnable embeddings.'"
      ]
     },
     "execution_count": 11,
     "metadata": {},
     "output_type": "execute_result"
    }
   ],
   "source": [
    "\"\"\"NOTE: There is no evidence that positional encoding is better than simple learnable embeddings.\"\"\"\n",
    "\n",
    "#\n",
    "# class PositionalEncoding(nn.Module):\n",
    "#     def __init__(self, d_model, max_seq_length):\n",
    "#         super(PositionalEncoding, self).__init__()\n",
    "#\n",
    "#         pe = torch.zeros(max_seq_length, d_model)\n",
    "#         position = torch.arange(0, max_seq_length, dtype=torch.float).unsqueeze(1)\n",
    "#         div_term = torch.exp(torch.arange(0, d_model, 2).float() * -(math.log(10000.0) / d_model))\n",
    "#\n",
    "#         pe[:, 0::2] = torch.sin(position * div_term)\n",
    "#         pe[:, 1::2] = torch.cos(position * div_term)\n",
    "#\n",
    "#         self.register_buffer('pe', pe.unsqueeze(0))\n",
    "#\n",
    "#     def forward(self, x):\n",
    "#         return x + self.pe[:, :x.size(1)]"
   ]
  },
  {
   "cell_type": "code",
   "execution_count": 12,
   "id": "67a0b8abf7ef1b80",
   "metadata": {
    "ExecuteTime": {
     "end_time": "2025-03-14T14:02:36.920098Z",
     "start_time": "2025-03-14T14:02:36.914083Z"
    },
    "trusted": true
   },
   "outputs": [],
   "source": [
    "class EncoderLayer(nn.Module):\n",
    "    def __init__(self, d_model, num_heads, d_ff, dropout):\n",
    "        super(EncoderLayer, self).__init__()\n",
    "        self.self_attn = MultiHeadAttention(d_model, num_heads)\n",
    "        self.feed_forward = FeedForward(d_model, d_ff)\n",
    "        self.norm1 = nn.LayerNorm(d_model)\n",
    "        self.norm2 = nn.LayerNorm(d_model)\n",
    "        self.dropout = nn.Dropout(dropout)  # TODO: one dropout layer or two?\n",
    "\n",
    "    def forward(self, x, mask):\n",
    "        # Normalization before sub-blocks: as described at: https://cdn.openai.com/better-language-models/language_models_are_unsupervised_multitask_learners.pdf\n",
    "        residual_x = self.norm1(x)  # residual_x described at: https://arxiv.org/pdf/1904.10509\n",
    "        attn_output = self.self_attn(residual_x, residual_x, residual_x, mask)\n",
    "        x = x + self.dropout(attn_output)\n",
    "        residual_x = self.norm2(x)  # Normalization before sub-blocks\n",
    "        ff_output = self.feed_forward(residual_x)\n",
    "        x = x + self.dropout(ff_output)\n",
    "        return x"
   ]
  },
  {
   "cell_type": "code",
   "execution_count": 13,
   "id": "13f775b689e91e6e",
   "metadata": {
    "ExecuteTime": {
     "end_time": "2025-03-14T14:02:36.935223Z",
     "start_time": "2025-03-14T14:02:36.929678Z"
    },
    "trusted": true
   },
   "outputs": [],
   "source": [
    "class DecoderLayer(nn.Module):\n",
    "    def __init__(self, d_model, num_heads, d_ff, dropout):\n",
    "        super(DecoderLayer, self).__init__()\n",
    "        self.self_attn = MultiHeadAttention(d_model, num_heads)\n",
    "        self.cross_attn = MultiHeadAttention(d_model, num_heads)\n",
    "        self.feed_forward = FeedForward(d_model, d_ff)\n",
    "        self.norm1 = nn.LayerNorm(d_model)\n",
    "        self.norm2 = nn.LayerNorm(d_model)\n",
    "        self.norm3 = nn.LayerNorm(d_model)\n",
    "        self.dropout = nn.Dropout(dropout)\n",
    "\n",
    "    def forward(self, x, enc_output, src_mask, tgt_mask):\n",
    "        # Normalization before sub-blocks: as described at: https://cdn.openai.com/better-language-models/language_models_are_unsupervised_multitask_learners.pdf\n",
    "        residual_x = self.norm1(x)\n",
    "        attn_output = self.self_attn(residual_x, residual_x, residual_x, tgt_mask)\n",
    "        x = x + self.dropout(attn_output)\n",
    "        residual_x = self.norm2(x)  # Normalization before sub-blocks\n",
    "        attn_output = self.cross_attn(residual_x, enc_output, enc_output, src_mask)\n",
    "        x = x + self.dropout(attn_output)\n",
    "        residual_x = self.norm3(x)  # Normalization before sub-blocks\n",
    "        ff_output = self.feed_forward(residual_x)\n",
    "        x = x + self.dropout(ff_output)\n",
    "        return x"
   ]
  },
  {
   "cell_type": "code",
   "execution_count": 14,
   "id": "1f6b502c5537500e",
   "metadata": {
    "ExecuteTime": {
     "end_time": "2025-03-14T14:02:36.976478Z",
     "start_time": "2025-03-14T14:02:36.947631Z"
    },
    "trusted": true
   },
   "outputs": [],
   "source": [
    "\n",
    "\n",
    "\n",
    "class Transformer(nn.Module):\n",
    "    def __init__(self, src_vocab_size, tgt_vocab_size, d_model, num_heads, num_layers, d_ff, max_src_seq_len,\n",
    "                 max_tgt_seq_len, dropout):\n",
    "        super(Transformer, self).__init__()\n",
    "        self.encoder_embedding = nn.Embedding(src_vocab_size, d_model)\n",
    "        self.decoder_embedding = nn.Embedding(tgt_vocab_size, d_model)\n",
    "        # self.src_positional_encoding = PositionalEncoding(d_model, max_src_seq_len)\n",
    "        # self.tgt_positional_encoding = PositionalEncoding(d_model, max_tgt_seq_len)\n",
    "        self.src_positional_encoding = nn.Embedding(max_src_seq_len,\n",
    "                                                    d_model)  # instead of cos and sin functions (in PositionalEncoding)\n",
    "        self.tgt_positional_encoding = nn.Embedding(max_tgt_seq_len, d_model)\n",
    "\n",
    "        self.encoder_layers = nn.ModuleList(\n",
    "            [EncoderLayer(d_model, num_heads, d_ff, dropout) for _ in range(num_layers)])\n",
    "        self.decoder_layers = nn.ModuleList(\n",
    "            [DecoderLayer(d_model, num_heads, d_ff, dropout) for _ in range(num_layers)])\n",
    "\n",
    "        # One more LayerNorm as described: https://cdn.openai.com/better-language-models/language_models_are_unsupervised_multitask_learners.pdf\n",
    "        self.ln_f = nn.LayerNorm(d_model)\n",
    "        self.output_layer = nn.Linear(d_model, tgt_vocab_size,\n",
    "                                      bias=False)  # bias=False as depicted: https://github.com/karpathy/nanoGPT/blob/master/model.py\n",
    "        self.dropout = nn.Dropout(dropout)\n",
    "\n",
    "    def generate_mask(self, src, tgt):\n",
    "        src_mask = (src != tokenizer.pad_token_id).unsqueeze(1).unsqueeze(2)\n",
    "        tgt_mask = (tgt != tokenizer.pad_token_id).unsqueeze(1).unsqueeze(3)\n",
    "        src_mask, tgt_mask = src_mask.to(device), tgt_mask.to(device)\n",
    "        seq_length = tgt.size(1)\n",
    "        casual_mask = (1 - torch.triu(torch.ones(1, seq_length, seq_length), diagonal=1)).bool()\n",
    "        casual_mask = casual_mask.to(device)\n",
    "        tgt_mask = tgt_mask & casual_mask\n",
    "        return src_mask, tgt_mask\n",
    "\n",
    "    def forward(self, src, tgt):\n",
    "        src_mask, tgt_mask = self.generate_mask(src, tgt)\n",
    "        # src_embedded = self.dropout(self.src_positional_encoding(self.encoder_embedding(src)))\n",
    "        # tgt_embedded = self.dropout(self.tgt_positional_encoding(self.decoder_embedding(tgt)))\n",
    "\n",
    "        src_pos = torch.arange(0, src.size(1)).to(device)  # [0, 1, 2 ... src.size(1)]\n",
    "        src_pos = self.src_positional_encoding(src_pos)\n",
    "        src_embedded = self.encoder_embedding(src)\n",
    "        src_embedded = self.dropout(src_pos + src_embedded)\n",
    "\n",
    "        tgt_pos = torch.arange(0, tgt.size(1)).to(device)\n",
    "        tgt_pos = self.tgt_positional_encoding(tgt_pos)\n",
    "        tgt_embedded = self.decoder_embedding(tgt)\n",
    "        tgt_embedded = self.dropout(tgt_pos + tgt_embedded)\n",
    "\n",
    "        enc_output = src_embedded\n",
    "        for enc_layer in self.encoder_layers:\n",
    "            enc_output = enc_layer(enc_output, src_mask)\n",
    "\n",
    "        dec_output = tgt_embedded\n",
    "        for dec_layer in self.decoder_layers:\n",
    "            dec_output = dec_layer(dec_output, enc_output, src_mask, tgt_mask)\n",
    "\n",
    "        # One more LayerNorm as described: https://cdn.openai.com/better-language-models/language_models_are_unsupervised_multitask_learners.pdf\n",
    "        dec_output = self.ln_f(dec_output)\n",
    "        output = self.output_layer(dec_output)\n",
    "        return output"
   ]
  },
  {
   "cell_type": "code",
   "execution_count": 15,
   "id": "88b2eaebd84a3627",
   "metadata": {
    "ExecuteTime": {
     "end_time": "2025-03-14T14:02:36.990503Z",
     "start_time": "2025-03-14T14:02:36.986534Z"
    },
    "trusted": true
   },
   "outputs": [],
   "source": [
    "src_vocab_size = VOCAB_SIZE\n",
    "tgt_vocab_size = VOCAB_SIZE\n",
    "d_model = 128  # TODO: experiment with model complexity - it can lead to overfitting\n",
    "num_heads = 8\n",
    "num_layers = 6  # TODO: how many layers? as above, model complexity; smaller BART uses 6: https://arxiv.org/pdf/1910.13461\n",
    "d_ff = d_model * 4\n",
    "max_src_seq_len = SRC_MAX_SEQ\n",
    "max_tgt_seq_len = TGT_MAX_SEQ\n",
    "dropout = 0.1"
   ]
  },
  {
   "cell_type": "code",
   "execution_count": 16,
   "id": "930121124b5e2e91",
   "metadata": {
    "ExecuteTime": {
     "end_time": "2025-03-14T14:02:37.383510Z",
     "start_time": "2025-03-14T14:02:36.999834Z"
    },
    "trusted": true
   },
   "outputs": [
    {
     "name": "stdout",
     "output_type": "stream",
     "text": [
      "Number of parameters: 22.152832 M\n"
     ]
    }
   ],
   "source": [
    "transformer = Transformer(src_vocab_size, tgt_vocab_size, d_model, num_heads, num_layers, d_ff, max_src_seq_len,\n",
    "                          max_tgt_seq_len,\n",
    "                          dropout)\n",
    "transformer.to(device)\n",
    "num_parameters = sum(p.numel() for p in transformer.parameters())\n",
    "print(f\"Number of parameters: {num_parameters/1000000} M\")\n"
   ]
  },
  {
   "cell_type": "markdown",
   "id": "a977685c1564feae",
   "metadata": {},
   "source": [
    "# Train model"
   ]
  },
  {
   "cell_type": "code",
   "execution_count": 24,
   "id": "4c27c273e453e232",
   "metadata": {
    "ExecuteTime": {
     "end_time": "2025-03-14T14:05:04.407645Z",
     "start_time": "2025-03-14T14:02:37.394025Z"
    },
    "trusted": true
   },
   "outputs": [
    {
     "name": "stderr",
     "output_type": "stream",
     "text": [
      "Epoch 1: 100%|██████████| 25/25 [00:04<00:00,  5.65it/s, Batch Loss=6.44]\n"
     ]
    },
    {
     "name": "stdout",
     "output_type": "stream",
     "text": [
      "Epoch: 1, Loss: 6.3525\n",
      "Average Validation Loss: 7.0526\n"
     ]
    },
    {
     "name": "stderr",
     "output_type": "stream",
     "text": [
      "Epoch 2: 100%|██████████| 25/25 [00:04<00:00,  5.98it/s, Batch Loss=6.34]\n"
     ]
    },
    {
     "name": "stdout",
     "output_type": "stream",
     "text": [
      "Epoch: 2, Loss: 6.3356\n",
      "Average Validation Loss: 7.0475\n"
     ]
    },
    {
     "name": "stderr",
     "output_type": "stream",
     "text": [
      "Epoch 3: 100%|██████████| 25/25 [00:04<00:00,  5.98it/s, Batch Loss=6.24]\n"
     ]
    },
    {
     "name": "stdout",
     "output_type": "stream",
     "text": [
      "Epoch: 3, Loss: 6.2889\n",
      "Average Validation Loss: 7.0808\n"
     ]
    },
    {
     "name": "stderr",
     "output_type": "stream",
     "text": [
      "Epoch 4: 100%|██████████| 25/25 [00:04<00:00,  5.98it/s, Batch Loss=6.23]\n"
     ]
    },
    {
     "name": "stdout",
     "output_type": "stream",
     "text": [
      "Epoch: 4, Loss: 6.2189\n",
      "Average Validation Loss: 7.0052\n"
     ]
    },
    {
     "name": "stderr",
     "output_type": "stream",
     "text": [
      "Epoch 5: 100%|██████████| 25/25 [00:04<00:00,  6.02it/s, Batch Loss=6.07]\n"
     ]
    },
    {
     "name": "stdout",
     "output_type": "stream",
     "text": [
      "Epoch: 5, Loss: 6.1290\n",
      "Average Validation Loss: 7.0335\n"
     ]
    },
    {
     "name": "stderr",
     "output_type": "stream",
     "text": [
      "Epoch 6: 100%|██████████| 25/25 [00:04<00:00,  5.99it/s, Batch Loss=6.04]\n"
     ]
    },
    {
     "name": "stdout",
     "output_type": "stream",
     "text": [
      "Epoch: 6, Loss: 6.0192\n",
      "Average Validation Loss: 6.9212\n"
     ]
    },
    {
     "name": "stderr",
     "output_type": "stream",
     "text": [
      "Epoch 7: 100%|██████████| 25/25 [00:04<00:00,  6.01it/s, Batch Loss=6.11]\n"
     ]
    },
    {
     "name": "stdout",
     "output_type": "stream",
     "text": [
      "Epoch: 7, Loss: 5.8960\n",
      "Average Validation Loss: 6.9290\n"
     ]
    },
    {
     "name": "stderr",
     "output_type": "stream",
     "text": [
      "Epoch 8: 100%|██████████| 25/25 [00:04<00:00,  5.99it/s, Batch Loss=5.65]\n"
     ]
    },
    {
     "name": "stdout",
     "output_type": "stream",
     "text": [
      "Epoch: 8, Loss: 5.7507\n",
      "Average Validation Loss: 6.9042\n"
     ]
    },
    {
     "name": "stderr",
     "output_type": "stream",
     "text": [
      "Epoch 9: 100%|██████████| 25/25 [00:04<00:00,  5.99it/s, Batch Loss=5.69]\n"
     ]
    },
    {
     "name": "stdout",
     "output_type": "stream",
     "text": [
      "Epoch: 9, Loss: 5.5849\n",
      "Average Validation Loss: 6.8235\n"
     ]
    },
    {
     "name": "stderr",
     "output_type": "stream",
     "text": [
      "Epoch 10: 100%|██████████| 25/25 [00:04<00:00,  5.99it/s, Batch Loss=5.56]\n"
     ]
    },
    {
     "name": "stdout",
     "output_type": "stream",
     "text": [
      "Epoch: 10, Loss: 5.4054\n",
      "Average Validation Loss: 6.7624\n"
     ]
    },
    {
     "name": "stderr",
     "output_type": "stream",
     "text": [
      "Epoch 11: 100%|██████████| 25/25 [00:04<00:00,  5.99it/s, Batch Loss=5.26]\n"
     ]
    },
    {
     "name": "stdout",
     "output_type": "stream",
     "text": [
      "Epoch: 11, Loss: 5.2047\n",
      "Average Validation Loss: 6.7783\n"
     ]
    },
    {
     "name": "stderr",
     "output_type": "stream",
     "text": [
      "Epoch 12: 100%|██████████| 25/25 [00:04<00:00,  6.00it/s, Batch Loss=4.97]\n"
     ]
    },
    {
     "name": "stdout",
     "output_type": "stream",
     "text": [
      "Epoch: 12, Loss: 4.9855\n",
      "Average Validation Loss: 6.7762\n"
     ]
    },
    {
     "name": "stderr",
     "output_type": "stream",
     "text": [
      "Epoch 13: 100%|██████████| 25/25 [00:04<00:00,  5.99it/s, Batch Loss=4.89]\n"
     ]
    },
    {
     "name": "stdout",
     "output_type": "stream",
     "text": [
      "Epoch: 13, Loss: 4.7724\n",
      "Average Validation Loss: 6.7231\n"
     ]
    },
    {
     "name": "stderr",
     "output_type": "stream",
     "text": [
      "Epoch 14: 100%|██████████| 25/25 [00:04<00:00,  6.00it/s, Batch Loss=4.36]\n"
     ]
    },
    {
     "name": "stdout",
     "output_type": "stream",
     "text": [
      "Epoch: 14, Loss: 4.5546\n",
      "Average Validation Loss: 6.7373\n"
     ]
    },
    {
     "name": "stderr",
     "output_type": "stream",
     "text": [
      "Epoch 15: 100%|██████████| 25/25 [00:04<00:00,  6.01it/s, Batch Loss=4.31]\n"
     ]
    },
    {
     "name": "stdout",
     "output_type": "stream",
     "text": [
      "Epoch: 15, Loss: 4.3525\n",
      "Average Validation Loss: 6.7160\n"
     ]
    },
    {
     "name": "stderr",
     "output_type": "stream",
     "text": [
      "Epoch 16: 100%|██████████| 25/25 [00:04<00:00,  5.99it/s, Batch Loss=4.18]\n"
     ]
    },
    {
     "name": "stdout",
     "output_type": "stream",
     "text": [
      "Epoch: 16, Loss: 4.1488\n",
      "Average Validation Loss: 6.6720\n"
     ]
    },
    {
     "name": "stderr",
     "output_type": "stream",
     "text": [
      "Epoch 17: 100%|██████████| 25/25 [00:04<00:00,  5.99it/s, Batch Loss=3.82]\n"
     ]
    },
    {
     "name": "stdout",
     "output_type": "stream",
     "text": [
      "Epoch: 17, Loss: 3.9437\n",
      "Average Validation Loss: 6.7007\n"
     ]
    },
    {
     "name": "stderr",
     "output_type": "stream",
     "text": [
      "Epoch 18: 100%|██████████| 25/25 [00:04<00:00,  5.97it/s, Batch Loss=3.92]\n"
     ]
    },
    {
     "name": "stdout",
     "output_type": "stream",
     "text": [
      "Epoch: 18, Loss: 3.7424\n",
      "Average Validation Loss: 6.6934\n"
     ]
    },
    {
     "name": "stderr",
     "output_type": "stream",
     "text": [
      "Epoch 19: 100%|██████████| 25/25 [00:04<00:00,  6.01it/s, Batch Loss=3.75]\n"
     ]
    },
    {
     "name": "stdout",
     "output_type": "stream",
     "text": [
      "Epoch: 19, Loss: 3.5551\n",
      "Average Validation Loss: 6.7327\n"
     ]
    },
    {
     "name": "stderr",
     "output_type": "stream",
     "text": [
      "Epoch 20: 100%|██████████| 25/25 [00:04<00:00,  5.99it/s, Batch Loss=3.6] \n"
     ]
    },
    {
     "name": "stdout",
     "output_type": "stream",
     "text": [
      "Epoch: 20, Loss: 3.3685\n",
      "Average Validation Loss: 6.6519\n"
     ]
    },
    {
     "name": "stderr",
     "output_type": "stream",
     "text": [
      "Epoch 21: 100%|██████████| 25/25 [00:04<00:00,  5.99it/s, Batch Loss=3.34]\n"
     ]
    },
    {
     "name": "stdout",
     "output_type": "stream",
     "text": [
      "Epoch: 21, Loss: 3.1970\n",
      "Average Validation Loss: 6.6707\n"
     ]
    },
    {
     "name": "stderr",
     "output_type": "stream",
     "text": [
      "Epoch 22: 100%|██████████| 25/25 [00:04<00:00,  5.99it/s, Batch Loss=2.93]\n"
     ]
    },
    {
     "name": "stdout",
     "output_type": "stream",
     "text": [
      "Epoch: 22, Loss: 3.0328\n",
      "Average Validation Loss: 6.8593\n"
     ]
    },
    {
     "name": "stderr",
     "output_type": "stream",
     "text": [
      "Epoch 23: 100%|██████████| 25/25 [00:04<00:00,  5.97it/s, Batch Loss=2.91]\n"
     ]
    },
    {
     "name": "stdout",
     "output_type": "stream",
     "text": [
      "Epoch: 23, Loss: 2.8646\n",
      "Average Validation Loss: 6.7552\n"
     ]
    },
    {
     "name": "stderr",
     "output_type": "stream",
     "text": [
      "Epoch 24: 100%|██████████| 25/25 [00:04<00:00,  5.99it/s, Batch Loss=2.77]\n"
     ]
    },
    {
     "name": "stdout",
     "output_type": "stream",
     "text": [
      "Epoch: 24, Loss: 2.7106\n",
      "Average Validation Loss: 6.7921\n"
     ]
    },
    {
     "name": "stderr",
     "output_type": "stream",
     "text": [
      "Epoch 25: 100%|██████████| 25/25 [00:04<00:00,  5.97it/s, Batch Loss=2.76]\n"
     ]
    },
    {
     "name": "stdout",
     "output_type": "stream",
     "text": [
      "Epoch: 25, Loss: 2.5523\n",
      "Average Validation Loss: 6.7822\n"
     ]
    },
    {
     "name": "stderr",
     "output_type": "stream",
     "text": [
      "Epoch 26: 100%|██████████| 25/25 [00:04<00:00,  5.99it/s, Batch Loss=2.33]\n"
     ]
    },
    {
     "name": "stdout",
     "output_type": "stream",
     "text": [
      "Epoch: 26, Loss: 2.4096\n",
      "Average Validation Loss: 6.9228\n"
     ]
    },
    {
     "name": "stderr",
     "output_type": "stream",
     "text": [
      "Epoch 27: 100%|██████████| 25/25 [00:04<00:00,  5.97it/s, Batch Loss=2.27]\n"
     ]
    },
    {
     "name": "stdout",
     "output_type": "stream",
     "text": [
      "Epoch: 27, Loss: 2.2798\n",
      "Average Validation Loss: 6.8501\n"
     ]
    },
    {
     "name": "stderr",
     "output_type": "stream",
     "text": [
      "Epoch 28: 100%|██████████| 25/25 [00:04<00:00,  5.95it/s, Batch Loss=2.29]\n"
     ]
    },
    {
     "name": "stdout",
     "output_type": "stream",
     "text": [
      "Epoch: 28, Loss: 2.1515\n",
      "Average Validation Loss: 6.8722\n"
     ]
    },
    {
     "name": "stderr",
     "output_type": "stream",
     "text": [
      "Epoch 29: 100%|██████████| 25/25 [00:04<00:00,  5.97it/s, Batch Loss=2.02]\n"
     ]
    },
    {
     "name": "stdout",
     "output_type": "stream",
     "text": [
      "Epoch: 29, Loss: 2.0338\n",
      "Average Validation Loss: 6.8544\n"
     ]
    },
    {
     "name": "stderr",
     "output_type": "stream",
     "text": [
      "Epoch 30: 100%|██████████| 25/25 [00:04<00:00,  6.01it/s, Batch Loss=1.88]\n"
     ]
    },
    {
     "name": "stdout",
     "output_type": "stream",
     "text": [
      "Epoch: 30, Loss: 1.9109\n",
      "Average Validation Loss: 7.0347\n"
     ]
    },
    {
     "name": "stderr",
     "output_type": "stream",
     "text": [
      "Epoch 31: 100%|██████████| 25/25 [00:04<00:00,  5.97it/s, Batch Loss=1.77]\n"
     ]
    },
    {
     "name": "stdout",
     "output_type": "stream",
     "text": [
      "Epoch: 31, Loss: 1.8063\n",
      "Average Validation Loss: 6.9947\n"
     ]
    },
    {
     "name": "stderr",
     "output_type": "stream",
     "text": [
      "Epoch 32: 100%|██████████| 25/25 [00:04<00:00,  5.98it/s, Batch Loss=1.82]\n"
     ]
    },
    {
     "name": "stdout",
     "output_type": "stream",
     "text": [
      "Epoch: 32, Loss: 1.7066\n",
      "Average Validation Loss: 7.0332\n"
     ]
    },
    {
     "name": "stderr",
     "output_type": "stream",
     "text": [
      "Epoch 33: 100%|██████████| 25/25 [00:04<00:00,  5.97it/s, Batch Loss=1.73]\n"
     ]
    },
    {
     "name": "stdout",
     "output_type": "stream",
     "text": [
      "Epoch: 33, Loss: 1.6116\n",
      "Average Validation Loss: 7.1690\n"
     ]
    },
    {
     "name": "stderr",
     "output_type": "stream",
     "text": [
      "Epoch 34: 100%|██████████| 25/25 [00:04<00:00,  5.99it/s, Batch Loss=1.67]\n"
     ]
    },
    {
     "name": "stdout",
     "output_type": "stream",
     "text": [
      "Epoch: 34, Loss: 1.5206\n",
      "Average Validation Loss: 7.1785\n"
     ]
    },
    {
     "name": "stderr",
     "output_type": "stream",
     "text": [
      "Epoch 35: 100%|██████████| 25/25 [00:04<00:00,  5.97it/s, Batch Loss=1.53]\n"
     ]
    },
    {
     "name": "stdout",
     "output_type": "stream",
     "text": [
      "Epoch: 35, Loss: 1.4287\n",
      "Average Validation Loss: 7.2623\n"
     ]
    },
    {
     "name": "stderr",
     "output_type": "stream",
     "text": [
      "Epoch 36: 100%|██████████| 25/25 [00:04<00:00,  5.97it/s, Batch Loss=1.36]\n"
     ]
    },
    {
     "name": "stdout",
     "output_type": "stream",
     "text": [
      "Epoch: 36, Loss: 1.3559\n",
      "Average Validation Loss: 7.2185\n"
     ]
    },
    {
     "name": "stderr",
     "output_type": "stream",
     "text": [
      "Epoch 37: 100%|██████████| 25/25 [00:04<00:00,  5.99it/s, Batch Loss=1.26]\n"
     ]
    },
    {
     "name": "stdout",
     "output_type": "stream",
     "text": [
      "Epoch: 37, Loss: 1.2857\n",
      "Average Validation Loss: 7.2636\n"
     ]
    },
    {
     "name": "stderr",
     "output_type": "stream",
     "text": [
      "Epoch 38: 100%|██████████| 25/25 [00:04<00:00,  5.97it/s, Batch Loss=1.28]\n"
     ]
    },
    {
     "name": "stdout",
     "output_type": "stream",
     "text": [
      "Epoch: 38, Loss: 1.2261\n",
      "Average Validation Loss: 7.4146\n"
     ]
    },
    {
     "name": "stderr",
     "output_type": "stream",
     "text": [
      "Epoch 39: 100%|██████████| 25/25 [00:04<00:00,  5.97it/s, Batch Loss=1.24] \n"
     ]
    },
    {
     "name": "stdout",
     "output_type": "stream",
     "text": [
      "Epoch: 39, Loss: 1.1528\n",
      "Average Validation Loss: 7.2896\n"
     ]
    },
    {
     "name": "stderr",
     "output_type": "stream",
     "text": [
      "Epoch 40: 100%|██████████| 25/25 [00:04<00:00,  5.97it/s, Batch Loss=1.1] \n"
     ]
    },
    {
     "name": "stdout",
     "output_type": "stream",
     "text": [
      "Epoch: 40, Loss: 1.0925\n",
      "Average Validation Loss: 7.4036\n"
     ]
    },
    {
     "name": "stderr",
     "output_type": "stream",
     "text": [
      "Epoch 41: 100%|██████████| 25/25 [00:04<00:00,  5.97it/s, Batch Loss=1.08] \n"
     ]
    },
    {
     "name": "stdout",
     "output_type": "stream",
     "text": [
      "Epoch: 41, Loss: 1.0396\n",
      "Average Validation Loss: 7.2893\n"
     ]
    },
    {
     "name": "stderr",
     "output_type": "stream",
     "text": [
      "Epoch 42: 100%|██████████| 25/25 [00:04<00:00,  5.97it/s, Batch Loss=1.02] \n"
     ]
    },
    {
     "name": "stdout",
     "output_type": "stream",
     "text": [
      "Epoch: 42, Loss: 0.9961\n",
      "Average Validation Loss: 7.2365\n"
     ]
    },
    {
     "name": "stderr",
     "output_type": "stream",
     "text": [
      "Epoch 43: 100%|██████████| 25/25 [00:04<00:00,  5.99it/s, Batch Loss=1.03] \n"
     ]
    },
    {
     "name": "stdout",
     "output_type": "stream",
     "text": [
      "Epoch: 43, Loss: 0.9407\n",
      "Average Validation Loss: 7.4853\n"
     ]
    },
    {
     "name": "stderr",
     "output_type": "stream",
     "text": [
      "Epoch 44: 100%|██████████| 25/25 [00:04<00:00,  5.96it/s, Batch Loss=1.02] \n"
     ]
    },
    {
     "name": "stdout",
     "output_type": "stream",
     "text": [
      "Epoch: 44, Loss: 0.9013\n",
      "Average Validation Loss: 7.5804\n"
     ]
    },
    {
     "name": "stderr",
     "output_type": "stream",
     "text": [
      "Epoch 45: 100%|██████████| 25/25 [00:04<00:00,  5.97it/s, Batch Loss=0.955]\n"
     ]
    },
    {
     "name": "stdout",
     "output_type": "stream",
     "text": [
      "Epoch: 45, Loss: 0.8628\n",
      "Average Validation Loss: 7.3883\n"
     ]
    },
    {
     "name": "stderr",
     "output_type": "stream",
     "text": [
      "Epoch 46: 100%|██████████| 25/25 [00:04<00:00,  5.97it/s, Batch Loss=0.865]\n"
     ]
    },
    {
     "name": "stdout",
     "output_type": "stream",
     "text": [
      "Epoch: 46, Loss: 0.8238\n",
      "Average Validation Loss: 7.5600\n"
     ]
    },
    {
     "name": "stderr",
     "output_type": "stream",
     "text": [
      "Epoch 47: 100%|██████████| 25/25 [00:04<00:00,  5.97it/s, Batch Loss=0.842]\n"
     ]
    },
    {
     "name": "stdout",
     "output_type": "stream",
     "text": [
      "Epoch: 47, Loss: 0.7826\n",
      "Average Validation Loss: 7.5488\n"
     ]
    },
    {
     "name": "stderr",
     "output_type": "stream",
     "text": [
      "Epoch 48: 100%|██████████| 25/25 [00:04<00:00,  5.97it/s, Batch Loss=0.883]\n"
     ]
    },
    {
     "name": "stdout",
     "output_type": "stream",
     "text": [
      "Epoch: 48, Loss: 0.7544\n",
      "Average Validation Loss: 7.7435\n"
     ]
    },
    {
     "name": "stderr",
     "output_type": "stream",
     "text": [
      "Epoch 49: 100%|██████████| 25/25 [00:04<00:00,  5.96it/s, Batch Loss=0.761]\n"
     ]
    },
    {
     "name": "stdout",
     "output_type": "stream",
     "text": [
      "Epoch: 49, Loss: 0.7253\n",
      "Average Validation Loss: 7.6393\n"
     ]
    },
    {
     "name": "stderr",
     "output_type": "stream",
     "text": [
      "Epoch 50: 100%|██████████| 25/25 [00:04<00:00,  5.95it/s, Batch Loss=0.747]\n"
     ]
    },
    {
     "name": "stdout",
     "output_type": "stream",
     "text": [
      "Epoch: 50, Loss: 0.6933\n",
      "Average Validation Loss: 7.6840\n"
     ]
    },
    {
     "name": "stderr",
     "output_type": "stream",
     "text": [
      "Epoch 51: 100%|██████████| 25/25 [00:04<00:00,  5.97it/s, Batch Loss=0.704]\n"
     ]
    },
    {
     "name": "stdout",
     "output_type": "stream",
     "text": [
      "Epoch: 51, Loss: 0.6657\n",
      "Average Validation Loss: 7.6238\n"
     ]
    },
    {
     "name": "stderr",
     "output_type": "stream",
     "text": [
      "Epoch 52: 100%|██████████| 25/25 [00:04<00:00,  5.97it/s, Batch Loss=0.736]\n"
     ]
    },
    {
     "name": "stdout",
     "output_type": "stream",
     "text": [
      "Epoch: 52, Loss: 0.6487\n",
      "Average Validation Loss: 7.4601\n"
     ]
    },
    {
     "name": "stderr",
     "output_type": "stream",
     "text": [
      "Epoch 53: 100%|██████████| 25/25 [00:04<00:00,  5.97it/s, Batch Loss=0.695]\n"
     ]
    },
    {
     "name": "stdout",
     "output_type": "stream",
     "text": [
      "Epoch: 53, Loss: 0.6202\n",
      "Average Validation Loss: 7.6539\n"
     ]
    },
    {
     "name": "stderr",
     "output_type": "stream",
     "text": [
      "Epoch 54: 100%|██████████| 25/25 [00:04<00:00,  5.94it/s, Batch Loss=0.569]\n"
     ]
    },
    {
     "name": "stdout",
     "output_type": "stream",
     "text": [
      "Epoch: 54, Loss: 0.6065\n",
      "Average Validation Loss: 7.7072\n"
     ]
    },
    {
     "name": "stderr",
     "output_type": "stream",
     "text": [
      "Epoch 55: 100%|██████████| 25/25 [00:04<00:00,  5.97it/s, Batch Loss=0.673]\n"
     ]
    },
    {
     "name": "stdout",
     "output_type": "stream",
     "text": [
      "Epoch: 55, Loss: 0.5812\n",
      "Average Validation Loss: 7.9493\n"
     ]
    },
    {
     "name": "stderr",
     "output_type": "stream",
     "text": [
      "Epoch 56: 100%|██████████| 25/25 [00:04<00:00,  5.99it/s, Batch Loss=0.603]\n"
     ]
    },
    {
     "name": "stdout",
     "output_type": "stream",
     "text": [
      "Epoch: 56, Loss: 0.5546\n",
      "Average Validation Loss: 7.9876\n"
     ]
    },
    {
     "name": "stderr",
     "output_type": "stream",
     "text": [
      "Epoch 57: 100%|██████████| 25/25 [00:04<00:00,  5.97it/s, Batch Loss=0.609]\n"
     ]
    },
    {
     "name": "stdout",
     "output_type": "stream",
     "text": [
      "Epoch: 57, Loss: 0.5398\n",
      "Average Validation Loss: 7.8430\n"
     ]
    },
    {
     "name": "stderr",
     "output_type": "stream",
     "text": [
      "Epoch 58: 100%|██████████| 25/25 [00:04<00:00,  5.99it/s, Batch Loss=0.61] \n"
     ]
    },
    {
     "name": "stdout",
     "output_type": "stream",
     "text": [
      "Epoch: 58, Loss: 0.5275\n",
      "Average Validation Loss: 7.8496\n"
     ]
    },
    {
     "name": "stderr",
     "output_type": "stream",
     "text": [
      "Epoch 59: 100%|██████████| 25/25 [00:04<00:00,  5.99it/s, Batch Loss=0.555]\n"
     ]
    },
    {
     "name": "stdout",
     "output_type": "stream",
     "text": [
      "Epoch: 59, Loss: 0.5093\n",
      "Average Validation Loss: 7.8870\n"
     ]
    },
    {
     "name": "stderr",
     "output_type": "stream",
     "text": [
      "Epoch 60: 100%|██████████| 25/25 [00:04<00:00,  5.95it/s, Batch Loss=0.496]\n"
     ]
    },
    {
     "name": "stdout",
     "output_type": "stream",
     "text": [
      "Epoch: 60, Loss: 0.4928\n",
      "Average Validation Loss: 7.8244\n"
     ]
    },
    {
     "name": "stderr",
     "output_type": "stream",
     "text": [
      "Epoch 61: 100%|██████████| 25/25 [00:04<00:00,  6.02it/s, Batch Loss=0.482]\n"
     ]
    },
    {
     "name": "stdout",
     "output_type": "stream",
     "text": [
      "Epoch: 61, Loss: 0.4804\n",
      "Average Validation Loss: 7.8941\n"
     ]
    },
    {
     "name": "stderr",
     "output_type": "stream",
     "text": [
      "Epoch 62: 100%|██████████| 25/25 [00:04<00:00,  5.97it/s, Batch Loss=0.493]\n"
     ]
    },
    {
     "name": "stdout",
     "output_type": "stream",
     "text": [
      "Epoch: 62, Loss: 0.4635\n",
      "Average Validation Loss: 8.0227\n"
     ]
    },
    {
     "name": "stderr",
     "output_type": "stream",
     "text": [
      "Epoch 63: 100%|██████████| 25/25 [00:04<00:00,  5.96it/s, Batch Loss=0.469]\n"
     ]
    },
    {
     "name": "stdout",
     "output_type": "stream",
     "text": [
      "Epoch: 63, Loss: 0.4512\n",
      "Average Validation Loss: 7.9791\n"
     ]
    },
    {
     "name": "stderr",
     "output_type": "stream",
     "text": [
      "Epoch 64: 100%|██████████| 25/25 [00:04<00:00,  5.91it/s, Batch Loss=0.478]\n"
     ]
    },
    {
     "name": "stdout",
     "output_type": "stream",
     "text": [
      "Epoch: 64, Loss: 0.4439\n",
      "Average Validation Loss: 7.6961\n"
     ]
    },
    {
     "name": "stderr",
     "output_type": "stream",
     "text": [
      "Epoch 65: 100%|██████████| 25/25 [00:04<00:00,  5.96it/s, Batch Loss=0.477]\n"
     ]
    },
    {
     "name": "stdout",
     "output_type": "stream",
     "text": [
      "Epoch: 65, Loss: 0.4319\n",
      "Average Validation Loss: 7.7562\n"
     ]
    },
    {
     "name": "stderr",
     "output_type": "stream",
     "text": [
      "Epoch 66: 100%|██████████| 25/25 [00:04<00:00,  5.97it/s, Batch Loss=0.46] \n"
     ]
    },
    {
     "name": "stdout",
     "output_type": "stream",
     "text": [
      "Epoch: 66, Loss: 0.4193\n",
      "Average Validation Loss: 7.9754\n"
     ]
    },
    {
     "name": "stderr",
     "output_type": "stream",
     "text": [
      "Epoch 67: 100%|██████████| 25/25 [00:04<00:00,  5.97it/s, Batch Loss=0.46] \n"
     ]
    },
    {
     "name": "stdout",
     "output_type": "stream",
     "text": [
      "Epoch: 67, Loss: 0.4074\n",
      "Average Validation Loss: 8.0965\n"
     ]
    },
    {
     "name": "stderr",
     "output_type": "stream",
     "text": [
      "Epoch 68: 100%|██████████| 25/25 [00:04<00:00,  5.97it/s, Batch Loss=0.404]\n"
     ]
    },
    {
     "name": "stdout",
     "output_type": "stream",
     "text": [
      "Epoch: 68, Loss: 0.3955\n",
      "Average Validation Loss: 7.7808\n"
     ]
    },
    {
     "name": "stderr",
     "output_type": "stream",
     "text": [
      "Epoch 69: 100%|██████████| 25/25 [00:04<00:00,  5.95it/s, Batch Loss=0.385]\n"
     ]
    },
    {
     "name": "stdout",
     "output_type": "stream",
     "text": [
      "Epoch: 69, Loss: 0.3863\n",
      "Average Validation Loss: 8.0041\n"
     ]
    },
    {
     "name": "stderr",
     "output_type": "stream",
     "text": [
      "Epoch 70: 100%|██████████| 25/25 [00:04<00:00,  5.97it/s, Batch Loss=0.382]\n"
     ]
    },
    {
     "name": "stdout",
     "output_type": "stream",
     "text": [
      "Epoch: 70, Loss: 0.3790\n",
      "Average Validation Loss: 8.1798\n"
     ]
    },
    {
     "name": "stderr",
     "output_type": "stream",
     "text": [
      "Epoch 71: 100%|██████████| 25/25 [00:04<00:00,  5.95it/s, Batch Loss=0.392]\n"
     ]
    },
    {
     "name": "stdout",
     "output_type": "stream",
     "text": [
      "Epoch: 71, Loss: 0.3657\n",
      "Average Validation Loss: 7.8960\n"
     ]
    },
    {
     "name": "stderr",
     "output_type": "stream",
     "text": [
      "Epoch 72: 100%|██████████| 25/25 [00:04<00:00,  5.99it/s, Batch Loss=0.357]\n"
     ]
    },
    {
     "name": "stdout",
     "output_type": "stream",
     "text": [
      "Epoch: 72, Loss: 0.3595\n",
      "Average Validation Loss: 8.0675\n"
     ]
    },
    {
     "name": "stderr",
     "output_type": "stream",
     "text": [
      "Epoch 73: 100%|██████████| 25/25 [00:04<00:00,  5.99it/s, Batch Loss=0.388]\n"
     ]
    },
    {
     "name": "stdout",
     "output_type": "stream",
     "text": [
      "Epoch: 73, Loss: 0.3508\n",
      "Average Validation Loss: 7.8456\n"
     ]
    },
    {
     "name": "stderr",
     "output_type": "stream",
     "text": [
      "Epoch 74: 100%|██████████| 25/25 [00:04<00:00,  5.97it/s, Batch Loss=0.351]\n"
     ]
    },
    {
     "name": "stdout",
     "output_type": "stream",
     "text": [
      "Epoch: 74, Loss: 0.3462\n",
      "Average Validation Loss: 8.2029\n"
     ]
    },
    {
     "name": "stderr",
     "output_type": "stream",
     "text": [
      "Epoch 75: 100%|██████████| 25/25 [00:04<00:00,  5.97it/s, Batch Loss=0.354]\n"
     ]
    },
    {
     "name": "stdout",
     "output_type": "stream",
     "text": [
      "Epoch: 75, Loss: 0.3345\n",
      "Average Validation Loss: 7.7703\n"
     ]
    },
    {
     "name": "stderr",
     "output_type": "stream",
     "text": [
      "Epoch 76: 100%|██████████| 25/25 [00:04<00:00,  5.99it/s, Batch Loss=0.314]\n"
     ]
    },
    {
     "name": "stdout",
     "output_type": "stream",
     "text": [
      "Epoch: 76, Loss: 0.3258\n",
      "Average Validation Loss: 8.2730\n"
     ]
    },
    {
     "name": "stderr",
     "output_type": "stream",
     "text": [
      "Epoch 77: 100%|██████████| 25/25 [00:04<00:00,  5.97it/s, Batch Loss=0.338]\n"
     ]
    },
    {
     "name": "stdout",
     "output_type": "stream",
     "text": [
      "Epoch: 77, Loss: 0.3254\n",
      "Average Validation Loss: 8.0720\n"
     ]
    },
    {
     "name": "stderr",
     "output_type": "stream",
     "text": [
      "Epoch 78: 100%|██████████| 25/25 [00:04<00:00,  5.97it/s, Batch Loss=0.337]\n"
     ]
    },
    {
     "name": "stdout",
     "output_type": "stream",
     "text": [
      "Epoch: 78, Loss: 0.3200\n",
      "Average Validation Loss: 8.0892\n"
     ]
    },
    {
     "name": "stderr",
     "output_type": "stream",
     "text": [
      "Epoch 79: 100%|██████████| 25/25 [00:04<00:00,  5.99it/s, Batch Loss=0.325]\n"
     ]
    },
    {
     "name": "stdout",
     "output_type": "stream",
     "text": [
      "Epoch: 79, Loss: 0.3097\n",
      "Average Validation Loss: 8.1867\n"
     ]
    },
    {
     "name": "stderr",
     "output_type": "stream",
     "text": [
      "Epoch 80: 100%|██████████| 25/25 [00:04<00:00,  5.97it/s, Batch Loss=0.293]\n"
     ]
    },
    {
     "name": "stdout",
     "output_type": "stream",
     "text": [
      "Epoch: 80, Loss: 0.2983\n",
      "Average Validation Loss: 7.9755\n"
     ]
    },
    {
     "name": "stderr",
     "output_type": "stream",
     "text": [
      "Epoch 81: 100%|██████████| 25/25 [00:04<00:00,  5.99it/s, Batch Loss=0.326]\n"
     ]
    },
    {
     "name": "stdout",
     "output_type": "stream",
     "text": [
      "Epoch: 81, Loss: 0.2951\n",
      "Average Validation Loss: 8.0490\n"
     ]
    },
    {
     "name": "stderr",
     "output_type": "stream",
     "text": [
      "Epoch 82: 100%|██████████| 25/25 [00:04<00:00,  5.99it/s, Batch Loss=0.307]\n"
     ]
    },
    {
     "name": "stdout",
     "output_type": "stream",
     "text": [
      "Epoch: 82, Loss: 0.2917\n",
      "Average Validation Loss: 7.9909\n"
     ]
    },
    {
     "name": "stderr",
     "output_type": "stream",
     "text": [
      "Epoch 83: 100%|██████████| 25/25 [00:04<00:00,  5.97it/s, Batch Loss=0.325]\n"
     ]
    },
    {
     "name": "stdout",
     "output_type": "stream",
     "text": [
      "Epoch: 83, Loss: 0.2867\n",
      "Average Validation Loss: 8.2489\n"
     ]
    },
    {
     "name": "stderr",
     "output_type": "stream",
     "text": [
      "Epoch 84: 100%|██████████| 25/25 [00:04<00:00,  5.97it/s, Batch Loss=0.305]\n"
     ]
    },
    {
     "name": "stdout",
     "output_type": "stream",
     "text": [
      "Epoch: 84, Loss: 0.2767\n",
      "Average Validation Loss: 8.0151\n"
     ]
    },
    {
     "name": "stderr",
     "output_type": "stream",
     "text": [
      "Epoch 85: 100%|██████████| 25/25 [00:04<00:00,  5.99it/s, Batch Loss=0.29] \n"
     ]
    },
    {
     "name": "stdout",
     "output_type": "stream",
     "text": [
      "Epoch: 85, Loss: 0.2762\n",
      "Average Validation Loss: 8.2125\n"
     ]
    },
    {
     "name": "stderr",
     "output_type": "stream",
     "text": [
      "Epoch 86: 100%|██████████| 25/25 [00:04<00:00,  5.97it/s, Batch Loss=0.254]\n"
     ]
    },
    {
     "name": "stdout",
     "output_type": "stream",
     "text": [
      "Epoch: 86, Loss: 0.2705\n",
      "Average Validation Loss: 8.2022\n"
     ]
    },
    {
     "name": "stderr",
     "output_type": "stream",
     "text": [
      "Epoch 87: 100%|██████████| 25/25 [00:04<00:00,  5.97it/s, Batch Loss=0.284]\n"
     ]
    },
    {
     "name": "stdout",
     "output_type": "stream",
     "text": [
      "Epoch: 87, Loss: 0.2663\n",
      "Average Validation Loss: 8.2296\n"
     ]
    },
    {
     "name": "stderr",
     "output_type": "stream",
     "text": [
      "Epoch 88: 100%|██████████| 25/25 [00:04<00:00,  5.97it/s, Batch Loss=0.278]\n"
     ]
    },
    {
     "name": "stdout",
     "output_type": "stream",
     "text": [
      "Epoch: 88, Loss: 0.2606\n",
      "Average Validation Loss: 8.3285\n"
     ]
    },
    {
     "name": "stderr",
     "output_type": "stream",
     "text": [
      "Epoch 89: 100%|██████████| 25/25 [00:04<00:00,  5.99it/s, Batch Loss=0.281]\n"
     ]
    },
    {
     "name": "stdout",
     "output_type": "stream",
     "text": [
      "Epoch: 89, Loss: 0.2551\n",
      "Average Validation Loss: 8.2701\n"
     ]
    },
    {
     "name": "stderr",
     "output_type": "stream",
     "text": [
      "Epoch 90: 100%|██████████| 25/25 [00:04<00:00,  5.99it/s, Batch Loss=0.244]\n"
     ]
    },
    {
     "name": "stdout",
     "output_type": "stream",
     "text": [
      "Epoch: 90, Loss: 0.2542\n",
      "Average Validation Loss: 8.0313\n"
     ]
    },
    {
     "name": "stderr",
     "output_type": "stream",
     "text": [
      "Epoch 91: 100%|██████████| 25/25 [00:04<00:00,  5.97it/s, Batch Loss=0.251]\n"
     ]
    },
    {
     "name": "stdout",
     "output_type": "stream",
     "text": [
      "Epoch: 91, Loss: 0.2475\n",
      "Average Validation Loss: 8.2629\n"
     ]
    },
    {
     "name": "stderr",
     "output_type": "stream",
     "text": [
      "Epoch 92: 100%|██████████| 25/25 [00:04<00:00,  5.99it/s, Batch Loss=0.237]\n"
     ]
    },
    {
     "name": "stdout",
     "output_type": "stream",
     "text": [
      "Epoch: 92, Loss: 0.2417\n",
      "Average Validation Loss: 8.0842\n"
     ]
    },
    {
     "name": "stderr",
     "output_type": "stream",
     "text": [
      "Epoch 93: 100%|██████████| 25/25 [00:04<00:00,  5.99it/s, Batch Loss=0.201]\n"
     ]
    },
    {
     "name": "stdout",
     "output_type": "stream",
     "text": [
      "Epoch: 93, Loss: 0.2443\n",
      "Average Validation Loss: 7.9972\n"
     ]
    },
    {
     "name": "stderr",
     "output_type": "stream",
     "text": [
      "Epoch 94: 100%|██████████| 25/25 [00:04<00:00,  5.97it/s, Batch Loss=0.268]\n"
     ]
    },
    {
     "name": "stdout",
     "output_type": "stream",
     "text": [
      "Epoch: 94, Loss: 0.2367\n",
      "Average Validation Loss: 8.0685\n"
     ]
    },
    {
     "name": "stderr",
     "output_type": "stream",
     "text": [
      "Epoch 95: 100%|██████████| 25/25 [00:04<00:00,  5.97it/s, Batch Loss=0.219]\n"
     ]
    },
    {
     "name": "stdout",
     "output_type": "stream",
     "text": [
      "Epoch: 95, Loss: 0.2356\n",
      "Average Validation Loss: 7.9677\n"
     ]
    },
    {
     "name": "stderr",
     "output_type": "stream",
     "text": [
      "Epoch 96: 100%|██████████| 25/25 [00:04<00:00,  6.01it/s, Batch Loss=0.229]\n"
     ]
    },
    {
     "name": "stdout",
     "output_type": "stream",
     "text": [
      "Epoch: 96, Loss: 0.2324\n",
      "Average Validation Loss: 8.1015\n"
     ]
    },
    {
     "name": "stderr",
     "output_type": "stream",
     "text": [
      "Epoch 97: 100%|██████████| 25/25 [00:04<00:00,  5.97it/s, Batch Loss=0.244]\n"
     ]
    },
    {
     "name": "stdout",
     "output_type": "stream",
     "text": [
      "Epoch: 97, Loss: 0.2282\n",
      "Average Validation Loss: 8.2368\n"
     ]
    },
    {
     "name": "stderr",
     "output_type": "stream",
     "text": [
      "Epoch 98: 100%|██████████| 25/25 [00:04<00:00,  5.99it/s, Batch Loss=0.223]\n"
     ]
    },
    {
     "name": "stdout",
     "output_type": "stream",
     "text": [
      "Epoch: 98, Loss: 0.2247\n",
      "Average Validation Loss: 8.3406\n"
     ]
    },
    {
     "name": "stderr",
     "output_type": "stream",
     "text": [
      "Epoch 99: 100%|██████████| 25/25 [00:04<00:00,  5.99it/s, Batch Loss=0.228]\n"
     ]
    },
    {
     "name": "stdout",
     "output_type": "stream",
     "text": [
      "Epoch: 99, Loss: 0.2247\n",
      "Average Validation Loss: 8.2250\n"
     ]
    },
    {
     "name": "stderr",
     "output_type": "stream",
     "text": [
      "Epoch 100: 100%|██████████| 25/25 [00:04<00:00,  5.97it/s, Batch Loss=0.245]\n"
     ]
    },
    {
     "name": "stdout",
     "output_type": "stream",
     "text": [
      "Epoch: 100, Loss: 0.2262\n",
      "Average Validation Loss: 8.2205\n"
     ]
    }
   ],
   "source": [
    "import torch\n",
    "import torch.nn.functional as F\n",
    "from transformers import get_linear_schedule_with_warmup\n",
    "from torch import optim\n",
    "from tqdm import tqdm\n",
    "\n",
    "torch.manual_seed(seed) \n",
    "torch.cuda.manual_seed(seed)\n",
    "torch.cuda.manual_seed_all(seed)\n",
    "\n",
    "lr = 0.001\n",
    "optimizer = optim.Adam(\n",
    "    transformer.parameters(), lr=lr, betas=(0.9, 0.95), eps=1e-8, weight_decay=0.0001\n",
    ")\n",
    "\n",
    "# TODO: experiment with gradient accumulation\n",
    "num_epochs = 100\n",
    "# TODO: add warmup steps\n",
    "num_training_steps = len(train_loader) * num_epochs\n",
    "num_warmup_steps = int(0.1 * num_training_steps) # TODO: experiment with that\n",
    "\n",
    "scheduler = get_linear_schedule_with_warmup(\n",
    "    optimizer, num_warmup_steps=num_warmup_steps, num_training_steps=num_training_steps\n",
    ")\n",
    "\n",
    "# Tracking history\n",
    "lr_history = []\n",
    "loss_history = []\n",
    "val_loss_history = []\n",
    "\n",
    "for epoch in range(num_epochs):\n",
    "    epoch_loss = 0.0\n",
    "    transformer.train()\n",
    "\n",
    "    # Progress bar for training\n",
    "    progress_bar = tqdm(train_loader, desc=f\"Epoch {epoch + 1}\")\n",
    "\n",
    "    for step, (src_data, tgt_data) in enumerate(progress_bar):\n",
    "        src_data, tgt_data = src_data.to(device), tgt_data.to(device)\n",
    "\n",
    "        # Forward pass\n",
    "        output = transformer(src_data, tgt_data[:, :-1])\n",
    "\n",
    "        # Compute loss\n",
    "        loss = F.cross_entropy(\n",
    "            output.contiguous().view(-1, tgt_vocab_size),\n",
    "            tgt_data[:, 1:].contiguous().view(-1),\n",
    "            ignore_index=tokenizer.pad_token_id\n",
    "        )\n",
    "\n",
    "        # Track loss\n",
    "        loss_history.append(loss.item())\n",
    "        epoch_loss += loss.item()\n",
    "        lr_history.append(optimizer.param_groups[0][\"lr\"])\n",
    "\n",
    "        # Backpropagation\n",
    "        optimizer.zero_grad()\n",
    "        loss.backward()\n",
    "        torch.nn.utils.clip_grad_norm_(transformer.parameters(), 1.0)\n",
    "        optimizer.step()\n",
    "        scheduler.step()\n",
    "\n",
    "        progress_bar.set_postfix({\"Batch Loss\": loss.item()})\n",
    "\n",
    "    avg_epoch_loss = epoch_loss / len(train_loader)\n",
    "    print(f\"Epoch: {epoch + 1}, Loss: {avg_epoch_loss:.4f}\")\n",
    "\n",
    "    transformer.eval()\n",
    "    total_val_loss = 0.0\n",
    "\n",
    "    with torch.no_grad():\n",
    "        for val_src_data, val_tgt_data in val_loader:\n",
    "            val_src_data, val_tgt_data = val_src_data.to(device), val_tgt_data.to(device)\n",
    "\n",
    "            # Forward pass\n",
    "            val_output = transformer(val_src_data, val_tgt_data[:, :-1])\n",
    "\n",
    "            val_loss = F.cross_entropy(\n",
    "                val_output.contiguous().view(-1, tgt_vocab_size),\n",
    "                val_tgt_data[:, 1:].contiguous().view(-1),\n",
    "                ignore_index=tokenizer.pad_token_id\n",
    "            )\n",
    "\n",
    "            total_val_loss += val_loss.item()\n",
    "\n",
    "    # Calculate average validation loss\n",
    "    avg_val_loss = total_val_loss / len(val_loader)\n",
    "    val_loss_history.append(avg_val_loss)\n",
    "    print(f\"Average Validation Loss: {avg_val_loss:.4f}\")\n"
   ]
  },
  {
   "cell_type": "code",
   "execution_count": 18,
   "id": "e736c0d0",
   "metadata": {},
   "outputs": [],
   "source": [
    "# import gc\n",
    "# del transformer\n",
    "# gc.collect()"
   ]
  },
  {
   "cell_type": "markdown",
   "id": "83ebbec4b3c21794",
   "metadata": {},
   "source": [
    "# Show charts with lr and loss"
   ]
  },
  {
   "cell_type": "code",
   "execution_count": 25,
   "id": "d9ea000c71a19b90",
   "metadata": {
    "ExecuteTime": {
     "end_time": "2025-03-14T14:05:08.610197Z",
     "start_time": "2025-03-14T14:05:08.441158Z"
    },
    "trusted": true
   },
   "outputs": [
    {
     "data": {
      "image/png": "[encoded data removed]",
      "text/plain": [
       "<Figure size 640x480 with 2 Axes>"
      ]
     },
     "metadata": {},
     "output_type": "display_data"
    }
   ],
   "source": [
    "from matplotlib import pyplot as plt\n",
    "\n",
    "# Ensure all histories are properly formatted\n",
    "assert len(lr_history) == len(\n",
    "    loss_history\n",
    "), \"Length of lr_history and loss_history must be the same\"\n",
    "\n",
    "# Create figure and primary y-axis for Loss\n",
    "fig, ax1 = plt.subplots()\n",
    "\n",
    "ax1.set_title(\"Learning Rate vs. Loss\")\n",
    "ax1.set_xlabel(\"Training Step\")\n",
    "ax1.set_ylabel(\"Loss\", color=\"tab:red\")\n",
    "ax1.plot(range(len(loss_history)), loss_history, color=\"tab:red\", label=\"Training Loss\")\n",
    "ax1.tick_params(axis=\"y\", labelcolor=\"tab:red\")\n",
    "\n",
    "# Plot validation loss (assuming it occurs every 'epoch_interval' steps)\n",
    "epoch_interval = len(loss_history) // len(val_loss_history)\n",
    "val_x = [\n",
    "    i * epoch_interval for i in range(len(val_loss_history))\n",
    "]  # X values for validation loss\n",
    "ax1.plot(\n",
    "    val_x,\n",
    "    val_loss_history,\n",
    "    color=\"tab:orange\",\n",
    "    marker=\"o\",\n",
    "    linestyle=\"dashed\",\n",
    "    label=\"Validation Loss\",\n",
    ")\n",
    "\n",
    "# Create secondary y-axis for Learning Rate\n",
    "ax2 = ax1.twinx()\n",
    "ax2.set_ylabel(\"Learning Rate\", color=\"tab:blue\")\n",
    "ax2.plot(\n",
    "    range(len(lr_history)),\n",
    "    lr_history,\n",
    "    color=\"tab:blue\",\n",
    "    linestyle=\"--\",\n",
    "    label=\"Learning Rate\",\n",
    ")\n",
    "ax2.tick_params(axis=\"y\", labelcolor=\"tab:blue\")\n",
    "\n",
    "# Legends\n",
    "ax1.legend(loc=\"upper left\")\n",
    "ax2.legend(loc=\"upper right\")\n",
    "\n",
    "plt.show()"
   ]
  },
  {
   "cell_type": "markdown",
   "id": "98b42d308d6a31e2",
   "metadata": {},
   "source": [
    "# Model inference"
   ]
  },
  {
   "cell_type": "code",
   "execution_count": 87,
   "id": "bcce66b6b0763edf",
   "metadata": {
    "ExecuteTime": {
     "end_time": "2025-03-14T14:05:18.725518Z",
     "start_time": "2025-03-14T14:05:17.948403Z"
    },
    "trusted": true
   },
   "outputs": [
    {
     "name": "stdout",
     "output_type": "stream",
     "text": [
      "Dataset: Train\n",
      "Article: More than 1,000 people rallied Sunday in support of Israel in front of the Israeli Embassy in the Spanish capital. Spaniards protest Sunday in support of Israel's military action in Gaza. The rally ca\n",
      "Generated translation: Census-takers fan out across Sudan this week in a landmark headcount .\n",
      "Count will be used to determine how power is shared in the war-torn country .\n",
      "North-south tensions continue to simmer, threatening the return of civil war .\n",
      "Real translation: Pro-Israel crowd rallies in front of Israeli Embassy in Madrid .\n",
      "Demo follows pro-Palestian gathering last weekend attended by ruling lawmakers .\n",
      "Spain has earmarked euros 6.5M ($8.5M) in humanitarian aid to Gaza .\n"
     ]
    }
   ],
   "source": [
    "def generate_summary(sentence, tokenizer, model, max_length=TGT_MAX_SEQ):\n",
    "    \"\"\"\n",
    "    Translates a single Polish sentence into Ukrainian using greedy decoding.\n",
    "    \"\"\"\n",
    "    model.eval()  # Set the model to evaluation mode\n",
    "\n",
    "    tokens = tokenizer.encode(sentence)\n",
    "    tokens = torch.tensor(tokens).unsqueeze(0).to(device)  # Shape: (1, seq_len)\n",
    "    # print(tokens)\n",
    "\n",
    "    # Start with the input sentence and an empty target sequence\n",
    "    src_data = tokens\n",
    "    tgt_data = torch.tensor([tokenizer.bos_token_id]).unsqueeze(0).to(device)\n",
    "\n",
    "    with torch.no_grad():\n",
    "        for _ in range(max_length):\n",
    "            output = model(src_data, tgt_data)\n",
    "\n",
    "            next_token_id = output[:, -1, :].argmax(dim=-1).item()\n",
    "\n",
    "            tgt_data = torch.cat([tgt_data, torch.tensor([[next_token_id]]).to(device)], dim=1)\n",
    "\n",
    "            if next_token_id == tokenizer.eos_token_id:\n",
    "                break\n",
    "\n",
    "    # Decode the token ids back to the sentence\n",
    "    translated_tokens = tgt_data.squeeze().tolist()\n",
    "    translated_sentence = tokenizer.decode(translated_tokens, skip_special_tokens=True)\n",
    "\n",
    "    return translated_sentence\n",
    "\n",
    "\n",
    "def inference_from_datasets(train_dataset: bool = True, index: int = 0) -> (str, str):\n",
    "    if train_dataset:\n",
    "        dataset = train_loader.dataset\n",
    "    else:\n",
    "        dataset = val_loader.dataset\n",
    "    article = tokenizer.decode(dataset[index][0].tolist(), skip_special_tokens=True)\n",
    "    translation = generate_summary(article, tokenizer, transformer)\n",
    "\n",
    "    print('Dataset:', 'Train' if train_dataset else 'Validation')\n",
    "    print('Article:', article[:200])\n",
    "    print('Generated translation:', translation)\n",
    "    real_translation = tokenizer.decode(dataset[index][1].tolist(), skip_special_tokens=True)\n",
    "    print('Real translation:', real_translation)\n",
    "    return translation, real_translation\n",
    "\n",
    "\n",
    "generated_summary, real_summary = inference_from_datasets(train_dataset=True, index=0)"
   ]
  },
  {
   "cell_type": "markdown",
   "id": "9c365308",
   "metadata": {},
   "source": [
    "# ROUGE metrics"
   ]
  },
  {
   "cell_type": "code",
   "execution_count": null,
   "id": "d8feb000",
   "metadata": {},
   "outputs": [
    {
     "name": "stdout",
     "output_type": "stream",
     "text": [
      "ROUGE-1 0.083\n",
      "ROUGE-2 0.000\n",
      "ROUGE-L 0.083\n"
     ]
    }
   ],
   "source": [
    "# proper values: https://klu.ai/glossary/rouge-score\n",
    "# ROUGE-1 >0.5; could be 0.4-0.5\n",
    "# ROUGE-2 >0.4; could be 0.2-0.4\n",
    "# ROUGE-L ~0.4; could be 0.3-04\n",
    "import evaluate\n",
    "rouge = evaluate.load(\"rouge\")\n",
    "if len(generated_summary) > len(real_summary):\n",
    "    generated_summary = generated_summary[:len(real_summary)]\n",
    "else:\n",
    "    real_summary = real_summary[:len(generated_summary)]\n",
    "\n",
    "\n",
    "assert len(generated_summary) == len(real_summary)\n",
    "generated_summary = [generated_summary]\n",
    "real_summary = [real_summary]\n",
    "\n",
    "results = rouge.compute(predictions=generated_summary, references=real_summary)\n",
    "\n",
    "print('ROUGE-1', f\"{results['rouge1']:.3f}\")\n",
    "print('ROUGE-2', f\"{results['rouge2']:.3f}\")\n",
    "print('ROUGE-L', f\"{results['rougeL']:.3f}\")"
   ]
  },
  {
   "cell_type": "code",
   "execution_count": 22,
   "id": "afc825fbffc59d9d",
   "metadata": {
    "ExecuteTime": {
     "end_time": "2025-03-14T14:05:05.855584Z",
     "start_time": "2025-03-14T14:05:05.850821Z"
    },
    "trusted": true
   },
   "outputs": [],
   "source": [
    "# PATH = r\"my_model_translation.pt\"\n",
    "# torch.save(transformer.state_dict(), PATH)"
   ]
  },
  {
   "cell_type": "code",
   "execution_count": 23,
   "id": "1e2e14dd4afcbea3",
   "metadata": {
    "ExecuteTime": {
     "end_time": "2025-03-14T14:05:05.944091Z",
     "start_time": "2025-03-14T14:05:05.940396Z"
    },
    "trusted": true
   },
   "outputs": [],
   "source": [
    "# next_model = Transformer(src_vocab_size, tgt_vocab_size, d_model, num_heads, num_layers, d_ff, max_src_seq_len,\n",
    "#                          max_tgt_seq_len, dropout)\n",
    "# next_model.load_state_dict(torch.load(PATH, weights_only=True))\n",
    "# next_model = next_model.to(device)\n",
    "# # print(next_model)\n",
    "#\n",
    "# # sentence = tokenizer.decode(train_loader.dataset[0][0].tolist(), skip_special_tokens=True)\n",
    "# sentence = \"What are light beans there?\"\n",
    "# print(sentence)\n",
    "# # sentence = \"Prehistoric humans studied the relationship between the seasons and the length of days to plan their hunting and gathering activities.\"\n",
    "# translation = translate_sentence(sentence, tokenizer, next_model)\n",
    "# print(translation)"
   ]
  }
 ],
 "metadata": {
  "kaggle": {
   "accelerator": "none",
   "dataSources": [],
   "dockerImageVersionId": 30919,
   "isGpuEnabled": false,
   "isInternetEnabled": true,
   "language": "python",
   "sourceType": "notebook"
  },
  "kernelspec": {
   "display_name": "cudaenv",
   "language": "python",
   "name": "python3"
  },
  "language_info": {
   "codemirror_mode": {
    "name": "ipython",
    "version": 3
   },
   "file_extension": ".py",
   "mimetype": "text/x-python",
   "name": "python",
   "nbconvert_exporter": "python",
   "pygments_lexer": "ipython3",
   "version": "3.12.8"
  }
 },
 "nbformat": 4,
 "nbformat_minor": 5
}
